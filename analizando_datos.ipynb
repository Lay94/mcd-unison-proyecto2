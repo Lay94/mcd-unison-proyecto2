{
 "cells": [
  {
   "cell_type": "code",
   "execution_count": 2,
   "id": "8e627f32",
   "metadata": {},
   "outputs": [],
   "source": [
    "# Importando librerías\n",
    "import urllib.request\n",
    "import os\n",
    "import pandas as pd\n",
    "import numpy as np\n",
    "import zipfile\n",
    "import datetime\n",
    "import json"
   ]
  },
  {
   "cell_type": "markdown",
   "id": "53498567",
   "metadata": {},
   "source": [
    "## Descargando datos"
   ]
  },
  {
   "cell_type": "code",
   "execution_count": 3,
   "id": "af0ba2e6",
   "metadata": {},
   "outputs": [],
   "source": [
    "# Definiendo url, nombres de los archivos y dirección donde se descargarán\n",
    "ensu_url_1t = \"https://www.inegi.org.mx/contenidos/programas/ensu/datosabiertos/conjunto_de_datos_ENSU_2022_1t_csv.zip\"\n",
    "ensu_archivo_1t = \"ensu_2022_1t.zip\"\n",
    "\n",
    "ensu_url_2t = \"https://www.inegi.org.mx/contenidos/programas/ensu/datosabiertos/conjunto_de_datos_ENSU_2022_2t_csv.zip\"\n",
    "ensu_archivo_2t = \"ensu_2022_2t.zip\"\n",
    "\n",
    "ensu_url_3t = \"https://www.inegi.org.mx/contenidos/programas/ensu/datosabiertos/conjunto_de_datos_ENSU_2022_3t_csv.zip\"\n",
    "ensu_archivo_3t = \"ensu_2022_3t.zip\"\n",
    "\n",
    "sesnsp_url = \"https://api.datamexico.org/tesseract/cubes/sesnsp_crimes/aggregate.jsonrecords?captions%5B%5D=Date.Date.Quarter.Quarter+ES&captions%5B%5D=Geography.Geography.State.State+slug+ES&captions%5B%5D=Geography.Geography.Municipality.Municipality+ES&captions%5B%5D=Type.Type.Crime+Type.Crime+Type+ES&cuts%5B%5D=Date.Date.Year.2022&cuts%5B%5D=Type.Type.Crime+Type.202%2C502&drilldowns%5B%5D=Date.Date.Year&drilldowns%5B%5D=Date.Date.Quarter&drilldowns%5B%5D=Geography.Geography.State&drilldowns%5B%5D=Geography.Geography.Municipality&drilldowns%5B%5D=Type.Type.Crime+Type&measures%5B%5D=Value\"\n",
    "sesnsp_archivo = \"sesnsp.json\"\n",
    "subdir = \"./data/\""
   ]
  },
  {
   "cell_type": "code",
   "execution_count": 4,
   "id": "059cd580",
   "metadata": {},
   "outputs": [],
   "source": [
    "# Creando lista de url y archivos para ENSU\n",
    "ensu_urls = [ensu_url_1t, ensu_url_2t, ensu_url_3t]\n",
    "ensu_archivos = [ensu_archivo_1t, ensu_archivo_2t, ensu_archivo_3t]"
   ]
  },
  {
   "cell_type": "code",
   "execution_count": 5,
   "id": "0f687d1a",
   "metadata": {},
   "outputs": [],
   "source": [
    "# Descargando datos y creando archivo .txt con la documentación correspondiente\n",
    "if not os.path.exists(subdir + ensu_archivo_3t):\n",
    "    if not os.path.exists(subdir):\n",
    "        os.makedirs(subdir)\n",
    "    for url, archivo in zip(ensu_urls, ensu_archivos):\n",
    "        urllib.request.urlretrieve(url, subdir + archivo) \n",
    "        with zipfile.ZipFile(subdir + archivo, \"r\") as zip_ref:\n",
    "            zip_ref.extractall(subdir)  \n",
    "    \n",
    "    urllib.request.urlretrieve(sesnsp_url, subdir + sesnsp_archivo)  \n",
    "\n",
    "    with open(subdir + \"info.txt\", 'w') as f:\n",
    "        f.write(\"Archivos sobre incidencia delictiva y resultados de encuesta sobre percepción de violencia\\n\")\n",
    "        info = \"\"\"\n",
    "        Se decargaron datos de dos fuentes de información distintas. Por un lado, los datos de incidencias \n",
    "        delictivas a nivel estatal, agrupados por tipos de delitos relacionados con la violencia de genero \n",
    "        y feminicidios, por estados y por municipios durante el año 2022, como fuente del Secretariado \n",
    "        Ejecutivo del Sistema Nacional de Seguridad Pública (SESNSP). Estos datos se obtuvieron del sitio web\n",
    "        https://datamexico.org\n",
    "        \n",
    "        Por otro lado, se encuentran los datos que recogen los resultados de la Encuesta Nacional de Seguridad\n",
    "        Pública Urbana (ENSU) del año 2022; información sobre la percepción de seguridad pública en la población \n",
    "        urbana. Estos resultados fueron publicados en el sitio web https://www.inegi.org.mx\n",
    "        \"\"\" \n",
    "        f.write(info + '\\n')\n",
    "        f.write(\"Descargado el \" + datetime.datetime.now().strftime(\"%Y-%m-%d %H:%M:%S\") + \"\\n\")\n",
    "        f.write(\"Desde: \" + sesnsp_url + \"\\n\")\n",
    "        f.write(\"Nombre: \" + sesnsp_archivo + \"\\n\")\n",
    "        f.write(\"Descargado el \" + datetime.datetime.now().strftime(\"%Y-%m-%d %H:%M:%S\") + \"\\n\")\n",
    "        f.write(\"Desde: \" + \"https://www.inegi.org.mx/programas/ensu/#Datos_abiertos\" + \"\\n\")"
   ]
  },
  {
   "cell_type": "markdown",
   "id": "c1be6e4d",
   "metadata": {},
   "source": [
    "## Leyendo archivos descargados"
   ]
  },
  {
   "cell_type": "markdown",
   "id": "c6543a54",
   "metadata": {},
   "source": [
    "#### ENSU 2022"
   ]
  },
  {
   "cell_type": "code",
   "execution_count": 6,
   "id": "49179645",
   "metadata": {},
   "outputs": [
    {
     "data": {
      "text/html": [
       "<div>\n",
       "<style scoped>\n",
       "    .dataframe tbody tr th:only-of-type {\n",
       "        vertical-align: middle;\n",
       "    }\n",
       "\n",
       "    .dataframe tbody tr th {\n",
       "        vertical-align: top;\n",
       "    }\n",
       "\n",
       "    .dataframe thead th {\n",
       "        text-align: right;\n",
       "    }\n",
       "</style>\n",
       "<table border=\"1\" class=\"dataframe\">\n",
       "  <thead>\n",
       "    <tr style=\"text-align: right;\">\n",
       "      <th></th>\n",
       "      <th>ID_VIV</th>\n",
       "      <th>ID_PER</th>\n",
       "      <th>UPM</th>\n",
       "      <th>VIV_SEL</th>\n",
       "      <th>R_SEL</th>\n",
       "      <th>CVE_ENT</th>\n",
       "      <th>NOM_ENT</th>\n",
       "      <th>CVE_MUN</th>\n",
       "      <th>NOM_MUN</th>\n",
       "      <th>LOC</th>\n",
       "      <th>...</th>\n",
       "      <th>BP4_5_6_7</th>\n",
       "      <th>BP4_5_6_8</th>\n",
       "      <th>BP4_5_6_9</th>\n",
       "      <th>BP5_1</th>\n",
       "      <th>FAC_VIV</th>\n",
       "      <th>FAC_SEL</th>\n",
       "      <th>DOMINIO</th>\n",
       "      <th>EST</th>\n",
       "      <th>UPM_DIS</th>\n",
       "      <th>EST_DIS</th>\n",
       "    </tr>\n",
       "  </thead>\n",
       "  <tbody>\n",
       "    <tr>\n",
       "      <th>0</th>\n",
       "      <td>100071.006</td>\n",
       "      <td>0100071.006.01\\r</td>\n",
       "      <td>100071</td>\n",
       "      <td>5</td>\n",
       "      <td>1</td>\n",
       "      <td>1</td>\n",
       "      <td>AGUASCALIENTES\\r</td>\n",
       "      <td>1</td>\n",
       "      <td>AGUASCALIENTES\\r</td>\n",
       "      <td>1</td>\n",
       "      <td>...</td>\n",
       "      <td>\\r</td>\n",
       "      <td>\\r</td>\n",
       "      <td>\\r</td>\n",
       "      <td>1</td>\n",
       "      <td>1068</td>\n",
       "      <td>1068</td>\n",
       "      <td>U\\r</td>\n",
       "      <td>2</td>\n",
       "      <td>1</td>\n",
       "      <td>137</td>\n",
       "    </tr>\n",
       "    <tr>\n",
       "      <th>1</th>\n",
       "      <td>100071.026</td>\n",
       "      <td>0100071.026.01\\r</td>\n",
       "      <td>100071</td>\n",
       "      <td>1</td>\n",
       "      <td>1</td>\n",
       "      <td>1</td>\n",
       "      <td>AGUASCALIENTES\\r</td>\n",
       "      <td>1</td>\n",
       "      <td>AGUASCALIENTES\\r</td>\n",
       "      <td>1</td>\n",
       "      <td>...</td>\n",
       "      <td>\\r</td>\n",
       "      <td>\\r</td>\n",
       "      <td>\\r</td>\n",
       "      <td>1</td>\n",
       "      <td>1068</td>\n",
       "      <td>1068</td>\n",
       "      <td>U\\r</td>\n",
       "      <td>2</td>\n",
       "      <td>1</td>\n",
       "      <td>137</td>\n",
       "    </tr>\n",
       "    <tr>\n",
       "      <th>2</th>\n",
       "      <td>100071.033</td>\n",
       "      <td>0100071.033.03\\r</td>\n",
       "      <td>100071</td>\n",
       "      <td>2</td>\n",
       "      <td>3</td>\n",
       "      <td>1</td>\n",
       "      <td>AGUASCALIENTES\\r</td>\n",
       "      <td>1</td>\n",
       "      <td>AGUASCALIENTES\\r</td>\n",
       "      <td>1</td>\n",
       "      <td>...</td>\n",
       "      <td>\\r</td>\n",
       "      <td>\\r</td>\n",
       "      <td>\\r</td>\n",
       "      <td>1</td>\n",
       "      <td>1068</td>\n",
       "      <td>3204</td>\n",
       "      <td>U\\r</td>\n",
       "      <td>2</td>\n",
       "      <td>1</td>\n",
       "      <td>137</td>\n",
       "    </tr>\n",
       "    <tr>\n",
       "      <th>3</th>\n",
       "      <td>100071.115</td>\n",
       "      <td>0100071.115.01\\r</td>\n",
       "      <td>100071</td>\n",
       "      <td>3</td>\n",
       "      <td>1</td>\n",
       "      <td>1</td>\n",
       "      <td>AGUASCALIENTES\\r</td>\n",
       "      <td>1</td>\n",
       "      <td>AGUASCALIENTES\\r</td>\n",
       "      <td>1</td>\n",
       "      <td>...</td>\n",
       "      <td>\\r</td>\n",
       "      <td>\\r</td>\n",
       "      <td>\\r</td>\n",
       "      <td>1</td>\n",
       "      <td>1068</td>\n",
       "      <td>2136</td>\n",
       "      <td>U\\r</td>\n",
       "      <td>2</td>\n",
       "      <td>1</td>\n",
       "      <td>137</td>\n",
       "    </tr>\n",
       "    <tr>\n",
       "      <th>4</th>\n",
       "      <td>100075.028</td>\n",
       "      <td>0100075.028.02\\r</td>\n",
       "      <td>100075</td>\n",
       "      <td>4</td>\n",
       "      <td>2</td>\n",
       "      <td>1</td>\n",
       "      <td>AGUASCALIENTES\\r</td>\n",
       "      <td>1</td>\n",
       "      <td>AGUASCALIENTES\\r</td>\n",
       "      <td>1</td>\n",
       "      <td>...</td>\n",
       "      <td>\\r</td>\n",
       "      <td>\\r</td>\n",
       "      <td>\\r</td>\n",
       "      <td>3</td>\n",
       "      <td>1030</td>\n",
       "      <td>3090</td>\n",
       "      <td>U\\r</td>\n",
       "      <td>3</td>\n",
       "      <td>2</td>\n",
       "      <td>138</td>\n",
       "    </tr>\n",
       "  </tbody>\n",
       "</table>\n",
       "<p>5 rows × 218 columns</p>\n",
       "</div>"
      ],
      "text/plain": [
       "       ID_VIV            ID_PER     UPM  VIV_SEL  R_SEL  CVE_ENT  \\\n",
       "0  100071.006  0100071.006.01\\r  100071        5      1        1   \n",
       "1  100071.026  0100071.026.01\\r  100071        1      1        1   \n",
       "2  100071.033  0100071.033.03\\r  100071        2      3        1   \n",
       "3  100071.115  0100071.115.01\\r  100071        3      1        1   \n",
       "4  100075.028  0100075.028.02\\r  100075        4      2        1   \n",
       "\n",
       "            NOM_ENT  CVE_MUN           NOM_MUN  LOC  ...  BP4_5_6_7 BP4_5_6_8  \\\n",
       "0  AGUASCALIENTES\\r        1  AGUASCALIENTES\\r    1  ...         \\r        \\r   \n",
       "1  AGUASCALIENTES\\r        1  AGUASCALIENTES\\r    1  ...         \\r        \\r   \n",
       "2  AGUASCALIENTES\\r        1  AGUASCALIENTES\\r    1  ...         \\r        \\r   \n",
       "3  AGUASCALIENTES\\r        1  AGUASCALIENTES\\r    1  ...         \\r        \\r   \n",
       "4  AGUASCALIENTES\\r        1  AGUASCALIENTES\\r    1  ...         \\r        \\r   \n",
       "\n",
       "   BP4_5_6_9  BP5_1  FAC_VIV  FAC_SEL DOMINIO  EST  UPM_DIS  EST_DIS  \n",
       "0         \\r      1     1068     1068     U\\r    2        1      137  \n",
       "1         \\r      1     1068     1068     U\\r    2        1      137  \n",
       "2         \\r      1     1068     3204     U\\r    2        1      137  \n",
       "3         \\r      1     1068     2136     U\\r    2        1      137  \n",
       "4         \\r      3     1030     3090     U\\r    3        2      138  \n",
       "\n",
       "[5 rows x 218 columns]"
      ]
     },
     "execution_count": 6,
     "metadata": {},
     "output_type": "execute_result"
    }
   ],
   "source": [
    "# Obteniendo datos donde se resume la información de la encuesta ensu 2022\n",
    "# 1er Trimestre\n",
    "dir_1t = subdir + 'conjunto_de_datos_CB_ENSU_03_2022/conjunto_de_datos/conjunto_de_datos_CB_ENSU_03_2022.csv'\n",
    "df_1t = pd.read_csv(dir_1t)\n",
    "\n",
    "# 2do Trimestre\n",
    "dir_2t = subdir + 'conjunto_de_datos_CB_ENSU_06_2022/conjunto_de_datos/conjunto_de_datos_CB_ENSU_06_2022.csv'\n",
    "df_2t = pd.read_csv(dir_2t)\n",
    "\n",
    "# 3er Trimestre\n",
    "dir_3t = subdir + 'conjunto_de_datos_CB_ENSU_09_2022/conjunto_de_datos/conjunto_de_datos_CB_ENSU_09_2022.csv'\n",
    "df_3t = pd.read_csv(dir_3t)\n",
    "df_3t.head()"
   ]
  },
  {
   "cell_type": "markdown",
   "id": "ff049b45",
   "metadata": {},
   "source": [
    "#### SESNSP 2022"
   ]
  },
  {
   "cell_type": "code",
   "execution_count": 7,
   "id": "97028f63",
   "metadata": {},
   "outputs": [
    {
     "name": "stdout",
     "output_type": "stream",
     "text": [
      "\n",
      "Número de entradas: 2\n",
      "\n",
      "Nombre de los atributos: data, source\n"
     ]
    }
   ],
   "source": [
    "# Obteniendo datos con la información de delitos ocurridos durante 2021\n",
    "with open(subdir + sesnsp_archivo, encoding = 'utf8') as fp:\n",
    "    data_sesnsp = json.load(fp)\n",
    "\n",
    "print(\"\\nNúmero de entradas: {}\".format(len(data_sesnsp)))\n",
    "print(\"\\nNombre de los atributos: {}\".format(\", \".join(data_sesnsp.keys())))"
   ]
  },
  {
   "cell_type": "code",
   "execution_count": 8,
   "id": "dc158109",
   "metadata": {},
   "outputs": [
    {
     "data": {
      "text/html": [
       "<div>\n",
       "<style scoped>\n",
       "    .dataframe tbody tr th:only-of-type {\n",
       "        vertical-align: middle;\n",
       "    }\n",
       "\n",
       "    .dataframe tbody tr th {\n",
       "        vertical-align: top;\n",
       "    }\n",
       "\n",
       "    .dataframe thead th {\n",
       "        text-align: right;\n",
       "    }\n",
       "</style>\n",
       "<table border=\"1\" class=\"dataframe\">\n",
       "  <thead>\n",
       "    <tr style=\"text-align: right;\">\n",
       "      <th></th>\n",
       "      <th>Year</th>\n",
       "      <th>Quarter ID</th>\n",
       "      <th>Quarter</th>\n",
       "      <th>State ID</th>\n",
       "      <th>State</th>\n",
       "      <th>Municipality ID</th>\n",
       "      <th>Municipality</th>\n",
       "      <th>Crime Type ID</th>\n",
       "      <th>Crime Type</th>\n",
       "      <th>Value</th>\n",
       "    </tr>\n",
       "  </thead>\n",
       "  <tbody>\n",
       "    <tr>\n",
       "      <th>0</th>\n",
       "      <td>2022</td>\n",
       "      <td>20221</td>\n",
       "      <td>2022-Q1</td>\n",
       "      <td>1</td>\n",
       "      <td>aguascalientes-ag</td>\n",
       "      <td>1001</td>\n",
       "      <td>Aguascalientes</td>\n",
       "      <td>202</td>\n",
       "      <td>Violencia de Género en Todas sus Modalidades D...</td>\n",
       "      <td>4</td>\n",
       "    </tr>\n",
       "    <tr>\n",
       "      <th>1</th>\n",
       "      <td>2022</td>\n",
       "      <td>20221</td>\n",
       "      <td>2022-Q1</td>\n",
       "      <td>1</td>\n",
       "      <td>aguascalientes-ag</td>\n",
       "      <td>1001</td>\n",
       "      <td>Aguascalientes</td>\n",
       "      <td>502</td>\n",
       "      <td>Feminicidio</td>\n",
       "      <td>3</td>\n",
       "    </tr>\n",
       "    <tr>\n",
       "      <th>2</th>\n",
       "      <td>2022</td>\n",
       "      <td>20221</td>\n",
       "      <td>2022-Q1</td>\n",
       "      <td>1</td>\n",
       "      <td>aguascalientes-ag</td>\n",
       "      <td>1002</td>\n",
       "      <td>Asientos</td>\n",
       "      <td>202</td>\n",
       "      <td>Violencia de Género en Todas sus Modalidades D...</td>\n",
       "      <td>0</td>\n",
       "    </tr>\n",
       "    <tr>\n",
       "      <th>3</th>\n",
       "      <td>2022</td>\n",
       "      <td>20221</td>\n",
       "      <td>2022-Q1</td>\n",
       "      <td>1</td>\n",
       "      <td>aguascalientes-ag</td>\n",
       "      <td>1002</td>\n",
       "      <td>Asientos</td>\n",
       "      <td>502</td>\n",
       "      <td>Feminicidio</td>\n",
       "      <td>0</td>\n",
       "    </tr>\n",
       "    <tr>\n",
       "      <th>4</th>\n",
       "      <td>2022</td>\n",
       "      <td>20221</td>\n",
       "      <td>2022-Q1</td>\n",
       "      <td>1</td>\n",
       "      <td>aguascalientes-ag</td>\n",
       "      <td>1003</td>\n",
       "      <td>Calvillo</td>\n",
       "      <td>202</td>\n",
       "      <td>Violencia de Género en Todas sus Modalidades D...</td>\n",
       "      <td>0</td>\n",
       "    </tr>\n",
       "  </tbody>\n",
       "</table>\n",
       "</div>"
      ],
      "text/plain": [
       "   Year  Quarter ID  Quarter  State ID              State  Municipality ID  \\\n",
       "0  2022       20221  2022-Q1         1  aguascalientes-ag             1001   \n",
       "1  2022       20221  2022-Q1         1  aguascalientes-ag             1001   \n",
       "2  2022       20221  2022-Q1         1  aguascalientes-ag             1002   \n",
       "3  2022       20221  2022-Q1         1  aguascalientes-ag             1002   \n",
       "4  2022       20221  2022-Q1         1  aguascalientes-ag             1003   \n",
       "\n",
       "     Municipality  Crime Type ID  \\\n",
       "0  Aguascalientes            202   \n",
       "1  Aguascalientes            502   \n",
       "2        Asientos            202   \n",
       "3        Asientos            502   \n",
       "4        Calvillo            202   \n",
       "\n",
       "                                          Crime Type  Value  \n",
       "0  Violencia de Género en Todas sus Modalidades D...      4  \n",
       "1                                        Feminicidio      3  \n",
       "2  Violencia de Género en Todas sus Modalidades D...      0  \n",
       "3                                        Feminicidio      0  \n",
       "4  Violencia de Género en Todas sus Modalidades D...      0  "
      ]
     },
     "execution_count": 8,
     "metadata": {},
     "output_type": "execute_result"
    }
   ],
   "source": [
    "# Convirtiendo los datos en dataframe\n",
    "df_sesnsp = pd.DataFrame(data_sesnsp['data'])\n",
    "df_sesnsp.head()"
   ]
  },
  {
   "cell_type": "markdown",
   "id": "6abe0074",
   "metadata": {},
   "source": [
    "## Analizando calidad de los datos"
   ]
  },
  {
   "cell_type": "markdown",
   "id": "4fd76477",
   "metadata": {},
   "source": [
    "#### ENSU 2022"
   ]
  },
  {
   "cell_type": "code",
   "execution_count": 9,
   "id": "c25df2b8",
   "metadata": {},
   "outputs": [
    {
     "name": "stdout",
     "output_type": "stream",
     "text": [
      " Datos faltantes 1er trimestre:  0 \n",
      " Datos faltantes 2er trimestre:  0 \n",
      " Datos faltantes 3er trimestre:  0 \n",
      "\n"
     ]
    }
   ],
   "source": [
    "# Analizando si hay datos faltantes\n",
    "print(' Datos faltantes 1er trimestre: ', df_1t.isna().sum().sum(), '\\n',\n",
    "      'Datos faltantes 2er trimestre: ', df_2t.isna().sum().sum(), '\\n',\n",
    "      'Datos faltantes 3er trimestre: ', df_3t.isna().sum().sum(), '\\n')"
   ]
  },
  {
   "cell_type": "code",
   "execution_count": 10,
   "id": "4c64e028",
   "metadata": {},
   "outputs": [
    {
     "data": {
      "text/plain": [
       "3\\r    10066\n",
       "2\\r     6194\n",
       "4\\r     5861\n",
       "1\\r      826\n",
       "\\r       471\n",
       "9\\r      159\n",
       "Name: BP3_2, dtype: int64"
      ]
     },
     "execution_count": 10,
     "metadata": {},
     "output_type": "execute_result"
    }
   ],
   "source": [
    "# En teoría no existen datos faltantes, sin embargo el caracter \\r se podría tomar como tal \n",
    "# además de que crea ruido en las observaciones\n",
    "df_1t['BP3_2'].value_counts(dropna=False)"
   ]
  },
  {
   "cell_type": "code",
   "execution_count": 11,
   "id": "3e760c6d",
   "metadata": {},
   "outputs": [],
   "source": [
    "# Sustituyendo datos ruidosos\n",
    "df_1t = df_1t.replace(['\\r', '9\\r', '1\\r', '2\\r', '3\\r', '4\\r'],[9, 9, 1, 2, 3, 4])\n",
    "df_1t = df_1t.replace('\\r', '', regex=True)\n",
    "\n",
    "df_2t = df_2t.replace(['\\r', '9\\r', '1\\r', '2\\r', '3\\r', '4\\r'],[9, 9, 1, 2, 3, 4])\n",
    "df_2t = df_2t.replace('\\r', '', regex=True)\n",
    "\n",
    "df_3t = df_3t.replace(['\\r', '9\\r', '1\\r', '2\\r', '3\\r', '4\\r'],[9, 9, 1, 2, 3, 4])\n",
    "df_3t = df_3t.replace('\\r', '', regex=True)"
   ]
  },
  {
   "cell_type": "code",
   "execution_count": 12,
   "id": "e13662fc",
   "metadata": {},
   "outputs": [
    {
     "name": "stdout",
     "output_type": "stream",
     "text": [
      " Registros duplicados 1er trimestre:  0 \n",
      " Registros duplicados 2er trimestre:  0 \n",
      " Registros duplicados 3er trimestre:  0 \n",
      "\n"
     ]
    }
   ],
   "source": [
    "# Verificando que no hay registros duplicados\n",
    "print(' Registros duplicados 1er trimestre: ', df_1t[df_1t.duplicated()].shape[0], '\\n',\n",
    "      'Registros duplicados 2er trimestre: ', df_2t[df_2t.duplicated()].shape[0], '\\n',\n",
    "      'Registros duplicados 3er trimestre: ', df_3t[df_3t.duplicated()].shape[0], '\\n')"
   ]
  },
  {
   "cell_type": "markdown",
   "id": "0cd00c18",
   "metadata": {},
   "source": [
    "#### SESNSP 2021"
   ]
  },
  {
   "cell_type": "code",
   "execution_count": 13,
   "id": "eb46c2a0",
   "metadata": {},
   "outputs": [
    {
     "data": {
      "text/plain": [
       "Year                0\n",
       "Quarter ID          0\n",
       "Quarter             0\n",
       "State ID            0\n",
       "State              18\n",
       "Municipality ID     0\n",
       "Municipality        0\n",
       "Crime Type ID       0\n",
       "Crime Type          0\n",
       "Value               0\n",
       "dtype: int64"
      ]
     },
     "execution_count": 13,
     "metadata": {},
     "output_type": "execute_result"
    }
   ],
   "source": [
    "# Analizando si hay datos faltantes\n",
    "df_sesnsp.isna().sum()"
   ]
  },
  {
   "cell_type": "code",
   "execution_count": 14,
   "id": "1dad7c70",
   "metadata": {},
   "outputs": [
    {
     "data": {
      "text/plain": [
       "State ID  State                             \n",
       "20        oaxaca-oa                             3420\n",
       "21        puebla-pu                             1302\n",
       "30        veracruz-de-ignacio-de-la-llave-ve    1272\n",
       "15        mexico-em                              750\n",
       "14        jalisco-jc                             750\n",
       "7         chiapas-cs                             744\n",
       "16        michoacan-de-ocampo-mi                 678\n",
       "31        yucatan-yu                             636\n",
       "13        hidalgo-hg                             504\n",
       "12        guerrero-gr                            486\n",
       "26        sonora-so                              432\n",
       "8         chihuahua-ch                           402\n",
       "29        tlaxcala-tl                            360\n",
       "24        san-luis-potosi-sl                     348\n",
       "32        zacatecas-za                           348\n",
       "19        nuevo-leon-nl                          306\n",
       "11        guanajuato-gt                          276\n",
       "28        tamaulipas-tm                          258\n",
       "10        durango-dg                             234\n",
       "5         coahuila-de-zaragoza-co                228\n",
       "17        morelos-mo                             216\n",
       "18        nayarit-na                             120\n",
       "22        queretaro-qt                           108\n",
       "25        sinaloa-si                             108\n",
       "27        tabasco-tb                             102\n",
       "9         ciudad-de-mexico-cx                     96\n",
       "4         campeche-cm                             78\n",
       "23        quintana-roo-qr                         66\n",
       "1         aguascalientes-ag                       66\n",
       "6         colima-cl                               60\n",
       "2         baja-california-bc                      36\n",
       "3         baja-california-sur-bs                  30\n",
       "20        N/A                                      6\n",
       "26        N/A                                      6\n",
       "30        N/A                                      6\n",
       "dtype: int64"
      ]
     },
     "execution_count": 14,
     "metadata": {},
     "output_type": "execute_result"
    }
   ],
   "source": [
    "# Remplazando los valores faltantes por 'N/A'\n",
    "df_sesnsp = df_sesnsp.replace(np.nan, 'N/A')\n",
    "\n",
    "# Analizando donde faltan los valores\n",
    "df_sesnsp[['State ID','State']].value_counts()"
   ]
  },
  {
   "cell_type": "code",
   "execution_count": 15,
   "id": "995222b6",
   "metadata": {},
   "outputs": [
    {
     "data": {
      "text/html": [
       "<div>\n",
       "<style scoped>\n",
       "    .dataframe tbody tr th:only-of-type {\n",
       "        vertical-align: middle;\n",
       "    }\n",
       "\n",
       "    .dataframe tbody tr th {\n",
       "        vertical-align: top;\n",
       "    }\n",
       "\n",
       "    .dataframe thead th {\n",
       "        text-align: right;\n",
       "    }\n",
       "</style>\n",
       "<table border=\"1\" class=\"dataframe\">\n",
       "  <thead>\n",
       "    <tr style=\"text-align: right;\">\n",
       "      <th></th>\n",
       "      <th>Year</th>\n",
       "      <th>Quarter ID</th>\n",
       "      <th>Quarter</th>\n",
       "      <th>State ID</th>\n",
       "      <th>State</th>\n",
       "      <th>Municipality ID</th>\n",
       "      <th>Municipality</th>\n",
       "      <th>Crime Type ID</th>\n",
       "      <th>Crime Type</th>\n",
       "      <th>Value</th>\n",
       "    </tr>\n",
       "  </thead>\n",
       "  <tbody>\n",
       "    <tr>\n",
       "      <th>3160</th>\n",
       "      <td>2022</td>\n",
       "      <td>20221</td>\n",
       "      <td>2022-Q1</td>\n",
       "      <td>20</td>\n",
       "      <td>N/A</td>\n",
       "      <td>20999</td>\n",
       "      <td>No Informado</td>\n",
       "      <td>202</td>\n",
       "      <td>Violencia de Género en Todas sus Modalidades D...</td>\n",
       "      <td>0</td>\n",
       "    </tr>\n",
       "    <tr>\n",
       "      <th>3161</th>\n",
       "      <td>2022</td>\n",
       "      <td>20221</td>\n",
       "      <td>2022-Q1</td>\n",
       "      <td>20</td>\n",
       "      <td>N/A</td>\n",
       "      <td>20999</td>\n",
       "      <td>No Informado</td>\n",
       "      <td>502</td>\n",
       "      <td>Feminicidio</td>\n",
       "      <td>0</td>\n",
       "    </tr>\n",
       "    <tr>\n",
       "      <th>3950</th>\n",
       "      <td>2022</td>\n",
       "      <td>20221</td>\n",
       "      <td>2022-Q1</td>\n",
       "      <td>26</td>\n",
       "      <td>N/A</td>\n",
       "      <td>26999</td>\n",
       "      <td>No Informado</td>\n",
       "      <td>202</td>\n",
       "      <td>Violencia de Género en Todas sus Modalidades D...</td>\n",
       "      <td>0</td>\n",
       "    </tr>\n",
       "    <tr>\n",
       "      <th>3951</th>\n",
       "      <td>2022</td>\n",
       "      <td>20221</td>\n",
       "      <td>2022-Q1</td>\n",
       "      <td>26</td>\n",
       "      <td>N/A</td>\n",
       "      <td>26999</td>\n",
       "      <td>No Informado</td>\n",
       "      <td>502</td>\n",
       "      <td>Feminicidio</td>\n",
       "      <td>0</td>\n",
       "    </tr>\n",
       "    <tr>\n",
       "      <th>4616</th>\n",
       "      <td>2022</td>\n",
       "      <td>20221</td>\n",
       "      <td>2022-Q1</td>\n",
       "      <td>30</td>\n",
       "      <td>N/A</td>\n",
       "      <td>30999</td>\n",
       "      <td>No Informado</td>\n",
       "      <td>202</td>\n",
       "      <td>Violencia de Género en Todas sus Modalidades D...</td>\n",
       "      <td>0</td>\n",
       "    </tr>\n",
       "  </tbody>\n",
       "</table>\n",
       "</div>"
      ],
      "text/plain": [
       "      Year  Quarter ID  Quarter  State ID State  Municipality ID  \\\n",
       "3160  2022       20221  2022-Q1        20   N/A            20999   \n",
       "3161  2022       20221  2022-Q1        20   N/A            20999   \n",
       "3950  2022       20221  2022-Q1        26   N/A            26999   \n",
       "3951  2022       20221  2022-Q1        26   N/A            26999   \n",
       "4616  2022       20221  2022-Q1        30   N/A            30999   \n",
       "\n",
       "      Municipality  Crime Type ID  \\\n",
       "3160  No Informado            202   \n",
       "3161  No Informado            502   \n",
       "3950  No Informado            202   \n",
       "3951  No Informado            502   \n",
       "4616  No Informado            202   \n",
       "\n",
       "                                             Crime Type  Value  \n",
       "3160  Violencia de Género en Todas sus Modalidades D...      0  \n",
       "3161                                        Feminicidio      0  \n",
       "3950  Violencia de Género en Todas sus Modalidades D...      0  \n",
       "3951                                        Feminicidio      0  \n",
       "4616  Violencia de Género en Todas sus Modalidades D...      0  "
      ]
     },
     "execution_count": 15,
     "metadata": {},
     "output_type": "execute_result"
    }
   ],
   "source": [
    "df_sesnsp[df_sesnsp['State']=='N/A'].head()"
   ]
  },
  {
   "cell_type": "markdown",
   "id": "5d60af0b",
   "metadata": {},
   "source": [
    "Según el análisis anterior, faltan algunos valores correspondientes a nombres de tres estados, donde la información de los municipios también es No Informado, por tanto, teniendo en cuenta que no es una cantidad significativa, es conveniente eliminarlos"
   ]
  },
  {
   "cell_type": "code",
   "execution_count": 16,
   "id": "b62ade91",
   "metadata": {},
   "outputs": [],
   "source": [
    "# Eliminando valores faltantes\n",
    "df_sesnsp = df_sesnsp[df_sesnsp['State']!='N/A']                       "
   ]
  },
  {
   "cell_type": "code",
   "execution_count": 17,
   "id": "a8ce3f27",
   "metadata": {},
   "outputs": [
    {
     "data": {
      "text/plain": [
       "0"
      ]
     },
     "execution_count": 17,
     "metadata": {},
     "output_type": "execute_result"
    }
   ],
   "source": [
    "# Verificando que no hay registros duplicados\n",
    "df_sesnsp[df_sesnsp.duplicated()].shape[0]"
   ]
  },
  {
   "cell_type": "markdown",
   "id": "28573567",
   "metadata": {},
   "source": [
    "## Extrayendo información de los datos"
   ]
  },
  {
   "cell_type": "markdown",
   "id": "5f1f1ceb",
   "metadata": {},
   "source": [
    "#### SESNSP 2022"
   ]
  },
  {
   "cell_type": "code",
   "execution_count": 34,
   "id": "acaffe2e",
   "metadata": {},
   "outputs": [
    {
     "data": {
      "text/html": [
       "<div>\n",
       "<style scoped>\n",
       "    .dataframe tbody tr th:only-of-type {\n",
       "        vertical-align: middle;\n",
       "    }\n",
       "\n",
       "    .dataframe tbody tr th {\n",
       "        vertical-align: top;\n",
       "    }\n",
       "\n",
       "    .dataframe thead th {\n",
       "        text-align: right;\n",
       "    }\n",
       "</style>\n",
       "<table border=\"1\" class=\"dataframe\">\n",
       "  <thead>\n",
       "    <tr style=\"text-align: right;\">\n",
       "      <th></th>\n",
       "      <th>TRIMESTRES</th>\n",
       "      <th>ESTADO</th>\n",
       "      <th>MUNICIPIO</th>\n",
       "      <th>DELITOS</th>\n",
       "    </tr>\n",
       "  </thead>\n",
       "  <tbody>\n",
       "    <tr>\n",
       "      <th>0</th>\n",
       "      <td>2022-Q1</td>\n",
       "      <td>sonora-so</td>\n",
       "      <td>Aconchi</td>\n",
       "      <td>0</td>\n",
       "    </tr>\n",
       "    <tr>\n",
       "      <th>1</th>\n",
       "      <td>2022-Q1</td>\n",
       "      <td>sonora-so</td>\n",
       "      <td>Agua Prieta</td>\n",
       "      <td>1</td>\n",
       "    </tr>\n",
       "    <tr>\n",
       "      <th>2</th>\n",
       "      <td>2022-Q1</td>\n",
       "      <td>sonora-so</td>\n",
       "      <td>Altar</td>\n",
       "      <td>0</td>\n",
       "    </tr>\n",
       "    <tr>\n",
       "      <th>3</th>\n",
       "      <td>2022-Q1</td>\n",
       "      <td>sonora-so</td>\n",
       "      <td>Arivechi</td>\n",
       "      <td>0</td>\n",
       "    </tr>\n",
       "    <tr>\n",
       "      <th>4</th>\n",
       "      <td>2022-Q1</td>\n",
       "      <td>sonora-so</td>\n",
       "      <td>Arizpe</td>\n",
       "      <td>0</td>\n",
       "    </tr>\n",
       "  </tbody>\n",
       "</table>\n",
       "</div>"
      ],
      "text/plain": [
       "  TRIMESTRES     ESTADO    MUNICIPIO  DELITOS\n",
       "0    2022-Q1  sonora-so      Aconchi        0\n",
       "1    2022-Q1  sonora-so  Agua Prieta        1\n",
       "2    2022-Q1  sonora-so        Altar        0\n",
       "3    2022-Q1  sonora-so     Arivechi        0\n",
       "4    2022-Q1  sonora-so       Arizpe        0"
      ]
     },
     "execution_count": 34,
     "metadata": {},
     "output_type": "execute_result"
    }
   ],
   "source": [
    "# Cantidad de crímenes de violencia contra la mujer por municipios en Sonora\n",
    "df_sesnsp_sonora = df_sesnsp[df_sesnsp['State ID']==26]\n",
    "df_sesnsp_crimenes = df_sesnsp_sonora.groupby(['Quarter', 'State', 'Municipality']).sum()[['Value']].reset_index()\n",
    "df_sesnsp_crimenes.columns = ['TRIMESTRES', 'ESTADO', 'MUNICIPIO', 'DELITOS'] \n",
    "df_sesnsp_crimenes.head()"
   ]
  },
  {
   "cell_type": "markdown",
   "id": "1b1bb683",
   "metadata": {},
   "source": [
    "#### ENSU 2022"
   ]
  },
  {
   "cell_type": "code",
   "execution_count": 19,
   "id": "c30118d1",
   "metadata": {},
   "outputs": [
    {
     "data": {
      "text/html": [
       "<div>\n",
       "<style scoped>\n",
       "    .dataframe tbody tr th:only-of-type {\n",
       "        vertical-align: middle;\n",
       "    }\n",
       "\n",
       "    .dataframe tbody tr th {\n",
       "        vertical-align: top;\n",
       "    }\n",
       "\n",
       "    .dataframe thead th {\n",
       "        text-align: right;\n",
       "    }\n",
       "</style>\n",
       "<table border=\"1\" class=\"dataframe\">\n",
       "  <thead>\n",
       "    <tr style=\"text-align: right;\">\n",
       "      <th></th>\n",
       "      <th>ID_VIV</th>\n",
       "      <th>ID_PER</th>\n",
       "      <th>UPM</th>\n",
       "      <th>VIV_SEL</th>\n",
       "      <th>R_SEL</th>\n",
       "      <th>CVE_ENT</th>\n",
       "      <th>NOM_ENT</th>\n",
       "      <th>CVE_MUN</th>\n",
       "      <th>NOM_MUN</th>\n",
       "      <th>LOC</th>\n",
       "      <th>...</th>\n",
       "      <th>BP4_1_7</th>\n",
       "      <th>BP4_1_8</th>\n",
       "      <th>BP4_1_9</th>\n",
       "      <th>BP5_1</th>\n",
       "      <th>FAC_VIV</th>\n",
       "      <th>FAC_SEL</th>\n",
       "      <th>DOMINIO</th>\n",
       "      <th>EST</th>\n",
       "      <th>UPM_DIS</th>\n",
       "      <th>EST_DIS</th>\n",
       "    </tr>\n",
       "  </thead>\n",
       "  <tbody>\n",
       "    <tr>\n",
       "      <th>19794</th>\n",
       "      <td>2600066.043</td>\n",
       "      <td>2600066.043.01</td>\n",
       "      <td>2600066</td>\n",
       "      <td>4</td>\n",
       "      <td>1</td>\n",
       "      <td>26</td>\n",
       "      <td>Sonora</td>\n",
       "      <td>18</td>\n",
       "      <td>Cajeme</td>\n",
       "      <td>1</td>\n",
       "      <td>...</td>\n",
       "      <td>2</td>\n",
       "      <td>2</td>\n",
       "      <td>2</td>\n",
       "      <td>3</td>\n",
       "      <td>462</td>\n",
       "      <td>2308</td>\n",
       "      <td>U</td>\n",
       "      <td>4</td>\n",
       "      <td>4501</td>\n",
       "      <td>258</td>\n",
       "    </tr>\n",
       "    <tr>\n",
       "      <th>19795</th>\n",
       "      <td>2600066.060</td>\n",
       "      <td>2600066.060.03</td>\n",
       "      <td>2600066</td>\n",
       "      <td>1</td>\n",
       "      <td>3</td>\n",
       "      <td>26</td>\n",
       "      <td>Sonora</td>\n",
       "      <td>18</td>\n",
       "      <td>Cajeme</td>\n",
       "      <td>1</td>\n",
       "      <td>...</td>\n",
       "      <td>2</td>\n",
       "      <td>2</td>\n",
       "      <td>2</td>\n",
       "      <td>2</td>\n",
       "      <td>462</td>\n",
       "      <td>1385</td>\n",
       "      <td>U</td>\n",
       "      <td>4</td>\n",
       "      <td>4501</td>\n",
       "      <td>258</td>\n",
       "    </tr>\n",
       "    <tr>\n",
       "      <th>19796</th>\n",
       "      <td>2600066.115</td>\n",
       "      <td>2600066.115.02</td>\n",
       "      <td>2600066</td>\n",
       "      <td>2</td>\n",
       "      <td>2</td>\n",
       "      <td>26</td>\n",
       "      <td>Sonora</td>\n",
       "      <td>18</td>\n",
       "      <td>Cajeme</td>\n",
       "      <td>1</td>\n",
       "      <td>...</td>\n",
       "      <td>2</td>\n",
       "      <td>2</td>\n",
       "      <td>2</td>\n",
       "      <td>2</td>\n",
       "      <td>462</td>\n",
       "      <td>923</td>\n",
       "      <td>U</td>\n",
       "      <td>4</td>\n",
       "      <td>4501</td>\n",
       "      <td>258</td>\n",
       "    </tr>\n",
       "    <tr>\n",
       "      <th>19799</th>\n",
       "      <td>2600072.046</td>\n",
       "      <td>2600072.046.02</td>\n",
       "      <td>2600072</td>\n",
       "      <td>2</td>\n",
       "      <td>2</td>\n",
       "      <td>26</td>\n",
       "      <td>Sonora</td>\n",
       "      <td>18</td>\n",
       "      <td>Cajeme</td>\n",
       "      <td>1</td>\n",
       "      <td>...</td>\n",
       "      <td>2</td>\n",
       "      <td>2</td>\n",
       "      <td>2</td>\n",
       "      <td>2</td>\n",
       "      <td>381</td>\n",
       "      <td>762</td>\n",
       "      <td>U</td>\n",
       "      <td>3</td>\n",
       "      <td>4502</td>\n",
       "      <td>257</td>\n",
       "    </tr>\n",
       "    <tr>\n",
       "      <th>19801</th>\n",
       "      <td>2600072.095</td>\n",
       "      <td>2600072.095.01</td>\n",
       "      <td>2600072</td>\n",
       "      <td>3</td>\n",
       "      <td>1</td>\n",
       "      <td>26</td>\n",
       "      <td>Sonora</td>\n",
       "      <td>18</td>\n",
       "      <td>Cajeme</td>\n",
       "      <td>1</td>\n",
       "      <td>...</td>\n",
       "      <td>2</td>\n",
       "      <td>2</td>\n",
       "      <td>2</td>\n",
       "      <td>1</td>\n",
       "      <td>381</td>\n",
       "      <td>381</td>\n",
       "      <td>U</td>\n",
       "      <td>3</td>\n",
       "      <td>4502</td>\n",
       "      <td>257</td>\n",
       "    </tr>\n",
       "  </tbody>\n",
       "</table>\n",
       "<p>5 rows × 143 columns</p>\n",
       "</div>"
      ],
      "text/plain": [
       "            ID_VIV          ID_PER      UPM  VIV_SEL  R_SEL  CVE_ENT NOM_ENT  \\\n",
       "19794  2600066.043  2600066.043.01  2600066        4      1       26  Sonora   \n",
       "19795  2600066.060  2600066.060.03  2600066        1      3       26  Sonora   \n",
       "19796  2600066.115  2600066.115.02  2600066        2      2       26  Sonora   \n",
       "19799  2600072.046  2600072.046.02  2600072        2      2       26  Sonora   \n",
       "19801  2600072.095  2600072.095.01  2600072        3      1       26  Sonora   \n",
       "\n",
       "       CVE_MUN NOM_MUN  LOC  ...  BP4_1_7 BP4_1_8  BP4_1_9  BP5_1  FAC_VIV  \\\n",
       "19794       18  Cajeme    1  ...        2       2        2      3      462   \n",
       "19795       18  Cajeme    1  ...        2       2        2      2      462   \n",
       "19796       18  Cajeme    1  ...        2       2        2      2      462   \n",
       "19799       18  Cajeme    1  ...        2       2        2      2      381   \n",
       "19801       18  Cajeme    1  ...        2       2        2      1      381   \n",
       "\n",
       "       FAC_SEL DOMINIO  EST  UPM_DIS  EST_DIS  \n",
       "19794     2308       U    4     4501      258  \n",
       "19795     1385       U    4     4501      258  \n",
       "19796      923       U    4     4501      258  \n",
       "19799      762       U    3     4502      257  \n",
       "19801      381       U    3     4502      257  \n",
       "\n",
       "[5 rows x 143 columns]"
      ]
     },
     "execution_count": 19,
     "metadata": {},
     "output_type": "execute_result"
    }
   ],
   "source": [
    "#Obteniendo datos sobre la cantidad de mujeres encuestadas en Sonora\n",
    "\n",
    "df_mujer_1t = df_1t[(df_1t['SEXO'] == 2) & (df_1t['CVE_ENT'] == 26)]\n",
    "df_mujer_2t = df_2t[(df_2t['SEXO'] == 2) & (df_2t['CVE_ENT'] == 26)]\n",
    "df_mujer_3t = df_3t[(df_3t['SEXO'] == 2) & (df_3t['CVE_ENT'] == 26)]\n",
    "df_mujer_2t.head()"
   ]
  },
  {
   "cell_type": "code",
   "execution_count": 20,
   "id": "842fbbe3",
   "metadata": {},
   "outputs": [
    {
     "data": {
      "text/html": [
       "<div>\n",
       "<style scoped>\n",
       "    .dataframe tbody tr th:only-of-type {\n",
       "        vertical-align: middle;\n",
       "    }\n",
       "\n",
       "    .dataframe tbody tr th {\n",
       "        vertical-align: top;\n",
       "    }\n",
       "\n",
       "    .dataframe thead th {\n",
       "        text-align: right;\n",
       "    }\n",
       "</style>\n",
       "<table border=\"1\" class=\"dataframe\">\n",
       "  <thead>\n",
       "    <tr style=\"text-align: right;\">\n",
       "      <th></th>\n",
       "      <th></th>\n",
       "      <th>ID_PER</th>\n",
       "      <th>TRIMESTRES</th>\n",
       "    </tr>\n",
       "    <tr>\n",
       "      <th>NOM_ENT</th>\n",
       "      <th>NOM_MUN</th>\n",
       "      <th></th>\n",
       "      <th></th>\n",
       "    </tr>\n",
       "  </thead>\n",
       "  <tbody>\n",
       "    <tr>\n",
       "      <th rowspan=\"3\" valign=\"top\">Sonora</th>\n",
       "      <th>Cajeme</th>\n",
       "      <td>129</td>\n",
       "      <td>2022-Q2</td>\n",
       "    </tr>\n",
       "    <tr>\n",
       "      <th>Hermosillo</th>\n",
       "      <td>150</td>\n",
       "      <td>2022-Q2</td>\n",
       "    </tr>\n",
       "    <tr>\n",
       "      <th>Nogales</th>\n",
       "      <td>127</td>\n",
       "      <td>2022-Q2</td>\n",
       "    </tr>\n",
       "  </tbody>\n",
       "</table>\n",
       "</div>"
      ],
      "text/plain": [
       "                    ID_PER TRIMESTRES\n",
       "NOM_ENT NOM_MUN                      \n",
       "Sonora  Cajeme         129    2022-Q2\n",
       "        Hermosillo     150    2022-Q2\n",
       "        Nogales        127    2022-Q2"
      ]
     },
     "execution_count": 20,
     "metadata": {},
     "output_type": "execute_result"
    }
   ],
   "source": [
    "# Cantidad de mujeres encuestadas por municipios\n",
    "df_encuesta_1 = df_mujer_1t.groupby(['NOM_ENT', 'NOM_MUN']).count()\n",
    "df_encuesta_1 = df_encuesta_1[['ID_PER']]\n",
    "df_encuesta_1['TRIMESTRES'] = '2022-Q1'\n",
    "\n",
    "df_encuesta_2 = df_mujer_2t.groupby(['NOM_ENT', 'NOM_MUN']).count()\n",
    "df_encuesta_2 = df_encuesta_2[['ID_PER']]\n",
    "df_encuesta_2['TRIMESTRES'] = '2022-Q2'\n",
    "\n",
    "df_encuesta_3 = df_mujer_3t.groupby(['NOM_ENT', 'NOM_MUN']).count()\n",
    "df_encuesta_3 = df_encuesta_3[['ID_PER']]\n",
    "df_encuesta_3['TRIMESTRES'] = '2022-Q3'\n",
    "df_encuesta_2.head()"
   ]
  },
  {
   "cell_type": "code",
   "execution_count": 21,
   "id": "9234d0dc",
   "metadata": {},
   "outputs": [],
   "source": [
    "# Obteniendo datos sobre la cantidad de mujeres encuestadas que creen q su ciudad es insegura\n",
    "df_ciudad_1t = df_mujer_1t[df_mujer_1t['BP1_1'] == 2]\n",
    "df_ciudad_2t = df_mujer_2t[df_mujer_2t['BP1_1'] == 2]\n",
    "df_ciudad_3t = df_mujer_3t[df_mujer_3t['BP1_1'] == 2]"
   ]
  },
  {
   "cell_type": "code",
   "execution_count": 22,
   "id": "0630dc2e",
   "metadata": {},
   "outputs": [
    {
     "data": {
      "text/html": [
       "<div>\n",
       "<style scoped>\n",
       "    .dataframe tbody tr th:only-of-type {\n",
       "        vertical-align: middle;\n",
       "    }\n",
       "\n",
       "    .dataframe tbody tr th {\n",
       "        vertical-align: top;\n",
       "    }\n",
       "\n",
       "    .dataframe thead th {\n",
       "        text-align: right;\n",
       "    }\n",
       "</style>\n",
       "<table border=\"1\" class=\"dataframe\">\n",
       "  <thead>\n",
       "    <tr style=\"text-align: right;\">\n",
       "      <th></th>\n",
       "      <th></th>\n",
       "      <th>ID_PER</th>\n",
       "    </tr>\n",
       "    <tr>\n",
       "      <th>NOM_ENT</th>\n",
       "      <th>NOM_MUN</th>\n",
       "      <th></th>\n",
       "    </tr>\n",
       "  </thead>\n",
       "  <tbody>\n",
       "    <tr>\n",
       "      <th rowspan=\"3\" valign=\"top\">SONORA</th>\n",
       "      <th>CAJEME</th>\n",
       "      <td>122</td>\n",
       "    </tr>\n",
       "    <tr>\n",
       "      <th>HERMOSILLO</th>\n",
       "      <td>99</td>\n",
       "    </tr>\n",
       "    <tr>\n",
       "      <th>NOGALES</th>\n",
       "      <td>72</td>\n",
       "    </tr>\n",
       "  </tbody>\n",
       "</table>\n",
       "</div>"
      ],
      "text/plain": [
       "                    ID_PER\n",
       "NOM_ENT NOM_MUN           \n",
       "SONORA  CAJEME         122\n",
       "        HERMOSILLO      99\n",
       "        NOGALES         72"
      ]
     },
     "execution_count": 22,
     "metadata": {},
     "output_type": "execute_result"
    }
   ],
   "source": [
    "# Cantidad de mujeres encuestadas que creen q su ciudad es insegura\n",
    "violencia_estados_1 = df_ciudad_1t.groupby(['NOM_ENT', 'NOM_MUN']).count()\n",
    "violencia_estados_1 = violencia_estados_1[['ID_PER']]\n",
    "\n",
    "violencia_estados_2 = df_ciudad_2t.groupby(['NOM_ENT', 'NOM_MUN']).count()\n",
    "violencia_estados_2 = violencia_estados_2[['ID_PER']]\n",
    "\n",
    "violencia_estados_3 = df_ciudad_3t.groupby(['NOM_ENT', 'NOM_MUN']).count()\n",
    "violencia_estados_3 = violencia_estados_3[['ID_PER']]\n",
    "violencia_estados_3.head()"
   ]
  },
  {
   "cell_type": "code",
   "execution_count": 23,
   "id": "cc773a4a",
   "metadata": {},
   "outputs": [],
   "source": [
    "# Creando dataframe de percepción de seguridad de la mujer\n",
    "violencia_percepcion_1 = pd.merge(violencia_estados_1, df_encuesta_1, on=['NOM_ENT', 'NOM_MUN'] )\n",
    "violencia_percepcion_2 = pd.merge(violencia_estados_2, df_encuesta_2, on=['NOM_ENT', 'NOM_MUN'] )    \n",
    "violencia_percepcion_3 = pd.merge(violencia_estados_3, df_encuesta_3, on=['NOM_ENT', 'NOM_MUN'] )"
   ]
  },
  {
   "cell_type": "code",
   "execution_count": 25,
   "id": "0fb8e449",
   "metadata": {},
   "outputs": [],
   "source": [
    "#Eliminando columnas como índices\n",
    "violencia_percepcion_1.reset_index(inplace=True)\n",
    "violencia_percepcion_2.reset_index(inplace=True)\n",
    "violencia_percepcion_3.reset_index(inplace=True)"
   ]
  },
  {
   "cell_type": "code",
   "execution_count": 27,
   "id": "944b4a84",
   "metadata": {},
   "outputs": [
    {
     "data": {
      "text/html": [
       "<div>\n",
       "<style scoped>\n",
       "    .dataframe tbody tr th:only-of-type {\n",
       "        vertical-align: middle;\n",
       "    }\n",
       "\n",
       "    .dataframe tbody tr th {\n",
       "        vertical-align: top;\n",
       "    }\n",
       "\n",
       "    .dataframe thead th {\n",
       "        text-align: right;\n",
       "    }\n",
       "</style>\n",
       "<table border=\"1\" class=\"dataframe\">\n",
       "  <thead>\n",
       "    <tr style=\"text-align: right;\">\n",
       "      <th></th>\n",
       "      <th>NOM_ENT</th>\n",
       "      <th>NOM_MUN</th>\n",
       "      <th>ID_PER_x</th>\n",
       "      <th>ID_PER_y</th>\n",
       "      <th>TRIMESTRES</th>\n",
       "    </tr>\n",
       "  </thead>\n",
       "  <tbody>\n",
       "    <tr>\n",
       "      <th>0</th>\n",
       "      <td>Sonora</td>\n",
       "      <td>Cajeme</td>\n",
       "      <td>122</td>\n",
       "      <td>129</td>\n",
       "      <td>2022-Q3</td>\n",
       "    </tr>\n",
       "    <tr>\n",
       "      <th>1</th>\n",
       "      <td>Sonora</td>\n",
       "      <td>Hermosillo</td>\n",
       "      <td>99</td>\n",
       "      <td>144</td>\n",
       "      <td>2022-Q3</td>\n",
       "    </tr>\n",
       "    <tr>\n",
       "      <th>2</th>\n",
       "      <td>Sonora</td>\n",
       "      <td>Nogales</td>\n",
       "      <td>72</td>\n",
       "      <td>131</td>\n",
       "      <td>2022-Q3</td>\n",
       "    </tr>\n",
       "  </tbody>\n",
       "</table>\n",
       "</div>"
      ],
      "text/plain": [
       "  NOM_ENT     NOM_MUN  ID_PER_x  ID_PER_y TRIMESTRES\n",
       "0  Sonora      Cajeme       122       129    2022-Q3\n",
       "1  Sonora  Hermosillo        99       144    2022-Q3\n",
       "2  Sonora     Nogales        72       131    2022-Q3"
      ]
     },
     "execution_count": 27,
     "metadata": {},
     "output_type": "execute_result"
    }
   ],
   "source": [
    "#Normalizando nombres de los estados y municipios\n",
    "violencia_percepcion_3['NOM_ENT'] = [ent.lower().capitalize() for ent in violencia_percepcion_3['NOM_ENT']]\n",
    "violencia_percepcion_3['NOM_MUN'] = [mun.lower().capitalize() for mun in violencia_percepcion_3['NOM_MUN']]\n",
    "\n",
    "violencia_percepcion_3.head()"
   ]
  },
  {
   "cell_type": "code",
   "execution_count": 28,
   "id": "52c22eaf",
   "metadata": {},
   "outputs": [],
   "source": [
    "# Concatenando los datos de los tres trimestres\n",
    "violencia_percepcion = pd.concat([violencia_percepcion_1, violencia_percepcion_2, violencia_percepcion_3], axis=0)"
   ]
  },
  {
   "cell_type": "code",
   "execution_count": 29,
   "id": "34884ea5",
   "metadata": {},
   "outputs": [
    {
     "data": {
      "text/html": [
       "<div>\n",
       "<style scoped>\n",
       "    .dataframe tbody tr th:only-of-type {\n",
       "        vertical-align: middle;\n",
       "    }\n",
       "\n",
       "    .dataframe tbody tr th {\n",
       "        vertical-align: top;\n",
       "    }\n",
       "\n",
       "    .dataframe thead th {\n",
       "        text-align: right;\n",
       "    }\n",
       "</style>\n",
       "<table border=\"1\" class=\"dataframe\">\n",
       "  <thead>\n",
       "    <tr style=\"text-align: right;\">\n",
       "      <th></th>\n",
       "      <th>ESTADO</th>\n",
       "      <th>MUNICIPIO</th>\n",
       "      <th>MUJERES_INSEGURAS</th>\n",
       "      <th>TOTAL_MUJERES</th>\n",
       "      <th>TRIMESTRES</th>\n",
       "    </tr>\n",
       "  </thead>\n",
       "  <tbody>\n",
       "    <tr>\n",
       "      <th>0</th>\n",
       "      <td>Sonora</td>\n",
       "      <td>Cajeme</td>\n",
       "      <td>127</td>\n",
       "      <td>134</td>\n",
       "      <td>2022-Q1</td>\n",
       "    </tr>\n",
       "    <tr>\n",
       "      <th>1</th>\n",
       "      <td>Sonora</td>\n",
       "      <td>Hermosillo</td>\n",
       "      <td>99</td>\n",
       "      <td>153</td>\n",
       "      <td>2022-Q1</td>\n",
       "    </tr>\n",
       "    <tr>\n",
       "      <th>2</th>\n",
       "      <td>Sonora</td>\n",
       "      <td>Nogales</td>\n",
       "      <td>74</td>\n",
       "      <td>129</td>\n",
       "      <td>2022-Q1</td>\n",
       "    </tr>\n",
       "    <tr>\n",
       "      <th>0</th>\n",
       "      <td>Sonora</td>\n",
       "      <td>Cajeme</td>\n",
       "      <td>120</td>\n",
       "      <td>129</td>\n",
       "      <td>2022-Q2</td>\n",
       "    </tr>\n",
       "    <tr>\n",
       "      <th>1</th>\n",
       "      <td>Sonora</td>\n",
       "      <td>Hermosillo</td>\n",
       "      <td>97</td>\n",
       "      <td>150</td>\n",
       "      <td>2022-Q2</td>\n",
       "    </tr>\n",
       "    <tr>\n",
       "      <th>2</th>\n",
       "      <td>Sonora</td>\n",
       "      <td>Nogales</td>\n",
       "      <td>84</td>\n",
       "      <td>127</td>\n",
       "      <td>2022-Q2</td>\n",
       "    </tr>\n",
       "    <tr>\n",
       "      <th>0</th>\n",
       "      <td>Sonora</td>\n",
       "      <td>Cajeme</td>\n",
       "      <td>122</td>\n",
       "      <td>129</td>\n",
       "      <td>2022-Q3</td>\n",
       "    </tr>\n",
       "    <tr>\n",
       "      <th>1</th>\n",
       "      <td>Sonora</td>\n",
       "      <td>Hermosillo</td>\n",
       "      <td>99</td>\n",
       "      <td>144</td>\n",
       "      <td>2022-Q3</td>\n",
       "    </tr>\n",
       "    <tr>\n",
       "      <th>2</th>\n",
       "      <td>Sonora</td>\n",
       "      <td>Nogales</td>\n",
       "      <td>72</td>\n",
       "      <td>131</td>\n",
       "      <td>2022-Q3</td>\n",
       "    </tr>\n",
       "  </tbody>\n",
       "</table>\n",
       "</div>"
      ],
      "text/plain": [
       "   ESTADO   MUNICIPIO  MUJERES_INSEGURAS  TOTAL_MUJERES TRIMESTRES\n",
       "0  Sonora      Cajeme                127            134    2022-Q1\n",
       "1  Sonora  Hermosillo                 99            153    2022-Q1\n",
       "2  Sonora     Nogales                 74            129    2022-Q1\n",
       "0  Sonora      Cajeme                120            129    2022-Q2\n",
       "1  Sonora  Hermosillo                 97            150    2022-Q2\n",
       "2  Sonora     Nogales                 84            127    2022-Q2\n",
       "0  Sonora      Cajeme                122            129    2022-Q3\n",
       "1  Sonora  Hermosillo                 99            144    2022-Q3\n",
       "2  Sonora     Nogales                 72            131    2022-Q3"
      ]
     },
     "execution_count": 29,
     "metadata": {},
     "output_type": "execute_result"
    }
   ],
   "source": [
    "violencia_percepcion.columns = ['ESTADO', 'MUNICIPIO', 'MUJERES_INSEGURAS', 'TOTAL_MUJERES', 'TRIMESTRES']\n",
    "violencia_percepcion"
   ]
  },
  {
   "cell_type": "code",
   "execution_count": 30,
   "id": "8f5f1844",
   "metadata": {},
   "outputs": [
    {
     "data": {
      "text/html": [
       "<div>\n",
       "<style scoped>\n",
       "    .dataframe tbody tr th:only-of-type {\n",
       "        vertical-align: middle;\n",
       "    }\n",
       "\n",
       "    .dataframe tbody tr th {\n",
       "        vertical-align: top;\n",
       "    }\n",
       "\n",
       "    .dataframe thead th {\n",
       "        text-align: right;\n",
       "    }\n",
       "</style>\n",
       "<table border=\"1\" class=\"dataframe\">\n",
       "  <thead>\n",
       "    <tr style=\"text-align: right;\">\n",
       "      <th></th>\n",
       "      <th>ESTADO</th>\n",
       "      <th>MUNICIPIO</th>\n",
       "      <th>MUJERES_INSEGURAS</th>\n",
       "      <th>TOTAL_MUJERES</th>\n",
       "      <th>TRIMESTRES</th>\n",
       "      <th>PERCEPCION_VIOLENCIA</th>\n",
       "    </tr>\n",
       "  </thead>\n",
       "  <tbody>\n",
       "    <tr>\n",
       "      <th>0</th>\n",
       "      <td>Sonora</td>\n",
       "      <td>Cajeme</td>\n",
       "      <td>127</td>\n",
       "      <td>134</td>\n",
       "      <td>2022-Q1</td>\n",
       "      <td>0.947761</td>\n",
       "    </tr>\n",
       "    <tr>\n",
       "      <th>1</th>\n",
       "      <td>Sonora</td>\n",
       "      <td>Hermosillo</td>\n",
       "      <td>99</td>\n",
       "      <td>153</td>\n",
       "      <td>2022-Q1</td>\n",
       "      <td>0.647059</td>\n",
       "    </tr>\n",
       "    <tr>\n",
       "      <th>2</th>\n",
       "      <td>Sonora</td>\n",
       "      <td>Nogales</td>\n",
       "      <td>74</td>\n",
       "      <td>129</td>\n",
       "      <td>2022-Q1</td>\n",
       "      <td>0.573643</td>\n",
       "    </tr>\n",
       "    <tr>\n",
       "      <th>0</th>\n",
       "      <td>Sonora</td>\n",
       "      <td>Cajeme</td>\n",
       "      <td>120</td>\n",
       "      <td>129</td>\n",
       "      <td>2022-Q2</td>\n",
       "      <td>0.930233</td>\n",
       "    </tr>\n",
       "    <tr>\n",
       "      <th>1</th>\n",
       "      <td>Sonora</td>\n",
       "      <td>Hermosillo</td>\n",
       "      <td>97</td>\n",
       "      <td>150</td>\n",
       "      <td>2022-Q2</td>\n",
       "      <td>0.646667</td>\n",
       "    </tr>\n",
       "    <tr>\n",
       "      <th>2</th>\n",
       "      <td>Sonora</td>\n",
       "      <td>Nogales</td>\n",
       "      <td>84</td>\n",
       "      <td>127</td>\n",
       "      <td>2022-Q2</td>\n",
       "      <td>0.661417</td>\n",
       "    </tr>\n",
       "    <tr>\n",
       "      <th>0</th>\n",
       "      <td>Sonora</td>\n",
       "      <td>Cajeme</td>\n",
       "      <td>122</td>\n",
       "      <td>129</td>\n",
       "      <td>2022-Q3</td>\n",
       "      <td>0.945736</td>\n",
       "    </tr>\n",
       "    <tr>\n",
       "      <th>1</th>\n",
       "      <td>Sonora</td>\n",
       "      <td>Hermosillo</td>\n",
       "      <td>99</td>\n",
       "      <td>144</td>\n",
       "      <td>2022-Q3</td>\n",
       "      <td>0.687500</td>\n",
       "    </tr>\n",
       "    <tr>\n",
       "      <th>2</th>\n",
       "      <td>Sonora</td>\n",
       "      <td>Nogales</td>\n",
       "      <td>72</td>\n",
       "      <td>131</td>\n",
       "      <td>2022-Q3</td>\n",
       "      <td>0.549618</td>\n",
       "    </tr>\n",
       "  </tbody>\n",
       "</table>\n",
       "</div>"
      ],
      "text/plain": [
       "   ESTADO   MUNICIPIO  MUJERES_INSEGURAS  TOTAL_MUJERES TRIMESTRES  \\\n",
       "0  Sonora      Cajeme                127            134    2022-Q1   \n",
       "1  Sonora  Hermosillo                 99            153    2022-Q1   \n",
       "2  Sonora     Nogales                 74            129    2022-Q1   \n",
       "0  Sonora      Cajeme                120            129    2022-Q2   \n",
       "1  Sonora  Hermosillo                 97            150    2022-Q2   \n",
       "2  Sonora     Nogales                 84            127    2022-Q2   \n",
       "0  Sonora      Cajeme                122            129    2022-Q3   \n",
       "1  Sonora  Hermosillo                 99            144    2022-Q3   \n",
       "2  Sonora     Nogales                 72            131    2022-Q3   \n",
       "\n",
       "   PERCEPCION_VIOLENCIA  \n",
       "0              0.947761  \n",
       "1              0.647059  \n",
       "2              0.573643  \n",
       "0              0.930233  \n",
       "1              0.646667  \n",
       "2              0.661417  \n",
       "0              0.945736  \n",
       "1              0.687500  \n",
       "2              0.549618  "
      ]
     },
     "execution_count": 30,
     "metadata": {},
     "output_type": "execute_result"
    }
   ],
   "source": [
    "# Tasa de prevalencia de la violencia: MUJERES_VIOLENTADAS/TOTAL_MUJERES\n",
    "violencia_percepcion['PERCEPCION_VIOLENCIA'] =  violencia_percepcion['MUJERES_INSEGURAS']/violencia_percepcion['TOTAL_MUJERES']\n",
    " \n",
    "violencia_percepcion"
   ]
  },
  {
   "cell_type": "code",
   "execution_count": 35,
   "id": "45f9664f",
   "metadata": {},
   "outputs": [
    {
     "data": {
      "text/html": [
       "<div>\n",
       "<style scoped>\n",
       "    .dataframe tbody tr th:only-of-type {\n",
       "        vertical-align: middle;\n",
       "    }\n",
       "\n",
       "    .dataframe tbody tr th {\n",
       "        vertical-align: top;\n",
       "    }\n",
       "\n",
       "    .dataframe thead th {\n",
       "        text-align: right;\n",
       "    }\n",
       "</style>\n",
       "<table border=\"1\" class=\"dataframe\">\n",
       "  <thead>\n",
       "    <tr style=\"text-align: right;\">\n",
       "      <th></th>\n",
       "      <th>TRIMESTRES</th>\n",
       "      <th>MUNICIPIO</th>\n",
       "      <th>MUJERES_INSEGURAS</th>\n",
       "      <th>TOTAL_MUJERES</th>\n",
       "      <th>PERCEPCION_VIOLENCIA</th>\n",
       "      <th>DELITOS</th>\n",
       "    </tr>\n",
       "  </thead>\n",
       "  <tbody>\n",
       "    <tr>\n",
       "      <th>0</th>\n",
       "      <td>2022-Q1</td>\n",
       "      <td>Cajeme</td>\n",
       "      <td>127</td>\n",
       "      <td>134</td>\n",
       "      <td>0.947761</td>\n",
       "      <td>0</td>\n",
       "    </tr>\n",
       "    <tr>\n",
       "      <th>1</th>\n",
       "      <td>2022-Q1</td>\n",
       "      <td>Hermosillo</td>\n",
       "      <td>99</td>\n",
       "      <td>153</td>\n",
       "      <td>0.647059</td>\n",
       "      <td>1</td>\n",
       "    </tr>\n",
       "    <tr>\n",
       "      <th>2</th>\n",
       "      <td>2022-Q1</td>\n",
       "      <td>Nogales</td>\n",
       "      <td>74</td>\n",
       "      <td>129</td>\n",
       "      <td>0.573643</td>\n",
       "      <td>0</td>\n",
       "    </tr>\n",
       "    <tr>\n",
       "      <th>3</th>\n",
       "      <td>2022-Q2</td>\n",
       "      <td>Cajeme</td>\n",
       "      <td>120</td>\n",
       "      <td>129</td>\n",
       "      <td>0.930233</td>\n",
       "      <td>0</td>\n",
       "    </tr>\n",
       "    <tr>\n",
       "      <th>4</th>\n",
       "      <td>2022-Q2</td>\n",
       "      <td>Hermosillo</td>\n",
       "      <td>97</td>\n",
       "      <td>150</td>\n",
       "      <td>0.646667</td>\n",
       "      <td>1</td>\n",
       "    </tr>\n",
       "    <tr>\n",
       "      <th>5</th>\n",
       "      <td>2022-Q2</td>\n",
       "      <td>Nogales</td>\n",
       "      <td>84</td>\n",
       "      <td>127</td>\n",
       "      <td>0.661417</td>\n",
       "      <td>3</td>\n",
       "    </tr>\n",
       "    <tr>\n",
       "      <th>6</th>\n",
       "      <td>2022-Q3</td>\n",
       "      <td>Cajeme</td>\n",
       "      <td>122</td>\n",
       "      <td>129</td>\n",
       "      <td>0.945736</td>\n",
       "      <td>1</td>\n",
       "    </tr>\n",
       "    <tr>\n",
       "      <th>7</th>\n",
       "      <td>2022-Q3</td>\n",
       "      <td>Hermosillo</td>\n",
       "      <td>99</td>\n",
       "      <td>144</td>\n",
       "      <td>0.687500</td>\n",
       "      <td>0</td>\n",
       "    </tr>\n",
       "    <tr>\n",
       "      <th>8</th>\n",
       "      <td>2022-Q3</td>\n",
       "      <td>Nogales</td>\n",
       "      <td>72</td>\n",
       "      <td>131</td>\n",
       "      <td>0.549618</td>\n",
       "      <td>1</td>\n",
       "    </tr>\n",
       "  </tbody>\n",
       "</table>\n",
       "</div>"
      ],
      "text/plain": [
       "  TRIMESTRES   MUNICIPIO  MUJERES_INSEGURAS  TOTAL_MUJERES  \\\n",
       "0    2022-Q1      Cajeme                127            134   \n",
       "1    2022-Q1  Hermosillo                 99            153   \n",
       "2    2022-Q1     Nogales                 74            129   \n",
       "3    2022-Q2      Cajeme                120            129   \n",
       "4    2022-Q2  Hermosillo                 97            150   \n",
       "5    2022-Q2     Nogales                 84            127   \n",
       "6    2022-Q3      Cajeme                122            129   \n",
       "7    2022-Q3  Hermosillo                 99            144   \n",
       "8    2022-Q3     Nogales                 72            131   \n",
       "\n",
       "   PERCEPCION_VIOLENCIA  DELITOS  \n",
       "0              0.947761        0  \n",
       "1              0.647059        1  \n",
       "2              0.573643        0  \n",
       "3              0.930233        0  \n",
       "4              0.646667        1  \n",
       "5              0.661417        3  \n",
       "6              0.945736        1  \n",
       "7              0.687500        0  \n",
       "8              0.549618        1  "
      ]
     },
     "execution_count": 35,
     "metadata": {},
     "output_type": "execute_result"
    }
   ],
   "source": [
    "# Creando dataframe final sobre la relacion de crímenes de violencia contra la mujer y la percepción de violencia\n",
    "# de violencia según encuesta\n",
    "df = pd.merge(violencia_percepcion, df_sesnsp_crimenes, on=['TRIMESTRES', 'MUNICIPIO'])\n",
    "df = df[['TRIMESTRES', 'MUNICIPIO', 'MUJERES_INSEGURAS', 'TOTAL_MUJERES', 'PERCEPCION_VIOLENCIA', 'DELITOS']]\n",
    "df"
   ]
  },
  {
   "cell_type": "code",
   "execution_count": 36,
   "id": "93c6ce69",
   "metadata": {},
   "outputs": [
    {
     "data": {
      "text/plain": [
       "TRIMESTRES                      object\n",
       "MUNICIPIO                       object\n",
       "MUJERES_INSEGURAS                int64\n",
       "TOTAL_MUJERES                    int64\n",
       "PERCEPCION_VIOLENCIA           float64\n",
       "DELITOS                          int64\n",
       "FECHA                   datetime64[ns]\n",
       "dtype: object"
      ]
     },
     "execution_count": 36,
     "metadata": {},
     "output_type": "execute_result"
    }
   ],
   "source": [
    "# Añadiendo fecha según el trimestre\n",
    "df['FECHA'] = pd.PeriodIndex(df['TRIMESTRES'], freq='Q').to_timestamp()\n",
    "df.dtypes"
   ]
  },
  {
   "cell_type": "code",
   "execution_count": 37,
   "id": "f8380b60",
   "metadata": {},
   "outputs": [
    {
     "data": {
      "text/html": [
       "<div>\n",
       "<style scoped>\n",
       "    .dataframe tbody tr th:only-of-type {\n",
       "        vertical-align: middle;\n",
       "    }\n",
       "\n",
       "    .dataframe tbody tr th {\n",
       "        vertical-align: top;\n",
       "    }\n",
       "\n",
       "    .dataframe thead th {\n",
       "        text-align: right;\n",
       "    }\n",
       "</style>\n",
       "<table border=\"1\" class=\"dataframe\">\n",
       "  <thead>\n",
       "    <tr style=\"text-align: right;\">\n",
       "      <th></th>\n",
       "      <th>TRIMESTRES</th>\n",
       "      <th>MUNICIPIO</th>\n",
       "      <th>MUJERES_INSEGURAS</th>\n",
       "      <th>TOTAL_MUJERES</th>\n",
       "      <th>PERCEPCION_VIOLENCIA</th>\n",
       "      <th>DELITOS</th>\n",
       "      <th>FECHA</th>\n",
       "    </tr>\n",
       "  </thead>\n",
       "  <tbody>\n",
       "    <tr>\n",
       "      <th>0</th>\n",
       "      <td>2022-Q1</td>\n",
       "      <td>Cajeme</td>\n",
       "      <td>127</td>\n",
       "      <td>134</td>\n",
       "      <td>0.947761</td>\n",
       "      <td>0</td>\n",
       "      <td>2022-01-01</td>\n",
       "    </tr>\n",
       "    <tr>\n",
       "      <th>1</th>\n",
       "      <td>2022-Q1</td>\n",
       "      <td>Hermosillo</td>\n",
       "      <td>99</td>\n",
       "      <td>153</td>\n",
       "      <td>0.647059</td>\n",
       "      <td>1</td>\n",
       "      <td>2022-01-01</td>\n",
       "    </tr>\n",
       "    <tr>\n",
       "      <th>2</th>\n",
       "      <td>2022-Q1</td>\n",
       "      <td>Nogales</td>\n",
       "      <td>74</td>\n",
       "      <td>129</td>\n",
       "      <td>0.573643</td>\n",
       "      <td>0</td>\n",
       "      <td>2022-01-01</td>\n",
       "    </tr>\n",
       "    <tr>\n",
       "      <th>3</th>\n",
       "      <td>2022-Q2</td>\n",
       "      <td>Cajeme</td>\n",
       "      <td>120</td>\n",
       "      <td>129</td>\n",
       "      <td>0.930233</td>\n",
       "      <td>0</td>\n",
       "      <td>2022-04-01</td>\n",
       "    </tr>\n",
       "    <tr>\n",
       "      <th>4</th>\n",
       "      <td>2022-Q2</td>\n",
       "      <td>Hermosillo</td>\n",
       "      <td>97</td>\n",
       "      <td>150</td>\n",
       "      <td>0.646667</td>\n",
       "      <td>1</td>\n",
       "      <td>2022-04-01</td>\n",
       "    </tr>\n",
       "    <tr>\n",
       "      <th>5</th>\n",
       "      <td>2022-Q2</td>\n",
       "      <td>Nogales</td>\n",
       "      <td>84</td>\n",
       "      <td>127</td>\n",
       "      <td>0.661417</td>\n",
       "      <td>3</td>\n",
       "      <td>2022-04-01</td>\n",
       "    </tr>\n",
       "    <tr>\n",
       "      <th>6</th>\n",
       "      <td>2022-Q3</td>\n",
       "      <td>Cajeme</td>\n",
       "      <td>122</td>\n",
       "      <td>129</td>\n",
       "      <td>0.945736</td>\n",
       "      <td>1</td>\n",
       "      <td>2022-07-01</td>\n",
       "    </tr>\n",
       "    <tr>\n",
       "      <th>7</th>\n",
       "      <td>2022-Q3</td>\n",
       "      <td>Hermosillo</td>\n",
       "      <td>99</td>\n",
       "      <td>144</td>\n",
       "      <td>0.687500</td>\n",
       "      <td>0</td>\n",
       "      <td>2022-07-01</td>\n",
       "    </tr>\n",
       "    <tr>\n",
       "      <th>8</th>\n",
       "      <td>2022-Q3</td>\n",
       "      <td>Nogales</td>\n",
       "      <td>72</td>\n",
       "      <td>131</td>\n",
       "      <td>0.549618</td>\n",
       "      <td>1</td>\n",
       "      <td>2022-07-01</td>\n",
       "    </tr>\n",
       "  </tbody>\n",
       "</table>\n",
       "</div>"
      ],
      "text/plain": [
       "  TRIMESTRES   MUNICIPIO  MUJERES_INSEGURAS  TOTAL_MUJERES  \\\n",
       "0    2022-Q1      Cajeme                127            134   \n",
       "1    2022-Q1  Hermosillo                 99            153   \n",
       "2    2022-Q1     Nogales                 74            129   \n",
       "3    2022-Q2      Cajeme                120            129   \n",
       "4    2022-Q2  Hermosillo                 97            150   \n",
       "5    2022-Q2     Nogales                 84            127   \n",
       "6    2022-Q3      Cajeme                122            129   \n",
       "7    2022-Q3  Hermosillo                 99            144   \n",
       "8    2022-Q3     Nogales                 72            131   \n",
       "\n",
       "   PERCEPCION_VIOLENCIA  DELITOS      FECHA  \n",
       "0              0.947761        0 2022-01-01  \n",
       "1              0.647059        1 2022-01-01  \n",
       "2              0.573643        0 2022-01-01  \n",
       "3              0.930233        0 2022-04-01  \n",
       "4              0.646667        1 2022-04-01  \n",
       "5              0.661417        3 2022-04-01  \n",
       "6              0.945736        1 2022-07-01  \n",
       "7              0.687500        0 2022-07-01  \n",
       "8              0.549618        1 2022-07-01  "
      ]
     },
     "execution_count": 37,
     "metadata": {},
     "output_type": "execute_result"
    }
   ],
   "source": [
    "df"
   ]
  },
  {
   "cell_type": "markdown",
   "id": "a7a25429",
   "metadata": {},
   "source": [
    "## EDA"
   ]
  },
  {
   "cell_type": "markdown",
   "id": "e7d8c189",
   "metadata": {},
   "source": [
    "#### Automático"
   ]
  },
  {
   "cell_type": "code",
   "execution_count": 38,
   "id": "1ae169ce",
   "metadata": {},
   "outputs": [
    {
     "data": {
      "application/vnd.jupyter.widget-view+json": {
       "model_id": "7a7a9a7b67e549f78683882b63e193b3",
       "version_major": 2,
       "version_minor": 0
      },
      "text/plain": [
       "                                             |                                             | [  0%]   00:00 ->…"
      ]
     },
     "metadata": {},
     "output_type": "display_data"
    },
    {
     "name": "stdout",
     "output_type": "stream",
     "text": [
      "Report eda-sweetview.html was generated! NOTEBOOK/COLAB USERS: the web browser MAY not pop up, regardless, the report IS saved in your notebook/colab files.\n"
     ]
    }
   ],
   "source": [
    "import sweetviz\n",
    "\n",
    "sw_insurance = sweetviz.analyze(df)\n",
    "sw_insurance.show_html(\"eda-sweetview.html\")\n"
   ]
  },
  {
   "cell_type": "markdown",
   "id": "4b4227fc",
   "metadata": {},
   "source": [
    "#### EDA: Relación entre variables"
   ]
  },
  {
   "cell_type": "code",
   "execution_count": 40,
   "id": "66768607",
   "metadata": {},
   "outputs": [
    {
     "data": {
      "text/html": [
       "<div>\n",
       "<style scoped>\n",
       "    .dataframe tbody tr th:only-of-type {\n",
       "        vertical-align: middle;\n",
       "    }\n",
       "\n",
       "    .dataframe tbody tr th {\n",
       "        vertical-align: top;\n",
       "    }\n",
       "\n",
       "    .dataframe thead th {\n",
       "        text-align: right;\n",
       "    }\n",
       "</style>\n",
       "<table border=\"1\" class=\"dataframe\">\n",
       "  <thead>\n",
       "    <tr style=\"text-align: right;\">\n",
       "      <th></th>\n",
       "      <th>MUJERES_INSEGURAS</th>\n",
       "      <th>TOTAL_MUJERES</th>\n",
       "      <th>PERCEPCION_VIOLENCIA</th>\n",
       "      <th>DELITOS</th>\n",
       "    </tr>\n",
       "  </thead>\n",
       "  <tbody>\n",
       "    <tr>\n",
       "      <th>count</th>\n",
       "      <td>9.000000</td>\n",
       "      <td>9.000000</td>\n",
       "      <td>9.000000</td>\n",
       "      <td>9.000000</td>\n",
       "    </tr>\n",
       "    <tr>\n",
       "      <th>mean</th>\n",
       "      <td>99.333333</td>\n",
       "      <td>136.222222</td>\n",
       "      <td>0.732182</td>\n",
       "      <td>0.777778</td>\n",
       "    </tr>\n",
       "    <tr>\n",
       "      <th>std</th>\n",
       "      <td>20.420578</td>\n",
       "      <td>10.034662</td>\n",
       "      <td>0.162531</td>\n",
       "      <td>0.971825</td>\n",
       "    </tr>\n",
       "    <tr>\n",
       "      <th>min</th>\n",
       "      <td>72.000000</td>\n",
       "      <td>127.000000</td>\n",
       "      <td>0.549618</td>\n",
       "      <td>0.000000</td>\n",
       "    </tr>\n",
       "    <tr>\n",
       "      <th>25%</th>\n",
       "      <td>84.000000</td>\n",
       "      <td>129.000000</td>\n",
       "      <td>0.646667</td>\n",
       "      <td>0.000000</td>\n",
       "    </tr>\n",
       "    <tr>\n",
       "      <th>50%</th>\n",
       "      <td>99.000000</td>\n",
       "      <td>131.000000</td>\n",
       "      <td>0.661417</td>\n",
       "      <td>1.000000</td>\n",
       "    </tr>\n",
       "    <tr>\n",
       "      <th>75%</th>\n",
       "      <td>120.000000</td>\n",
       "      <td>144.000000</td>\n",
       "      <td>0.930233</td>\n",
       "      <td>1.000000</td>\n",
       "    </tr>\n",
       "    <tr>\n",
       "      <th>max</th>\n",
       "      <td>127.000000</td>\n",
       "      <td>153.000000</td>\n",
       "      <td>0.947761</td>\n",
       "      <td>3.000000</td>\n",
       "    </tr>\n",
       "  </tbody>\n",
       "</table>\n",
       "</div>"
      ],
      "text/plain": [
       "       MUJERES_INSEGURAS  TOTAL_MUJERES  PERCEPCION_VIOLENCIA   DELITOS\n",
       "count           9.000000       9.000000              9.000000  9.000000\n",
       "mean           99.333333     136.222222              0.732182  0.777778\n",
       "std            20.420578      10.034662              0.162531  0.971825\n",
       "min            72.000000     127.000000              0.549618  0.000000\n",
       "25%            84.000000     129.000000              0.646667  0.000000\n",
       "50%            99.000000     131.000000              0.661417  1.000000\n",
       "75%           120.000000     144.000000              0.930233  1.000000\n",
       "max           127.000000     153.000000              0.947761  3.000000"
      ]
     },
     "execution_count": 40,
     "metadata": {},
     "output_type": "execute_result"
    }
   ],
   "source": [
    "df.describe()"
   ]
  },
  {
   "cell_type": "code",
   "execution_count": 56,
   "id": "024c5108",
   "metadata": {},
   "outputs": [
    {
     "data": {
      "application/vnd.plotly.v1+json": {
       "config": {
        "plotlyServerURL": "https://plot.ly"
       },
       "data": [
        {
         "hovertemplate": "MUNICIPIO=Cajeme<br>PERCEPCION_VIOLENCIA=%{x}<br>DELITOS=%{y}<extra></extra>",
         "legendgroup": "Cajeme",
         "marker": {
          "color": "#636efa",
          "symbol": "circle"
         },
         "mode": "markers",
         "name": "Cajeme",
         "orientation": "v",
         "showlegend": true,
         "type": "scatter",
         "x": [
          0.9477611940298507,
          0.9302325581395349,
          0.9457364341085271
         ],
         "xaxis": "x",
         "y": [
          0,
          0,
          1
         ],
         "yaxis": "y"
        },
        {
         "hovertemplate": "MUNICIPIO=Hermosillo<br>PERCEPCION_VIOLENCIA=%{x}<br>DELITOS=%{y}<extra></extra>",
         "legendgroup": "Hermosillo",
         "marker": {
          "color": "#EF553B",
          "symbol": "circle"
         },
         "mode": "markers",
         "name": "Hermosillo",
         "orientation": "v",
         "showlegend": true,
         "type": "scatter",
         "x": [
          0.6470588235294118,
          0.6466666666666666,
          0.6875
         ],
         "xaxis": "x",
         "y": [
          1,
          1,
          0
         ],
         "yaxis": "y"
        },
        {
         "hovertemplate": "MUNICIPIO=Nogales<br>PERCEPCION_VIOLENCIA=%{x}<br>DELITOS=%{y}<extra></extra>",
         "legendgroup": "Nogales",
         "marker": {
          "color": "#00cc96",
          "symbol": "circle"
         },
         "mode": "markers",
         "name": "Nogales",
         "orientation": "v",
         "showlegend": true,
         "type": "scatter",
         "x": [
          0.5736434108527132,
          0.6614173228346457,
          0.549618320610687
         ],
         "xaxis": "x",
         "y": [
          0,
          3,
          1
         ],
         "yaxis": "y"
        }
       ],
       "layout": {
        "height": 400,
        "legend": {
         "title": {
          "text": "MUNICIPIO"
         },
         "tracegroupgap": 0
        },
        "margin": {
         "t": 60
        },
        "template": {
         "data": {
          "bar": [
           {
            "error_x": {
             "color": "#2a3f5f"
            },
            "error_y": {
             "color": "#2a3f5f"
            },
            "marker": {
             "line": {
              "color": "#E5ECF6",
              "width": 0.5
             },
             "pattern": {
              "fillmode": "overlay",
              "size": 10,
              "solidity": 0.2
             }
            },
            "type": "bar"
           }
          ],
          "barpolar": [
           {
            "marker": {
             "line": {
              "color": "#E5ECF6",
              "width": 0.5
             },
             "pattern": {
              "fillmode": "overlay",
              "size": 10,
              "solidity": 0.2
             }
            },
            "type": "barpolar"
           }
          ],
          "carpet": [
           {
            "aaxis": {
             "endlinecolor": "#2a3f5f",
             "gridcolor": "white",
             "linecolor": "white",
             "minorgridcolor": "white",
             "startlinecolor": "#2a3f5f"
            },
            "baxis": {
             "endlinecolor": "#2a3f5f",
             "gridcolor": "white",
             "linecolor": "white",
             "minorgridcolor": "white",
             "startlinecolor": "#2a3f5f"
            },
            "type": "carpet"
           }
          ],
          "choropleth": [
           {
            "colorbar": {
             "outlinewidth": 0,
             "ticks": ""
            },
            "type": "choropleth"
           }
          ],
          "contour": [
           {
            "colorbar": {
             "outlinewidth": 0,
             "ticks": ""
            },
            "colorscale": [
             [
              0,
              "#0d0887"
             ],
             [
              0.1111111111111111,
              "#46039f"
             ],
             [
              0.2222222222222222,
              "#7201a8"
             ],
             [
              0.3333333333333333,
              "#9c179e"
             ],
             [
              0.4444444444444444,
              "#bd3786"
             ],
             [
              0.5555555555555556,
              "#d8576b"
             ],
             [
              0.6666666666666666,
              "#ed7953"
             ],
             [
              0.7777777777777778,
              "#fb9f3a"
             ],
             [
              0.8888888888888888,
              "#fdca26"
             ],
             [
              1,
              "#f0f921"
             ]
            ],
            "type": "contour"
           }
          ],
          "contourcarpet": [
           {
            "colorbar": {
             "outlinewidth": 0,
             "ticks": ""
            },
            "type": "contourcarpet"
           }
          ],
          "heatmap": [
           {
            "colorbar": {
             "outlinewidth": 0,
             "ticks": ""
            },
            "colorscale": [
             [
              0,
              "#0d0887"
             ],
             [
              0.1111111111111111,
              "#46039f"
             ],
             [
              0.2222222222222222,
              "#7201a8"
             ],
             [
              0.3333333333333333,
              "#9c179e"
             ],
             [
              0.4444444444444444,
              "#bd3786"
             ],
             [
              0.5555555555555556,
              "#d8576b"
             ],
             [
              0.6666666666666666,
              "#ed7953"
             ],
             [
              0.7777777777777778,
              "#fb9f3a"
             ],
             [
              0.8888888888888888,
              "#fdca26"
             ],
             [
              1,
              "#f0f921"
             ]
            ],
            "type": "heatmap"
           }
          ],
          "heatmapgl": [
           {
            "colorbar": {
             "outlinewidth": 0,
             "ticks": ""
            },
            "colorscale": [
             [
              0,
              "#0d0887"
             ],
             [
              0.1111111111111111,
              "#46039f"
             ],
             [
              0.2222222222222222,
              "#7201a8"
             ],
             [
              0.3333333333333333,
              "#9c179e"
             ],
             [
              0.4444444444444444,
              "#bd3786"
             ],
             [
              0.5555555555555556,
              "#d8576b"
             ],
             [
              0.6666666666666666,
              "#ed7953"
             ],
             [
              0.7777777777777778,
              "#fb9f3a"
             ],
             [
              0.8888888888888888,
              "#fdca26"
             ],
             [
              1,
              "#f0f921"
             ]
            ],
            "type": "heatmapgl"
           }
          ],
          "histogram": [
           {
            "marker": {
             "pattern": {
              "fillmode": "overlay",
              "size": 10,
              "solidity": 0.2
             }
            },
            "type": "histogram"
           }
          ],
          "histogram2d": [
           {
            "colorbar": {
             "outlinewidth": 0,
             "ticks": ""
            },
            "colorscale": [
             [
              0,
              "#0d0887"
             ],
             [
              0.1111111111111111,
              "#46039f"
             ],
             [
              0.2222222222222222,
              "#7201a8"
             ],
             [
              0.3333333333333333,
              "#9c179e"
             ],
             [
              0.4444444444444444,
              "#bd3786"
             ],
             [
              0.5555555555555556,
              "#d8576b"
             ],
             [
              0.6666666666666666,
              "#ed7953"
             ],
             [
              0.7777777777777778,
              "#fb9f3a"
             ],
             [
              0.8888888888888888,
              "#fdca26"
             ],
             [
              1,
              "#f0f921"
             ]
            ],
            "type": "histogram2d"
           }
          ],
          "histogram2dcontour": [
           {
            "colorbar": {
             "outlinewidth": 0,
             "ticks": ""
            },
            "colorscale": [
             [
              0,
              "#0d0887"
             ],
             [
              0.1111111111111111,
              "#46039f"
             ],
             [
              0.2222222222222222,
              "#7201a8"
             ],
             [
              0.3333333333333333,
              "#9c179e"
             ],
             [
              0.4444444444444444,
              "#bd3786"
             ],
             [
              0.5555555555555556,
              "#d8576b"
             ],
             [
              0.6666666666666666,
              "#ed7953"
             ],
             [
              0.7777777777777778,
              "#fb9f3a"
             ],
             [
              0.8888888888888888,
              "#fdca26"
             ],
             [
              1,
              "#f0f921"
             ]
            ],
            "type": "histogram2dcontour"
           }
          ],
          "mesh3d": [
           {
            "colorbar": {
             "outlinewidth": 0,
             "ticks": ""
            },
            "type": "mesh3d"
           }
          ],
          "parcoords": [
           {
            "line": {
             "colorbar": {
              "outlinewidth": 0,
              "ticks": ""
             }
            },
            "type": "parcoords"
           }
          ],
          "pie": [
           {
            "automargin": true,
            "type": "pie"
           }
          ],
          "scatter": [
           {
            "marker": {
             "colorbar": {
              "outlinewidth": 0,
              "ticks": ""
             }
            },
            "type": "scatter"
           }
          ],
          "scatter3d": [
           {
            "line": {
             "colorbar": {
              "outlinewidth": 0,
              "ticks": ""
             }
            },
            "marker": {
             "colorbar": {
              "outlinewidth": 0,
              "ticks": ""
             }
            },
            "type": "scatter3d"
           }
          ],
          "scattercarpet": [
           {
            "marker": {
             "colorbar": {
              "outlinewidth": 0,
              "ticks": ""
             }
            },
            "type": "scattercarpet"
           }
          ],
          "scattergeo": [
           {
            "marker": {
             "colorbar": {
              "outlinewidth": 0,
              "ticks": ""
             }
            },
            "type": "scattergeo"
           }
          ],
          "scattergl": [
           {
            "marker": {
             "colorbar": {
              "outlinewidth": 0,
              "ticks": ""
             }
            },
            "type": "scattergl"
           }
          ],
          "scattermapbox": [
           {
            "marker": {
             "colorbar": {
              "outlinewidth": 0,
              "ticks": ""
             }
            },
            "type": "scattermapbox"
           }
          ],
          "scatterpolar": [
           {
            "marker": {
             "colorbar": {
              "outlinewidth": 0,
              "ticks": ""
             }
            },
            "type": "scatterpolar"
           }
          ],
          "scatterpolargl": [
           {
            "marker": {
             "colorbar": {
              "outlinewidth": 0,
              "ticks": ""
             }
            },
            "type": "scatterpolargl"
           }
          ],
          "scatterternary": [
           {
            "marker": {
             "colorbar": {
              "outlinewidth": 0,
              "ticks": ""
             }
            },
            "type": "scatterternary"
           }
          ],
          "surface": [
           {
            "colorbar": {
             "outlinewidth": 0,
             "ticks": ""
            },
            "colorscale": [
             [
              0,
              "#0d0887"
             ],
             [
              0.1111111111111111,
              "#46039f"
             ],
             [
              0.2222222222222222,
              "#7201a8"
             ],
             [
              0.3333333333333333,
              "#9c179e"
             ],
             [
              0.4444444444444444,
              "#bd3786"
             ],
             [
              0.5555555555555556,
              "#d8576b"
             ],
             [
              0.6666666666666666,
              "#ed7953"
             ],
             [
              0.7777777777777778,
              "#fb9f3a"
             ],
             [
              0.8888888888888888,
              "#fdca26"
             ],
             [
              1,
              "#f0f921"
             ]
            ],
            "type": "surface"
           }
          ],
          "table": [
           {
            "cells": {
             "fill": {
              "color": "#EBF0F8"
             },
             "line": {
              "color": "white"
             }
            },
            "header": {
             "fill": {
              "color": "#C8D4E3"
             },
             "line": {
              "color": "white"
             }
            },
            "type": "table"
           }
          ]
         },
         "layout": {
          "annotationdefaults": {
           "arrowcolor": "#2a3f5f",
           "arrowhead": 0,
           "arrowwidth": 1
          },
          "autotypenumbers": "strict",
          "coloraxis": {
           "colorbar": {
            "outlinewidth": 0,
            "ticks": ""
           }
          },
          "colorscale": {
           "diverging": [
            [
             0,
             "#8e0152"
            ],
            [
             0.1,
             "#c51b7d"
            ],
            [
             0.2,
             "#de77ae"
            ],
            [
             0.3,
             "#f1b6da"
            ],
            [
             0.4,
             "#fde0ef"
            ],
            [
             0.5,
             "#f7f7f7"
            ],
            [
             0.6,
             "#e6f5d0"
            ],
            [
             0.7,
             "#b8e186"
            ],
            [
             0.8,
             "#7fbc41"
            ],
            [
             0.9,
             "#4d9221"
            ],
            [
             1,
             "#276419"
            ]
           ],
           "sequential": [
            [
             0,
             "#0d0887"
            ],
            [
             0.1111111111111111,
             "#46039f"
            ],
            [
             0.2222222222222222,
             "#7201a8"
            ],
            [
             0.3333333333333333,
             "#9c179e"
            ],
            [
             0.4444444444444444,
             "#bd3786"
            ],
            [
             0.5555555555555556,
             "#d8576b"
            ],
            [
             0.6666666666666666,
             "#ed7953"
            ],
            [
             0.7777777777777778,
             "#fb9f3a"
            ],
            [
             0.8888888888888888,
             "#fdca26"
            ],
            [
             1,
             "#f0f921"
            ]
           ],
           "sequentialminus": [
            [
             0,
             "#0d0887"
            ],
            [
             0.1111111111111111,
             "#46039f"
            ],
            [
             0.2222222222222222,
             "#7201a8"
            ],
            [
             0.3333333333333333,
             "#9c179e"
            ],
            [
             0.4444444444444444,
             "#bd3786"
            ],
            [
             0.5555555555555556,
             "#d8576b"
            ],
            [
             0.6666666666666666,
             "#ed7953"
            ],
            [
             0.7777777777777778,
             "#fb9f3a"
            ],
            [
             0.8888888888888888,
             "#fdca26"
            ],
            [
             1,
             "#f0f921"
            ]
           ]
          },
          "colorway": [
           "#636efa",
           "#EF553B",
           "#00cc96",
           "#ab63fa",
           "#FFA15A",
           "#19d3f3",
           "#FF6692",
           "#B6E880",
           "#FF97FF",
           "#FECB52"
          ],
          "font": {
           "color": "#2a3f5f"
          },
          "geo": {
           "bgcolor": "white",
           "lakecolor": "white",
           "landcolor": "#E5ECF6",
           "showlakes": true,
           "showland": true,
           "subunitcolor": "white"
          },
          "hoverlabel": {
           "align": "left"
          },
          "hovermode": "closest",
          "mapbox": {
           "style": "light"
          },
          "paper_bgcolor": "white",
          "plot_bgcolor": "#E5ECF6",
          "polar": {
           "angularaxis": {
            "gridcolor": "white",
            "linecolor": "white",
            "ticks": ""
           },
           "bgcolor": "#E5ECF6",
           "radialaxis": {
            "gridcolor": "white",
            "linecolor": "white",
            "ticks": ""
           }
          },
          "scene": {
           "xaxis": {
            "backgroundcolor": "#E5ECF6",
            "gridcolor": "white",
            "gridwidth": 2,
            "linecolor": "white",
            "showbackground": true,
            "ticks": "",
            "zerolinecolor": "white"
           },
           "yaxis": {
            "backgroundcolor": "#E5ECF6",
            "gridcolor": "white",
            "gridwidth": 2,
            "linecolor": "white",
            "showbackground": true,
            "ticks": "",
            "zerolinecolor": "white"
           },
           "zaxis": {
            "backgroundcolor": "#E5ECF6",
            "gridcolor": "white",
            "gridwidth": 2,
            "linecolor": "white",
            "showbackground": true,
            "ticks": "",
            "zerolinecolor": "white"
           }
          },
          "shapedefaults": {
           "line": {
            "color": "#2a3f5f"
           }
          },
          "ternary": {
           "aaxis": {
            "gridcolor": "white",
            "linecolor": "white",
            "ticks": ""
           },
           "baxis": {
            "gridcolor": "white",
            "linecolor": "white",
            "ticks": ""
           },
           "bgcolor": "#E5ECF6",
           "caxis": {
            "gridcolor": "white",
            "linecolor": "white",
            "ticks": ""
           }
          },
          "title": {
           "x": 0.05
          },
          "xaxis": {
           "automargin": true,
           "gridcolor": "white",
           "linecolor": "white",
           "ticks": "",
           "title": {
            "standoff": 15
           },
           "zerolinecolor": "white",
           "zerolinewidth": 2
          },
          "yaxis": {
           "automargin": true,
           "gridcolor": "white",
           "linecolor": "white",
           "ticks": "",
           "title": {
            "standoff": 15
           },
           "zerolinecolor": "white",
           "zerolinewidth": 2
          }
         }
        },
        "width": 500,
        "xaxis": {
         "anchor": "y",
         "domain": [
          0,
          1
         ],
         "title": {
          "text": "PERCEPCION_VIOLENCIA"
         }
        },
        "yaxis": {
         "anchor": "x",
         "domain": [
          0,
          1
         ],
         "title": {
          "text": "DELITOS"
         }
        }
       }
      },
      "text/html": [
       "<div>                            <div id=\"2a8f0bf1-a8b0-4901-b222-8f8361cfae4a\" class=\"plotly-graph-div\" style=\"height:400px; width:500px;\"></div>            <script type=\"text/javascript\">                require([\"plotly\"], function(Plotly) {                    window.PLOTLYENV=window.PLOTLYENV || {};                                    if (document.getElementById(\"2a8f0bf1-a8b0-4901-b222-8f8361cfae4a\")) {                    Plotly.newPlot(                        \"2a8f0bf1-a8b0-4901-b222-8f8361cfae4a\",                        [{\"hovertemplate\":\"MUNICIPIO=Cajeme<br>PERCEPCION_VIOLENCIA=%{x}<br>DELITOS=%{y}<extra></extra>\",\"legendgroup\":\"Cajeme\",\"marker\":{\"color\":\"#636efa\",\"symbol\":\"circle\"},\"mode\":\"markers\",\"name\":\"Cajeme\",\"orientation\":\"v\",\"showlegend\":true,\"x\":[0.9477611940298507,0.9302325581395349,0.9457364341085271],\"xaxis\":\"x\",\"y\":[0,0,1],\"yaxis\":\"y\",\"type\":\"scatter\"},{\"hovertemplate\":\"MUNICIPIO=Hermosillo<br>PERCEPCION_VIOLENCIA=%{x}<br>DELITOS=%{y}<extra></extra>\",\"legendgroup\":\"Hermosillo\",\"marker\":{\"color\":\"#EF553B\",\"symbol\":\"circle\"},\"mode\":\"markers\",\"name\":\"Hermosillo\",\"orientation\":\"v\",\"showlegend\":true,\"x\":[0.6470588235294118,0.6466666666666666,0.6875],\"xaxis\":\"x\",\"y\":[1,1,0],\"yaxis\":\"y\",\"type\":\"scatter\"},{\"hovertemplate\":\"MUNICIPIO=Nogales<br>PERCEPCION_VIOLENCIA=%{x}<br>DELITOS=%{y}<extra></extra>\",\"legendgroup\":\"Nogales\",\"marker\":{\"color\":\"#00cc96\",\"symbol\":\"circle\"},\"mode\":\"markers\",\"name\":\"Nogales\",\"orientation\":\"v\",\"showlegend\":true,\"x\":[0.5736434108527132,0.6614173228346457,0.549618320610687],\"xaxis\":\"x\",\"y\":[0,3,1],\"yaxis\":\"y\",\"type\":\"scatter\"}],                        {\"template\":{\"data\":{\"bar\":[{\"error_x\":{\"color\":\"#2a3f5f\"},\"error_y\":{\"color\":\"#2a3f5f\"},\"marker\":{\"line\":{\"color\":\"#E5ECF6\",\"width\":0.5},\"pattern\":{\"fillmode\":\"overlay\",\"size\":10,\"solidity\":0.2}},\"type\":\"bar\"}],\"barpolar\":[{\"marker\":{\"line\":{\"color\":\"#E5ECF6\",\"width\":0.5},\"pattern\":{\"fillmode\":\"overlay\",\"size\":10,\"solidity\":0.2}},\"type\":\"barpolar\"}],\"carpet\":[{\"aaxis\":{\"endlinecolor\":\"#2a3f5f\",\"gridcolor\":\"white\",\"linecolor\":\"white\",\"minorgridcolor\":\"white\",\"startlinecolor\":\"#2a3f5f\"},\"baxis\":{\"endlinecolor\":\"#2a3f5f\",\"gridcolor\":\"white\",\"linecolor\":\"white\",\"minorgridcolor\":\"white\",\"startlinecolor\":\"#2a3f5f\"},\"type\":\"carpet\"}],\"choropleth\":[{\"colorbar\":{\"outlinewidth\":0,\"ticks\":\"\"},\"type\":\"choropleth\"}],\"contour\":[{\"colorbar\":{\"outlinewidth\":0,\"ticks\":\"\"},\"colorscale\":[[0.0,\"#0d0887\"],[0.1111111111111111,\"#46039f\"],[0.2222222222222222,\"#7201a8\"],[0.3333333333333333,\"#9c179e\"],[0.4444444444444444,\"#bd3786\"],[0.5555555555555556,\"#d8576b\"],[0.6666666666666666,\"#ed7953\"],[0.7777777777777778,\"#fb9f3a\"],[0.8888888888888888,\"#fdca26\"],[1.0,\"#f0f921\"]],\"type\":\"contour\"}],\"contourcarpet\":[{\"colorbar\":{\"outlinewidth\":0,\"ticks\":\"\"},\"type\":\"contourcarpet\"}],\"heatmap\":[{\"colorbar\":{\"outlinewidth\":0,\"ticks\":\"\"},\"colorscale\":[[0.0,\"#0d0887\"],[0.1111111111111111,\"#46039f\"],[0.2222222222222222,\"#7201a8\"],[0.3333333333333333,\"#9c179e\"],[0.4444444444444444,\"#bd3786\"],[0.5555555555555556,\"#d8576b\"],[0.6666666666666666,\"#ed7953\"],[0.7777777777777778,\"#fb9f3a\"],[0.8888888888888888,\"#fdca26\"],[1.0,\"#f0f921\"]],\"type\":\"heatmap\"}],\"heatmapgl\":[{\"colorbar\":{\"outlinewidth\":0,\"ticks\":\"\"},\"colorscale\":[[0.0,\"#0d0887\"],[0.1111111111111111,\"#46039f\"],[0.2222222222222222,\"#7201a8\"],[0.3333333333333333,\"#9c179e\"],[0.4444444444444444,\"#bd3786\"],[0.5555555555555556,\"#d8576b\"],[0.6666666666666666,\"#ed7953\"],[0.7777777777777778,\"#fb9f3a\"],[0.8888888888888888,\"#fdca26\"],[1.0,\"#f0f921\"]],\"type\":\"heatmapgl\"}],\"histogram\":[{\"marker\":{\"pattern\":{\"fillmode\":\"overlay\",\"size\":10,\"solidity\":0.2}},\"type\":\"histogram\"}],\"histogram2d\":[{\"colorbar\":{\"outlinewidth\":0,\"ticks\":\"\"},\"colorscale\":[[0.0,\"#0d0887\"],[0.1111111111111111,\"#46039f\"],[0.2222222222222222,\"#7201a8\"],[0.3333333333333333,\"#9c179e\"],[0.4444444444444444,\"#bd3786\"],[0.5555555555555556,\"#d8576b\"],[0.6666666666666666,\"#ed7953\"],[0.7777777777777778,\"#fb9f3a\"],[0.8888888888888888,\"#fdca26\"],[1.0,\"#f0f921\"]],\"type\":\"histogram2d\"}],\"histogram2dcontour\":[{\"colorbar\":{\"outlinewidth\":0,\"ticks\":\"\"},\"colorscale\":[[0.0,\"#0d0887\"],[0.1111111111111111,\"#46039f\"],[0.2222222222222222,\"#7201a8\"],[0.3333333333333333,\"#9c179e\"],[0.4444444444444444,\"#bd3786\"],[0.5555555555555556,\"#d8576b\"],[0.6666666666666666,\"#ed7953\"],[0.7777777777777778,\"#fb9f3a\"],[0.8888888888888888,\"#fdca26\"],[1.0,\"#f0f921\"]],\"type\":\"histogram2dcontour\"}],\"mesh3d\":[{\"colorbar\":{\"outlinewidth\":0,\"ticks\":\"\"},\"type\":\"mesh3d\"}],\"parcoords\":[{\"line\":{\"colorbar\":{\"outlinewidth\":0,\"ticks\":\"\"}},\"type\":\"parcoords\"}],\"pie\":[{\"automargin\":true,\"type\":\"pie\"}],\"scatter\":[{\"marker\":{\"colorbar\":{\"outlinewidth\":0,\"ticks\":\"\"}},\"type\":\"scatter\"}],\"scatter3d\":[{\"line\":{\"colorbar\":{\"outlinewidth\":0,\"ticks\":\"\"}},\"marker\":{\"colorbar\":{\"outlinewidth\":0,\"ticks\":\"\"}},\"type\":\"scatter3d\"}],\"scattercarpet\":[{\"marker\":{\"colorbar\":{\"outlinewidth\":0,\"ticks\":\"\"}},\"type\":\"scattercarpet\"}],\"scattergeo\":[{\"marker\":{\"colorbar\":{\"outlinewidth\":0,\"ticks\":\"\"}},\"type\":\"scattergeo\"}],\"scattergl\":[{\"marker\":{\"colorbar\":{\"outlinewidth\":0,\"ticks\":\"\"}},\"type\":\"scattergl\"}],\"scattermapbox\":[{\"marker\":{\"colorbar\":{\"outlinewidth\":0,\"ticks\":\"\"}},\"type\":\"scattermapbox\"}],\"scatterpolar\":[{\"marker\":{\"colorbar\":{\"outlinewidth\":0,\"ticks\":\"\"}},\"type\":\"scatterpolar\"}],\"scatterpolargl\":[{\"marker\":{\"colorbar\":{\"outlinewidth\":0,\"ticks\":\"\"}},\"type\":\"scatterpolargl\"}],\"scatterternary\":[{\"marker\":{\"colorbar\":{\"outlinewidth\":0,\"ticks\":\"\"}},\"type\":\"scatterternary\"}],\"surface\":[{\"colorbar\":{\"outlinewidth\":0,\"ticks\":\"\"},\"colorscale\":[[0.0,\"#0d0887\"],[0.1111111111111111,\"#46039f\"],[0.2222222222222222,\"#7201a8\"],[0.3333333333333333,\"#9c179e\"],[0.4444444444444444,\"#bd3786\"],[0.5555555555555556,\"#d8576b\"],[0.6666666666666666,\"#ed7953\"],[0.7777777777777778,\"#fb9f3a\"],[0.8888888888888888,\"#fdca26\"],[1.0,\"#f0f921\"]],\"type\":\"surface\"}],\"table\":[{\"cells\":{\"fill\":{\"color\":\"#EBF0F8\"},\"line\":{\"color\":\"white\"}},\"header\":{\"fill\":{\"color\":\"#C8D4E3\"},\"line\":{\"color\":\"white\"}},\"type\":\"table\"}]},\"layout\":{\"annotationdefaults\":{\"arrowcolor\":\"#2a3f5f\",\"arrowhead\":0,\"arrowwidth\":1},\"autotypenumbers\":\"strict\",\"coloraxis\":{\"colorbar\":{\"outlinewidth\":0,\"ticks\":\"\"}},\"colorscale\":{\"diverging\":[[0,\"#8e0152\"],[0.1,\"#c51b7d\"],[0.2,\"#de77ae\"],[0.3,\"#f1b6da\"],[0.4,\"#fde0ef\"],[0.5,\"#f7f7f7\"],[0.6,\"#e6f5d0\"],[0.7,\"#b8e186\"],[0.8,\"#7fbc41\"],[0.9,\"#4d9221\"],[1,\"#276419\"]],\"sequential\":[[0.0,\"#0d0887\"],[0.1111111111111111,\"#46039f\"],[0.2222222222222222,\"#7201a8\"],[0.3333333333333333,\"#9c179e\"],[0.4444444444444444,\"#bd3786\"],[0.5555555555555556,\"#d8576b\"],[0.6666666666666666,\"#ed7953\"],[0.7777777777777778,\"#fb9f3a\"],[0.8888888888888888,\"#fdca26\"],[1.0,\"#f0f921\"]],\"sequentialminus\":[[0.0,\"#0d0887\"],[0.1111111111111111,\"#46039f\"],[0.2222222222222222,\"#7201a8\"],[0.3333333333333333,\"#9c179e\"],[0.4444444444444444,\"#bd3786\"],[0.5555555555555556,\"#d8576b\"],[0.6666666666666666,\"#ed7953\"],[0.7777777777777778,\"#fb9f3a\"],[0.8888888888888888,\"#fdca26\"],[1.0,\"#f0f921\"]]},\"colorway\":[\"#636efa\",\"#EF553B\",\"#00cc96\",\"#ab63fa\",\"#FFA15A\",\"#19d3f3\",\"#FF6692\",\"#B6E880\",\"#FF97FF\",\"#FECB52\"],\"font\":{\"color\":\"#2a3f5f\"},\"geo\":{\"bgcolor\":\"white\",\"lakecolor\":\"white\",\"landcolor\":\"#E5ECF6\",\"showlakes\":true,\"showland\":true,\"subunitcolor\":\"white\"},\"hoverlabel\":{\"align\":\"left\"},\"hovermode\":\"closest\",\"mapbox\":{\"style\":\"light\"},\"paper_bgcolor\":\"white\",\"plot_bgcolor\":\"#E5ECF6\",\"polar\":{\"angularaxis\":{\"gridcolor\":\"white\",\"linecolor\":\"white\",\"ticks\":\"\"},\"bgcolor\":\"#E5ECF6\",\"radialaxis\":{\"gridcolor\":\"white\",\"linecolor\":\"white\",\"ticks\":\"\"}},\"scene\":{\"xaxis\":{\"backgroundcolor\":\"#E5ECF6\",\"gridcolor\":\"white\",\"gridwidth\":2,\"linecolor\":\"white\",\"showbackground\":true,\"ticks\":\"\",\"zerolinecolor\":\"white\"},\"yaxis\":{\"backgroundcolor\":\"#E5ECF6\",\"gridcolor\":\"white\",\"gridwidth\":2,\"linecolor\":\"white\",\"showbackground\":true,\"ticks\":\"\",\"zerolinecolor\":\"white\"},\"zaxis\":{\"backgroundcolor\":\"#E5ECF6\",\"gridcolor\":\"white\",\"gridwidth\":2,\"linecolor\":\"white\",\"showbackground\":true,\"ticks\":\"\",\"zerolinecolor\":\"white\"}},\"shapedefaults\":{\"line\":{\"color\":\"#2a3f5f\"}},\"ternary\":{\"aaxis\":{\"gridcolor\":\"white\",\"linecolor\":\"white\",\"ticks\":\"\"},\"baxis\":{\"gridcolor\":\"white\",\"linecolor\":\"white\",\"ticks\":\"\"},\"bgcolor\":\"#E5ECF6\",\"caxis\":{\"gridcolor\":\"white\",\"linecolor\":\"white\",\"ticks\":\"\"}},\"title\":{\"x\":0.05},\"xaxis\":{\"automargin\":true,\"gridcolor\":\"white\",\"linecolor\":\"white\",\"ticks\":\"\",\"title\":{\"standoff\":15},\"zerolinecolor\":\"white\",\"zerolinewidth\":2},\"yaxis\":{\"automargin\":true,\"gridcolor\":\"white\",\"linecolor\":\"white\",\"ticks\":\"\",\"title\":{\"standoff\":15},\"zerolinecolor\":\"white\",\"zerolinewidth\":2}}},\"xaxis\":{\"anchor\":\"y\",\"domain\":[0.0,1.0],\"title\":{\"text\":\"PERCEPCION_VIOLENCIA\"}},\"yaxis\":{\"anchor\":\"x\",\"domain\":[0.0,1.0],\"title\":{\"text\":\"DELITOS\"}},\"legend\":{\"title\":{\"text\":\"MUNICIPIO\"},\"tracegroupgap\":0},\"margin\":{\"t\":60},\"width\":500,\"height\":400},                        {\"responsive\": true}                    ).then(function(){\n",
       "                            \n",
       "var gd = document.getElementById('2a8f0bf1-a8b0-4901-b222-8f8361cfae4a');\n",
       "var x = new MutationObserver(function (mutations, observer) {{\n",
       "        var display = window.getComputedStyle(gd).display;\n",
       "        if (!display || display === 'none') {{\n",
       "            console.log([gd, 'removed!']);\n",
       "            Plotly.purge(gd);\n",
       "            observer.disconnect();\n",
       "        }}\n",
       "}});\n",
       "\n",
       "// Listen for the removal of the full notebook cells\n",
       "var notebookContainer = gd.closest('#notebook-container');\n",
       "if (notebookContainer) {{\n",
       "    x.observe(notebookContainer, {childList: true});\n",
       "}}\n",
       "\n",
       "// Listen for the clearing of the current output cell\n",
       "var outputEl = gd.closest('.output');\n",
       "if (outputEl) {{\n",
       "    x.observe(outputEl, {childList: true});\n",
       "}}\n",
       "\n",
       "                        })                };                });            </script>        </div>"
      ]
     },
     "metadata": {},
     "output_type": "display_data"
    }
   ],
   "source": [
    "import plotly.express as px\n",
    "fig = px.scatter(df, x=\"PERCEPCION_VIOLENCIA\", y=\"DELITOS\", color=\"MUNICIPIO\")\n",
    "fig.update_layout(width=500,\n",
    "                  height=400\n",
    ")\n",
    "fig.show()"
   ]
  },
  {
   "cell_type": "code",
   "execution_count": 62,
   "id": "ae7dade5",
   "metadata": {},
   "outputs": [
    {
     "data": {
      "application/vnd.plotly.v1+json": {
       "config": {
        "plotlyServerURL": "https://plot.ly"
       },
       "data": [
        {
         "alignmentgroup": "True",
         "bingroup": "x",
         "histfunc": "sum",
         "hovertemplate": "FECHA=%{x}<br>sum of DELITOS=%{y}<extra></extra>",
         "legendgroup": "",
         "marker": {
          "color": "#636efa",
          "pattern": {
           "shape": ""
          }
         },
         "name": "",
         "offsetgroup": "",
         "orientation": "v",
         "showlegend": false,
         "type": "histogram",
         "x": [
          "2022-01-01T00:00:00",
          "2022-01-01T00:00:00",
          "2022-01-01T00:00:00",
          "2022-04-01T00:00:00",
          "2022-04-01T00:00:00",
          "2022-04-01T00:00:00",
          "2022-07-01T00:00:00",
          "2022-07-01T00:00:00",
          "2022-07-01T00:00:00"
         ],
         "xaxis": "x",
         "y": [
          0,
          1,
          0,
          0,
          1,
          3,
          1,
          0,
          1
         ],
         "yaxis": "y"
        }
       ],
       "layout": {
        "barmode": "relative",
        "height": 400,
        "legend": {
         "tracegroupgap": 0
        },
        "margin": {
         "t": 60
        },
        "template": {
         "data": {
          "bar": [
           {
            "error_x": {
             "color": "#2a3f5f"
            },
            "error_y": {
             "color": "#2a3f5f"
            },
            "marker": {
             "line": {
              "color": "#E5ECF6",
              "width": 0.5
             },
             "pattern": {
              "fillmode": "overlay",
              "size": 10,
              "solidity": 0.2
             }
            },
            "type": "bar"
           }
          ],
          "barpolar": [
           {
            "marker": {
             "line": {
              "color": "#E5ECF6",
              "width": 0.5
             },
             "pattern": {
              "fillmode": "overlay",
              "size": 10,
              "solidity": 0.2
             }
            },
            "type": "barpolar"
           }
          ],
          "carpet": [
           {
            "aaxis": {
             "endlinecolor": "#2a3f5f",
             "gridcolor": "white",
             "linecolor": "white",
             "minorgridcolor": "white",
             "startlinecolor": "#2a3f5f"
            },
            "baxis": {
             "endlinecolor": "#2a3f5f",
             "gridcolor": "white",
             "linecolor": "white",
             "minorgridcolor": "white",
             "startlinecolor": "#2a3f5f"
            },
            "type": "carpet"
           }
          ],
          "choropleth": [
           {
            "colorbar": {
             "outlinewidth": 0,
             "ticks": ""
            },
            "type": "choropleth"
           }
          ],
          "contour": [
           {
            "colorbar": {
             "outlinewidth": 0,
             "ticks": ""
            },
            "colorscale": [
             [
              0,
              "#0d0887"
             ],
             [
              0.1111111111111111,
              "#46039f"
             ],
             [
              0.2222222222222222,
              "#7201a8"
             ],
             [
              0.3333333333333333,
              "#9c179e"
             ],
             [
              0.4444444444444444,
              "#bd3786"
             ],
             [
              0.5555555555555556,
              "#d8576b"
             ],
             [
              0.6666666666666666,
              "#ed7953"
             ],
             [
              0.7777777777777778,
              "#fb9f3a"
             ],
             [
              0.8888888888888888,
              "#fdca26"
             ],
             [
              1,
              "#f0f921"
             ]
            ],
            "type": "contour"
           }
          ],
          "contourcarpet": [
           {
            "colorbar": {
             "outlinewidth": 0,
             "ticks": ""
            },
            "type": "contourcarpet"
           }
          ],
          "heatmap": [
           {
            "colorbar": {
             "outlinewidth": 0,
             "ticks": ""
            },
            "colorscale": [
             [
              0,
              "#0d0887"
             ],
             [
              0.1111111111111111,
              "#46039f"
             ],
             [
              0.2222222222222222,
              "#7201a8"
             ],
             [
              0.3333333333333333,
              "#9c179e"
             ],
             [
              0.4444444444444444,
              "#bd3786"
             ],
             [
              0.5555555555555556,
              "#d8576b"
             ],
             [
              0.6666666666666666,
              "#ed7953"
             ],
             [
              0.7777777777777778,
              "#fb9f3a"
             ],
             [
              0.8888888888888888,
              "#fdca26"
             ],
             [
              1,
              "#f0f921"
             ]
            ],
            "type": "heatmap"
           }
          ],
          "heatmapgl": [
           {
            "colorbar": {
             "outlinewidth": 0,
             "ticks": ""
            },
            "colorscale": [
             [
              0,
              "#0d0887"
             ],
             [
              0.1111111111111111,
              "#46039f"
             ],
             [
              0.2222222222222222,
              "#7201a8"
             ],
             [
              0.3333333333333333,
              "#9c179e"
             ],
             [
              0.4444444444444444,
              "#bd3786"
             ],
             [
              0.5555555555555556,
              "#d8576b"
             ],
             [
              0.6666666666666666,
              "#ed7953"
             ],
             [
              0.7777777777777778,
              "#fb9f3a"
             ],
             [
              0.8888888888888888,
              "#fdca26"
             ],
             [
              1,
              "#f0f921"
             ]
            ],
            "type": "heatmapgl"
           }
          ],
          "histogram": [
           {
            "marker": {
             "pattern": {
              "fillmode": "overlay",
              "size": 10,
              "solidity": 0.2
             }
            },
            "type": "histogram"
           }
          ],
          "histogram2d": [
           {
            "colorbar": {
             "outlinewidth": 0,
             "ticks": ""
            },
            "colorscale": [
             [
              0,
              "#0d0887"
             ],
             [
              0.1111111111111111,
              "#46039f"
             ],
             [
              0.2222222222222222,
              "#7201a8"
             ],
             [
              0.3333333333333333,
              "#9c179e"
             ],
             [
              0.4444444444444444,
              "#bd3786"
             ],
             [
              0.5555555555555556,
              "#d8576b"
             ],
             [
              0.6666666666666666,
              "#ed7953"
             ],
             [
              0.7777777777777778,
              "#fb9f3a"
             ],
             [
              0.8888888888888888,
              "#fdca26"
             ],
             [
              1,
              "#f0f921"
             ]
            ],
            "type": "histogram2d"
           }
          ],
          "histogram2dcontour": [
           {
            "colorbar": {
             "outlinewidth": 0,
             "ticks": ""
            },
            "colorscale": [
             [
              0,
              "#0d0887"
             ],
             [
              0.1111111111111111,
              "#46039f"
             ],
             [
              0.2222222222222222,
              "#7201a8"
             ],
             [
              0.3333333333333333,
              "#9c179e"
             ],
             [
              0.4444444444444444,
              "#bd3786"
             ],
             [
              0.5555555555555556,
              "#d8576b"
             ],
             [
              0.6666666666666666,
              "#ed7953"
             ],
             [
              0.7777777777777778,
              "#fb9f3a"
             ],
             [
              0.8888888888888888,
              "#fdca26"
             ],
             [
              1,
              "#f0f921"
             ]
            ],
            "type": "histogram2dcontour"
           }
          ],
          "mesh3d": [
           {
            "colorbar": {
             "outlinewidth": 0,
             "ticks": ""
            },
            "type": "mesh3d"
           }
          ],
          "parcoords": [
           {
            "line": {
             "colorbar": {
              "outlinewidth": 0,
              "ticks": ""
             }
            },
            "type": "parcoords"
           }
          ],
          "pie": [
           {
            "automargin": true,
            "type": "pie"
           }
          ],
          "scatter": [
           {
            "marker": {
             "colorbar": {
              "outlinewidth": 0,
              "ticks": ""
             }
            },
            "type": "scatter"
           }
          ],
          "scatter3d": [
           {
            "line": {
             "colorbar": {
              "outlinewidth": 0,
              "ticks": ""
             }
            },
            "marker": {
             "colorbar": {
              "outlinewidth": 0,
              "ticks": ""
             }
            },
            "type": "scatter3d"
           }
          ],
          "scattercarpet": [
           {
            "marker": {
             "colorbar": {
              "outlinewidth": 0,
              "ticks": ""
             }
            },
            "type": "scattercarpet"
           }
          ],
          "scattergeo": [
           {
            "marker": {
             "colorbar": {
              "outlinewidth": 0,
              "ticks": ""
             }
            },
            "type": "scattergeo"
           }
          ],
          "scattergl": [
           {
            "marker": {
             "colorbar": {
              "outlinewidth": 0,
              "ticks": ""
             }
            },
            "type": "scattergl"
           }
          ],
          "scattermapbox": [
           {
            "marker": {
             "colorbar": {
              "outlinewidth": 0,
              "ticks": ""
             }
            },
            "type": "scattermapbox"
           }
          ],
          "scatterpolar": [
           {
            "marker": {
             "colorbar": {
              "outlinewidth": 0,
              "ticks": ""
             }
            },
            "type": "scatterpolar"
           }
          ],
          "scatterpolargl": [
           {
            "marker": {
             "colorbar": {
              "outlinewidth": 0,
              "ticks": ""
             }
            },
            "type": "scatterpolargl"
           }
          ],
          "scatterternary": [
           {
            "marker": {
             "colorbar": {
              "outlinewidth": 0,
              "ticks": ""
             }
            },
            "type": "scatterternary"
           }
          ],
          "surface": [
           {
            "colorbar": {
             "outlinewidth": 0,
             "ticks": ""
            },
            "colorscale": [
             [
              0,
              "#0d0887"
             ],
             [
              0.1111111111111111,
              "#46039f"
             ],
             [
              0.2222222222222222,
              "#7201a8"
             ],
             [
              0.3333333333333333,
              "#9c179e"
             ],
             [
              0.4444444444444444,
              "#bd3786"
             ],
             [
              0.5555555555555556,
              "#d8576b"
             ],
             [
              0.6666666666666666,
              "#ed7953"
             ],
             [
              0.7777777777777778,
              "#fb9f3a"
             ],
             [
              0.8888888888888888,
              "#fdca26"
             ],
             [
              1,
              "#f0f921"
             ]
            ],
            "type": "surface"
           }
          ],
          "table": [
           {
            "cells": {
             "fill": {
              "color": "#EBF0F8"
             },
             "line": {
              "color": "white"
             }
            },
            "header": {
             "fill": {
              "color": "#C8D4E3"
             },
             "line": {
              "color": "white"
             }
            },
            "type": "table"
           }
          ]
         },
         "layout": {
          "annotationdefaults": {
           "arrowcolor": "#2a3f5f",
           "arrowhead": 0,
           "arrowwidth": 1
          },
          "autotypenumbers": "strict",
          "coloraxis": {
           "colorbar": {
            "outlinewidth": 0,
            "ticks": ""
           }
          },
          "colorscale": {
           "diverging": [
            [
             0,
             "#8e0152"
            ],
            [
             0.1,
             "#c51b7d"
            ],
            [
             0.2,
             "#de77ae"
            ],
            [
             0.3,
             "#f1b6da"
            ],
            [
             0.4,
             "#fde0ef"
            ],
            [
             0.5,
             "#f7f7f7"
            ],
            [
             0.6,
             "#e6f5d0"
            ],
            [
             0.7,
             "#b8e186"
            ],
            [
             0.8,
             "#7fbc41"
            ],
            [
             0.9,
             "#4d9221"
            ],
            [
             1,
             "#276419"
            ]
           ],
           "sequential": [
            [
             0,
             "#0d0887"
            ],
            [
             0.1111111111111111,
             "#46039f"
            ],
            [
             0.2222222222222222,
             "#7201a8"
            ],
            [
             0.3333333333333333,
             "#9c179e"
            ],
            [
             0.4444444444444444,
             "#bd3786"
            ],
            [
             0.5555555555555556,
             "#d8576b"
            ],
            [
             0.6666666666666666,
             "#ed7953"
            ],
            [
             0.7777777777777778,
             "#fb9f3a"
            ],
            [
             0.8888888888888888,
             "#fdca26"
            ],
            [
             1,
             "#f0f921"
            ]
           ],
           "sequentialminus": [
            [
             0,
             "#0d0887"
            ],
            [
             0.1111111111111111,
             "#46039f"
            ],
            [
             0.2222222222222222,
             "#7201a8"
            ],
            [
             0.3333333333333333,
             "#9c179e"
            ],
            [
             0.4444444444444444,
             "#bd3786"
            ],
            [
             0.5555555555555556,
             "#d8576b"
            ],
            [
             0.6666666666666666,
             "#ed7953"
            ],
            [
             0.7777777777777778,
             "#fb9f3a"
            ],
            [
             0.8888888888888888,
             "#fdca26"
            ],
            [
             1,
             "#f0f921"
            ]
           ]
          },
          "colorway": [
           "#636efa",
           "#EF553B",
           "#00cc96",
           "#ab63fa",
           "#FFA15A",
           "#19d3f3",
           "#FF6692",
           "#B6E880",
           "#FF97FF",
           "#FECB52"
          ],
          "font": {
           "color": "#2a3f5f"
          },
          "geo": {
           "bgcolor": "white",
           "lakecolor": "white",
           "landcolor": "#E5ECF6",
           "showlakes": true,
           "showland": true,
           "subunitcolor": "white"
          },
          "hoverlabel": {
           "align": "left"
          },
          "hovermode": "closest",
          "mapbox": {
           "style": "light"
          },
          "paper_bgcolor": "white",
          "plot_bgcolor": "#E5ECF6",
          "polar": {
           "angularaxis": {
            "gridcolor": "white",
            "linecolor": "white",
            "ticks": ""
           },
           "bgcolor": "#E5ECF6",
           "radialaxis": {
            "gridcolor": "white",
            "linecolor": "white",
            "ticks": ""
           }
          },
          "scene": {
           "xaxis": {
            "backgroundcolor": "#E5ECF6",
            "gridcolor": "white",
            "gridwidth": 2,
            "linecolor": "white",
            "showbackground": true,
            "ticks": "",
            "zerolinecolor": "white"
           },
           "yaxis": {
            "backgroundcolor": "#E5ECF6",
            "gridcolor": "white",
            "gridwidth": 2,
            "linecolor": "white",
            "showbackground": true,
            "ticks": "",
            "zerolinecolor": "white"
           },
           "zaxis": {
            "backgroundcolor": "#E5ECF6",
            "gridcolor": "white",
            "gridwidth": 2,
            "linecolor": "white",
            "showbackground": true,
            "ticks": "",
            "zerolinecolor": "white"
           }
          },
          "shapedefaults": {
           "line": {
            "color": "#2a3f5f"
           }
          },
          "ternary": {
           "aaxis": {
            "gridcolor": "white",
            "linecolor": "white",
            "ticks": ""
           },
           "baxis": {
            "gridcolor": "white",
            "linecolor": "white",
            "ticks": ""
           },
           "bgcolor": "#E5ECF6",
           "caxis": {
            "gridcolor": "white",
            "linecolor": "white",
            "ticks": ""
           }
          },
          "title": {
           "x": 0.05
          },
          "xaxis": {
           "automargin": true,
           "gridcolor": "white",
           "linecolor": "white",
           "ticks": "",
           "title": {
            "standoff": 15
           },
           "zerolinecolor": "white",
           "zerolinewidth": 2
          },
          "yaxis": {
           "automargin": true,
           "gridcolor": "white",
           "linecolor": "white",
           "ticks": "",
           "title": {
            "standoff": 15
           },
           "zerolinecolor": "white",
           "zerolinewidth": 2
          }
         }
        },
        "width": 500,
        "xaxis": {
         "anchor": "y",
         "domain": [
          0,
          1
         ],
         "title": {
          "text": "FECHA"
         }
        },
        "yaxis": {
         "anchor": "x",
         "domain": [
          0,
          1
         ],
         "title": {
          "text": "sum of DELITOS"
         }
        }
       }
      },
      "text/html": [
       "<div>                            <div id=\"eb28fe19-0fd6-4009-9e6b-1eb3063da12b\" class=\"plotly-graph-div\" style=\"height:400px; width:500px;\"></div>            <script type=\"text/javascript\">                require([\"plotly\"], function(Plotly) {                    window.PLOTLYENV=window.PLOTLYENV || {};                                    if (document.getElementById(\"eb28fe19-0fd6-4009-9e6b-1eb3063da12b\")) {                    Plotly.newPlot(                        \"eb28fe19-0fd6-4009-9e6b-1eb3063da12b\",                        [{\"alignmentgroup\":\"True\",\"bingroup\":\"x\",\"histfunc\":\"sum\",\"hovertemplate\":\"FECHA=%{x}<br>sum of DELITOS=%{y}<extra></extra>\",\"legendgroup\":\"\",\"marker\":{\"color\":\"#636efa\",\"pattern\":{\"shape\":\"\"}},\"name\":\"\",\"offsetgroup\":\"\",\"orientation\":\"v\",\"showlegend\":false,\"x\":[\"2022-01-01T00:00:00\",\"2022-01-01T00:00:00\",\"2022-01-01T00:00:00\",\"2022-04-01T00:00:00\",\"2022-04-01T00:00:00\",\"2022-04-01T00:00:00\",\"2022-07-01T00:00:00\",\"2022-07-01T00:00:00\",\"2022-07-01T00:00:00\"],\"xaxis\":\"x\",\"y\":[0,1,0,0,1,3,1,0,1],\"yaxis\":\"y\",\"type\":\"histogram\"}],                        {\"template\":{\"data\":{\"bar\":[{\"error_x\":{\"color\":\"#2a3f5f\"},\"error_y\":{\"color\":\"#2a3f5f\"},\"marker\":{\"line\":{\"color\":\"#E5ECF6\",\"width\":0.5},\"pattern\":{\"fillmode\":\"overlay\",\"size\":10,\"solidity\":0.2}},\"type\":\"bar\"}],\"barpolar\":[{\"marker\":{\"line\":{\"color\":\"#E5ECF6\",\"width\":0.5},\"pattern\":{\"fillmode\":\"overlay\",\"size\":10,\"solidity\":0.2}},\"type\":\"barpolar\"}],\"carpet\":[{\"aaxis\":{\"endlinecolor\":\"#2a3f5f\",\"gridcolor\":\"white\",\"linecolor\":\"white\",\"minorgridcolor\":\"white\",\"startlinecolor\":\"#2a3f5f\"},\"baxis\":{\"endlinecolor\":\"#2a3f5f\",\"gridcolor\":\"white\",\"linecolor\":\"white\",\"minorgridcolor\":\"white\",\"startlinecolor\":\"#2a3f5f\"},\"type\":\"carpet\"}],\"choropleth\":[{\"colorbar\":{\"outlinewidth\":0,\"ticks\":\"\"},\"type\":\"choropleth\"}],\"contour\":[{\"colorbar\":{\"outlinewidth\":0,\"ticks\":\"\"},\"colorscale\":[[0.0,\"#0d0887\"],[0.1111111111111111,\"#46039f\"],[0.2222222222222222,\"#7201a8\"],[0.3333333333333333,\"#9c179e\"],[0.4444444444444444,\"#bd3786\"],[0.5555555555555556,\"#d8576b\"],[0.6666666666666666,\"#ed7953\"],[0.7777777777777778,\"#fb9f3a\"],[0.8888888888888888,\"#fdca26\"],[1.0,\"#f0f921\"]],\"type\":\"contour\"}],\"contourcarpet\":[{\"colorbar\":{\"outlinewidth\":0,\"ticks\":\"\"},\"type\":\"contourcarpet\"}],\"heatmap\":[{\"colorbar\":{\"outlinewidth\":0,\"ticks\":\"\"},\"colorscale\":[[0.0,\"#0d0887\"],[0.1111111111111111,\"#46039f\"],[0.2222222222222222,\"#7201a8\"],[0.3333333333333333,\"#9c179e\"],[0.4444444444444444,\"#bd3786\"],[0.5555555555555556,\"#d8576b\"],[0.6666666666666666,\"#ed7953\"],[0.7777777777777778,\"#fb9f3a\"],[0.8888888888888888,\"#fdca26\"],[1.0,\"#f0f921\"]],\"type\":\"heatmap\"}],\"heatmapgl\":[{\"colorbar\":{\"outlinewidth\":0,\"ticks\":\"\"},\"colorscale\":[[0.0,\"#0d0887\"],[0.1111111111111111,\"#46039f\"],[0.2222222222222222,\"#7201a8\"],[0.3333333333333333,\"#9c179e\"],[0.4444444444444444,\"#bd3786\"],[0.5555555555555556,\"#d8576b\"],[0.6666666666666666,\"#ed7953\"],[0.7777777777777778,\"#fb9f3a\"],[0.8888888888888888,\"#fdca26\"],[1.0,\"#f0f921\"]],\"type\":\"heatmapgl\"}],\"histogram\":[{\"marker\":{\"pattern\":{\"fillmode\":\"overlay\",\"size\":10,\"solidity\":0.2}},\"type\":\"histogram\"}],\"histogram2d\":[{\"colorbar\":{\"outlinewidth\":0,\"ticks\":\"\"},\"colorscale\":[[0.0,\"#0d0887\"],[0.1111111111111111,\"#46039f\"],[0.2222222222222222,\"#7201a8\"],[0.3333333333333333,\"#9c179e\"],[0.4444444444444444,\"#bd3786\"],[0.5555555555555556,\"#d8576b\"],[0.6666666666666666,\"#ed7953\"],[0.7777777777777778,\"#fb9f3a\"],[0.8888888888888888,\"#fdca26\"],[1.0,\"#f0f921\"]],\"type\":\"histogram2d\"}],\"histogram2dcontour\":[{\"colorbar\":{\"outlinewidth\":0,\"ticks\":\"\"},\"colorscale\":[[0.0,\"#0d0887\"],[0.1111111111111111,\"#46039f\"],[0.2222222222222222,\"#7201a8\"],[0.3333333333333333,\"#9c179e\"],[0.4444444444444444,\"#bd3786\"],[0.5555555555555556,\"#d8576b\"],[0.6666666666666666,\"#ed7953\"],[0.7777777777777778,\"#fb9f3a\"],[0.8888888888888888,\"#fdca26\"],[1.0,\"#f0f921\"]],\"type\":\"histogram2dcontour\"}],\"mesh3d\":[{\"colorbar\":{\"outlinewidth\":0,\"ticks\":\"\"},\"type\":\"mesh3d\"}],\"parcoords\":[{\"line\":{\"colorbar\":{\"outlinewidth\":0,\"ticks\":\"\"}},\"type\":\"parcoords\"}],\"pie\":[{\"automargin\":true,\"type\":\"pie\"}],\"scatter\":[{\"marker\":{\"colorbar\":{\"outlinewidth\":0,\"ticks\":\"\"}},\"type\":\"scatter\"}],\"scatter3d\":[{\"line\":{\"colorbar\":{\"outlinewidth\":0,\"ticks\":\"\"}},\"marker\":{\"colorbar\":{\"outlinewidth\":0,\"ticks\":\"\"}},\"type\":\"scatter3d\"}],\"scattercarpet\":[{\"marker\":{\"colorbar\":{\"outlinewidth\":0,\"ticks\":\"\"}},\"type\":\"scattercarpet\"}],\"scattergeo\":[{\"marker\":{\"colorbar\":{\"outlinewidth\":0,\"ticks\":\"\"}},\"type\":\"scattergeo\"}],\"scattergl\":[{\"marker\":{\"colorbar\":{\"outlinewidth\":0,\"ticks\":\"\"}},\"type\":\"scattergl\"}],\"scattermapbox\":[{\"marker\":{\"colorbar\":{\"outlinewidth\":0,\"ticks\":\"\"}},\"type\":\"scattermapbox\"}],\"scatterpolar\":[{\"marker\":{\"colorbar\":{\"outlinewidth\":0,\"ticks\":\"\"}},\"type\":\"scatterpolar\"}],\"scatterpolargl\":[{\"marker\":{\"colorbar\":{\"outlinewidth\":0,\"ticks\":\"\"}},\"type\":\"scatterpolargl\"}],\"scatterternary\":[{\"marker\":{\"colorbar\":{\"outlinewidth\":0,\"ticks\":\"\"}},\"type\":\"scatterternary\"}],\"surface\":[{\"colorbar\":{\"outlinewidth\":0,\"ticks\":\"\"},\"colorscale\":[[0.0,\"#0d0887\"],[0.1111111111111111,\"#46039f\"],[0.2222222222222222,\"#7201a8\"],[0.3333333333333333,\"#9c179e\"],[0.4444444444444444,\"#bd3786\"],[0.5555555555555556,\"#d8576b\"],[0.6666666666666666,\"#ed7953\"],[0.7777777777777778,\"#fb9f3a\"],[0.8888888888888888,\"#fdca26\"],[1.0,\"#f0f921\"]],\"type\":\"surface\"}],\"table\":[{\"cells\":{\"fill\":{\"color\":\"#EBF0F8\"},\"line\":{\"color\":\"white\"}},\"header\":{\"fill\":{\"color\":\"#C8D4E3\"},\"line\":{\"color\":\"white\"}},\"type\":\"table\"}]},\"layout\":{\"annotationdefaults\":{\"arrowcolor\":\"#2a3f5f\",\"arrowhead\":0,\"arrowwidth\":1},\"autotypenumbers\":\"strict\",\"coloraxis\":{\"colorbar\":{\"outlinewidth\":0,\"ticks\":\"\"}},\"colorscale\":{\"diverging\":[[0,\"#8e0152\"],[0.1,\"#c51b7d\"],[0.2,\"#de77ae\"],[0.3,\"#f1b6da\"],[0.4,\"#fde0ef\"],[0.5,\"#f7f7f7\"],[0.6,\"#e6f5d0\"],[0.7,\"#b8e186\"],[0.8,\"#7fbc41\"],[0.9,\"#4d9221\"],[1,\"#276419\"]],\"sequential\":[[0.0,\"#0d0887\"],[0.1111111111111111,\"#46039f\"],[0.2222222222222222,\"#7201a8\"],[0.3333333333333333,\"#9c179e\"],[0.4444444444444444,\"#bd3786\"],[0.5555555555555556,\"#d8576b\"],[0.6666666666666666,\"#ed7953\"],[0.7777777777777778,\"#fb9f3a\"],[0.8888888888888888,\"#fdca26\"],[1.0,\"#f0f921\"]],\"sequentialminus\":[[0.0,\"#0d0887\"],[0.1111111111111111,\"#46039f\"],[0.2222222222222222,\"#7201a8\"],[0.3333333333333333,\"#9c179e\"],[0.4444444444444444,\"#bd3786\"],[0.5555555555555556,\"#d8576b\"],[0.6666666666666666,\"#ed7953\"],[0.7777777777777778,\"#fb9f3a\"],[0.8888888888888888,\"#fdca26\"],[1.0,\"#f0f921\"]]},\"colorway\":[\"#636efa\",\"#EF553B\",\"#00cc96\",\"#ab63fa\",\"#FFA15A\",\"#19d3f3\",\"#FF6692\",\"#B6E880\",\"#FF97FF\",\"#FECB52\"],\"font\":{\"color\":\"#2a3f5f\"},\"geo\":{\"bgcolor\":\"white\",\"lakecolor\":\"white\",\"landcolor\":\"#E5ECF6\",\"showlakes\":true,\"showland\":true,\"subunitcolor\":\"white\"},\"hoverlabel\":{\"align\":\"left\"},\"hovermode\":\"closest\",\"mapbox\":{\"style\":\"light\"},\"paper_bgcolor\":\"white\",\"plot_bgcolor\":\"#E5ECF6\",\"polar\":{\"angularaxis\":{\"gridcolor\":\"white\",\"linecolor\":\"white\",\"ticks\":\"\"},\"bgcolor\":\"#E5ECF6\",\"radialaxis\":{\"gridcolor\":\"white\",\"linecolor\":\"white\",\"ticks\":\"\"}},\"scene\":{\"xaxis\":{\"backgroundcolor\":\"#E5ECF6\",\"gridcolor\":\"white\",\"gridwidth\":2,\"linecolor\":\"white\",\"showbackground\":true,\"ticks\":\"\",\"zerolinecolor\":\"white\"},\"yaxis\":{\"backgroundcolor\":\"#E5ECF6\",\"gridcolor\":\"white\",\"gridwidth\":2,\"linecolor\":\"white\",\"showbackground\":true,\"ticks\":\"\",\"zerolinecolor\":\"white\"},\"zaxis\":{\"backgroundcolor\":\"#E5ECF6\",\"gridcolor\":\"white\",\"gridwidth\":2,\"linecolor\":\"white\",\"showbackground\":true,\"ticks\":\"\",\"zerolinecolor\":\"white\"}},\"shapedefaults\":{\"line\":{\"color\":\"#2a3f5f\"}},\"ternary\":{\"aaxis\":{\"gridcolor\":\"white\",\"linecolor\":\"white\",\"ticks\":\"\"},\"baxis\":{\"gridcolor\":\"white\",\"linecolor\":\"white\",\"ticks\":\"\"},\"bgcolor\":\"#E5ECF6\",\"caxis\":{\"gridcolor\":\"white\",\"linecolor\":\"white\",\"ticks\":\"\"}},\"title\":{\"x\":0.05},\"xaxis\":{\"automargin\":true,\"gridcolor\":\"white\",\"linecolor\":\"white\",\"ticks\":\"\",\"title\":{\"standoff\":15},\"zerolinecolor\":\"white\",\"zerolinewidth\":2},\"yaxis\":{\"automargin\":true,\"gridcolor\":\"white\",\"linecolor\":\"white\",\"ticks\":\"\",\"title\":{\"standoff\":15},\"zerolinecolor\":\"white\",\"zerolinewidth\":2}}},\"xaxis\":{\"anchor\":\"y\",\"domain\":[0.0,1.0],\"title\":{\"text\":\"FECHA\"}},\"yaxis\":{\"anchor\":\"x\",\"domain\":[0.0,1.0],\"title\":{\"text\":\"sum of DELITOS\"}},\"legend\":{\"tracegroupgap\":0},\"margin\":{\"t\":60},\"barmode\":\"relative\",\"width\":500,\"height\":400},                        {\"responsive\": true}                    ).then(function(){\n",
       "                            \n",
       "var gd = document.getElementById('eb28fe19-0fd6-4009-9e6b-1eb3063da12b');\n",
       "var x = new MutationObserver(function (mutations, observer) {{\n",
       "        var display = window.getComputedStyle(gd).display;\n",
       "        if (!display || display === 'none') {{\n",
       "            console.log([gd, 'removed!']);\n",
       "            Plotly.purge(gd);\n",
       "            observer.disconnect();\n",
       "        }}\n",
       "}});\n",
       "\n",
       "// Listen for the removal of the full notebook cells\n",
       "var notebookContainer = gd.closest('#notebook-container');\n",
       "if (notebookContainer) {{\n",
       "    x.observe(notebookContainer, {childList: true});\n",
       "}}\n",
       "\n",
       "// Listen for the clearing of the current output cell\n",
       "var outputEl = gd.closest('.output');\n",
       "if (outputEl) {{\n",
       "    x.observe(outputEl, {childList: true});\n",
       "}}\n",
       "\n",
       "                        })                };                });            </script>        </div>"
      ]
     },
     "metadata": {},
     "output_type": "display_data"
    }
   ],
   "source": [
    "fig = px.histogram(df, x='FECHA', y='DELITOS')\n",
    "fig.update_layout(width=500, height=400)\n",
    "fig.show()"
   ]
  },
  {
   "cell_type": "code",
   "execution_count": 43,
   "id": "0931ac48",
   "metadata": {},
   "outputs": [
    {
     "data": {
      "image/png": "[encoded data removed]",
      "text/plain": [
       "<Figure size 432x288 with 2 Axes>"
      ]
     },
     "metadata": {
      "needs_background": "light"
     },
     "output_type": "display_data"
    }
   ],
   "source": [
    "import seaborn as sn\n",
    "import matplotlib.pyplot as plt\n",
    "\n",
    "# Correlación de Pearson\n",
    "corr_matrix = df.corr()\n",
    "sn.heatmap(corr_matrix, annot=True)\n",
    "plt.show()"
   ]
  },
  {
   "cell_type": "code",
   "execution_count": 49,
   "id": "2cacb1be",
   "metadata": {},
   "outputs": [
    {
     "data": {
      "image/png": "[encoded data removed]",
      "text/plain": [
       "<Figure size 432x288 with 2 Axes>"
      ]
     },
     "metadata": {
      "needs_background": "light"
     },
     "output_type": "display_data"
    }
   ],
   "source": [
    "# Correlación de Spearman\n",
    "corr_matrix = df.corr(method='spearman')\n",
    "sn.heatmap(corr_matrix, annot=True)\n",
    "plt.show()"
   ]
  }
 ],
 "metadata": {
  "kernelspec": {
   "display_name": "Python 3 (ipykernel)",
   "language": "python",
   "name": "python3"
  },
  "language_info": {
   "codemirror_mode": {
    "name": "ipython",
    "version": 3
   },
   "file_extension": ".py",
   "mimetype": "text/x-python",
   "name": "python",
   "nbconvert_exporter": "python",
   "pygments_lexer": "ipython3",
   "version": "3.9.7"
  }
 },
 "nbformat": 4,
 "nbformat_minor": 5
}
