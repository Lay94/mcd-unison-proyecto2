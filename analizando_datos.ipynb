{
 "cells": [
  {
   "cell_type": "code",
   "execution_count": 5,
   "id": "8e627f32",
   "metadata": {},
   "outputs": [],
   "source": [
    "# Importando librerías\n",
    "import urllib.request\n",
    "import os\n",
    "import pandas as pd\n",
    "import numpy as np\n",
    "import zipfile\n",
    "import datetime\n",
    "import json"
   ]
  },
  {
   "cell_type": "markdown",
   "id": "53498567",
   "metadata": {},
   "source": [
    "## Descargando datos"
   ]
  },
  {
   "cell_type": "code",
   "execution_count": 6,
   "id": "af0ba2e6",
   "metadata": {},
   "outputs": [],
   "source": [
    "# Definiendo url, nombres de los archivos y dirección donde se descargarán\n",
    "ensu_url_1t = \"https://www.inegi.org.mx/contenidos/programas/ensu/datosabiertos/conjunto_de_datos_ENSU_2022_1t_csv.zip\"\n",
    "ensu_archivo_1t = \"ensu_2022_1t.zip\"\n",
    "\n",
    "ensu_url_2t = \"https://www.inegi.org.mx/contenidos/programas/ensu/datosabiertos/conjunto_de_datos_ENSU_2022_2t_csv.zip\"\n",
    "ensu_archivo_2t = \"ensu_2022_2t.zip\"\n",
    "\n",
    "ensu_url_3t = \"https://www.inegi.org.mx/contenidos/programas/ensu/datosabiertos/conjunto_de_datos_ENSU_2022_3t_csv.zip\"\n",
    "ensu_archivo_3t = \"ensu_2022_3t.zip\"\n",
    "\n",
    "sesnsp_url = \"https://api.datamexico.org/tesseract/cubes/sesnsp_crimes/aggregate.jsonrecords?captions%5B%5D=Date.Date.Quarter.Quarter+ES&captions%5B%5D=Geography.Geography.State.State+slug+ES&captions%5B%5D=Geography.Geography.Municipality.Municipality+ES&captions%5B%5D=Type.Type.Crime+Type.Crime+Type+ES&cuts%5B%5D=Date.Date.Year.2022&drilldowns%5B%5D=Date.Date.Year&drilldowns%5B%5D=Date.Date.Quarter&drilldowns%5B%5D=Geography.Geography.State&drilldowns%5B%5D=Geography.Geography.Municipality&drilldowns%5B%5D=Type.Type.Crime+Type&measures%5B%5D=Value\"\n",
    "sesnsp_archivo = \"sesnsp.json\"\n",
    "\n",
    "poblacion_url = \"https://api.datamexico.org/tesseract/cubes/inegi_population_total/aggregate.jsonrecords?captions%5B%5D=Geography.Geography.State.State+slug+ES&captions%5B%5D=Geography.Geography.Municipality.Municipality+ES&captions%5B%5D=Sex.Sex.Sex.Sex+ES&cuts%5B%5D=Sex.Sex.Sex.2&drilldowns%5B%5D=Geography.Geography.State&drilldowns%5B%5D=Geography.Geography.Municipality&drilldowns%5B%5D=Sex.Sex.Sex&measures%5B%5D=Population\"\n",
    "poblacion_archivo = \"poblacion.json\"\n",
    "subdir = \"./data/\""
   ]
  },
  {
   "cell_type": "code",
   "execution_count": 7,
   "id": "059cd580",
   "metadata": {},
   "outputs": [],
   "source": [
    "# Creando lista de url y archivos para ENSU\n",
    "ensu_urls = [ensu_url_1t, ensu_url_2t, ensu_url_3t]\n",
    "ensu_archivos = [ensu_archivo_1t, ensu_archivo_2t, ensu_archivo_3t]"
   ]
  },
  {
   "cell_type": "code",
   "execution_count": 8,
   "id": "0f687d1a",
   "metadata": {},
   "outputs": [],
   "source": [
    "# Descargando datos y creando archivo .txt con la documentación correspondiente\n",
    "if not os.path.exists(subdir + ensu_archivo_3t):\n",
    "    if not os.path.exists(subdir):\n",
    "        os.makedirs(subdir)\n",
    "    for url, archivo in zip(ensu_urls, ensu_archivos):\n",
    "        urllib.request.urlretrieve(url, subdir + archivo) \n",
    "        with zipfile.ZipFile(subdir + archivo, \"r\") as zip_ref:\n",
    "            zip_ref.extractall(subdir)  \n",
    "    \n",
    "    urllib.request.urlretrieve(sesnsp_url, subdir + sesnsp_archivo)\n",
    "    urllib.request.urlretrieve(poblacion_url, subdir + poblacion_archivo)\n",
    "\n",
    "    with open(subdir + \"info.txt\", 'w') as f:\n",
    "        f.write(\"Archivos sobre incidencia delictiva y resultados de encuesta sobre percepción de violencia\\n\")\n",
    "        info = \"\"\"\n",
    "        Se decargaron datos de dos fuentes de información distintas. Por un lado, los datos de incidencias \n",
    "        delictivas a nivel estatal, agrupados por tipos de delitos, por estados y por municipios durante el\n",
    "        año 2022, como fuente del Secretariado Ejecutivo del Sistema Nacional de Seguridad Pública (SESNSP). \n",
    "        Estos datos se obtuvieron del sitio web https://datamexico.org\n",
    "        \n",
    "        Por otro lado, se encuentran los datos que recogen los resultados de la Encuesta Nacional de Seguridad\n",
    "        Pública Urbana (ENSU) del año 2022; información sobre la percepción de seguridad pública en la población \n",
    "        urbana. Estos resultados fueron publicados en el sitio web https://www.inegi.org.mx\n",
    "        \n",
    "        Por último, se encuentra la información sobre el tamaño de la población entre los diferentes municipios \n",
    "        de México. Estos datos se obtuvieron del sitio web https://datamexico.org\n",
    "        \"\"\" \n",
    "        f.write(info + '\\n')\n",
    "        f.write(\"Descargado el \" + datetime.datetime.now().strftime(\"%Y-%m-%d %H:%M:%S\") + \"\\n\")\n",
    "        f.write(\"Desde: \" + sesnsp_url + \"\\n\")\n",
    "        f.write(\"Nombre: \" + sesnsp_archivo + \"\\n\")\n",
    "        f.write(\"Descargado el \" + datetime.datetime.now().strftime(\"%Y-%m-%d %H:%M:%S\") + \"\\n\")\n",
    "        f.write(\"Desde: \" + \"https://www.inegi.org.mx/programas/ensu/#Datos_abiertos\" + \"\\n\")\n",
    "        f.write(\"Desde: \" + poblacion_url + \"\\n\")\n",
    "        f.write(\"Nombre: \" + poblacion_archivo + \"\\n\")"
   ]
  },
  {
   "cell_type": "markdown",
   "id": "c1be6e4d",
   "metadata": {},
   "source": [
    "## Leyendo archivos descargados"
   ]
  },
  {
   "cell_type": "markdown",
   "id": "c6543a54",
   "metadata": {},
   "source": [
    "#### ENSU 2022"
   ]
  },
  {
   "cell_type": "code",
   "execution_count": 9,
   "id": "49179645",
   "metadata": {},
   "outputs": [
    {
     "data": {
      "text/html": [
       "<div>\n",
       "<style scoped>\n",
       "    .dataframe tbody tr th:only-of-type {\n",
       "        vertical-align: middle;\n",
       "    }\n",
       "\n",
       "    .dataframe tbody tr th {\n",
       "        vertical-align: top;\n",
       "    }\n",
       "\n",
       "    .dataframe thead th {\n",
       "        text-align: right;\n",
       "    }\n",
       "</style>\n",
       "<table border=\"1\" class=\"dataframe\">\n",
       "  <thead>\n",
       "    <tr style=\"text-align: right;\">\n",
       "      <th></th>\n",
       "      <th>ID_VIV</th>\n",
       "      <th>ID_PER</th>\n",
       "      <th>UPM</th>\n",
       "      <th>VIV_SEL</th>\n",
       "      <th>R_SEL</th>\n",
       "      <th>CVE_ENT</th>\n",
       "      <th>NOM_ENT</th>\n",
       "      <th>CVE_MUN</th>\n",
       "      <th>NOM_MUN</th>\n",
       "      <th>LOC</th>\n",
       "      <th>...</th>\n",
       "      <th>BP4_5_6_7</th>\n",
       "      <th>BP4_5_6_8</th>\n",
       "      <th>BP4_5_6_9</th>\n",
       "      <th>BP5_1</th>\n",
       "      <th>FAC_VIV</th>\n",
       "      <th>FAC_SEL</th>\n",
       "      <th>DOMINIO</th>\n",
       "      <th>EST</th>\n",
       "      <th>UPM_DIS</th>\n",
       "      <th>EST_DIS</th>\n",
       "    </tr>\n",
       "  </thead>\n",
       "  <tbody>\n",
       "    <tr>\n",
       "      <th>0</th>\n",
       "      <td>100071.006</td>\n",
       "      <td>0100071.006.01\\r</td>\n",
       "      <td>100071</td>\n",
       "      <td>5</td>\n",
       "      <td>1</td>\n",
       "      <td>1</td>\n",
       "      <td>AGUASCALIENTES\\r</td>\n",
       "      <td>1</td>\n",
       "      <td>AGUASCALIENTES\\r</td>\n",
       "      <td>1</td>\n",
       "      <td>...</td>\n",
       "      <td>\\r</td>\n",
       "      <td>\\r</td>\n",
       "      <td>\\r</td>\n",
       "      <td>1</td>\n",
       "      <td>1068</td>\n",
       "      <td>1068</td>\n",
       "      <td>U\\r</td>\n",
       "      <td>2</td>\n",
       "      <td>1</td>\n",
       "      <td>137</td>\n",
       "    </tr>\n",
       "    <tr>\n",
       "      <th>1</th>\n",
       "      <td>100071.026</td>\n",
       "      <td>0100071.026.01\\r</td>\n",
       "      <td>100071</td>\n",
       "      <td>1</td>\n",
       "      <td>1</td>\n",
       "      <td>1</td>\n",
       "      <td>AGUASCALIENTES\\r</td>\n",
       "      <td>1</td>\n",
       "      <td>AGUASCALIENTES\\r</td>\n",
       "      <td>1</td>\n",
       "      <td>...</td>\n",
       "      <td>\\r</td>\n",
       "      <td>\\r</td>\n",
       "      <td>\\r</td>\n",
       "      <td>1</td>\n",
       "      <td>1068</td>\n",
       "      <td>1068</td>\n",
       "      <td>U\\r</td>\n",
       "      <td>2</td>\n",
       "      <td>1</td>\n",
       "      <td>137</td>\n",
       "    </tr>\n",
       "    <tr>\n",
       "      <th>2</th>\n",
       "      <td>100071.033</td>\n",
       "      <td>0100071.033.03\\r</td>\n",
       "      <td>100071</td>\n",
       "      <td>2</td>\n",
       "      <td>3</td>\n",
       "      <td>1</td>\n",
       "      <td>AGUASCALIENTES\\r</td>\n",
       "      <td>1</td>\n",
       "      <td>AGUASCALIENTES\\r</td>\n",
       "      <td>1</td>\n",
       "      <td>...</td>\n",
       "      <td>\\r</td>\n",
       "      <td>\\r</td>\n",
       "      <td>\\r</td>\n",
       "      <td>1</td>\n",
       "      <td>1068</td>\n",
       "      <td>3204</td>\n",
       "      <td>U\\r</td>\n",
       "      <td>2</td>\n",
       "      <td>1</td>\n",
       "      <td>137</td>\n",
       "    </tr>\n",
       "    <tr>\n",
       "      <th>3</th>\n",
       "      <td>100071.115</td>\n",
       "      <td>0100071.115.01\\r</td>\n",
       "      <td>100071</td>\n",
       "      <td>3</td>\n",
       "      <td>1</td>\n",
       "      <td>1</td>\n",
       "      <td>AGUASCALIENTES\\r</td>\n",
       "      <td>1</td>\n",
       "      <td>AGUASCALIENTES\\r</td>\n",
       "      <td>1</td>\n",
       "      <td>...</td>\n",
       "      <td>\\r</td>\n",
       "      <td>\\r</td>\n",
       "      <td>\\r</td>\n",
       "      <td>1</td>\n",
       "      <td>1068</td>\n",
       "      <td>2136</td>\n",
       "      <td>U\\r</td>\n",
       "      <td>2</td>\n",
       "      <td>1</td>\n",
       "      <td>137</td>\n",
       "    </tr>\n",
       "    <tr>\n",
       "      <th>4</th>\n",
       "      <td>100075.028</td>\n",
       "      <td>0100075.028.02\\r</td>\n",
       "      <td>100075</td>\n",
       "      <td>4</td>\n",
       "      <td>2</td>\n",
       "      <td>1</td>\n",
       "      <td>AGUASCALIENTES\\r</td>\n",
       "      <td>1</td>\n",
       "      <td>AGUASCALIENTES\\r</td>\n",
       "      <td>1</td>\n",
       "      <td>...</td>\n",
       "      <td>\\r</td>\n",
       "      <td>\\r</td>\n",
       "      <td>\\r</td>\n",
       "      <td>3</td>\n",
       "      <td>1030</td>\n",
       "      <td>3090</td>\n",
       "      <td>U\\r</td>\n",
       "      <td>3</td>\n",
       "      <td>2</td>\n",
       "      <td>138</td>\n",
       "    </tr>\n",
       "  </tbody>\n",
       "</table>\n",
       "<p>5 rows × 218 columns</p>\n",
       "</div>"
      ],
      "text/plain": [
       "       ID_VIV            ID_PER     UPM  VIV_SEL  R_SEL  CVE_ENT  \\\n",
       "0  100071.006  0100071.006.01\\r  100071        5      1        1   \n",
       "1  100071.026  0100071.026.01\\r  100071        1      1        1   \n",
       "2  100071.033  0100071.033.03\\r  100071        2      3        1   \n",
       "3  100071.115  0100071.115.01\\r  100071        3      1        1   \n",
       "4  100075.028  0100075.028.02\\r  100075        4      2        1   \n",
       "\n",
       "            NOM_ENT  CVE_MUN           NOM_MUN  LOC  ...  BP4_5_6_7 BP4_5_6_8  \\\n",
       "0  AGUASCALIENTES\\r        1  AGUASCALIENTES\\r    1  ...         \\r        \\r   \n",
       "1  AGUASCALIENTES\\r        1  AGUASCALIENTES\\r    1  ...         \\r        \\r   \n",
       "2  AGUASCALIENTES\\r        1  AGUASCALIENTES\\r    1  ...         \\r        \\r   \n",
       "3  AGUASCALIENTES\\r        1  AGUASCALIENTES\\r    1  ...         \\r        \\r   \n",
       "4  AGUASCALIENTES\\r        1  AGUASCALIENTES\\r    1  ...         \\r        \\r   \n",
       "\n",
       "   BP4_5_6_9  BP5_1  FAC_VIV  FAC_SEL DOMINIO  EST  UPM_DIS  EST_DIS  \n",
       "0         \\r      1     1068     1068     U\\r    2        1      137  \n",
       "1         \\r      1     1068     1068     U\\r    2        1      137  \n",
       "2         \\r      1     1068     3204     U\\r    2        1      137  \n",
       "3         \\r      1     1068     2136     U\\r    2        1      137  \n",
       "4         \\r      3     1030     3090     U\\r    3        2      138  \n",
       "\n",
       "[5 rows x 218 columns]"
      ]
     },
     "execution_count": 9,
     "metadata": {},
     "output_type": "execute_result"
    }
   ],
   "source": [
    "# Obteniendo datos donde se resume la información de la encuesta ensu 2022\n",
    "# 1er Trimestre\n",
    "dir_1t = subdir + 'conjunto_de_datos_CB_ENSU_03_2022/conjunto_de_datos/conjunto_de_datos_CB_ENSU_03_2022.csv'\n",
    "df_1t = pd.read_csv(dir_1t)\n",
    "\n",
    "# 2do Trimestre\n",
    "dir_2t = subdir + 'conjunto_de_datos_CB_ENSU_06_2022/conjunto_de_datos/conjunto_de_datos_CB_ENSU_06_2022.csv'\n",
    "df_2t = pd.read_csv(dir_2t)\n",
    "\n",
    "# 3er Trimestre\n",
    "dir_3t = subdir + 'conjunto_de_datos_CB_ENSU_09_2022/conjunto_de_datos/conjunto_de_datos_CB_ENSU_09_2022.csv'\n",
    "df_3t = pd.read_csv(dir_3t)\n",
    "df_3t.head()"
   ]
  },
  {
   "cell_type": "markdown",
   "id": "ff049b45",
   "metadata": {},
   "source": [
    "#### SESNSP 2022"
   ]
  },
  {
   "cell_type": "code",
   "execution_count": 10,
   "id": "97028f63",
   "metadata": {},
   "outputs": [
    {
     "name": "stdout",
     "output_type": "stream",
     "text": [
      "\n",
      "Número de entradas: 2\n",
      "\n",
      "Nombre de los atributos: data, source\n"
     ]
    }
   ],
   "source": [
    "# Obteniendo datos con la información de delitos ocurridos durante 2021\n",
    "with open(subdir + sesnsp_archivo, encoding = 'utf8') as fp:\n",
    "    data_sesnsp = json.load(fp)\n",
    "\n",
    "print(\"\\nNúmero de entradas: {}\".format(len(data_sesnsp)))\n",
    "print(\"\\nNombre de los atributos: {}\".format(\", \".join(data_sesnsp.keys())))"
   ]
  },
  {
   "cell_type": "code",
   "execution_count": 11,
   "id": "dc158109",
   "metadata": {},
   "outputs": [
    {
     "data": {
      "text/html": [
       "<div>\n",
       "<style scoped>\n",
       "    .dataframe tbody tr th:only-of-type {\n",
       "        vertical-align: middle;\n",
       "    }\n",
       "\n",
       "    .dataframe tbody tr th {\n",
       "        vertical-align: top;\n",
       "    }\n",
       "\n",
       "    .dataframe thead th {\n",
       "        text-align: right;\n",
       "    }\n",
       "</style>\n",
       "<table border=\"1\" class=\"dataframe\">\n",
       "  <thead>\n",
       "    <tr style=\"text-align: right;\">\n",
       "      <th></th>\n",
       "      <th>Year</th>\n",
       "      <th>Quarter ID</th>\n",
       "      <th>Quarter</th>\n",
       "      <th>State ID</th>\n",
       "      <th>State</th>\n",
       "      <th>Municipality ID</th>\n",
       "      <th>Municipality</th>\n",
       "      <th>Crime Type ID</th>\n",
       "      <th>Crime Type</th>\n",
       "      <th>Value</th>\n",
       "    </tr>\n",
       "  </thead>\n",
       "  <tbody>\n",
       "    <tr>\n",
       "      <th>0</th>\n",
       "      <td>2022</td>\n",
       "      <td>20221</td>\n",
       "      <td>2022-Q1</td>\n",
       "      <td>1</td>\n",
       "      <td>aguascalientes-ag</td>\n",
       "      <td>1001</td>\n",
       "      <td>Aguascalientes</td>\n",
       "      <td>101</td>\n",
       "      <td>Abuso de Confianza</td>\n",
       "      <td>139</td>\n",
       "    </tr>\n",
       "    <tr>\n",
       "      <th>1</th>\n",
       "      <td>2022</td>\n",
       "      <td>20221</td>\n",
       "      <td>2022-Q1</td>\n",
       "      <td>1</td>\n",
       "      <td>aguascalientes-ag</td>\n",
       "      <td>1001</td>\n",
       "      <td>Aguascalientes</td>\n",
       "      <td>102</td>\n",
       "      <td>Daño a la Propiedad</td>\n",
       "      <td>799</td>\n",
       "    </tr>\n",
       "    <tr>\n",
       "      <th>2</th>\n",
       "      <td>2022</td>\n",
       "      <td>20221</td>\n",
       "      <td>2022-Q1</td>\n",
       "      <td>1</td>\n",
       "      <td>aguascalientes-ag</td>\n",
       "      <td>1001</td>\n",
       "      <td>Aguascalientes</td>\n",
       "      <td>103</td>\n",
       "      <td>Despojo</td>\n",
       "      <td>58</td>\n",
       "    </tr>\n",
       "    <tr>\n",
       "      <th>3</th>\n",
       "      <td>2022</td>\n",
       "      <td>20221</td>\n",
       "      <td>2022-Q1</td>\n",
       "      <td>1</td>\n",
       "      <td>aguascalientes-ag</td>\n",
       "      <td>1001</td>\n",
       "      <td>Aguascalientes</td>\n",
       "      <td>104</td>\n",
       "      <td>Extorsión</td>\n",
       "      <td>10</td>\n",
       "    </tr>\n",
       "    <tr>\n",
       "      <th>4</th>\n",
       "      <td>2022</td>\n",
       "      <td>20221</td>\n",
       "      <td>2022-Q1</td>\n",
       "      <td>1</td>\n",
       "      <td>aguascalientes-ag</td>\n",
       "      <td>1001</td>\n",
       "      <td>Aguascalientes</td>\n",
       "      <td>105</td>\n",
       "      <td>Fraude</td>\n",
       "      <td>498</td>\n",
       "    </tr>\n",
       "  </tbody>\n",
       "</table>\n",
       "</div>"
      ],
      "text/plain": [
       "   Year  Quarter ID  Quarter  State ID              State  Municipality ID  \\\n",
       "0  2022       20221  2022-Q1         1  aguascalientes-ag             1001   \n",
       "1  2022       20221  2022-Q1         1  aguascalientes-ag             1001   \n",
       "2  2022       20221  2022-Q1         1  aguascalientes-ag             1001   \n",
       "3  2022       20221  2022-Q1         1  aguascalientes-ag             1001   \n",
       "4  2022       20221  2022-Q1         1  aguascalientes-ag             1001   \n",
       "\n",
       "     Municipality  Crime Type ID           Crime Type  Value  \n",
       "0  Aguascalientes            101   Abuso de Confianza    139  \n",
       "1  Aguascalientes            102  Daño a la Propiedad    799  \n",
       "2  Aguascalientes            103              Despojo     58  \n",
       "3  Aguascalientes            104            Extorsión     10  \n",
       "4  Aguascalientes            105               Fraude    498  "
      ]
     },
     "execution_count": 11,
     "metadata": {},
     "output_type": "execute_result"
    }
   ],
   "source": [
    "# Convirtiendo los datos en dataframe\n",
    "df_sesnsp = pd.DataFrame(data_sesnsp['data'])\n",
    "df_sesnsp.head()"
   ]
  },
  {
   "cell_type": "markdown",
   "id": "26226efc",
   "metadata": {},
   "source": [
    "#### Tamaño de la población femenina"
   ]
  },
  {
   "cell_type": "code",
   "execution_count": 12,
   "id": "f2e7b3ca",
   "metadata": {},
   "outputs": [
    {
     "name": "stdout",
     "output_type": "stream",
     "text": [
      "\n",
      "Número de entradas: 2\n",
      "\n",
      "Nombre de los atributos: data, source\n"
     ]
    }
   ],
   "source": [
    "# Obteniendo datos con la información del tamaño de la población\n",
    "with open(subdir + poblacion_archivo, encoding = 'utf8') as fp:\n",
    "    data_poblacion = json.load(fp)\n",
    "\n",
    "print(\"\\nNúmero de entradas: {}\".format(len(data_poblacion)))\n",
    "print(\"\\nNombre de los atributos: {}\".format(\", \".join(data_poblacion.keys())))"
   ]
  },
  {
   "cell_type": "code",
   "execution_count": 13,
   "id": "d3aaec66",
   "metadata": {},
   "outputs": [
    {
     "data": {
      "text/html": [
       "<div>\n",
       "<style scoped>\n",
       "    .dataframe tbody tr th:only-of-type {\n",
       "        vertical-align: middle;\n",
       "    }\n",
       "\n",
       "    .dataframe tbody tr th {\n",
       "        vertical-align: top;\n",
       "    }\n",
       "\n",
       "    .dataframe thead th {\n",
       "        text-align: right;\n",
       "    }\n",
       "</style>\n",
       "<table border=\"1\" class=\"dataframe\">\n",
       "  <thead>\n",
       "    <tr style=\"text-align: right;\">\n",
       "      <th></th>\n",
       "      <th>ESTADO_ID</th>\n",
       "      <th>ESTADO</th>\n",
       "      <th>MUNICIPIO_ID</th>\n",
       "      <th>MUNICIPIO</th>\n",
       "      <th>SEXO_ID</th>\n",
       "      <th>SEXO</th>\n",
       "      <th>POBLACION</th>\n",
       "    </tr>\n",
       "  </thead>\n",
       "  <tbody>\n",
       "    <tr>\n",
       "      <th>0</th>\n",
       "      <td>1</td>\n",
       "      <td>aguascalientes-ag</td>\n",
       "      <td>1001</td>\n",
       "      <td>Aguascalientes</td>\n",
       "      <td>2</td>\n",
       "      <td>Mujer</td>\n",
       "      <td>897498</td>\n",
       "    </tr>\n",
       "    <tr>\n",
       "      <th>1</th>\n",
       "      <td>1</td>\n",
       "      <td>aguascalientes-ag</td>\n",
       "      <td>1002</td>\n",
       "      <td>Asientos</td>\n",
       "      <td>2</td>\n",
       "      <td>Mujer</td>\n",
       "      <td>49255</td>\n",
       "    </tr>\n",
       "    <tr>\n",
       "      <th>2</th>\n",
       "      <td>1</td>\n",
       "      <td>aguascalientes-ag</td>\n",
       "      <td>1003</td>\n",
       "      <td>Calvillo</td>\n",
       "      <td>2</td>\n",
       "      <td>Mujer</td>\n",
       "      <td>57573</td>\n",
       "    </tr>\n",
       "    <tr>\n",
       "      <th>3</th>\n",
       "      <td>1</td>\n",
       "      <td>aguascalientes-ag</td>\n",
       "      <td>1004</td>\n",
       "      <td>Cosío</td>\n",
       "      <td>2</td>\n",
       "      <td>Mujer</td>\n",
       "      <td>16424</td>\n",
       "    </tr>\n",
       "    <tr>\n",
       "      <th>4</th>\n",
       "      <td>1</td>\n",
       "      <td>aguascalientes-ag</td>\n",
       "      <td>1005</td>\n",
       "      <td>Jesús María</td>\n",
       "      <td>2</td>\n",
       "      <td>Mujer</td>\n",
       "      <td>116210</td>\n",
       "    </tr>\n",
       "  </tbody>\n",
       "</table>\n",
       "</div>"
      ],
      "text/plain": [
       "   ESTADO_ID             ESTADO  MUNICIPIO_ID       MUNICIPIO  SEXO_ID   SEXO  \\\n",
       "0          1  aguascalientes-ag          1001  Aguascalientes        2  Mujer   \n",
       "1          1  aguascalientes-ag          1002        Asientos        2  Mujer   \n",
       "2          1  aguascalientes-ag          1003        Calvillo        2  Mujer   \n",
       "3          1  aguascalientes-ag          1004           Cosío        2  Mujer   \n",
       "4          1  aguascalientes-ag          1005     Jesús María        2  Mujer   \n",
       "\n",
       "   POBLACION  \n",
       "0     897498  \n",
       "1      49255  \n",
       "2      57573  \n",
       "3      16424  \n",
       "4     116210  "
      ]
     },
     "execution_count": 13,
     "metadata": {},
     "output_type": "execute_result"
    }
   ],
   "source": [
    "# Convirtiendo los datos en dataframe\n",
    "df_poblacion = pd.DataFrame(data_poblacion['data'])\n",
    "df_poblacion.columns = ['ESTADO_ID', 'ESTADO', 'MUNICIPIO_ID', \n",
    "                              'MUNICIPIO','SEXO_ID','SEXO', 'POBLACION']\n",
    "df_poblacion.head()"
   ]
  },
  {
   "cell_type": "markdown",
   "id": "6abe0074",
   "metadata": {},
   "source": [
    "## Analizando calidad de los datos"
   ]
  },
  {
   "cell_type": "markdown",
   "id": "4fd76477",
   "metadata": {},
   "source": [
    "#### ENSU 2022"
   ]
  },
  {
   "cell_type": "code",
   "execution_count": 14,
   "id": "c25df2b8",
   "metadata": {},
   "outputs": [
    {
     "name": "stdout",
     "output_type": "stream",
     "text": [
      " Datos faltantes 1er trimestre:  0 \n",
      " Datos faltantes 2er trimestre:  0 \n",
      " Datos faltantes 3er trimestre:  0 \n",
      "\n"
     ]
    }
   ],
   "source": [
    "# Analizando si hay datos faltantes\n",
    "print(' Datos faltantes 1er trimestre: ', df_1t.isna().sum().sum(), '\\n',\n",
    "      'Datos faltantes 2er trimestre: ', df_2t.isna().sum().sum(), '\\n',\n",
    "      'Datos faltantes 3er trimestre: ', df_3t.isna().sum().sum(), '\\n')"
   ]
  },
  {
   "cell_type": "code",
   "execution_count": 15,
   "id": "4c64e028",
   "metadata": {},
   "outputs": [
    {
     "data": {
      "text/plain": [
       "3\\r    10066\n",
       "2\\r     6194\n",
       "4\\r     5861\n",
       "1\\r      826\n",
       "\\r       471\n",
       "9\\r      159\n",
       "Name: BP3_2, dtype: int64"
      ]
     },
     "execution_count": 15,
     "metadata": {},
     "output_type": "execute_result"
    }
   ],
   "source": [
    "# En teoría no existen datos faltantes, sin embargo el caracter \\r se podría tomar como tal \n",
    "# además de que crea ruido en las observaciones\n",
    "df_1t['BP3_2'].value_counts(dropna=False)"
   ]
  },
  {
   "cell_type": "code",
   "execution_count": 16,
   "id": "3e760c6d",
   "metadata": {},
   "outputs": [],
   "source": [
    "# Sustituyendo datos ruidosos\n",
    "df_1t = df_1t.replace(['\\r', '9\\r', '1\\r', '2\\r', '3\\r', '4\\r'],[9, 9, 1, 2, 3, 4])\n",
    "df_1t = df_1t.replace('\\r', '', regex=True)\n",
    "\n",
    "df_2t = df_2t.replace(['\\r', '9\\r', '1\\r', '2\\r', '3\\r', '4\\r'],[9, 9, 1, 2, 3, 4])\n",
    "df_2t = df_2t.replace('\\r', '', regex=True)\n",
    "\n",
    "df_3t = df_3t.replace(['\\r', '9\\r', '1\\r', '2\\r', '3\\r', '4\\r'],[9, 9, 1, 2, 3, 4])\n",
    "df_3t = df_3t.replace('\\r', '', regex=True)"
   ]
  },
  {
   "cell_type": "code",
   "execution_count": 17,
   "id": "e13662fc",
   "metadata": {},
   "outputs": [
    {
     "name": "stdout",
     "output_type": "stream",
     "text": [
      " Registros duplicados 1er trimestre:  0 \n",
      " Registros duplicados 2er trimestre:  0 \n",
      " Registros duplicados 3er trimestre:  0 \n",
      "\n"
     ]
    }
   ],
   "source": [
    "# Verificando que no hay registros duplicados\n",
    "print(' Registros duplicados 1er trimestre: ', df_1t[df_1t.duplicated()].shape[0], '\\n',\n",
    "      'Registros duplicados 2er trimestre: ', df_2t[df_2t.duplicated()].shape[0], '\\n',\n",
    "      'Registros duplicados 3er trimestre: ', df_3t[df_3t.duplicated()].shape[0], '\\n')"
   ]
  },
  {
   "cell_type": "markdown",
   "id": "0cd00c18",
   "metadata": {},
   "source": [
    "#### SESNSP 2021"
   ]
  },
  {
   "cell_type": "code",
   "execution_count": 18,
   "id": "eb46c2a0",
   "metadata": {},
   "outputs": [
    {
     "data": {
      "text/plain": [
       "Year                 0\n",
       "Quarter ID           0\n",
       "Quarter              0\n",
       "State ID             0\n",
       "State              360\n",
       "Municipality ID      0\n",
       "Municipality         0\n",
       "Crime Type ID        0\n",
       "Crime Type           0\n",
       "Value                0\n",
       "dtype: int64"
      ]
     },
     "execution_count": 18,
     "metadata": {},
     "output_type": "execute_result"
    }
   ],
   "source": [
    "# Analizando si hay datos faltantes\n",
    "df_sesnsp.isna().sum()"
   ]
  },
  {
   "cell_type": "code",
   "execution_count": 19,
   "id": "1dad7c70",
   "metadata": {},
   "outputs": [
    {
     "data": {
      "text/plain": [
       "State ID  State                             \n",
       "20        oaxaca-oa                             68400\n",
       "21        puebla-pu                             26040\n",
       "30        veracruz-de-ignacio-de-la-llave-ve    25440\n",
       "15        mexico-em                             15000\n",
       "14        jalisco-jc                            15000\n",
       "7         chiapas-cs                            14880\n",
       "16        michoacan-de-ocampo-mi                13560\n",
       "31        yucatan-yu                            12720\n",
       "13        hidalgo-hg                            10080\n",
       "12        guerrero-gr                            9720\n",
       "26        sonora-so                              8640\n",
       "8         chihuahua-ch                           8040\n",
       "29        tlaxcala-tl                            7200\n",
       "24        san-luis-potosi-sl                     6960\n",
       "32        zacatecas-za                           6960\n",
       "19        nuevo-leon-nl                          6120\n",
       "11        guanajuato-gt                          5520\n",
       "28        tamaulipas-tm                          5160\n",
       "10        durango-dg                             4680\n",
       "5         coahuila-de-zaragoza-co                4560\n",
       "17        morelos-mo                             4320\n",
       "18        nayarit-na                             2400\n",
       "22        queretaro-qt                           2160\n",
       "25        sinaloa-si                             2160\n",
       "27        tabasco-tb                             2040\n",
       "9         ciudad-de-mexico-cx                    1920\n",
       "4         campeche-cm                            1560\n",
       "23        quintana-roo-qr                        1320\n",
       "1         aguascalientes-ag                      1320\n",
       "6         colima-cl                              1200\n",
       "2         baja-california-bc                      720\n",
       "3         baja-california-sur-bs                  600\n",
       "20        N/A                                     120\n",
       "26        N/A                                     120\n",
       "30        N/A                                     120\n",
       "dtype: int64"
      ]
     },
     "execution_count": 19,
     "metadata": {},
     "output_type": "execute_result"
    }
   ],
   "source": [
    "# Remplazando los valores faltantes por 'N/A'\n",
    "df_sesnsp = df_sesnsp.replace(np.nan, 'N/A')\n",
    "\n",
    "# Analizando donde faltan los valores\n",
    "df_sesnsp[['State ID','State']].value_counts()"
   ]
  },
  {
   "cell_type": "code",
   "execution_count": 20,
   "id": "995222b6",
   "metadata": {},
   "outputs": [
    {
     "data": {
      "text/html": [
       "<div>\n",
       "<style scoped>\n",
       "    .dataframe tbody tr th:only-of-type {\n",
       "        vertical-align: middle;\n",
       "    }\n",
       "\n",
       "    .dataframe tbody tr th {\n",
       "        vertical-align: top;\n",
       "    }\n",
       "\n",
       "    .dataframe thead th {\n",
       "        text-align: right;\n",
       "    }\n",
       "</style>\n",
       "<table border=\"1\" class=\"dataframe\">\n",
       "  <thead>\n",
       "    <tr style=\"text-align: right;\">\n",
       "      <th></th>\n",
       "      <th>Year</th>\n",
       "      <th>Quarter ID</th>\n",
       "      <th>Quarter</th>\n",
       "      <th>State ID</th>\n",
       "      <th>State</th>\n",
       "      <th>Municipality ID</th>\n",
       "      <th>Municipality</th>\n",
       "      <th>Crime Type ID</th>\n",
       "      <th>Crime Type</th>\n",
       "      <th>Value</th>\n",
       "    </tr>\n",
       "  </thead>\n",
       "  <tbody>\n",
       "    <tr>\n",
       "      <th>63200</th>\n",
       "      <td>2022</td>\n",
       "      <td>20221</td>\n",
       "      <td>2022-Q1</td>\n",
       "      <td>20</td>\n",
       "      <td>N/A</td>\n",
       "      <td>20999</td>\n",
       "      <td>No Informado</td>\n",
       "      <td>101</td>\n",
       "      <td>Abuso de Confianza</td>\n",
       "      <td>0</td>\n",
       "    </tr>\n",
       "    <tr>\n",
       "      <th>63201</th>\n",
       "      <td>2022</td>\n",
       "      <td>20221</td>\n",
       "      <td>2022-Q1</td>\n",
       "      <td>20</td>\n",
       "      <td>N/A</td>\n",
       "      <td>20999</td>\n",
       "      <td>No Informado</td>\n",
       "      <td>102</td>\n",
       "      <td>Daño a la Propiedad</td>\n",
       "      <td>0</td>\n",
       "    </tr>\n",
       "    <tr>\n",
       "      <th>63202</th>\n",
       "      <td>2022</td>\n",
       "      <td>20221</td>\n",
       "      <td>2022-Q1</td>\n",
       "      <td>20</td>\n",
       "      <td>N/A</td>\n",
       "      <td>20999</td>\n",
       "      <td>No Informado</td>\n",
       "      <td>103</td>\n",
       "      <td>Despojo</td>\n",
       "      <td>0</td>\n",
       "    </tr>\n",
       "    <tr>\n",
       "      <th>63203</th>\n",
       "      <td>2022</td>\n",
       "      <td>20221</td>\n",
       "      <td>2022-Q1</td>\n",
       "      <td>20</td>\n",
       "      <td>N/A</td>\n",
       "      <td>20999</td>\n",
       "      <td>No Informado</td>\n",
       "      <td>104</td>\n",
       "      <td>Extorsión</td>\n",
       "      <td>0</td>\n",
       "    </tr>\n",
       "    <tr>\n",
       "      <th>63204</th>\n",
       "      <td>2022</td>\n",
       "      <td>20221</td>\n",
       "      <td>2022-Q1</td>\n",
       "      <td>20</td>\n",
       "      <td>N/A</td>\n",
       "      <td>20999</td>\n",
       "      <td>No Informado</td>\n",
       "      <td>105</td>\n",
       "      <td>Fraude</td>\n",
       "      <td>0</td>\n",
       "    </tr>\n",
       "  </tbody>\n",
       "</table>\n",
       "</div>"
      ],
      "text/plain": [
       "       Year  Quarter ID  Quarter  State ID State  Municipality ID  \\\n",
       "63200  2022       20221  2022-Q1        20   N/A            20999   \n",
       "63201  2022       20221  2022-Q1        20   N/A            20999   \n",
       "63202  2022       20221  2022-Q1        20   N/A            20999   \n",
       "63203  2022       20221  2022-Q1        20   N/A            20999   \n",
       "63204  2022       20221  2022-Q1        20   N/A            20999   \n",
       "\n",
       "       Municipality  Crime Type ID           Crime Type  Value  \n",
       "63200  No Informado            101   Abuso de Confianza      0  \n",
       "63201  No Informado            102  Daño a la Propiedad      0  \n",
       "63202  No Informado            103              Despojo      0  \n",
       "63203  No Informado            104            Extorsión      0  \n",
       "63204  No Informado            105               Fraude      0  "
      ]
     },
     "execution_count": 20,
     "metadata": {},
     "output_type": "execute_result"
    }
   ],
   "source": [
    "df_sesnsp[df_sesnsp['State']=='N/A'].head()"
   ]
  },
  {
   "cell_type": "markdown",
   "id": "5d60af0b",
   "metadata": {},
   "source": [
    "Según el análisis anterior, faltan algunos valores correspondientes a nombres de tres estados, donde la información de los municipios también es No Informado, por tanto, teniendo en cuenta que no es una cantidad significativa, es conveniente eliminarlos"
   ]
  },
  {
   "cell_type": "code",
   "execution_count": 21,
   "id": "b62ade91",
   "metadata": {},
   "outputs": [],
   "source": [
    "# Eliminando valores faltantes\n",
    "df_sesnsp = df_sesnsp[df_sesnsp['State']!='N/A']                       "
   ]
  },
  {
   "cell_type": "code",
   "execution_count": 22,
   "id": "a8ce3f27",
   "metadata": {},
   "outputs": [
    {
     "data": {
      "text/plain": [
       "0"
      ]
     },
     "execution_count": 22,
     "metadata": {},
     "output_type": "execute_result"
    }
   ],
   "source": [
    "# Verificando que no hay registros duplicados\n",
    "df_sesnsp[df_sesnsp.duplicated()].shape[0]"
   ]
  },
  {
   "cell_type": "markdown",
   "id": "5118e894",
   "metadata": {},
   "source": [
    "#### Tamaño de la población femenina"
   ]
  },
  {
   "cell_type": "code",
   "execution_count": 23,
   "id": "bde5a1d3",
   "metadata": {},
   "outputs": [
    {
     "data": {
      "text/plain": [
       "ESTADO_ID       0\n",
       "ESTADO          0\n",
       "MUNICIPIO_ID    0\n",
       "MUNICIPIO       0\n",
       "SEXO_ID         0\n",
       "SEXO            0\n",
       "POBLACION       0\n",
       "dtype: int64"
      ]
     },
     "execution_count": 23,
     "metadata": {},
     "output_type": "execute_result"
    }
   ],
   "source": [
    "# Analizando si hay datos faltantes\n",
    "df_poblacion.isna().sum()"
   ]
  },
  {
   "cell_type": "code",
   "execution_count": 24,
   "id": "cb70cdfe",
   "metadata": {},
   "outputs": [
    {
     "data": {
      "text/plain": [
       "0"
      ]
     },
     "execution_count": 24,
     "metadata": {},
     "output_type": "execute_result"
    }
   ],
   "source": [
    "# Verificando que no hay registros duplicados\n",
    "df_poblacion[df_poblacion.duplicated()].shape[0]"
   ]
  },
  {
   "cell_type": "markdown",
   "id": "28573567",
   "metadata": {},
   "source": [
    "## Extrayendo información de los datos"
   ]
  },
  {
   "cell_type": "markdown",
   "id": "5f1f1ceb",
   "metadata": {},
   "source": [
    "#### SESNSP 2022"
   ]
  },
  {
   "cell_type": "code",
   "execution_count": 25,
   "id": "acaffe2e",
   "metadata": {},
   "outputs": [
    {
     "data": {
      "text/html": [
       "<div>\n",
       "<style scoped>\n",
       "    .dataframe tbody tr th:only-of-type {\n",
       "        vertical-align: middle;\n",
       "    }\n",
       "\n",
       "    .dataframe tbody tr th {\n",
       "        vertical-align: top;\n",
       "    }\n",
       "\n",
       "    .dataframe thead th {\n",
       "        text-align: right;\n",
       "    }\n",
       "</style>\n",
       "<table border=\"1\" class=\"dataframe\">\n",
       "  <thead>\n",
       "    <tr style=\"text-align: right;\">\n",
       "      <th></th>\n",
       "      <th>TRIMESTRES</th>\n",
       "      <th>ESTADO</th>\n",
       "      <th>MUNICIPIO</th>\n",
       "      <th>TIPO_DELITO</th>\n",
       "      <th>CANTIDAD_DELITOS</th>\n",
       "    </tr>\n",
       "  </thead>\n",
       "  <tbody>\n",
       "    <tr>\n",
       "      <th>8</th>\n",
       "      <td>2022-Q1</td>\n",
       "      <td>aguascalientes-ag</td>\n",
       "      <td>Aguascalientes</td>\n",
       "      <td>Violencia de Género en Todas sus Modalidades D...</td>\n",
       "      <td>4</td>\n",
       "    </tr>\n",
       "    <tr>\n",
       "      <th>9</th>\n",
       "      <td>2022-Q1</td>\n",
       "      <td>aguascalientes-ag</td>\n",
       "      <td>Aguascalientes</td>\n",
       "      <td>Violencia Familiar</td>\n",
       "      <td>419</td>\n",
       "    </tr>\n",
       "    <tr>\n",
       "      <th>22</th>\n",
       "      <td>2022-Q1</td>\n",
       "      <td>aguascalientes-ag</td>\n",
       "      <td>Aguascalientes</td>\n",
       "      <td>Feminicidio</td>\n",
       "      <td>3</td>\n",
       "    </tr>\n",
       "    <tr>\n",
       "      <th>48</th>\n",
       "      <td>2022-Q1</td>\n",
       "      <td>aguascalientes-ag</td>\n",
       "      <td>Asientos</td>\n",
       "      <td>Violencia de Género en Todas sus Modalidades D...</td>\n",
       "      <td>0</td>\n",
       "    </tr>\n",
       "    <tr>\n",
       "      <th>49</th>\n",
       "      <td>2022-Q1</td>\n",
       "      <td>aguascalientes-ag</td>\n",
       "      <td>Asientos</td>\n",
       "      <td>Violencia Familiar</td>\n",
       "      <td>12</td>\n",
       "    </tr>\n",
       "  </tbody>\n",
       "</table>\n",
       "</div>"
      ],
      "text/plain": [
       "   TRIMESTRES             ESTADO       MUNICIPIO  \\\n",
       "8     2022-Q1  aguascalientes-ag  Aguascalientes   \n",
       "9     2022-Q1  aguascalientes-ag  Aguascalientes   \n",
       "22    2022-Q1  aguascalientes-ag  Aguascalientes   \n",
       "48    2022-Q1  aguascalientes-ag        Asientos   \n",
       "49    2022-Q1  aguascalientes-ag        Asientos   \n",
       "\n",
       "                                          TIPO_DELITO  CANTIDAD_DELITOS  \n",
       "8   Violencia de Género en Todas sus Modalidades D...                 4  \n",
       "9                                  Violencia Familiar               419  \n",
       "22                                        Feminicidio                 3  \n",
       "48  Violencia de Género en Todas sus Modalidades D...                 0  \n",
       "49                                 Violencia Familiar                12  "
      ]
     },
     "execution_count": 25,
     "metadata": {},
     "output_type": "execute_result"
    }
   ],
   "source": [
    "# Seleccionando los  delito relacionado con la violencia contra la mujer\n",
    "df_sesnsp_crimenes = df_sesnsp[df_sesnsp['Crime Type ID'].isin([202, 203, 502])]\n",
    "\n",
    "# Seleccionando y renombrando columnas\n",
    "df_sesnsp_crimenes = df_sesnsp_crimenes[['Quarter', 'State', 'Municipality',\n",
    "                               'Crime Type', 'Value']]\n",
    "df_sesnsp_crimenes.columns = ['TRIMESTRES', 'ESTADO', 'MUNICIPIO', 'TIPO_DELITO', 'CANTIDAD_DELITOS'] \n",
    "df_sesnsp_crimenes.head()"
   ]
  },
  {
   "cell_type": "code",
   "execution_count": 26,
   "id": "ad5ba800",
   "metadata": {},
   "outputs": [
    {
     "data": {
      "text/html": [
       "<div>\n",
       "<style scoped>\n",
       "    .dataframe tbody tr th:only-of-type {\n",
       "        vertical-align: middle;\n",
       "    }\n",
       "\n",
       "    .dataframe tbody tr th {\n",
       "        vertical-align: top;\n",
       "    }\n",
       "\n",
       "    .dataframe thead th {\n",
       "        text-align: right;\n",
       "    }\n",
       "</style>\n",
       "<table border=\"1\" class=\"dataframe\">\n",
       "  <thead>\n",
       "    <tr style=\"text-align: right;\">\n",
       "      <th></th>\n",
       "      <th>TRIMESTRES</th>\n",
       "      <th>ESTADO</th>\n",
       "      <th>MUNICIPIO</th>\n",
       "      <th>FEMINICIDIO</th>\n",
       "      <th>VIOLENCIA_FAMILIAR</th>\n",
       "      <th>VIOLENCIA_GENERO</th>\n",
       "      <th>TOTAL_DELITOS</th>\n",
       "    </tr>\n",
       "  </thead>\n",
       "  <tbody>\n",
       "    <tr>\n",
       "      <th>0</th>\n",
       "      <td>2022-Q1</td>\n",
       "      <td>aguascalientes-ag</td>\n",
       "      <td>Aguascalientes</td>\n",
       "      <td>3</td>\n",
       "      <td>419</td>\n",
       "      <td>4</td>\n",
       "      <td>426</td>\n",
       "    </tr>\n",
       "    <tr>\n",
       "      <th>1</th>\n",
       "      <td>2022-Q1</td>\n",
       "      <td>aguascalientes-ag</td>\n",
       "      <td>Asientos</td>\n",
       "      <td>0</td>\n",
       "      <td>12</td>\n",
       "      <td>0</td>\n",
       "      <td>12</td>\n",
       "    </tr>\n",
       "    <tr>\n",
       "      <th>2</th>\n",
       "      <td>2022-Q1</td>\n",
       "      <td>aguascalientes-ag</td>\n",
       "      <td>Calvillo</td>\n",
       "      <td>0</td>\n",
       "      <td>8</td>\n",
       "      <td>0</td>\n",
       "      <td>8</td>\n",
       "    </tr>\n",
       "    <tr>\n",
       "      <th>3</th>\n",
       "      <td>2022-Q1</td>\n",
       "      <td>aguascalientes-ag</td>\n",
       "      <td>Cosío</td>\n",
       "      <td>0</td>\n",
       "      <td>8</td>\n",
       "      <td>0</td>\n",
       "      <td>8</td>\n",
       "    </tr>\n",
       "    <tr>\n",
       "      <th>4</th>\n",
       "      <td>2022-Q1</td>\n",
       "      <td>aguascalientes-ag</td>\n",
       "      <td>El Llano</td>\n",
       "      <td>0</td>\n",
       "      <td>4</td>\n",
       "      <td>0</td>\n",
       "      <td>4</td>\n",
       "    </tr>\n",
       "  </tbody>\n",
       "</table>\n",
       "</div>"
      ],
      "text/plain": [
       "  TRIMESTRES             ESTADO       MUNICIPIO  FEMINICIDIO  \\\n",
       "0    2022-Q1  aguascalientes-ag  Aguascalientes            3   \n",
       "1    2022-Q1  aguascalientes-ag        Asientos            0   \n",
       "2    2022-Q1  aguascalientes-ag        Calvillo            0   \n",
       "3    2022-Q1  aguascalientes-ag           Cosío            0   \n",
       "4    2022-Q1  aguascalientes-ag        El Llano            0   \n",
       "\n",
       "   VIOLENCIA_FAMILIAR  VIOLENCIA_GENERO  TOTAL_DELITOS  \n",
       "0                 419                 4            426  \n",
       "1                  12                 0             12  \n",
       "2                   8                 0              8  \n",
       "3                   8                 0              8  \n",
       "4                   4                 0              4  "
      ]
     },
     "execution_count": 26,
     "metadata": {},
     "output_type": "execute_result"
    }
   ],
   "source": [
    "# Haciendo reshape\n",
    "df_sesnsp_crimenes = df_sesnsp_crimenes.groupby(['TRIMESTRES', 'ESTADO', 'MUNICIPIO', 'TIPO_DELITO'])['CANTIDAD_DELITOS'].sum().unstack('TIPO_DELITO')\n",
    "\n",
    "# Cambiando nombres de las columnas\n",
    "df_sesnsp_crimenes.columns = ['FEMINICIDIO', 'VIOLENCIA_FAMILIAR', 'VIOLENCIA_GENERO']\n",
    "\n",
    "# Agregando columna de delitos totales\n",
    "df_sesnsp_crimenes['TOTAL_DELITOS'] = df_sesnsp_crimenes['FEMINICIDIO'] + df_sesnsp_crimenes['VIOLENCIA_FAMILIAR'] + df_sesnsp_crimenes['VIOLENCIA_GENERO']\n",
    "\n",
    "df_sesnsp_crimenes.reset_index(inplace = True)\n",
    "df_sesnsp_crimenes.head()"
   ]
  },
  {
   "cell_type": "code",
   "execution_count": 27,
   "id": "dbe15542",
   "metadata": {},
   "outputs": [
    {
     "data": {
      "text/html": [
       "<div>\n",
       "<style scoped>\n",
       "    .dataframe tbody tr th:only-of-type {\n",
       "        vertical-align: middle;\n",
       "    }\n",
       "\n",
       "    .dataframe tbody tr th {\n",
       "        vertical-align: top;\n",
       "    }\n",
       "\n",
       "    .dataframe thead th {\n",
       "        text-align: right;\n",
       "    }\n",
       "</style>\n",
       "<table border=\"1\" class=\"dataframe\">\n",
       "  <thead>\n",
       "    <tr style=\"text-align: right;\">\n",
       "      <th></th>\n",
       "      <th>TRIMESTRES</th>\n",
       "      <th>ESTADO</th>\n",
       "      <th>MUNICIPIO</th>\n",
       "      <th>FEMINICIDIO</th>\n",
       "      <th>VIOLENCIA_FAMILIAR</th>\n",
       "      <th>VIOLENCIA_GENERO</th>\n",
       "      <th>TOTAL_DELITOS</th>\n",
       "      <th>ESTADO_ID</th>\n",
       "      <th>MUNICIPIO_ID</th>\n",
       "      <th>SEXO_ID</th>\n",
       "      <th>SEXO</th>\n",
       "      <th>POBLACION</th>\n",
       "    </tr>\n",
       "  </thead>\n",
       "  <tbody>\n",
       "    <tr>\n",
       "      <th>0</th>\n",
       "      <td>2022-Q1</td>\n",
       "      <td>aguascalientes-ag</td>\n",
       "      <td>Aguascalientes</td>\n",
       "      <td>3</td>\n",
       "      <td>419</td>\n",
       "      <td>4</td>\n",
       "      <td>426</td>\n",
       "      <td>1</td>\n",
       "      <td>1001</td>\n",
       "      <td>2</td>\n",
       "      <td>Mujer</td>\n",
       "      <td>897498</td>\n",
       "    </tr>\n",
       "    <tr>\n",
       "      <th>1</th>\n",
       "      <td>2022-Q2</td>\n",
       "      <td>aguascalientes-ag</td>\n",
       "      <td>Aguascalientes</td>\n",
       "      <td>1</td>\n",
       "      <td>541</td>\n",
       "      <td>3</td>\n",
       "      <td>545</td>\n",
       "      <td>1</td>\n",
       "      <td>1001</td>\n",
       "      <td>2</td>\n",
       "      <td>Mujer</td>\n",
       "      <td>897498</td>\n",
       "    </tr>\n",
       "    <tr>\n",
       "      <th>2</th>\n",
       "      <td>2022-Q3</td>\n",
       "      <td>aguascalientes-ag</td>\n",
       "      <td>Aguascalientes</td>\n",
       "      <td>0</td>\n",
       "      <td>167</td>\n",
       "      <td>3</td>\n",
       "      <td>170</td>\n",
       "      <td>1</td>\n",
       "      <td>1001</td>\n",
       "      <td>2</td>\n",
       "      <td>Mujer</td>\n",
       "      <td>897498</td>\n",
       "    </tr>\n",
       "    <tr>\n",
       "      <th>3</th>\n",
       "      <td>2022-Q1</td>\n",
       "      <td>aguascalientes-ag</td>\n",
       "      <td>Asientos</td>\n",
       "      <td>0</td>\n",
       "      <td>12</td>\n",
       "      <td>0</td>\n",
       "      <td>12</td>\n",
       "      <td>1</td>\n",
       "      <td>1002</td>\n",
       "      <td>2</td>\n",
       "      <td>Mujer</td>\n",
       "      <td>49255</td>\n",
       "    </tr>\n",
       "    <tr>\n",
       "      <th>4</th>\n",
       "      <td>2022-Q2</td>\n",
       "      <td>aguascalientes-ag</td>\n",
       "      <td>Asientos</td>\n",
       "      <td>0</td>\n",
       "      <td>12</td>\n",
       "      <td>0</td>\n",
       "      <td>12</td>\n",
       "      <td>1</td>\n",
       "      <td>1002</td>\n",
       "      <td>2</td>\n",
       "      <td>Mujer</td>\n",
       "      <td>49255</td>\n",
       "    </tr>\n",
       "  </tbody>\n",
       "</table>\n",
       "</div>"
      ],
      "text/plain": [
       "  TRIMESTRES             ESTADO       MUNICIPIO  FEMINICIDIO  \\\n",
       "0    2022-Q1  aguascalientes-ag  Aguascalientes            3   \n",
       "1    2022-Q2  aguascalientes-ag  Aguascalientes            1   \n",
       "2    2022-Q3  aguascalientes-ag  Aguascalientes            0   \n",
       "3    2022-Q1  aguascalientes-ag        Asientos            0   \n",
       "4    2022-Q2  aguascalientes-ag        Asientos            0   \n",
       "\n",
       "   VIOLENCIA_FAMILIAR  VIOLENCIA_GENERO  TOTAL_DELITOS  ESTADO_ID  \\\n",
       "0                 419                 4            426          1   \n",
       "1                 541                 3            545          1   \n",
       "2                 167                 3            170          1   \n",
       "3                  12                 0             12          1   \n",
       "4                  12                 0             12          1   \n",
       "\n",
       "   MUNICIPIO_ID  SEXO_ID   SEXO  POBLACION  \n",
       "0          1001        2  Mujer     897498  \n",
       "1          1001        2  Mujer     897498  \n",
       "2          1001        2  Mujer     897498  \n",
       "3          1002        2  Mujer      49255  \n",
       "4          1002        2  Mujer      49255  "
      ]
     },
     "execution_count": 27,
     "metadata": {},
     "output_type": "execute_result"
    }
   ],
   "source": [
    "# Concatenando los crimenes por municipios con el tamaño de la población\n",
    "df_sesnsp_crimenes_pobl = pd.merge(df_sesnsp_crimenes, df_poblacion, on=['ESTADO', 'MUNICIPIO'])\n",
    "df_sesnsp_crimenes_pobl.head()"
   ]
  },
  {
   "cell_type": "code",
   "execution_count": 28,
   "id": "66dbd68c",
   "metadata": {},
   "outputs": [
    {
     "data": {
      "text/html": [
       "<div>\n",
       "<style scoped>\n",
       "    .dataframe tbody tr th:only-of-type {\n",
       "        vertical-align: middle;\n",
       "    }\n",
       "\n",
       "    .dataframe tbody tr th {\n",
       "        vertical-align: top;\n",
       "    }\n",
       "\n",
       "    .dataframe thead th {\n",
       "        text-align: right;\n",
       "    }\n",
       "</style>\n",
       "<table border=\"1\" class=\"dataframe\">\n",
       "  <thead>\n",
       "    <tr style=\"text-align: right;\">\n",
       "      <th></th>\n",
       "      <th>TRIMESTRES</th>\n",
       "      <th>ESTADO</th>\n",
       "      <th>MUNICIPIO</th>\n",
       "      <th>FEMINICIDIO</th>\n",
       "      <th>VIOLENCIA_FAMILIAR</th>\n",
       "      <th>VIOLENCIA_GENERO</th>\n",
       "      <th>TOTAL_DELITOS</th>\n",
       "      <th>ESTADO_ID</th>\n",
       "      <th>MUNICIPIO_ID</th>\n",
       "      <th>SEXO_ID</th>\n",
       "      <th>SEXO</th>\n",
       "      <th>POBLACION</th>\n",
       "    </tr>\n",
       "  </thead>\n",
       "  <tbody>\n",
       "    <tr>\n",
       "      <th>0</th>\n",
       "      <td>2022-Q1</td>\n",
       "      <td>Aguascalientes</td>\n",
       "      <td>Aguascalientes</td>\n",
       "      <td>3</td>\n",
       "      <td>419</td>\n",
       "      <td>4</td>\n",
       "      <td>426</td>\n",
       "      <td>1</td>\n",
       "      <td>1001</td>\n",
       "      <td>2</td>\n",
       "      <td>Mujer</td>\n",
       "      <td>897498</td>\n",
       "    </tr>\n",
       "    <tr>\n",
       "      <th>1</th>\n",
       "      <td>2022-Q2</td>\n",
       "      <td>Aguascalientes</td>\n",
       "      <td>Aguascalientes</td>\n",
       "      <td>1</td>\n",
       "      <td>541</td>\n",
       "      <td>3</td>\n",
       "      <td>545</td>\n",
       "      <td>1</td>\n",
       "      <td>1001</td>\n",
       "      <td>2</td>\n",
       "      <td>Mujer</td>\n",
       "      <td>897498</td>\n",
       "    </tr>\n",
       "    <tr>\n",
       "      <th>2</th>\n",
       "      <td>2022-Q3</td>\n",
       "      <td>Aguascalientes</td>\n",
       "      <td>Aguascalientes</td>\n",
       "      <td>0</td>\n",
       "      <td>167</td>\n",
       "      <td>3</td>\n",
       "      <td>170</td>\n",
       "      <td>1</td>\n",
       "      <td>1001</td>\n",
       "      <td>2</td>\n",
       "      <td>Mujer</td>\n",
       "      <td>897498</td>\n",
       "    </tr>\n",
       "    <tr>\n",
       "      <th>3</th>\n",
       "      <td>2022-Q1</td>\n",
       "      <td>Aguascalientes</td>\n",
       "      <td>Asientos</td>\n",
       "      <td>0</td>\n",
       "      <td>12</td>\n",
       "      <td>0</td>\n",
       "      <td>12</td>\n",
       "      <td>1</td>\n",
       "      <td>1002</td>\n",
       "      <td>2</td>\n",
       "      <td>Mujer</td>\n",
       "      <td>49255</td>\n",
       "    </tr>\n",
       "    <tr>\n",
       "      <th>4</th>\n",
       "      <td>2022-Q2</td>\n",
       "      <td>Aguascalientes</td>\n",
       "      <td>Asientos</td>\n",
       "      <td>0</td>\n",
       "      <td>12</td>\n",
       "      <td>0</td>\n",
       "      <td>12</td>\n",
       "      <td>1</td>\n",
       "      <td>1002</td>\n",
       "      <td>2</td>\n",
       "      <td>Mujer</td>\n",
       "      <td>49255</td>\n",
       "    </tr>\n",
       "  </tbody>\n",
       "</table>\n",
       "</div>"
      ],
      "text/plain": [
       "  TRIMESTRES          ESTADO       MUNICIPIO  FEMINICIDIO  VIOLENCIA_FAMILIAR  \\\n",
       "0    2022-Q1  Aguascalientes  Aguascalientes            3                 419   \n",
       "1    2022-Q2  Aguascalientes  Aguascalientes            1                 541   \n",
       "2    2022-Q3  Aguascalientes  Aguascalientes            0                 167   \n",
       "3    2022-Q1  Aguascalientes        Asientos            0                  12   \n",
       "4    2022-Q2  Aguascalientes        Asientos            0                  12   \n",
       "\n",
       "   VIOLENCIA_GENERO  TOTAL_DELITOS  ESTADO_ID  MUNICIPIO_ID  SEXO_ID   SEXO  \\\n",
       "0                 4            426          1          1001        2  Mujer   \n",
       "1                 3            545          1          1001        2  Mujer   \n",
       "2                 3            170          1          1001        2  Mujer   \n",
       "3                 0             12          1          1002        2  Mujer   \n",
       "4                 0             12          1          1002        2  Mujer   \n",
       "\n",
       "   POBLACION  \n",
       "0     897498  \n",
       "1     897498  \n",
       "2     897498  \n",
       "3      49255  \n",
       "4      49255  "
      ]
     },
     "execution_count": 28,
     "metadata": {},
     "output_type": "execute_result"
    }
   ],
   "source": [
    "#Eliminando abreviatura en el nombre del estado\n",
    "df_sesnsp_crimenes_pobl['ESTADO'] = df_sesnsp_crimenes_pobl.ESTADO.str[:-3]\n",
    "\n",
    "# Eliminando caracter de separacion \"-\"\n",
    "df_sesnsp_crimenes_pobl['ESTADO'] = df_sesnsp_crimenes_pobl.ESTADO.replace('-', ' ', regex=True)\n",
    "\n",
    "#Normalizando nombres de los estados y municipios\n",
    "df_sesnsp_crimenes_pobl['ESTADO'] = [ent.lower().capitalize() for ent in df_sesnsp_crimenes_pobl['ESTADO']]\n",
    "df_sesnsp_crimenes_pobl['MUNICIPIO'] = [mun.lower().capitalize() for mun in df_sesnsp_crimenes_pobl['MUNICIPIO']]\n",
    "\n",
    "df_sesnsp_crimenes_pobl.head()"
   ]
  },
  {
   "cell_type": "code",
   "execution_count": 29,
   "id": "80ec0a05",
   "metadata": {},
   "outputs": [],
   "source": [
    "# Definiendo variables para quitar acentos\n",
    "con_acentos,sin_acentos = 'áéíóúüñÁÉÍÓÚÜÑ','aeiouunAEIOUUN'\n",
    "trans = str.maketrans(con_acentos,sin_acentos)\n",
    "\n",
    "# Quitando acentos a la columna MUNICIPIO\n",
    "df_sesnsp_crimenes_pobl['MUNICIPIO'] = df_sesnsp_crimenes_pobl.MUNICIPIO.str.translate(trans)"
   ]
  },
  {
   "cell_type": "code",
   "execution_count": 30,
   "id": "c5f212f1",
   "metadata": {},
   "outputs": [
    {
     "data": {
      "text/html": [
       "<div>\n",
       "<style scoped>\n",
       "    .dataframe tbody tr th:only-of-type {\n",
       "        vertical-align: middle;\n",
       "    }\n",
       "\n",
       "    .dataframe tbody tr th {\n",
       "        vertical-align: top;\n",
       "    }\n",
       "\n",
       "    .dataframe thead th {\n",
       "        text-align: right;\n",
       "    }\n",
       "</style>\n",
       "<table border=\"1\" class=\"dataframe\">\n",
       "  <thead>\n",
       "    <tr style=\"text-align: right;\">\n",
       "      <th></th>\n",
       "      <th>TRIMESTRES</th>\n",
       "      <th>ESTADO</th>\n",
       "      <th>MUNICIPIO</th>\n",
       "      <th>FEMINICIDIO</th>\n",
       "      <th>VIOLENCIA_FAMILIAR</th>\n",
       "      <th>VIOLENCIA_GENERO</th>\n",
       "      <th>TOTAL_DELITOS</th>\n",
       "      <th>POBLACION</th>\n",
       "    </tr>\n",
       "  </thead>\n",
       "  <tbody>\n",
       "    <tr>\n",
       "      <th>0</th>\n",
       "      <td>2022-Q1</td>\n",
       "      <td>Aguascalientes</td>\n",
       "      <td>Aguascalientes</td>\n",
       "      <td>0.334263</td>\n",
       "      <td>46.685341</td>\n",
       "      <td>0.445683</td>\n",
       "      <td>47.465287</td>\n",
       "      <td>897498</td>\n",
       "    </tr>\n",
       "    <tr>\n",
       "      <th>1</th>\n",
       "      <td>2022-Q2</td>\n",
       "      <td>Aguascalientes</td>\n",
       "      <td>Aguascalientes</td>\n",
       "      <td>0.111421</td>\n",
       "      <td>60.278686</td>\n",
       "      <td>0.334263</td>\n",
       "      <td>60.724369</td>\n",
       "      <td>897498</td>\n",
       "    </tr>\n",
       "    <tr>\n",
       "      <th>2</th>\n",
       "      <td>2022-Q3</td>\n",
       "      <td>Aguascalientes</td>\n",
       "      <td>Aguascalientes</td>\n",
       "      <td>0.000000</td>\n",
       "      <td>18.607284</td>\n",
       "      <td>0.334263</td>\n",
       "      <td>18.941546</td>\n",
       "      <td>897498</td>\n",
       "    </tr>\n",
       "    <tr>\n",
       "      <th>3</th>\n",
       "      <td>2022-Q1</td>\n",
       "      <td>Aguascalientes</td>\n",
       "      <td>Asientos</td>\n",
       "      <td>0.000000</td>\n",
       "      <td>24.363009</td>\n",
       "      <td>0.000000</td>\n",
       "      <td>24.363009</td>\n",
       "      <td>49255</td>\n",
       "    </tr>\n",
       "    <tr>\n",
       "      <th>4</th>\n",
       "      <td>2022-Q2</td>\n",
       "      <td>Aguascalientes</td>\n",
       "      <td>Asientos</td>\n",
       "      <td>0.000000</td>\n",
       "      <td>24.363009</td>\n",
       "      <td>0.000000</td>\n",
       "      <td>24.363009</td>\n",
       "      <td>49255</td>\n",
       "    </tr>\n",
       "  </tbody>\n",
       "</table>\n",
       "</div>"
      ],
      "text/plain": [
       "  TRIMESTRES          ESTADO       MUNICIPIO  FEMINICIDIO  VIOLENCIA_FAMILIAR  \\\n",
       "0    2022-Q1  Aguascalientes  Aguascalientes     0.334263           46.685341   \n",
       "1    2022-Q2  Aguascalientes  Aguascalientes     0.111421           60.278686   \n",
       "2    2022-Q3  Aguascalientes  Aguascalientes     0.000000           18.607284   \n",
       "3    2022-Q1  Aguascalientes        Asientos     0.000000           24.363009   \n",
       "4    2022-Q2  Aguascalientes        Asientos     0.000000           24.363009   \n",
       "\n",
       "   VIOLENCIA_GENERO  TOTAL_DELITOS  POBLACION  \n",
       "0          0.445683      47.465287     897498  \n",
       "1          0.334263      60.724369     897498  \n",
       "2          0.334263      18.941546     897498  \n",
       "3          0.000000      24.363009      49255  \n",
       "4          0.000000      24.363009      49255  "
      ]
     },
     "execution_count": 30,
     "metadata": {},
     "output_type": "execute_result"
    }
   ],
   "source": [
    "# Convirtiendo las cantidades de delitos en tasas por cada 100000 habitantes (mujeres)\n",
    "df_sesnsp_crimenes_pobl['FEMINICIDIO'] = df_sesnsp_crimenes_pobl['FEMINICIDIO']/df_sesnsp_crimenes_pobl['POBLACION']*100000\n",
    "df_sesnsp_crimenes_pobl['VIOLENCIA_FAMILIAR'] = df_sesnsp_crimenes_pobl['VIOLENCIA_FAMILIAR']/df_sesnsp_crimenes_pobl['POBLACION']*100000\n",
    "df_sesnsp_crimenes_pobl['VIOLENCIA_GENERO'] = df_sesnsp_crimenes_pobl['VIOLENCIA_GENERO']/df_sesnsp_crimenes_pobl['POBLACION']*100000\n",
    "df_sesnsp_crimenes_pobl['TOTAL_DELITOS'] = df_sesnsp_crimenes_pobl['TOTAL_DELITOS']/df_sesnsp_crimenes_pobl['POBLACION']*100000\n",
    "\n",
    "# Eliminado columnas\n",
    "df_sesnsp_crimenes_pobl.drop(['ESTADO_ID','MUNICIPIO_ID', 'SEXO_ID', 'SEXO'], axis = 'columns', inplace=True)\n",
    "df_sesnsp_crimenes_pobl.head()"
   ]
  },
  {
   "cell_type": "markdown",
   "id": "1b1bb683",
   "metadata": {},
   "source": [
    "#### ENSU 2022"
   ]
  },
  {
   "cell_type": "code",
   "execution_count": 31,
   "id": "c30118d1",
   "metadata": {},
   "outputs": [
    {
     "data": {
      "text/html": [
       "<div>\n",
       "<style scoped>\n",
       "    .dataframe tbody tr th:only-of-type {\n",
       "        vertical-align: middle;\n",
       "    }\n",
       "\n",
       "    .dataframe tbody tr th {\n",
       "        vertical-align: top;\n",
       "    }\n",
       "\n",
       "    .dataframe thead th {\n",
       "        text-align: right;\n",
       "    }\n",
       "</style>\n",
       "<table border=\"1\" class=\"dataframe\">\n",
       "  <thead>\n",
       "    <tr style=\"text-align: right;\">\n",
       "      <th></th>\n",
       "      <th>ID_VIV</th>\n",
       "      <th>ID_PER</th>\n",
       "      <th>UPM</th>\n",
       "      <th>VIV_SEL</th>\n",
       "      <th>R_SEL</th>\n",
       "      <th>CVE_ENT</th>\n",
       "      <th>NOM_ENT</th>\n",
       "      <th>CVE_MUN</th>\n",
       "      <th>NOM_MUN</th>\n",
       "      <th>LOC</th>\n",
       "      <th>...</th>\n",
       "      <th>BP4_1_7</th>\n",
       "      <th>BP4_1_8</th>\n",
       "      <th>BP4_1_9</th>\n",
       "      <th>BP5_1</th>\n",
       "      <th>FAC_VIV</th>\n",
       "      <th>FAC_SEL</th>\n",
       "      <th>DOMINIO</th>\n",
       "      <th>EST</th>\n",
       "      <th>UPM_DIS</th>\n",
       "      <th>EST_DIS</th>\n",
       "    </tr>\n",
       "  </thead>\n",
       "  <tbody>\n",
       "    <tr>\n",
       "      <th>1</th>\n",
       "      <td>100071.033</td>\n",
       "      <td>0100071.033.03</td>\n",
       "      <td>100071</td>\n",
       "      <td>2</td>\n",
       "      <td>3</td>\n",
       "      <td>1</td>\n",
       "      <td>Aguascalientes</td>\n",
       "      <td>1</td>\n",
       "      <td>Aguascalientes</td>\n",
       "      <td>1</td>\n",
       "      <td>...</td>\n",
       "      <td>2</td>\n",
       "      <td>2</td>\n",
       "      <td>2</td>\n",
       "      <td>1</td>\n",
       "      <td>1032</td>\n",
       "      <td>3097</td>\n",
       "      <td>U</td>\n",
       "      <td>2</td>\n",
       "      <td>1</td>\n",
       "      <td>137</td>\n",
       "    </tr>\n",
       "    <tr>\n",
       "      <th>3</th>\n",
       "      <td>100075.042</td>\n",
       "      <td>0100075.042.02</td>\n",
       "      <td>100075</td>\n",
       "      <td>1</td>\n",
       "      <td>2</td>\n",
       "      <td>1</td>\n",
       "      <td>Aguascalientes</td>\n",
       "      <td>1</td>\n",
       "      <td>Aguascalientes</td>\n",
       "      <td>1</td>\n",
       "      <td>...</td>\n",
       "      <td>2</td>\n",
       "      <td>2</td>\n",
       "      <td>2</td>\n",
       "      <td>1</td>\n",
       "      <td>1126</td>\n",
       "      <td>2252</td>\n",
       "      <td>U</td>\n",
       "      <td>3</td>\n",
       "      <td>2</td>\n",
       "      <td>138</td>\n",
       "    </tr>\n",
       "    <tr>\n",
       "      <th>4</th>\n",
       "      <td>100075.063</td>\n",
       "      <td>0100075.063.02</td>\n",
       "      <td>100075</td>\n",
       "      <td>2</td>\n",
       "      <td>2</td>\n",
       "      <td>1</td>\n",
       "      <td>Aguascalientes</td>\n",
       "      <td>1</td>\n",
       "      <td>Aguascalientes</td>\n",
       "      <td>1</td>\n",
       "      <td>...</td>\n",
       "      <td>2</td>\n",
       "      <td>2</td>\n",
       "      <td>2</td>\n",
       "      <td>3</td>\n",
       "      <td>1126</td>\n",
       "      <td>3378</td>\n",
       "      <td>U</td>\n",
       "      <td>3</td>\n",
       "      <td>2</td>\n",
       "      <td>138</td>\n",
       "    </tr>\n",
       "    <tr>\n",
       "      <th>7</th>\n",
       "      <td>100134.064</td>\n",
       "      <td>0100134.064.02</td>\n",
       "      <td>100134</td>\n",
       "      <td>3</td>\n",
       "      <td>2</td>\n",
       "      <td>1</td>\n",
       "      <td>Aguascalientes</td>\n",
       "      <td>1</td>\n",
       "      <td>Aguascalientes</td>\n",
       "      <td>1</td>\n",
       "      <td>...</td>\n",
       "      <td>2</td>\n",
       "      <td>2</td>\n",
       "      <td>2</td>\n",
       "      <td>1</td>\n",
       "      <td>1025</td>\n",
       "      <td>3076</td>\n",
       "      <td>U</td>\n",
       "      <td>3</td>\n",
       "      <td>3</td>\n",
       "      <td>138</td>\n",
       "    </tr>\n",
       "    <tr>\n",
       "      <th>9</th>\n",
       "      <td>100134.110</td>\n",
       "      <td>0100134.110.02</td>\n",
       "      <td>100134</td>\n",
       "      <td>5</td>\n",
       "      <td>2</td>\n",
       "      <td>1</td>\n",
       "      <td>Aguascalientes</td>\n",
       "      <td>1</td>\n",
       "      <td>Aguascalientes</td>\n",
       "      <td>1</td>\n",
       "      <td>...</td>\n",
       "      <td>2</td>\n",
       "      <td>2</td>\n",
       "      <td>2</td>\n",
       "      <td>1</td>\n",
       "      <td>1025</td>\n",
       "      <td>3076</td>\n",
       "      <td>U</td>\n",
       "      <td>3</td>\n",
       "      <td>3</td>\n",
       "      <td>138</td>\n",
       "    </tr>\n",
       "  </tbody>\n",
       "</table>\n",
       "<p>5 rows × 143 columns</p>\n",
       "</div>"
      ],
      "text/plain": [
       "       ID_VIV          ID_PER     UPM  VIV_SEL  R_SEL  CVE_ENT  \\\n",
       "1  100071.033  0100071.033.03  100071        2      3        1   \n",
       "3  100075.042  0100075.042.02  100075        1      2        1   \n",
       "4  100075.063  0100075.063.02  100075        2      2        1   \n",
       "7  100134.064  0100134.064.02  100134        3      2        1   \n",
       "9  100134.110  0100134.110.02  100134        5      2        1   \n",
       "\n",
       "          NOM_ENT  CVE_MUN         NOM_MUN  LOC  ...  BP4_1_7 BP4_1_8  \\\n",
       "1  Aguascalientes        1  Aguascalientes    1  ...        2       2   \n",
       "3  Aguascalientes        1  Aguascalientes    1  ...        2       2   \n",
       "4  Aguascalientes        1  Aguascalientes    1  ...        2       2   \n",
       "7  Aguascalientes        1  Aguascalientes    1  ...        2       2   \n",
       "9  Aguascalientes        1  Aguascalientes    1  ...        2       2   \n",
       "\n",
       "   BP4_1_9  BP5_1  FAC_VIV  FAC_SEL DOMINIO  EST  UPM_DIS  EST_DIS  \n",
       "1        2      1     1032     3097       U    2        1      137  \n",
       "3        2      1     1126     2252       U    3        2      138  \n",
       "4        2      3     1126     3378       U    3        2      138  \n",
       "7        2      1     1025     3076       U    3        3      138  \n",
       "9        2      1     1025     3076       U    3        3      138  \n",
       "\n",
       "[5 rows x 143 columns]"
      ]
     },
     "execution_count": 31,
     "metadata": {},
     "output_type": "execute_result"
    }
   ],
   "source": [
    "#Obteniendo datos sobre la cantidad de mujeres encuestadas\n",
    "\n",
    "df_mujer_1t = df_1t[(df_1t['SEXO'] == 2)]\n",
    "df_mujer_2t = df_2t[(df_2t['SEXO'] == 2)]\n",
    "df_mujer_3t = df_3t[(df_3t['SEXO'] == 2)]\n",
    "df_mujer_2t.head()"
   ]
  },
  {
   "cell_type": "code",
   "execution_count": 32,
   "id": "842fbbe3",
   "metadata": {},
   "outputs": [
    {
     "data": {
      "text/html": [
       "<div>\n",
       "<style scoped>\n",
       "    .dataframe tbody tr th:only-of-type {\n",
       "        vertical-align: middle;\n",
       "    }\n",
       "\n",
       "    .dataframe tbody tr th {\n",
       "        vertical-align: top;\n",
       "    }\n",
       "\n",
       "    .dataframe thead th {\n",
       "        text-align: right;\n",
       "    }\n",
       "</style>\n",
       "<table border=\"1\" class=\"dataframe\">\n",
       "  <thead>\n",
       "    <tr style=\"text-align: right;\">\n",
       "      <th></th>\n",
       "      <th></th>\n",
       "      <th>ID_PER</th>\n",
       "      <th>TRIMESTRES</th>\n",
       "    </tr>\n",
       "    <tr>\n",
       "      <th>NOM_ENT</th>\n",
       "      <th>NOM_MUN</th>\n",
       "      <th></th>\n",
       "      <th></th>\n",
       "    </tr>\n",
       "  </thead>\n",
       "  <tbody>\n",
       "    <tr>\n",
       "      <th rowspan=\"2\" valign=\"top\">Aguascalientes</th>\n",
       "      <th>Aguascalientes</th>\n",
       "      <td>130</td>\n",
       "      <td>2022-Q2</td>\n",
       "    </tr>\n",
       "    <tr>\n",
       "      <th>Jesus Maria</th>\n",
       "      <td>9</td>\n",
       "      <td>2022-Q2</td>\n",
       "    </tr>\n",
       "    <tr>\n",
       "      <th rowspan=\"2\" valign=\"top\">Baja California</th>\n",
       "      <th>Mexicali</th>\n",
       "      <td>145</td>\n",
       "      <td>2022-Q2</td>\n",
       "    </tr>\n",
       "    <tr>\n",
       "      <th>Tijuana</th>\n",
       "      <td>142</td>\n",
       "      <td>2022-Q2</td>\n",
       "    </tr>\n",
       "    <tr>\n",
       "      <th>Baja California Sur</th>\n",
       "      <th>La Paz</th>\n",
       "      <td>132</td>\n",
       "      <td>2022-Q2</td>\n",
       "    </tr>\n",
       "  </tbody>\n",
       "</table>\n",
       "</div>"
      ],
      "text/plain": [
       "                                    ID_PER TRIMESTRES\n",
       "NOM_ENT             NOM_MUN                          \n",
       "Aguascalientes      Aguascalientes     130    2022-Q2\n",
       "                    Jesus Maria          9    2022-Q2\n",
       "Baja California     Mexicali           145    2022-Q2\n",
       "                    Tijuana            142    2022-Q2\n",
       "Baja California Sur La Paz             132    2022-Q2"
      ]
     },
     "execution_count": 32,
     "metadata": {},
     "output_type": "execute_result"
    }
   ],
   "source": [
    "# Cantidad de mujeres encuestadas por municipios\n",
    "df_encuesta_1 = df_mujer_1t.groupby(['NOM_ENT', 'NOM_MUN']).count()\n",
    "df_encuesta_1 = df_encuesta_1[['ID_PER']]\n",
    "df_encuesta_1['TRIMESTRES'] = '2022-Q1'\n",
    "\n",
    "df_encuesta_2 = df_mujer_2t.groupby(['NOM_ENT', 'NOM_MUN']).count()\n",
    "df_encuesta_2 = df_encuesta_2[['ID_PER']]\n",
    "df_encuesta_2['TRIMESTRES'] = '2022-Q2'\n",
    "\n",
    "df_encuesta_3 = df_mujer_3t.groupby(['NOM_ENT', 'NOM_MUN']).count()\n",
    "df_encuesta_3 = df_encuesta_3[['ID_PER']]\n",
    "df_encuesta_3['TRIMESTRES'] = '2022-Q3'\n",
    "df_encuesta_2.head()"
   ]
  },
  {
   "cell_type": "code",
   "execution_count": 33,
   "id": "9234d0dc",
   "metadata": {},
   "outputs": [],
   "source": [
    "# Obteniendo datos sobre la cantidad de mujeres encuestadas que creen q su ciudad es insegura\n",
    "df_ciudad_1t = df_mujer_1t[df_mujer_1t['BP1_1'] == 2]\n",
    "df_ciudad_2t = df_mujer_2t[df_mujer_2t['BP1_1'] == 2]\n",
    "df_ciudad_3t = df_mujer_3t[df_mujer_3t['BP1_1'] == 2]"
   ]
  },
  {
   "cell_type": "code",
   "execution_count": 34,
   "id": "0630dc2e",
   "metadata": {},
   "outputs": [
    {
     "data": {
      "text/html": [
       "<div>\n",
       "<style scoped>\n",
       "    .dataframe tbody tr th:only-of-type {\n",
       "        vertical-align: middle;\n",
       "    }\n",
       "\n",
       "    .dataframe tbody tr th {\n",
       "        vertical-align: top;\n",
       "    }\n",
       "\n",
       "    .dataframe thead th {\n",
       "        text-align: right;\n",
       "    }\n",
       "</style>\n",
       "<table border=\"1\" class=\"dataframe\">\n",
       "  <thead>\n",
       "    <tr style=\"text-align: right;\">\n",
       "      <th></th>\n",
       "      <th></th>\n",
       "      <th>ID_PER</th>\n",
       "    </tr>\n",
       "    <tr>\n",
       "      <th>NOM_ENT</th>\n",
       "      <th>NOM_MUN</th>\n",
       "      <th></th>\n",
       "    </tr>\n",
       "  </thead>\n",
       "  <tbody>\n",
       "    <tr>\n",
       "      <th rowspan=\"2\" valign=\"top\">AGUASCALIENTES</th>\n",
       "      <th>AGUASCALIENTES</th>\n",
       "      <td>70</td>\n",
       "    </tr>\n",
       "    <tr>\n",
       "      <th>JESUS MARIA</th>\n",
       "      <td>5</td>\n",
       "    </tr>\n",
       "    <tr>\n",
       "      <th rowspan=\"2\" valign=\"top\">BAJA CALIFORNIA</th>\n",
       "      <th>MEXICALI</th>\n",
       "      <td>106</td>\n",
       "    </tr>\n",
       "    <tr>\n",
       "      <th>TIJUANA</th>\n",
       "      <td>95</td>\n",
       "    </tr>\n",
       "    <tr>\n",
       "      <th>BAJA CALIFORNIA SUR</th>\n",
       "      <th>LA PAZ</th>\n",
       "      <td>57</td>\n",
       "    </tr>\n",
       "  </tbody>\n",
       "</table>\n",
       "</div>"
      ],
      "text/plain": [
       "                                    ID_PER\n",
       "NOM_ENT             NOM_MUN               \n",
       "AGUASCALIENTES      AGUASCALIENTES      70\n",
       "                    JESUS MARIA          5\n",
       "BAJA CALIFORNIA     MEXICALI           106\n",
       "                    TIJUANA             95\n",
       "BAJA CALIFORNIA SUR LA PAZ              57"
      ]
     },
     "execution_count": 34,
     "metadata": {},
     "output_type": "execute_result"
    }
   ],
   "source": [
    "# Cantidad de mujeres encuestadas que creen q su ciudad es insegura\n",
    "violencia_estados_1 = df_ciudad_1t.groupby(['NOM_ENT', 'NOM_MUN']).count()\n",
    "violencia_estados_1 = violencia_estados_1[['ID_PER']]\n",
    "\n",
    "violencia_estados_2 = df_ciudad_2t.groupby(['NOM_ENT', 'NOM_MUN']).count()\n",
    "violencia_estados_2 = violencia_estados_2[['ID_PER']]\n",
    "\n",
    "violencia_estados_3 = df_ciudad_3t.groupby(['NOM_ENT', 'NOM_MUN']).count()\n",
    "violencia_estados_3 = violencia_estados_3[['ID_PER']]\n",
    "violencia_estados_3.head()"
   ]
  },
  {
   "cell_type": "code",
   "execution_count": 35,
   "id": "cc773a4a",
   "metadata": {},
   "outputs": [
    {
     "data": {
      "text/html": [
       "<div>\n",
       "<style scoped>\n",
       "    .dataframe tbody tr th:only-of-type {\n",
       "        vertical-align: middle;\n",
       "    }\n",
       "\n",
       "    .dataframe tbody tr th {\n",
       "        vertical-align: top;\n",
       "    }\n",
       "\n",
       "    .dataframe thead th {\n",
       "        text-align: right;\n",
       "    }\n",
       "</style>\n",
       "<table border=\"1\" class=\"dataframe\">\n",
       "  <thead>\n",
       "    <tr style=\"text-align: right;\">\n",
       "      <th></th>\n",
       "      <th>NOM_ENT</th>\n",
       "      <th>NOM_MUN</th>\n",
       "      <th>ID_PER_x</th>\n",
       "      <th>ID_PER_y</th>\n",
       "      <th>TRIMESTRES</th>\n",
       "    </tr>\n",
       "  </thead>\n",
       "  <tbody>\n",
       "    <tr>\n",
       "      <th>0</th>\n",
       "      <td>Aguascalientes</td>\n",
       "      <td>Aguascalientes</td>\n",
       "      <td>70</td>\n",
       "      <td>129</td>\n",
       "      <td>2022-Q3</td>\n",
       "    </tr>\n",
       "    <tr>\n",
       "      <th>1</th>\n",
       "      <td>Aguascalientes</td>\n",
       "      <td>Jesus maria</td>\n",
       "      <td>5</td>\n",
       "      <td>6</td>\n",
       "      <td>2022-Q3</td>\n",
       "    </tr>\n",
       "    <tr>\n",
       "      <th>2</th>\n",
       "      <td>Baja california</td>\n",
       "      <td>Mexicali</td>\n",
       "      <td>106</td>\n",
       "      <td>137</td>\n",
       "      <td>2022-Q3</td>\n",
       "    </tr>\n",
       "    <tr>\n",
       "      <th>3</th>\n",
       "      <td>Baja california</td>\n",
       "      <td>Tijuana</td>\n",
       "      <td>95</td>\n",
       "      <td>124</td>\n",
       "      <td>2022-Q3</td>\n",
       "    </tr>\n",
       "    <tr>\n",
       "      <th>4</th>\n",
       "      <td>Baja california sur</td>\n",
       "      <td>La paz</td>\n",
       "      <td>57</td>\n",
       "      <td>132</td>\n",
       "      <td>2022-Q3</td>\n",
       "    </tr>\n",
       "  </tbody>\n",
       "</table>\n",
       "</div>"
      ],
      "text/plain": [
       "               NOM_ENT         NOM_MUN  ID_PER_x  ID_PER_y TRIMESTRES\n",
       "0       Aguascalientes  Aguascalientes        70       129    2022-Q3\n",
       "1       Aguascalientes     Jesus maria         5         6    2022-Q3\n",
       "2      Baja california        Mexicali       106       137    2022-Q3\n",
       "3      Baja california         Tijuana        95       124    2022-Q3\n",
       "4  Baja california sur          La paz        57       132    2022-Q3"
      ]
     },
     "execution_count": 35,
     "metadata": {},
     "output_type": "execute_result"
    }
   ],
   "source": [
    "## Creando dataframe de percepción de inseguridad de la mujer\n",
    "\n",
    "violencia_percepcion_1 = pd.merge(violencia_estados_1, df_encuesta_1, on=['NOM_ENT', 'NOM_MUN'] )\n",
    "violencia_percepcion_2 = pd.merge(violencia_estados_2, df_encuesta_2, on=['NOM_ENT', 'NOM_MUN'] )    \n",
    "violencia_percepcion_3 = pd.merge(violencia_estados_3, df_encuesta_3, on=['NOM_ENT', 'NOM_MUN'] )\n",
    "\n",
    "#Eliminando columnas como índices\n",
    "violencia_percepcion_1.reset_index(inplace=True)\n",
    "violencia_percepcion_2.reset_index(inplace=True)\n",
    "violencia_percepcion_3.reset_index(inplace=True)\n",
    "\n",
    "#Normalizando nombres de los estados y municipios\n",
    "violencia_percepcion_1['NOM_ENT'] = [ent.lower().capitalize() for ent in violencia_percepcion_1['NOM_ENT']]\n",
    "violencia_percepcion_1['NOM_MUN'] = [mun.lower().capitalize() for mun in violencia_percepcion_1['NOM_MUN']]\n",
    "violencia_percepcion_1['NOM_MUN'] = violencia_percepcion_1.NOM_MUN.str.translate(trans)\n",
    "\n",
    "violencia_percepcion_2['NOM_ENT'] = [ent.lower().capitalize() for ent in violencia_percepcion_2['NOM_ENT']]\n",
    "violencia_percepcion_2['NOM_MUN'] = [mun.lower().capitalize() for mun in violencia_percepcion_2['NOM_MUN']]\n",
    "violencia_percepcion_2['NOM_MUN'] = violencia_percepcion_2.NOM_MUN.str.translate(trans)\n",
    "\n",
    "violencia_percepcion_3['NOM_ENT'] = [ent.lower().capitalize() for ent in violencia_percepcion_3['NOM_ENT']]\n",
    "violencia_percepcion_3['NOM_MUN'] = [mun.lower().capitalize() for mun in violencia_percepcion_3['NOM_MUN']]\n",
    "violencia_percepcion_3['NOM_MUN'] = violencia_percepcion_3.NOM_MUN.str.translate(trans)\n",
    "\n",
    "violencia_percepcion_3.head()"
   ]
  },
  {
   "cell_type": "code",
   "execution_count": 36,
   "id": "52c22eaf",
   "metadata": {},
   "outputs": [
    {
     "data": {
      "text/plain": [
       "(483, 5)"
      ]
     },
     "execution_count": 36,
     "metadata": {},
     "output_type": "execute_result"
    }
   ],
   "source": [
    "# Concatenando los datos de los tres trimestres\n",
    "violencia_percepcion = pd.concat([violencia_percepcion_1, violencia_percepcion_2, violencia_percepcion_3], axis=0)\n",
    "violencia_percepcion.shape"
   ]
  },
  {
   "cell_type": "code",
   "execution_count": 37,
   "id": "34884ea5",
   "metadata": {},
   "outputs": [
    {
     "data": {
      "text/html": [
       "<div>\n",
       "<style scoped>\n",
       "    .dataframe tbody tr th:only-of-type {\n",
       "        vertical-align: middle;\n",
       "    }\n",
       "\n",
       "    .dataframe tbody tr th {\n",
       "        vertical-align: top;\n",
       "    }\n",
       "\n",
       "    .dataframe thead th {\n",
       "        text-align: right;\n",
       "    }\n",
       "</style>\n",
       "<table border=\"1\" class=\"dataframe\">\n",
       "  <thead>\n",
       "    <tr style=\"text-align: right;\">\n",
       "      <th></th>\n",
       "      <th>ESTADO</th>\n",
       "      <th>MUNICIPIO</th>\n",
       "      <th>MUJERES_INSEGURAS</th>\n",
       "      <th>TOTAL_MUJERES</th>\n",
       "      <th>TRIMESTRES</th>\n",
       "    </tr>\n",
       "  </thead>\n",
       "  <tbody>\n",
       "    <tr>\n",
       "      <th>0</th>\n",
       "      <td>Aguascalientes</td>\n",
       "      <td>Aguascalientes</td>\n",
       "      <td>65</td>\n",
       "      <td>130</td>\n",
       "      <td>2022-Q1</td>\n",
       "    </tr>\n",
       "    <tr>\n",
       "      <th>1</th>\n",
       "      <td>Aguascalientes</td>\n",
       "      <td>Jesus maria</td>\n",
       "      <td>7</td>\n",
       "      <td>9</td>\n",
       "      <td>2022-Q1</td>\n",
       "    </tr>\n",
       "    <tr>\n",
       "      <th>2</th>\n",
       "      <td>Baja california</td>\n",
       "      <td>Mexicali</td>\n",
       "      <td>111</td>\n",
       "      <td>144</td>\n",
       "      <td>2022-Q1</td>\n",
       "    </tr>\n",
       "    <tr>\n",
       "      <th>3</th>\n",
       "      <td>Baja california</td>\n",
       "      <td>Tijuana</td>\n",
       "      <td>120</td>\n",
       "      <td>136</td>\n",
       "      <td>2022-Q1</td>\n",
       "    </tr>\n",
       "    <tr>\n",
       "      <th>4</th>\n",
       "      <td>Baja california sur</td>\n",
       "      <td>La paz</td>\n",
       "      <td>58</td>\n",
       "      <td>136</td>\n",
       "      <td>2022-Q1</td>\n",
       "    </tr>\n",
       "  </tbody>\n",
       "</table>\n",
       "</div>"
      ],
      "text/plain": [
       "                ESTADO       MUNICIPIO  MUJERES_INSEGURAS  TOTAL_MUJERES  \\\n",
       "0       Aguascalientes  Aguascalientes                 65            130   \n",
       "1       Aguascalientes     Jesus maria                  7              9   \n",
       "2      Baja california        Mexicali                111            144   \n",
       "3      Baja california         Tijuana                120            136   \n",
       "4  Baja california sur          La paz                 58            136   \n",
       "\n",
       "  TRIMESTRES  \n",
       "0    2022-Q1  \n",
       "1    2022-Q1  \n",
       "2    2022-Q1  \n",
       "3    2022-Q1  \n",
       "4    2022-Q1  "
      ]
     },
     "execution_count": 37,
     "metadata": {},
     "output_type": "execute_result"
    }
   ],
   "source": [
    "violencia_percepcion.columns = ['ESTADO', 'MUNICIPIO', 'MUJERES_INSEGURAS', 'TOTAL_MUJERES', 'TRIMESTRES']\n",
    "violencia_percepcion.head()"
   ]
  },
  {
   "cell_type": "code",
   "execution_count": 38,
   "id": "8f5f1844",
   "metadata": {},
   "outputs": [
    {
     "data": {
      "text/html": [
       "<div>\n",
       "<style scoped>\n",
       "    .dataframe tbody tr th:only-of-type {\n",
       "        vertical-align: middle;\n",
       "    }\n",
       "\n",
       "    .dataframe tbody tr th {\n",
       "        vertical-align: top;\n",
       "    }\n",
       "\n",
       "    .dataframe thead th {\n",
       "        text-align: right;\n",
       "    }\n",
       "</style>\n",
       "<table border=\"1\" class=\"dataframe\">\n",
       "  <thead>\n",
       "    <tr style=\"text-align: right;\">\n",
       "      <th></th>\n",
       "      <th>ESTADO</th>\n",
       "      <th>MUNICIPIO</th>\n",
       "      <th>MUJERES_INSEGURAS</th>\n",
       "      <th>TOTAL_MUJERES</th>\n",
       "      <th>TRIMESTRES</th>\n",
       "      <th>PERCEPCION_INSEGURIDAD</th>\n",
       "    </tr>\n",
       "  </thead>\n",
       "  <tbody>\n",
       "    <tr>\n",
       "      <th>0</th>\n",
       "      <td>Aguascalientes</td>\n",
       "      <td>Aguascalientes</td>\n",
       "      <td>65</td>\n",
       "      <td>130</td>\n",
       "      <td>2022-Q1</td>\n",
       "      <td>50000.000000</td>\n",
       "    </tr>\n",
       "    <tr>\n",
       "      <th>1</th>\n",
       "      <td>Aguascalientes</td>\n",
       "      <td>Jesus maria</td>\n",
       "      <td>7</td>\n",
       "      <td>9</td>\n",
       "      <td>2022-Q1</td>\n",
       "      <td>77777.777778</td>\n",
       "    </tr>\n",
       "    <tr>\n",
       "      <th>2</th>\n",
       "      <td>Baja california</td>\n",
       "      <td>Mexicali</td>\n",
       "      <td>111</td>\n",
       "      <td>144</td>\n",
       "      <td>2022-Q1</td>\n",
       "      <td>77083.333333</td>\n",
       "    </tr>\n",
       "    <tr>\n",
       "      <th>3</th>\n",
       "      <td>Baja california</td>\n",
       "      <td>Tijuana</td>\n",
       "      <td>120</td>\n",
       "      <td>136</td>\n",
       "      <td>2022-Q1</td>\n",
       "      <td>88235.294118</td>\n",
       "    </tr>\n",
       "    <tr>\n",
       "      <th>4</th>\n",
       "      <td>Baja california sur</td>\n",
       "      <td>La paz</td>\n",
       "      <td>58</td>\n",
       "      <td>136</td>\n",
       "      <td>2022-Q1</td>\n",
       "      <td>42647.058824</td>\n",
       "    </tr>\n",
       "  </tbody>\n",
       "</table>\n",
       "</div>"
      ],
      "text/plain": [
       "                ESTADO       MUNICIPIO  MUJERES_INSEGURAS  TOTAL_MUJERES  \\\n",
       "0       Aguascalientes  Aguascalientes                 65            130   \n",
       "1       Aguascalientes     Jesus maria                  7              9   \n",
       "2      Baja california        Mexicali                111            144   \n",
       "3      Baja california         Tijuana                120            136   \n",
       "4  Baja california sur          La paz                 58            136   \n",
       "\n",
       "  TRIMESTRES  PERCEPCION_INSEGURIDAD  \n",
       "0    2022-Q1            50000.000000  \n",
       "1    2022-Q1            77777.777778  \n",
       "2    2022-Q1            77083.333333  \n",
       "3    2022-Q1            88235.294118  \n",
       "4    2022-Q1            42647.058824  "
      ]
     },
     "execution_count": 38,
     "metadata": {},
     "output_type": "execute_result"
    }
   ],
   "source": [
    "# Tasa de percepción de inseguridad por cada 100 mil habitantes: MUJERES_VIOLENTADAS/TOTAL_MUJERES*100 000\n",
    "violencia_percepcion['PERCEPCION_INSEGURIDAD'] =  violencia_percepcion['MUJERES_INSEGURAS']/violencia_percepcion['TOTAL_MUJERES']*100000\n",
    " \n",
    "violencia_percepcion.head()"
   ]
  },
  {
   "cell_type": "code",
   "execution_count": 39,
   "id": "01e59ebb",
   "metadata": {},
   "outputs": [
    {
     "name": "stdout",
     "output_type": "stream",
     "text": [
      "set() set()\n"
     ]
    }
   ],
   "source": [
    "# Comprobando que los nombres coincidan de los estados coincidan\n",
    "e1 = violencia_percepcion.ESTADO.value_counts()\n",
    "e2 = df_sesnsp_crimenes_pobl.ESTADO.value_counts()\n",
    "\n",
    "difference_1 = set(e1.index).difference(set(e2.index))\n",
    "difference_2 = set(e2.index).difference(set(e1.index))\n",
    "print(difference_1, difference_2)"
   ]
  },
  {
   "cell_type": "code",
   "execution_count": 40,
   "id": "283dd932",
   "metadata": {},
   "outputs": [
    {
     "data": {
      "text/plain": [
       "set()"
      ]
     },
     "execution_count": 40,
     "metadata": {},
     "output_type": "execute_result"
    }
   ],
   "source": [
    "# Comprobando que todos los municipios de la encuesta coincidan con alguno de los delitos\n",
    "m1 = violencia_percepcion.MUNICIPIO.value_counts()\n",
    "m2 = df_sesnsp_crimenes_pobl.MUNICIPIO.value_counts()\n",
    "\n",
    "difference_1 = set(m1.index).difference(set(m2.index))\n",
    "difference_1"
   ]
  },
  {
   "cell_type": "code",
   "execution_count": 41,
   "id": "45f9664f",
   "metadata": {},
   "outputs": [
    {
     "data": {
      "text/html": [
       "<div>\n",
       "<style scoped>\n",
       "    .dataframe tbody tr th:only-of-type {\n",
       "        vertical-align: middle;\n",
       "    }\n",
       "\n",
       "    .dataframe tbody tr th {\n",
       "        vertical-align: top;\n",
       "    }\n",
       "\n",
       "    .dataframe thead th {\n",
       "        text-align: right;\n",
       "    }\n",
       "</style>\n",
       "<table border=\"1\" class=\"dataframe\">\n",
       "  <thead>\n",
       "    <tr style=\"text-align: right;\">\n",
       "      <th></th>\n",
       "      <th>ESTADO</th>\n",
       "      <th>MUNICIPIO</th>\n",
       "      <th>MUJERES_INSEGURAS</th>\n",
       "      <th>TOTAL_MUJERES</th>\n",
       "      <th>TRIMESTRES</th>\n",
       "      <th>PERCEPCION_INSEGURIDAD</th>\n",
       "      <th>FEMINICIDIO</th>\n",
       "      <th>VIOLENCIA_FAMILIAR</th>\n",
       "      <th>VIOLENCIA_GENERO</th>\n",
       "      <th>TOTAL_DELITOS</th>\n",
       "      <th>POBLACION</th>\n",
       "    </tr>\n",
       "  </thead>\n",
       "  <tbody>\n",
       "    <tr>\n",
       "      <th>0</th>\n",
       "      <td>Aguascalientes</td>\n",
       "      <td>Aguascalientes</td>\n",
       "      <td>65</td>\n",
       "      <td>130</td>\n",
       "      <td>2022-Q1</td>\n",
       "      <td>50000.000000</td>\n",
       "      <td>0.334263</td>\n",
       "      <td>46.685341</td>\n",
       "      <td>0.445683</td>\n",
       "      <td>47.465287</td>\n",
       "      <td>897498</td>\n",
       "    </tr>\n",
       "    <tr>\n",
       "      <th>1</th>\n",
       "      <td>Aguascalientes</td>\n",
       "      <td>Jesus maria</td>\n",
       "      <td>7</td>\n",
       "      <td>9</td>\n",
       "      <td>2022-Q1</td>\n",
       "      <td>77777.777778</td>\n",
       "      <td>0.860511</td>\n",
       "      <td>37.862490</td>\n",
       "      <td>0.000000</td>\n",
       "      <td>38.723001</td>\n",
       "      <td>116210</td>\n",
       "    </tr>\n",
       "    <tr>\n",
       "      <th>2</th>\n",
       "      <td>Baja california</td>\n",
       "      <td>Mexicali</td>\n",
       "      <td>111</td>\n",
       "      <td>144</td>\n",
       "      <td>2022-Q1</td>\n",
       "      <td>77083.333333</td>\n",
       "      <td>0.203218</td>\n",
       "      <td>105.977949</td>\n",
       "      <td>0.000000</td>\n",
       "      <td>106.181166</td>\n",
       "      <td>984167</td>\n",
       "    </tr>\n",
       "    <tr>\n",
       "      <th>3</th>\n",
       "      <td>Baja california</td>\n",
       "      <td>Tijuana</td>\n",
       "      <td>120</td>\n",
       "      <td>136</td>\n",
       "      <td>2022-Q1</td>\n",
       "      <td>88235.294118</td>\n",
       "      <td>0.173429</td>\n",
       "      <td>64.168786</td>\n",
       "      <td>0.000000</td>\n",
       "      <td>64.342215</td>\n",
       "      <td>1729813</td>\n",
       "    </tr>\n",
       "    <tr>\n",
       "      <th>4</th>\n",
       "      <td>Baja california sur</td>\n",
       "      <td>La paz</td>\n",
       "      <td>58</td>\n",
       "      <td>136</td>\n",
       "      <td>2022-Q1</td>\n",
       "      <td>42647.058824</td>\n",
       "      <td>0.367766</td>\n",
       "      <td>77.966401</td>\n",
       "      <td>0.000000</td>\n",
       "      <td>78.334167</td>\n",
       "      <td>271912</td>\n",
       "    </tr>\n",
       "    <tr>\n",
       "      <th>...</th>\n",
       "      <td>...</td>\n",
       "      <td>...</td>\n",
       "      <td>...</td>\n",
       "      <td>...</td>\n",
       "      <td>...</td>\n",
       "      <td>...</td>\n",
       "      <td>...</td>\n",
       "      <td>...</td>\n",
       "      <td>...</td>\n",
       "      <td>...</td>\n",
       "      <td>...</td>\n",
       "    </tr>\n",
       "    <tr>\n",
       "      <th>478</th>\n",
       "      <td>Yucatan</td>\n",
       "      <td>Progreso</td>\n",
       "      <td>10</td>\n",
       "      <td>14</td>\n",
       "      <td>2022-Q3</td>\n",
       "      <td>71428.571429</td>\n",
       "      <td>0.000000</td>\n",
       "      <td>1.664946</td>\n",
       "      <td>0.000000</td>\n",
       "      <td>1.664946</td>\n",
       "      <td>60062</td>\n",
       "    </tr>\n",
       "    <tr>\n",
       "      <th>479</th>\n",
       "      <td>Yucatan</td>\n",
       "      <td>Uman</td>\n",
       "      <td>1</td>\n",
       "      <td>3</td>\n",
       "      <td>2022-Q3</td>\n",
       "      <td>33333.333333</td>\n",
       "      <td>0.000000</td>\n",
       "      <td>1.659063</td>\n",
       "      <td>0.000000</td>\n",
       "      <td>1.659063</td>\n",
       "      <td>60275</td>\n",
       "    </tr>\n",
       "    <tr>\n",
       "      <th>480</th>\n",
       "      <td>Zacatecas</td>\n",
       "      <td>Fresnillo</td>\n",
       "      <td>145</td>\n",
       "      <td>155</td>\n",
       "      <td>2022-Q3</td>\n",
       "      <td>93548.387097</td>\n",
       "      <td>0.000000</td>\n",
       "      <td>31.957712</td>\n",
       "      <td>0.000000</td>\n",
       "      <td>31.957712</td>\n",
       "      <td>231556</td>\n",
       "    </tr>\n",
       "    <tr>\n",
       "      <th>481</th>\n",
       "      <td>Zacatecas</td>\n",
       "      <td>Guadalupe</td>\n",
       "      <td>63</td>\n",
       "      <td>73</td>\n",
       "      <td>2022-Q3</td>\n",
       "      <td>86301.369863</td>\n",
       "      <td>0.000000</td>\n",
       "      <td>28.208303</td>\n",
       "      <td>0.000000</td>\n",
       "      <td>28.208303</td>\n",
       "      <td>191433</td>\n",
       "    </tr>\n",
       "    <tr>\n",
       "      <th>482</th>\n",
       "      <td>Zacatecas</td>\n",
       "      <td>Zacatecas</td>\n",
       "      <td>76</td>\n",
       "      <td>79</td>\n",
       "      <td>2022-Q3</td>\n",
       "      <td>96202.531646</td>\n",
       "      <td>0.000000</td>\n",
       "      <td>50.162527</td>\n",
       "      <td>0.000000</td>\n",
       "      <td>50.162527</td>\n",
       "      <td>149514</td>\n",
       "    </tr>\n",
       "  </tbody>\n",
       "</table>\n",
       "<p>483 rows × 11 columns</p>\n",
       "</div>"
      ],
      "text/plain": [
       "                  ESTADO       MUNICIPIO  MUJERES_INSEGURAS  TOTAL_MUJERES  \\\n",
       "0         Aguascalientes  Aguascalientes                 65            130   \n",
       "1         Aguascalientes     Jesus maria                  7              9   \n",
       "2        Baja california        Mexicali                111            144   \n",
       "3        Baja california         Tijuana                120            136   \n",
       "4    Baja california sur          La paz                 58            136   \n",
       "..                   ...             ...                ...            ...   \n",
       "478              Yucatan        Progreso                 10             14   \n",
       "479              Yucatan            Uman                  1              3   \n",
       "480            Zacatecas       Fresnillo                145            155   \n",
       "481            Zacatecas       Guadalupe                 63             73   \n",
       "482            Zacatecas       Zacatecas                 76             79   \n",
       "\n",
       "    TRIMESTRES  PERCEPCION_INSEGURIDAD  FEMINICIDIO  VIOLENCIA_FAMILIAR  \\\n",
       "0      2022-Q1            50000.000000     0.334263           46.685341   \n",
       "1      2022-Q1            77777.777778     0.860511           37.862490   \n",
       "2      2022-Q1            77083.333333     0.203218          105.977949   \n",
       "3      2022-Q1            88235.294118     0.173429           64.168786   \n",
       "4      2022-Q1            42647.058824     0.367766           77.966401   \n",
       "..         ...                     ...          ...                 ...   \n",
       "478    2022-Q3            71428.571429     0.000000            1.664946   \n",
       "479    2022-Q3            33333.333333     0.000000            1.659063   \n",
       "480    2022-Q3            93548.387097     0.000000           31.957712   \n",
       "481    2022-Q3            86301.369863     0.000000           28.208303   \n",
       "482    2022-Q3            96202.531646     0.000000           50.162527   \n",
       "\n",
       "     VIOLENCIA_GENERO  TOTAL_DELITOS  POBLACION  \n",
       "0            0.445683      47.465287     897498  \n",
       "1            0.000000      38.723001     116210  \n",
       "2            0.000000     106.181166     984167  \n",
       "3            0.000000      64.342215    1729813  \n",
       "4            0.000000      78.334167     271912  \n",
       "..                ...            ...        ...  \n",
       "478          0.000000       1.664946      60062  \n",
       "479          0.000000       1.659063      60275  \n",
       "480          0.000000      31.957712     231556  \n",
       "481          0.000000      28.208303     191433  \n",
       "482          0.000000      50.162527     149514  \n",
       "\n",
       "[483 rows x 11 columns]"
      ]
     },
     "execution_count": 41,
     "metadata": {},
     "output_type": "execute_result"
    }
   ],
   "source": [
    "# Creando dataframe final sobre la relacion de crímenes de violencia contra la mujer y la percepción de violencia\n",
    "# de violencia según encuesta\n",
    "df = pd.merge(violencia_percepcion, df_sesnsp_crimenes_pobl, on=['TRIMESTRES', 'ESTADO', 'MUNICIPIO'])\n",
    "#df = df[['TRIMESTRES', 'ESTADO', 'MUNICIPIO', 'MUJERES_INSEGURAS', 'TOTAL_MUJERES', 'PERCEPCION_INSEGURIDAD', 'DELITOS']]\n",
    "df"
   ]
  },
  {
   "cell_type": "code",
   "execution_count": 42,
   "id": "93c6ce69",
   "metadata": {},
   "outputs": [
    {
     "data": {
      "text/plain": [
       "ESTADO                            object\n",
       "MUNICIPIO                         object\n",
       "MUJERES_INSEGURAS                  int64\n",
       "TOTAL_MUJERES                      int64\n",
       "TRIMESTRES                        object\n",
       "PERCEPCION_INSEGURIDAD           float64\n",
       "FEMINICIDIO                      float64\n",
       "VIOLENCIA_FAMILIAR               float64\n",
       "VIOLENCIA_GENERO                 float64\n",
       "TOTAL_DELITOS                    float64\n",
       "POBLACION                          int64\n",
       "FECHA                     datetime64[ns]\n",
       "dtype: object"
      ]
     },
     "execution_count": 42,
     "metadata": {},
     "output_type": "execute_result"
    }
   ],
   "source": [
    "# Añadiendo fecha según el trimestre\n",
    "df['FECHA'] = pd.PeriodIndex(df['TRIMESTRES'], freq='Q').to_timestamp()\n",
    "df.dtypes"
   ]
  },
  {
   "cell_type": "code",
   "execution_count": 43,
   "id": "f8380b60",
   "metadata": {},
   "outputs": [
    {
     "data": {
      "text/html": [
       "<div>\n",
       "<style scoped>\n",
       "    .dataframe tbody tr th:only-of-type {\n",
       "        vertical-align: middle;\n",
       "    }\n",
       "\n",
       "    .dataframe tbody tr th {\n",
       "        vertical-align: top;\n",
       "    }\n",
       "\n",
       "    .dataframe thead th {\n",
       "        text-align: right;\n",
       "    }\n",
       "</style>\n",
       "<table border=\"1\" class=\"dataframe\">\n",
       "  <thead>\n",
       "    <tr style=\"text-align: right;\">\n",
       "      <th></th>\n",
       "      <th>ESTADO</th>\n",
       "      <th>MUNICIPIO</th>\n",
       "      <th>MUJERES_INSEGURAS</th>\n",
       "      <th>TOTAL_MUJERES</th>\n",
       "      <th>TRIMESTRES</th>\n",
       "      <th>PERCEPCION_INSEGURIDAD</th>\n",
       "      <th>FEMINICIDIO</th>\n",
       "      <th>VIOLENCIA_FAMILIAR</th>\n",
       "      <th>VIOLENCIA_GENERO</th>\n",
       "      <th>TOTAL_DELITOS</th>\n",
       "      <th>POBLACION</th>\n",
       "      <th>FECHA</th>\n",
       "    </tr>\n",
       "  </thead>\n",
       "  <tbody>\n",
       "    <tr>\n",
       "      <th>0</th>\n",
       "      <td>Aguascalientes</td>\n",
       "      <td>Aguascalientes</td>\n",
       "      <td>65</td>\n",
       "      <td>130</td>\n",
       "      <td>2022-Q1</td>\n",
       "      <td>50000.000000</td>\n",
       "      <td>0.334263</td>\n",
       "      <td>46.685341</td>\n",
       "      <td>0.445683</td>\n",
       "      <td>47.465287</td>\n",
       "      <td>897498</td>\n",
       "      <td>2022-01-01</td>\n",
       "    </tr>\n",
       "    <tr>\n",
       "      <th>1</th>\n",
       "      <td>Aguascalientes</td>\n",
       "      <td>Jesus maria</td>\n",
       "      <td>7</td>\n",
       "      <td>9</td>\n",
       "      <td>2022-Q1</td>\n",
       "      <td>77777.777778</td>\n",
       "      <td>0.860511</td>\n",
       "      <td>37.862490</td>\n",
       "      <td>0.000000</td>\n",
       "      <td>38.723001</td>\n",
       "      <td>116210</td>\n",
       "      <td>2022-01-01</td>\n",
       "    </tr>\n",
       "    <tr>\n",
       "      <th>2</th>\n",
       "      <td>Baja california</td>\n",
       "      <td>Mexicali</td>\n",
       "      <td>111</td>\n",
       "      <td>144</td>\n",
       "      <td>2022-Q1</td>\n",
       "      <td>77083.333333</td>\n",
       "      <td>0.203218</td>\n",
       "      <td>105.977949</td>\n",
       "      <td>0.000000</td>\n",
       "      <td>106.181166</td>\n",
       "      <td>984167</td>\n",
       "      <td>2022-01-01</td>\n",
       "    </tr>\n",
       "    <tr>\n",
       "      <th>3</th>\n",
       "      <td>Baja california</td>\n",
       "      <td>Tijuana</td>\n",
       "      <td>120</td>\n",
       "      <td>136</td>\n",
       "      <td>2022-Q1</td>\n",
       "      <td>88235.294118</td>\n",
       "      <td>0.173429</td>\n",
       "      <td>64.168786</td>\n",
       "      <td>0.000000</td>\n",
       "      <td>64.342215</td>\n",
       "      <td>1729813</td>\n",
       "      <td>2022-01-01</td>\n",
       "    </tr>\n",
       "    <tr>\n",
       "      <th>4</th>\n",
       "      <td>Baja california sur</td>\n",
       "      <td>La paz</td>\n",
       "      <td>58</td>\n",
       "      <td>136</td>\n",
       "      <td>2022-Q1</td>\n",
       "      <td>42647.058824</td>\n",
       "      <td>0.367766</td>\n",
       "      <td>77.966401</td>\n",
       "      <td>0.000000</td>\n",
       "      <td>78.334167</td>\n",
       "      <td>271912</td>\n",
       "      <td>2022-01-01</td>\n",
       "    </tr>\n",
       "    <tr>\n",
       "      <th>...</th>\n",
       "      <td>...</td>\n",
       "      <td>...</td>\n",
       "      <td>...</td>\n",
       "      <td>...</td>\n",
       "      <td>...</td>\n",
       "      <td>...</td>\n",
       "      <td>...</td>\n",
       "      <td>...</td>\n",
       "      <td>...</td>\n",
       "      <td>...</td>\n",
       "      <td>...</td>\n",
       "      <td>...</td>\n",
       "    </tr>\n",
       "    <tr>\n",
       "      <th>478</th>\n",
       "      <td>Yucatan</td>\n",
       "      <td>Progreso</td>\n",
       "      <td>10</td>\n",
       "      <td>14</td>\n",
       "      <td>2022-Q3</td>\n",
       "      <td>71428.571429</td>\n",
       "      <td>0.000000</td>\n",
       "      <td>1.664946</td>\n",
       "      <td>0.000000</td>\n",
       "      <td>1.664946</td>\n",
       "      <td>60062</td>\n",
       "      <td>2022-07-01</td>\n",
       "    </tr>\n",
       "    <tr>\n",
       "      <th>479</th>\n",
       "      <td>Yucatan</td>\n",
       "      <td>Uman</td>\n",
       "      <td>1</td>\n",
       "      <td>3</td>\n",
       "      <td>2022-Q3</td>\n",
       "      <td>33333.333333</td>\n",
       "      <td>0.000000</td>\n",
       "      <td>1.659063</td>\n",
       "      <td>0.000000</td>\n",
       "      <td>1.659063</td>\n",
       "      <td>60275</td>\n",
       "      <td>2022-07-01</td>\n",
       "    </tr>\n",
       "    <tr>\n",
       "      <th>480</th>\n",
       "      <td>Zacatecas</td>\n",
       "      <td>Fresnillo</td>\n",
       "      <td>145</td>\n",
       "      <td>155</td>\n",
       "      <td>2022-Q3</td>\n",
       "      <td>93548.387097</td>\n",
       "      <td>0.000000</td>\n",
       "      <td>31.957712</td>\n",
       "      <td>0.000000</td>\n",
       "      <td>31.957712</td>\n",
       "      <td>231556</td>\n",
       "      <td>2022-07-01</td>\n",
       "    </tr>\n",
       "    <tr>\n",
       "      <th>481</th>\n",
       "      <td>Zacatecas</td>\n",
       "      <td>Guadalupe</td>\n",
       "      <td>63</td>\n",
       "      <td>73</td>\n",
       "      <td>2022-Q3</td>\n",
       "      <td>86301.369863</td>\n",
       "      <td>0.000000</td>\n",
       "      <td>28.208303</td>\n",
       "      <td>0.000000</td>\n",
       "      <td>28.208303</td>\n",
       "      <td>191433</td>\n",
       "      <td>2022-07-01</td>\n",
       "    </tr>\n",
       "    <tr>\n",
       "      <th>482</th>\n",
       "      <td>Zacatecas</td>\n",
       "      <td>Zacatecas</td>\n",
       "      <td>76</td>\n",
       "      <td>79</td>\n",
       "      <td>2022-Q3</td>\n",
       "      <td>96202.531646</td>\n",
       "      <td>0.000000</td>\n",
       "      <td>50.162527</td>\n",
       "      <td>0.000000</td>\n",
       "      <td>50.162527</td>\n",
       "      <td>149514</td>\n",
       "      <td>2022-07-01</td>\n",
       "    </tr>\n",
       "  </tbody>\n",
       "</table>\n",
       "<p>483 rows × 12 columns</p>\n",
       "</div>"
      ],
      "text/plain": [
       "                  ESTADO       MUNICIPIO  MUJERES_INSEGURAS  TOTAL_MUJERES  \\\n",
       "0         Aguascalientes  Aguascalientes                 65            130   \n",
       "1         Aguascalientes     Jesus maria                  7              9   \n",
       "2        Baja california        Mexicali                111            144   \n",
       "3        Baja california         Tijuana                120            136   \n",
       "4    Baja california sur          La paz                 58            136   \n",
       "..                   ...             ...                ...            ...   \n",
       "478              Yucatan        Progreso                 10             14   \n",
       "479              Yucatan            Uman                  1              3   \n",
       "480            Zacatecas       Fresnillo                145            155   \n",
       "481            Zacatecas       Guadalupe                 63             73   \n",
       "482            Zacatecas       Zacatecas                 76             79   \n",
       "\n",
       "    TRIMESTRES  PERCEPCION_INSEGURIDAD  FEMINICIDIO  VIOLENCIA_FAMILIAR  \\\n",
       "0      2022-Q1            50000.000000     0.334263           46.685341   \n",
       "1      2022-Q1            77777.777778     0.860511           37.862490   \n",
       "2      2022-Q1            77083.333333     0.203218          105.977949   \n",
       "3      2022-Q1            88235.294118     0.173429           64.168786   \n",
       "4      2022-Q1            42647.058824     0.367766           77.966401   \n",
       "..         ...                     ...          ...                 ...   \n",
       "478    2022-Q3            71428.571429     0.000000            1.664946   \n",
       "479    2022-Q3            33333.333333     0.000000            1.659063   \n",
       "480    2022-Q3            93548.387097     0.000000           31.957712   \n",
       "481    2022-Q3            86301.369863     0.000000           28.208303   \n",
       "482    2022-Q3            96202.531646     0.000000           50.162527   \n",
       "\n",
       "     VIOLENCIA_GENERO  TOTAL_DELITOS  POBLACION      FECHA  \n",
       "0            0.445683      47.465287     897498 2022-01-01  \n",
       "1            0.000000      38.723001     116210 2022-01-01  \n",
       "2            0.000000     106.181166     984167 2022-01-01  \n",
       "3            0.000000      64.342215    1729813 2022-01-01  \n",
       "4            0.000000      78.334167     271912 2022-01-01  \n",
       "..                ...            ...        ...        ...  \n",
       "478          0.000000       1.664946      60062 2022-07-01  \n",
       "479          0.000000       1.659063      60275 2022-07-01  \n",
       "480          0.000000      31.957712     231556 2022-07-01  \n",
       "481          0.000000      28.208303     191433 2022-07-01  \n",
       "482          0.000000      50.162527     149514 2022-07-01  \n",
       "\n",
       "[483 rows x 12 columns]"
      ]
     },
     "execution_count": 43,
     "metadata": {},
     "output_type": "execute_result"
    }
   ],
   "source": [
    "df"
   ]
  },
  {
   "cell_type": "markdown",
   "id": "a7a25429",
   "metadata": {},
   "source": [
    "## EDA"
   ]
  },
  {
   "cell_type": "markdown",
   "id": "e7d8c189",
   "metadata": {},
   "source": [
    "#### Automático"
   ]
  },
  {
   "cell_type": "code",
   "execution_count": 44,
   "id": "1ae169ce",
   "metadata": {},
   "outputs": [
    {
     "data": {
      "application/vnd.jupyter.widget-view+json": {
       "model_id": "fde5a624abe04f678700f560f8e19a87",
       "version_major": 2,
       "version_minor": 0
      },
      "text/plain": [
       "                                             |                                             | [  0%]   00:00 ->…"
      ]
     },
     "metadata": {},
     "output_type": "display_data"
    },
    {
     "name": "stdout",
     "output_type": "stream",
     "text": [
      "Report eda-sweetview.html was generated! NOTEBOOK/COLAB USERS: the web browser MAY not pop up, regardless, the report IS saved in your notebook/colab files.\n"
     ]
    }
   ],
   "source": [
    "import sweetviz\n",
    "\n",
    "sw_insurance = sweetviz.analyze(df)\n",
    "sw_insurance.show_html(\"eda-sweetview.html\")\n"
   ]
  },
  {
   "cell_type": "markdown",
   "id": "4b4227fc",
   "metadata": {},
   "source": [
    "#### EDA: Relación entre variables"
   ]
  },
  {
   "cell_type": "code",
   "execution_count": 45,
   "id": "66768607",
   "metadata": {},
   "outputs": [
    {
     "data": {
      "text/html": [
       "<div>\n",
       "<style scoped>\n",
       "    .dataframe tbody tr th:only-of-type {\n",
       "        vertical-align: middle;\n",
       "    }\n",
       "\n",
       "    .dataframe tbody tr th {\n",
       "        vertical-align: top;\n",
       "    }\n",
       "\n",
       "    .dataframe thead th {\n",
       "        text-align: right;\n",
       "    }\n",
       "</style>\n",
       "<table border=\"1\" class=\"dataframe\">\n",
       "  <thead>\n",
       "    <tr style=\"text-align: right;\">\n",
       "      <th></th>\n",
       "      <th>MUJERES_INSEGURAS</th>\n",
       "      <th>TOTAL_MUJERES</th>\n",
       "      <th>PERCEPCION_INSEGURIDAD</th>\n",
       "      <th>FEMINICIDIO</th>\n",
       "      <th>VIOLENCIA_FAMILIAR</th>\n",
       "      <th>VIOLENCIA_GENERO</th>\n",
       "      <th>TOTAL_DELITOS</th>\n",
       "      <th>POBLACION</th>\n",
       "    </tr>\n",
       "  </thead>\n",
       "  <tbody>\n",
       "    <tr>\n",
       "      <th>count</th>\n",
       "      <td>483.000000</td>\n",
       "      <td>483.000000</td>\n",
       "      <td>483.000000</td>\n",
       "      <td>483.000000</td>\n",
       "      <td>483.000000</td>\n",
       "      <td>483.000000</td>\n",
       "      <td>483.000000</td>\n",
       "      <td>4.830000e+02</td>\n",
       "    </tr>\n",
       "    <tr>\n",
       "      <th>mean</th>\n",
       "      <td>54.513458</td>\n",
       "      <td>79.968944</td>\n",
       "      <td>67841.693347</td>\n",
       "      <td>0.113474</td>\n",
       "      <td>49.652591</td>\n",
       "      <td>0.675438</td>\n",
       "      <td>50.441503</td>\n",
       "      <td>3.810402e+05</td>\n",
       "    </tr>\n",
       "    <tr>\n",
       "      <th>std</th>\n",
       "      <td>47.392260</td>\n",
       "      <td>63.207137</td>\n",
       "      <td>20723.947430</td>\n",
       "      <td>0.243437</td>\n",
       "      <td>42.153813</td>\n",
       "      <td>2.147525</td>\n",
       "      <td>42.219977</td>\n",
       "      <td>4.061634e+05</td>\n",
       "    </tr>\n",
       "    <tr>\n",
       "      <th>min</th>\n",
       "      <td>1.000000</td>\n",
       "      <td>1.000000</td>\n",
       "      <td>11111.111111</td>\n",
       "      <td>0.000000</td>\n",
       "      <td>0.000000</td>\n",
       "      <td>0.000000</td>\n",
       "      <td>0.000000</td>\n",
       "      <td>4.052000e+03</td>\n",
       "    </tr>\n",
       "    <tr>\n",
       "      <th>25%</th>\n",
       "      <td>6.000000</td>\n",
       "      <td>10.000000</td>\n",
       "      <td>54215.116279</td>\n",
       "      <td>0.000000</td>\n",
       "      <td>16.139716</td>\n",
       "      <td>0.000000</td>\n",
       "      <td>16.901154</td>\n",
       "      <td>9.065800e+04</td>\n",
       "    </tr>\n",
       "    <tr>\n",
       "      <th>50%</th>\n",
       "      <td>49.000000</td>\n",
       "      <td>100.000000</td>\n",
       "      <td>70289.855072</td>\n",
       "      <td>0.000000</td>\n",
       "      <td>39.616890</td>\n",
       "      <td>0.000000</td>\n",
       "      <td>40.195869</td>\n",
       "      <td>2.374130e+05</td>\n",
       "    </tr>\n",
       "    <tr>\n",
       "      <th>75%</th>\n",
       "      <td>98.000000</td>\n",
       "      <td>141.000000</td>\n",
       "      <td>83624.793549</td>\n",
       "      <td>0.126062</td>\n",
       "      <td>77.744616</td>\n",
       "      <td>0.000000</td>\n",
       "      <td>78.913934</td>\n",
       "      <td>5.768390e+05</td>\n",
       "    </tr>\n",
       "    <tr>\n",
       "      <th>max</th>\n",
       "      <td>158.000000</td>\n",
       "      <td>173.000000</td>\n",
       "      <td>100000.000000</td>\n",
       "      <td>1.664946</td>\n",
       "      <td>214.377693</td>\n",
       "      <td>15.733475</td>\n",
       "      <td>214.377693</td>\n",
       "      <td>1.882623e+06</td>\n",
       "    </tr>\n",
       "  </tbody>\n",
       "</table>\n",
       "</div>"
      ],
      "text/plain": [
       "       MUJERES_INSEGURAS  TOTAL_MUJERES  PERCEPCION_INSEGURIDAD  FEMINICIDIO  \\\n",
       "count         483.000000     483.000000              483.000000   483.000000   \n",
       "mean           54.513458      79.968944            67841.693347     0.113474   \n",
       "std            47.392260      63.207137            20723.947430     0.243437   \n",
       "min             1.000000       1.000000            11111.111111     0.000000   \n",
       "25%             6.000000      10.000000            54215.116279     0.000000   \n",
       "50%            49.000000     100.000000            70289.855072     0.000000   \n",
       "75%            98.000000     141.000000            83624.793549     0.126062   \n",
       "max           158.000000     173.000000           100000.000000     1.664946   \n",
       "\n",
       "       VIOLENCIA_FAMILIAR  VIOLENCIA_GENERO  TOTAL_DELITOS     POBLACION  \n",
       "count          483.000000        483.000000     483.000000  4.830000e+02  \n",
       "mean            49.652591          0.675438      50.441503  3.810402e+05  \n",
       "std             42.153813          2.147525      42.219977  4.061634e+05  \n",
       "min              0.000000          0.000000       0.000000  4.052000e+03  \n",
       "25%             16.139716          0.000000      16.901154  9.065800e+04  \n",
       "50%             39.616890          0.000000      40.195869  2.374130e+05  \n",
       "75%             77.744616          0.000000      78.913934  5.768390e+05  \n",
       "max            214.377693         15.733475     214.377693  1.882623e+06  "
      ]
     },
     "execution_count": 45,
     "metadata": {},
     "output_type": "execute_result"
    }
   ],
   "source": [
    "df.describe()"
   ]
  },
  {
   "cell_type": "code",
   "execution_count": 48,
   "id": "024c5108",
   "metadata": {},
   "outputs": [
    {
     "data": {
      "application/vnd.plotly.v1+json": {
       "config": {
        "plotlyServerURL": "https://plot.ly"
       },
       "data": [
        {
         "hovertemplate": "PERCEPCION_INSEGURIDAD=%{x}<br>TOTAL_DELITOS=%{y}<extra></extra>",
         "legendgroup": "",
         "marker": {
          "color": "#636efa",
          "symbol": "circle"
         },
         "mode": "markers",
         "name": "",
         "orientation": "v",
         "showlegend": false,
         "type": "scatter",
         "x": [
          50000,
          77777.77777777778,
          77083.33333333334,
          88235.29411764706,
          42647.05882352941,
          33333.33333333333,
          48905.109489051094,
          62698.4126984127,
          53333.333333333336,
          83211.67883211678,
          82978.72340425532,
          57534.24657534246,
          82269.50354609928,
          72000,
          85714.28571428571,
          28260.86956521739,
          54166.666666666664,
          45112.781954887214,
          65648.85496183205,
          70625,
          72222.22222222222,
          83561.64383561644,
          71942.44604316546,
          61290.32258064516,
          55696.20253164557,
          70000,
          68627.45098039215,
          59872.61146496815,
          79591.83673469388,
          76923.07692307692,
          75000,
          31617.647058823528,
          44444.444444444445,
          30327.868852459018,
          51898.73417721519,
          92592.5925925926,
          80985.91549295775,
          93617.02127659574,
          48591.54929577465,
          55263.15789473685,
          61538.46153846154,
          70238.09523809524,
          92546.58385093167,
          83687.94326241134,
          75000,
          86666.66666666667,
          76422.76422764228,
          79452.05479452055,
          68085.10638297872,
          63157.8947368421,
          55555.555555555555,
          87837.83783783784,
          38848.92086330936,
          72992.700729927,
          71126.76056338029,
          77205.88235294117,
          64238.410596026486,
          100000,
          66049.38271604938,
          79452.05479452055,
          89403.97350993377,
          90131.57894736841,
          57142.85714285714,
          62500,
          85064.93506493507,
          79113.92405063291,
          25000,
          83206.106870229,
          86666.66666666667,
          92857.14285714286,
          59259.259259259255,
          82580.64516129032,
          92156.86274509803,
          91228.0701754386,
          80952.38095238095,
          72727.27272727274,
          81250,
          100000,
          49655.1724137931,
          23529.41176470588,
          44628.09917355372,
          68548.38709677418,
          60416.666666666664,
          76153.84615384616,
          35338.34586466165,
          13235.29411764706,
          70247.93388429753,
          100000,
          79069.76744186046,
          33333.33333333333,
          50000,
          66666.66666666666,
          100000,
          100000,
          100000,
          80000,
          89285.71428571429,
          56250,
          66666.66666666666,
          100000,
          100000,
          66666.66666666666,
          66666.66666666666,
          82644.62809917355,
          100000,
          60000,
          45833.33333333333,
          60526.31578947369,
          90225.56390977443,
          65000,
          82407.4074074074,
          70731.70731707316,
          29452.05479452055,
          61224.489795918365,
          45637.58389261745,
          94776.11940298507,
          64705.88235294118,
          57364.34108527132,
          80916.03053435114,
          91666.66666666666,
          21052.631578947367,
          19047.619047619046,
          70229.00763358778,
          86290.32258064517,
          29310.344827586203,
          61702.12765957447,
          75000,
          82352.94117647059,
          60000,
          75000,
          100000,
          100000,
          11111.111111111111,
          50000,
          50000,
          50000,
          50000,
          50000,
          75000,
          77777.77777777778,
          50000,
          40000,
          100000,
          75000,
          57142.85714285714,
          54545.454545454544,
          70454.54545454546,
          87500,
          100000,
          33333.33333333333,
          38461.53846153846,
          73118.27956989247,
          64516.12903225806,
          20000,
          25862.068965517243,
          66666.66666666666,
          12500,
          96319.01840490797,
          90277.77777777778,
          97333.33333333334,
          55384.61538461539,
          88888.88888888889,
          82068.96551724138,
          84507.04225352113,
          45454.545454545456,
          31147.54098360656,
          52413.79310344828,
          72661.87050359712,
          81818.18181818182,
          91216.21621621621,
          87671.23287671233,
          67763.15789473685,
          73648.64864864865,
          80272.10884353741,
          73381.29496402877,
          33333.33333333333,
          57534.24657534246,
          40136.054421768706,
          70289.85507246378,
          63576.158940397356,
          76086.95652173914,
          75539.56834532374,
          63909.77443609023,
          47651.00671140939,
          64000,
          76595.74468085106,
          70068.02721088435,
          61875,
          86428.57142857143,
          70000,
          33333.33333333333,
          34400,
          57142.85714285714,
          36290.32258064516,
          44303.79746835443,
          91379.3103448276,
          76223.77622377622,
          92631.57894736843,
          57142.85714285714,
          68571.42857142857,
          33333.33333333333,
          76470.58823529411,
          92592.5925925926,
          88157.8947368421,
          100000,
          85714.28571428571,
          77536.23188405797,
          86624.20382165605,
          87142.85714285714,
          58974.35897435898,
          56862.74509803922,
          86301.3698630137,
          50675.67567567568,
          69503.54609929078,
          74285.71428571429,
          76223.77622377622,
          64539.00709219858,
          100000,
          78064.51612903226,
          86111.11111111111,
          90789.47368421053,
          82432.43243243244,
          85714.28571428571,
          84210.52631578947,
          85625,
          76729.55974842768,
          80000,
          80689.65517241378,
          88636.36363636363,
          88888.88888888889,
          66433.56643356643,
          83333.33333333334,
          90909.09090909091,
          87272.72727272726,
          57142.85714285714,
          88571.42857142857,
          86666.66666666667,
          83333.33333333334,
          53571.42857142857,
          25000,
          56934.30656934306,
          75373.13432835821,
          64864.86486486487,
          78985.5072463768,
          38970.58823529412,
          15909.090909090908,
          70833.33333333334,
          100000,
          81818.18181818182,
          66666.66666666666,
          50000,
          33333.33333333333,
          100000,
          100000,
          60000,
          78571.42857142857,
          66666.66666666666,
          30000,
          50000,
          100000,
          100000,
          66666.66666666666,
          88617.8861788618,
          100000,
          92307.69230769231,
          47058.82352941176,
          71428.57142857143,
          90625,
          68309.85915492958,
          89215.6862745098,
          88095.23809523809,
          41379.31034482759,
          67123.28767123287,
          58695.65217391305,
          93023.25581395348,
          64666.666666666664,
          66141.73228346457,
          73846.15384615384,
          70000,
          43589.74358974359,
          23684.210526315786,
          61194.029850746265,
          85365.85365853658,
          35087.71929824561,
          57142.85714285714,
          50000,
          64285.71428571429,
          66666.66666666666,
          50000,
          66666.66666666666,
          100000,
          66666.66666666666,
          42857.142857142855,
          50000,
          100000,
          60000,
          50000,
          60000,
          50000,
          68750,
          45000,
          25000,
          50000,
          75000,
          42857.142857142855,
          75000,
          59523.80952380953,
          88489.20863309353,
          100000,
          50000,
          75531.91489361702,
          74400,
          60000,
          38392.857142857145,
          63636.36363636363,
          42857.142857142855,
          96932.5153374233,
          87692.30769230769,
          96103.8961038961,
          54263.56589147286,
          83333.33333333334,
          77372.26277372263,
          76612.90322580645,
          43181.818181818184,
          28688.524590163932,
          55704.69798657718,
          71014.4927536232,
          72727.27272727274,
          88435.37414965987,
          80136.98630136986,
          60927.1523178808,
          87500,
          68000,
          78873.23943661971,
          21428.571428571428,
          55555.555555555555,
          29333.333333333332,
          70149.25373134328,
          66000,
          75714.28571428571,
          74324.32432432432,
          65693.4306569343,
          49645.39007092199,
          58666.666666666664,
          81690.14084507042,
          64539.00709219858,
          53642.384105960264,
          72340.4255319149,
          30000,
          50000,
          32142.857142857145,
          36363.63636363637,
          30708.661417322837,
          48648.648648648654,
          83870.96774193548,
          80419.58041958042,
          91139.24050632911,
          42567.56756756757,
          72972.97297297297,
          85714.28571428571,
          73988.43930635838,
          96078.43137254902,
          80821.91780821918,
          75000,
          83333.33333333334,
          75939.84962406015,
          81208.05369127517,
          68493.1506849315,
          65853.65853658537,
          50000,
          86666.66666666667,
          36567.164179104475,
          75373.13432835821,
          72463.76811594203,
          80132.45033112583,
          65986.39455782312,
          100000,
          69178.08219178082,
          86896.55172413793,
          85211.2676056338,
          86206.89655172413,
          71428.57142857143,
          85000,
          90714.28571428571,
          77551.02040816327,
          60000,
          81045.75163398693,
          86585.36585365854,
          95000,
          53146.853146853144,
          84000,
          88125,
          81034.48275862068,
          75000,
          68571.42857142857,
          93750,
          87500,
          44827.58620689655,
          35714.28571428572,
          44755.244755244756,
          61594.20289855072,
          56081.08108108109,
          80000,
          36363.63636363637,
          15384.615384615385,
          70833.33333333334,
          100000,
          84090.90909090909,
          50000,
          50000,
          33333.33333333333,
          66666.66666666666,
          100000,
          83333.33333333334,
          60000,
          71428.57142857143,
          50000,
          50000,
          71428.57142857143,
          100000,
          100000,
          80000,
          100000,
          77165.35433070865,
          100000,
          91666.66666666666,
          54545.454545454544,
          58620.689655172406,
          86956.52173913043,
          73758.86524822694,
          86597.9381443299,
          80952.38095238095,
          28859.060402684565,
          60402.68456375839,
          51515.15151515151,
          94573.64341085272,
          68750,
          54961.83206106871,
          73684.21052631579,
          60000,
          25000,
          22222.222222222223,
          56643.356643356645,
          72950.81967213115,
          29032.258064516132,
          51388.88888888888,
          50000,
          62500,
          66666.66666666666,
          60000,
          100000,
          75000,
          75000,
          37500,
          50000,
          66666.66666666666,
          25000,
          66666.66666666666,
          54545.454545454544,
          33333.33333333333,
          60000,
          100000,
          68421.05263157895,
          71428.57142857143,
          50000,
          44444.444444444445,
          75000,
          33333.33333333333,
          83333.33333333334,
          75000,
          84000,
          100000,
          100000,
          58333.333333333336,
          70000,
          70940.17094017094,
          69230.76923076923,
          30769.23076923077,
          71428.57142857143,
          33333.33333333333,
          93548.38709677418,
          86301.3698630137,
          96202.53164556962
         ],
         "xaxis": "x",
         "y": [
          47.46528683072275,
          38.72300146286894,
          106.18116640773364,
          64.34221502555478,
          78.33416693636175,
          90.35100314127325,
          83.92606114013554,
          6.763068573288415,
          13.832488563496064,
          46.79524353622756,
          11.715089034676664,
          82.40031449823539,
          121.59675029344271,
          84.71062977219258,
          95.53433068782475,
          63.71000836618971,
          84.80517770817835,
          70.5205266794771,
          116.27515976773284,
          90.68508908380284,
          124.11411737718377,
          74.52368318032872,
          117.74944964931143,
          67.26698073826704,
          111.26160990712074,
          125.52366095181027,
          85.43254311784716,
          93.51005504292567,
          88.67442052297285,
          96.0758734971618,
          86.03289103603454,
          128.03472789571876,
          83.78154737277616,
          118.08055965729409,
          113.69688582507045,
          197.13135476603452,
          148.58756741735525,
          133.80621119799721,
          98.03471744283857,
          82.09624727051137,
          72.83936967931167,
          114.60803523800973,
          80.61174781871544,
          38.03035095426974,
          20.639568633015568,
          28.700581186769032,
          45.74066148599514,
          76.32727682449452,
          34.548975180980385,
          95.39061009521718,
          106.09106804890668,
          45.84283658899892,
          42.52885362741791,
          45.0880664378752,
          61.51702721998489,
          50.41381338486745,
          38.728275521143196,
          48.349005436163814,
          31.988782855544788,
          26.606101864210782,
          46.7842644676242,
          33.54029285568184,
          39.485011877868324,
          43.38431341164974,
          41.475746563438136,
          27.58845104995278,
          64.42780059595715,
          22.54011049016742,
          56.239957150508836,
          45.25934658134052,
          14.352922414480503,
          17.392171576813194,
          1.7271952651820464,
          92.08854785798466,
          74.6657938610398,
          55.49726011425906,
          84.85327105159247,
          94.32571849668386,
          34.54823948936253,
          6.829201666325207,
          66.15984012226748,
          109.44253906690635,
          57.5572002855318,
          68.31105050590973,
          45.24709298970167,
          52.74104887832417,
          66.95065771216073,
          114.4950767117014,
          94.05134014418874,
          19.646365422396855,
          99.83028850953379,
          85.295121119072,
          63.406515019418244,
          29.090062834535722,
          67.04659738518271,
          104.97416020671835,
          90.04523448838417,
          92.72045768396133,
          43.42633807404191,
          53.29070077271516,
          53.32736984251223,
          49.47778447477083,
          50.0751126690035,
          38.32568300572871,
          40.16216421020725,
          40.78303425774878,
          28.378857750975524,
          66.58049539687146,
          76.43796513144119,
          93.69856425607071,
          99.47999614471988,
          104.47083252222437,
          64.96455048577299,
          59.98218455326976,
          24.047107237551963,
          47.3753363532193,
          47.88370303736091,
          65.00523768316364,
          108.60850664036221,
          47.83667822106433,
          44.46896642593035,
          47.502101968012084,
          25.205066463068462,
          58.98908777697575,
          40.189695362109155,
          74.14701963737473,
          13.162224415926293,
          2.424800863229107,
          11.040269382572935,
          2.65188681747063,
          0,
          7.729468599033816,
          0,
          18.12250815512867,
          8.913450396648543,
          0,
          9.065009065009065,
          0,
          0,
          0,
          49.044139725753176,
          0,
          22.151337940811626,
          0,
          0,
          11.381225530365109,
          54.67869597978222,
          53.62905628541948,
          20.073189938699564,
          30.643826801090924,
          12.31462097355875,
          68.67006247500672,
          53.15501702343761,
          0,
          2.856683369447454,
          1.6649462222370217,
          0,
          65.64286824785366,
          86.71441183077108,
          79.59120885000736,
          60.72436930221572,
          43.02555718096549,
          138.39114703094089,
          77.58064021949194,
          101.13566153755627,
          136.5770977716921,
          83.22667729730108,
          24.93881536400103,
          14.820523460888637,
          27.84747621481026,
          11.055084018638542,
          102.27855748365874,
          153.73655068910685,
          93.18169274941184,
          111.45671913579554,
          81.39463702299682,
          103.48068615654974,
          81.87953768825194,
          136.2737793320461,
          105.30908092704671,
          156.47071607084646,
          90.40577959580861,
          145.31621043677563,
          87.7810245095116,
          160.32728881026094,
          140.76213007970495,
          86.00114573427209,
          107.17857816984984,
          104.71372139276123,
          116.34876423509502,
          178.6836967671487,
          151.2029167530393,
          117.91477037649979,
          166.60003490431637,
          149.29894098241573,
          207.37194462401033,
          178.64535777277445,
          214.37769320969448,
          148.81088934770972,
          114.82189910342998,
          64.38479998439156,
          141.0154166292562,
          88.06616750947838,
          54.062753807540325,
          34.829272068213776,
          23.119912622675052,
          51.626859210734466,
          73.78303426367802,
          33.745510641887826,
          105.79685846924087,
          140.79987426243787,
          50.92163481168685,
          56.4607194708824,
          51.333372937716014,
          68.79509804601128,
          50.22285197053084,
          43.11125289923176,
          68.18449484587204,
          48.07894908228588,
          46.67215634280551,
          68.99313709427848,
          45.3884455164763,
          49.19444102816382,
          79.18690214941894,
          64.36292323850064,
          46.15760079511331,
          83.986240062587,
          37.80921759640987,
          81.01231922870916,
          67.88901987201078,
          9.037025223932169,
          20.676008168239463,
          2.0150611427123875,
          111.22051763457426,
          81.82552751894772,
          70.42089308616066,
          96.61511060329836,
          84.00884303610907,
          53.392733756287534,
          22.19490541555692,
          103.42817383455252,
          145.44337428628344,
          101.58920990344517,
          104.85355655799106,
          72.25683727437053,
          84.68281087505572,
          102.33390686573792,
          137.3940920540417,
          100.6943716041872,
          58.93909626719057,
          89.84725965858041,
          85.295121119072,
          87.1839581517001,
          87.27018850360717,
          185.72351421188628,
          96.40136868756422,
          69.04714933912014,
          75.99609162957334,
          97.69961808331112,
          43.866062289808454,
          44.080207986614006,
          45.522829699094096,
          47.92191275368552,
          58.34880460728224,
          52.64718967818478,
          48.02575927088165,
          102.66691287029465,
          95.45110603808537,
          100.74668634612912,
          128.16511614031384,
          136.2663032898579,
          78.45200041361512,
          78.64096603996352,
          36.17521349649122,
          53.90986550538749,
          50.90549012224292,
          81.56708167887412,
          147.30303532194876,
          62.555656135237975,
          72.46794528670131,
          76.00336314881933,
          47.47362032849788,
          91.89559689677971,
          59.15923157302468,
          93.26304813763541,
          6.581112207963146,
          3.637201294843661,
          6.900168364108084,
          15.911320904823782,
          0,
          15.458937198067632,
          7.144643303683063,
          6.38060296698038,
          0,
          0,
          3.885003885003885,
          14.068655036578503,
          39.33910306845004,
          8.289811821271657,
          0,
          18.01621459313382,
          0,
          17.7210703526493,
          0,
          7.693491306354824,
          9.104980424292087,
          59.34638953903192,
          57.392498831764705,
          33.97001374241465,
          33.42539978537375,
          89.32024832667938,
          61.849517949204355,
          0.899814638184534,
          3.06828954496208,
          1.6649462222370217,
          0,
          97.60058042115082,
          120.14647422335752,
          111.02639217732118,
          18.941546387847104,
          17.210222872386197,
          45.11429462682654,
          30.176672276136205,
          34.20224190179176,
          43.07431545107213,
          27.975353713378514,
          7.185760359118941,
          8.892314076533184,
          7.464271975103782,
          4.950037620285914,
          33.42654267381247,
          54.78534903330935,
          28.750274346925966,
          33.63884883374111,
          27.66057302731368,
          35.36100370142454,
          28.870819647302707,
          39.46630232603413,
          31.780630318557925,
          45.878759341760535,
          29.214558623792442,
          44.50062812833509,
          30.055459478800163,
          52.52100840336134,
          34.0928461844423,
          27.008624280184623,
          33.19498473681584,
          38.7234549570605,
          26.442900962521595,
          43.01644551801727,
          34.142594105525,
          0,
          49.50966861941051,
          40.19586872603501,
          75.52435020257167,
          45.937377712999144,
          65.46432913450403,
          37.47036782136576,
          31.032945703629725,
          25.363709084760313,
          43.308105481644226,
          35.71187107667824,
          16.84023710556716,
          7.739838237380839,
          11.161337128187956,
          18.149109651279574,
          25.805888831138624,
          12.051968086388507,
          20.812496748047383,
          27.832533284435392,
          14.501305451622109,
          16.13163413453783,
          14.318507585000907,
          21.834212478079145,
          16.23172021861263,
          12.502263340777208,
          22.314925585921763,
          13.983120649429756,
          13.526007092978665,
          20.02439335190141,
          11.848152660794463,
          14.887791363786418,
          20.63913939000813,
          16.96207002314277,
          14.678470750936414,
          13.805957270562248,
          9.888564602137967,
          23.32172826281021,
          16.31441562815763,
          4.784307471493501,
          6.810920337772999,
          0.2878658775303411,
          27.55003647828904,
          35.79866828953963,
          24.71726710971202,
          29.404598879264714,
          28.00294767870302,
          9.422247133462506,
          0,
          32.139663935365085,
          44.88104124015677,
          30.356539053988055,
          32.2025409627605,
          22.392693979597254,
          28.22760362501857,
          36.770827551756675,
          22.89901534234028,
          34.613690238939355,
          29.94908655286014,
          39.29273084479371,
          17.0590242238144,
          35.66616469842276,
          0,
          22.348865795060902,
          16.149870801033593,
          30.72131529603695,
          25.646084040244624,
          24.71916284435167,
          10.856584518510477,
          35.52713384847677,
          20.6428528422628,
          15.293133383110984,
          22.761414849547048,
          14.512816594132202,
          15.913310347440609,
          12.60566513421326,
          12.006439817720413,
          32.498878894193986,
          31.85985773545784,
          36.89899211854112,
          42.56871807346145,
          35.6887937187723,
          19.332011563240403,
          23.82420687001576,
          6.691368970449242,
          18.670083291909087,
          18.363167669667533,
          16.561843995710483,
          47.92845029878332,
          38.269342576851464,
          18.116986321675327,
          27.076198121766886,
          9.543665942326893,
          24.869435463814973,
          17.68346595932803,
          32.149684295892946,
          6.581112207963146,
          1.2124004316145536,
          0,
          2.65188681747063,
          0,
          7.729468599033816,
          10.716964955524595,
          0,
          0,
          0,
          0,
          0,
          1.295001295001295,
          0,
          0,
          0,
          0,
          8.007206485837253,
          0,
          0,
          0,
          2.5644971021182745,
          4.5524902121460435,
          18.670774236998806,
          18.817212731726134,
          10.808640736222843,
          21.450678760763644,
          10.5553894059075,
          26.386348588248406,
          17.586604145300917,
          0.899814638184534,
          0.9522277898158179,
          1.6649462222370217,
          1.6590626296142679,
          31.95771217329717,
          28.20830264374481,
          50.16252658613909
         ],
         "yaxis": "y"
        }
       ],
       "layout": {
        "height": 400,
        "legend": {
         "tracegroupgap": 0
        },
        "template": {
         "data": {
          "bar": [
           {
            "error_x": {
             "color": "#2a3f5f"
            },
            "error_y": {
             "color": "#2a3f5f"
            },
            "marker": {
             "line": {
              "color": "#E5ECF6",
              "width": 0.5
             },
             "pattern": {
              "fillmode": "overlay",
              "size": 10,
              "solidity": 0.2
             }
            },
            "type": "bar"
           }
          ],
          "barpolar": [
           {
            "marker": {
             "line": {
              "color": "#E5ECF6",
              "width": 0.5
             },
             "pattern": {
              "fillmode": "overlay",
              "size": 10,
              "solidity": 0.2
             }
            },
            "type": "barpolar"
           }
          ],
          "carpet": [
           {
            "aaxis": {
             "endlinecolor": "#2a3f5f",
             "gridcolor": "white",
             "linecolor": "white",
             "minorgridcolor": "white",
             "startlinecolor": "#2a3f5f"
            },
            "baxis": {
             "endlinecolor": "#2a3f5f",
             "gridcolor": "white",
             "linecolor": "white",
             "minorgridcolor": "white",
             "startlinecolor": "#2a3f5f"
            },
            "type": "carpet"
           }
          ],
          "choropleth": [
           {
            "colorbar": {
             "outlinewidth": 0,
             "ticks": ""
            },
            "type": "choropleth"
           }
          ],
          "contour": [
           {
            "colorbar": {
             "outlinewidth": 0,
             "ticks": ""
            },
            "colorscale": [
             [
              0,
              "#0d0887"
             ],
             [
              0.1111111111111111,
              "#46039f"
             ],
             [
              0.2222222222222222,
              "#7201a8"
             ],
             [
              0.3333333333333333,
              "#9c179e"
             ],
             [
              0.4444444444444444,
              "#bd3786"
             ],
             [
              0.5555555555555556,
              "#d8576b"
             ],
             [
              0.6666666666666666,
              "#ed7953"
             ],
             [
              0.7777777777777778,
              "#fb9f3a"
             ],
             [
              0.8888888888888888,
              "#fdca26"
             ],
             [
              1,
              "#f0f921"
             ]
            ],
            "type": "contour"
           }
          ],
          "contourcarpet": [
           {
            "colorbar": {
             "outlinewidth": 0,
             "ticks": ""
            },
            "type": "contourcarpet"
           }
          ],
          "heatmap": [
           {
            "colorbar": {
             "outlinewidth": 0,
             "ticks": ""
            },
            "colorscale": [
             [
              0,
              "#0d0887"
             ],
             [
              0.1111111111111111,
              "#46039f"
             ],
             [
              0.2222222222222222,
              "#7201a8"
             ],
             [
              0.3333333333333333,
              "#9c179e"
             ],
             [
              0.4444444444444444,
              "#bd3786"
             ],
             [
              0.5555555555555556,
              "#d8576b"
             ],
             [
              0.6666666666666666,
              "#ed7953"
             ],
             [
              0.7777777777777778,
              "#fb9f3a"
             ],
             [
              0.8888888888888888,
              "#fdca26"
             ],
             [
              1,
              "#f0f921"
             ]
            ],
            "type": "heatmap"
           }
          ],
          "heatmapgl": [
           {
            "colorbar": {
             "outlinewidth": 0,
             "ticks": ""
            },
            "colorscale": [
             [
              0,
              "#0d0887"
             ],
             [
              0.1111111111111111,
              "#46039f"
             ],
             [
              0.2222222222222222,
              "#7201a8"
             ],
             [
              0.3333333333333333,
              "#9c179e"
             ],
             [
              0.4444444444444444,
              "#bd3786"
             ],
             [
              0.5555555555555556,
              "#d8576b"
             ],
             [
              0.6666666666666666,
              "#ed7953"
             ],
             [
              0.7777777777777778,
              "#fb9f3a"
             ],
             [
              0.8888888888888888,
              "#fdca26"
             ],
             [
              1,
              "#f0f921"
             ]
            ],
            "type": "heatmapgl"
           }
          ],
          "histogram": [
           {
            "marker": {
             "pattern": {
              "fillmode": "overlay",
              "size": 10,
              "solidity": 0.2
             }
            },
            "type": "histogram"
           }
          ],
          "histogram2d": [
           {
            "colorbar": {
             "outlinewidth": 0,
             "ticks": ""
            },
            "colorscale": [
             [
              0,
              "#0d0887"
             ],
             [
              0.1111111111111111,
              "#46039f"
             ],
             [
              0.2222222222222222,
              "#7201a8"
             ],
             [
              0.3333333333333333,
              "#9c179e"
             ],
             [
              0.4444444444444444,
              "#bd3786"
             ],
             [
              0.5555555555555556,
              "#d8576b"
             ],
             [
              0.6666666666666666,
              "#ed7953"
             ],
             [
              0.7777777777777778,
              "#fb9f3a"
             ],
             [
              0.8888888888888888,
              "#fdca26"
             ],
             [
              1,
              "#f0f921"
             ]
            ],
            "type": "histogram2d"
           }
          ],
          "histogram2dcontour": [
           {
            "colorbar": {
             "outlinewidth": 0,
             "ticks": ""
            },
            "colorscale": [
             [
              0,
              "#0d0887"
             ],
             [
              0.1111111111111111,
              "#46039f"
             ],
             [
              0.2222222222222222,
              "#7201a8"
             ],
             [
              0.3333333333333333,
              "#9c179e"
             ],
             [
              0.4444444444444444,
              "#bd3786"
             ],
             [
              0.5555555555555556,
              "#d8576b"
             ],
             [
              0.6666666666666666,
              "#ed7953"
             ],
             [
              0.7777777777777778,
              "#fb9f3a"
             ],
             [
              0.8888888888888888,
              "#fdca26"
             ],
             [
              1,
              "#f0f921"
             ]
            ],
            "type": "histogram2dcontour"
           }
          ],
          "mesh3d": [
           {
            "colorbar": {
             "outlinewidth": 0,
             "ticks": ""
            },
            "type": "mesh3d"
           }
          ],
          "parcoords": [
           {
            "line": {
             "colorbar": {
              "outlinewidth": 0,
              "ticks": ""
             }
            },
            "type": "parcoords"
           }
          ],
          "pie": [
           {
            "automargin": true,
            "type": "pie"
           }
          ],
          "scatter": [
           {
            "marker": {
             "colorbar": {
              "outlinewidth": 0,
              "ticks": ""
             }
            },
            "type": "scatter"
           }
          ],
          "scatter3d": [
           {
            "line": {
             "colorbar": {
              "outlinewidth": 0,
              "ticks": ""
             }
            },
            "marker": {
             "colorbar": {
              "outlinewidth": 0,
              "ticks": ""
             }
            },
            "type": "scatter3d"
           }
          ],
          "scattercarpet": [
           {
            "marker": {
             "colorbar": {
              "outlinewidth": 0,
              "ticks": ""
             }
            },
            "type": "scattercarpet"
           }
          ],
          "scattergeo": [
           {
            "marker": {
             "colorbar": {
              "outlinewidth": 0,
              "ticks": ""
             }
            },
            "type": "scattergeo"
           }
          ],
          "scattergl": [
           {
            "marker": {
             "colorbar": {
              "outlinewidth": 0,
              "ticks": ""
             }
            },
            "type": "scattergl"
           }
          ],
          "scattermapbox": [
           {
            "marker": {
             "colorbar": {
              "outlinewidth": 0,
              "ticks": ""
             }
            },
            "type": "scattermapbox"
           }
          ],
          "scatterpolar": [
           {
            "marker": {
             "colorbar": {
              "outlinewidth": 0,
              "ticks": ""
             }
            },
            "type": "scatterpolar"
           }
          ],
          "scatterpolargl": [
           {
            "marker": {
             "colorbar": {
              "outlinewidth": 0,
              "ticks": ""
             }
            },
            "type": "scatterpolargl"
           }
          ],
          "scatterternary": [
           {
            "marker": {
             "colorbar": {
              "outlinewidth": 0,
              "ticks": ""
             }
            },
            "type": "scatterternary"
           }
          ],
          "surface": [
           {
            "colorbar": {
             "outlinewidth": 0,
             "ticks": ""
            },
            "colorscale": [
             [
              0,
              "#0d0887"
             ],
             [
              0.1111111111111111,
              "#46039f"
             ],
             [
              0.2222222222222222,
              "#7201a8"
             ],
             [
              0.3333333333333333,
              "#9c179e"
             ],
             [
              0.4444444444444444,
              "#bd3786"
             ],
             [
              0.5555555555555556,
              "#d8576b"
             ],
             [
              0.6666666666666666,
              "#ed7953"
             ],
             [
              0.7777777777777778,
              "#fb9f3a"
             ],
             [
              0.8888888888888888,
              "#fdca26"
             ],
             [
              1,
              "#f0f921"
             ]
            ],
            "type": "surface"
           }
          ],
          "table": [
           {
            "cells": {
             "fill": {
              "color": "#EBF0F8"
             },
             "line": {
              "color": "white"
             }
            },
            "header": {
             "fill": {
              "color": "#C8D4E3"
             },
             "line": {
              "color": "white"
             }
            },
            "type": "table"
           }
          ]
         },
         "layout": {
          "annotationdefaults": {
           "arrowcolor": "#2a3f5f",
           "arrowhead": 0,
           "arrowwidth": 1
          },
          "autotypenumbers": "strict",
          "coloraxis": {
           "colorbar": {
            "outlinewidth": 0,
            "ticks": ""
           }
          },
          "colorscale": {
           "diverging": [
            [
             0,
             "#8e0152"
            ],
            [
             0.1,
             "#c51b7d"
            ],
            [
             0.2,
             "#de77ae"
            ],
            [
             0.3,
             "#f1b6da"
            ],
            [
             0.4,
             "#fde0ef"
            ],
            [
             0.5,
             "#f7f7f7"
            ],
            [
             0.6,
             "#e6f5d0"
            ],
            [
             0.7,
             "#b8e186"
            ],
            [
             0.8,
             "#7fbc41"
            ],
            [
             0.9,
             "#4d9221"
            ],
            [
             1,
             "#276419"
            ]
           ],
           "sequential": [
            [
             0,
             "#0d0887"
            ],
            [
             0.1111111111111111,
             "#46039f"
            ],
            [
             0.2222222222222222,
             "#7201a8"
            ],
            [
             0.3333333333333333,
             "#9c179e"
            ],
            [
             0.4444444444444444,
             "#bd3786"
            ],
            [
             0.5555555555555556,
             "#d8576b"
            ],
            [
             0.6666666666666666,
             "#ed7953"
            ],
            [
             0.7777777777777778,
             "#fb9f3a"
            ],
            [
             0.8888888888888888,
             "#fdca26"
            ],
            [
             1,
             "#f0f921"
            ]
           ],
           "sequentialminus": [
            [
             0,
             "#0d0887"
            ],
            [
             0.1111111111111111,
             "#46039f"
            ],
            [
             0.2222222222222222,
             "#7201a8"
            ],
            [
             0.3333333333333333,
             "#9c179e"
            ],
            [
             0.4444444444444444,
             "#bd3786"
            ],
            [
             0.5555555555555556,
             "#d8576b"
            ],
            [
             0.6666666666666666,
             "#ed7953"
            ],
            [
             0.7777777777777778,
             "#fb9f3a"
            ],
            [
             0.8888888888888888,
             "#fdca26"
            ],
            [
             1,
             "#f0f921"
            ]
           ]
          },
          "colorway": [
           "#636efa",
           "#EF553B",
           "#00cc96",
           "#ab63fa",
           "#FFA15A",
           "#19d3f3",
           "#FF6692",
           "#B6E880",
           "#FF97FF",
           "#FECB52"
          ],
          "font": {
           "color": "#2a3f5f"
          },
          "geo": {
           "bgcolor": "white",
           "lakecolor": "white",
           "landcolor": "#E5ECF6",
           "showlakes": true,
           "showland": true,
           "subunitcolor": "white"
          },
          "hoverlabel": {
           "align": "left"
          },
          "hovermode": "closest",
          "mapbox": {
           "style": "light"
          },
          "paper_bgcolor": "white",
          "plot_bgcolor": "#E5ECF6",
          "polar": {
           "angularaxis": {
            "gridcolor": "white",
            "linecolor": "white",
            "ticks": ""
           },
           "bgcolor": "#E5ECF6",
           "radialaxis": {
            "gridcolor": "white",
            "linecolor": "white",
            "ticks": ""
           }
          },
          "scene": {
           "xaxis": {
            "backgroundcolor": "#E5ECF6",
            "gridcolor": "white",
            "gridwidth": 2,
            "linecolor": "white",
            "showbackground": true,
            "ticks": "",
            "zerolinecolor": "white"
           },
           "yaxis": {
            "backgroundcolor": "#E5ECF6",
            "gridcolor": "white",
            "gridwidth": 2,
            "linecolor": "white",
            "showbackground": true,
            "ticks": "",
            "zerolinecolor": "white"
           },
           "zaxis": {
            "backgroundcolor": "#E5ECF6",
            "gridcolor": "white",
            "gridwidth": 2,
            "linecolor": "white",
            "showbackground": true,
            "ticks": "",
            "zerolinecolor": "white"
           }
          },
          "shapedefaults": {
           "line": {
            "color": "#2a3f5f"
           }
          },
          "ternary": {
           "aaxis": {
            "gridcolor": "white",
            "linecolor": "white",
            "ticks": ""
           },
           "baxis": {
            "gridcolor": "white",
            "linecolor": "white",
            "ticks": ""
           },
           "bgcolor": "#E5ECF6",
           "caxis": {
            "gridcolor": "white",
            "linecolor": "white",
            "ticks": ""
           }
          },
          "title": {
           "x": 0.05
          },
          "xaxis": {
           "automargin": true,
           "gridcolor": "white",
           "linecolor": "white",
           "ticks": "",
           "title": {
            "standoff": 15
           },
           "zerolinecolor": "white",
           "zerolinewidth": 2
          },
          "yaxis": {
           "automargin": true,
           "gridcolor": "white",
           "linecolor": "white",
           "ticks": "",
           "title": {
            "standoff": 15
           },
           "zerolinecolor": "white",
           "zerolinewidth": 2
          }
         }
        },
        "title": {
         "text": "Percepción de inseguridad vs cantidad de delitos"
        },
        "width": 500,
        "xaxis": {
         "anchor": "y",
         "domain": [
          0,
          1
         ],
         "title": {
          "text": "PERCEPCION_INSEGURIDAD"
         }
        },
        "yaxis": {
         "anchor": "x",
         "domain": [
          0,
          1
         ],
         "title": {
          "text": "TOTAL_DELITOS"
         }
        }
       }
      },
      "text/html": [
       "<div>                            <div id=\"9e82f188-671a-4f78-99dc-fb3cda084fad\" class=\"plotly-graph-div\" style=\"height:400px; width:500px;\"></div>            <script type=\"text/javascript\">                require([\"plotly\"], function(Plotly) {                    window.PLOTLYENV=window.PLOTLYENV || {};                                    if (document.getElementById(\"9e82f188-671a-4f78-99dc-fb3cda084fad\")) {                    Plotly.newPlot(                        \"9e82f188-671a-4f78-99dc-fb3cda084fad\",                        [{\"hovertemplate\":\"PERCEPCION_INSEGURIDAD=%{x}<br>TOTAL_DELITOS=%{y}<extra></extra>\",\"legendgroup\":\"\",\"marker\":{\"color\":\"#636efa\",\"symbol\":\"circle\"},\"mode\":\"markers\",\"name\":\"\",\"orientation\":\"v\",\"showlegend\":false,\"x\":[50000.0,77777.77777777778,77083.33333333334,88235.29411764706,42647.05882352941,33333.33333333333,48905.109489051094,62698.4126984127,53333.333333333336,83211.67883211678,82978.72340425532,57534.24657534246,82269.50354609928,72000.0,85714.28571428571,28260.86956521739,54166.666666666664,45112.781954887214,65648.85496183205,70625.0,72222.22222222222,83561.64383561644,71942.44604316546,61290.32258064516,55696.20253164557,70000.0,68627.45098039215,59872.61146496815,79591.83673469388,76923.07692307692,75000.0,31617.647058823528,44444.444444444445,30327.868852459018,51898.73417721519,92592.5925925926,80985.91549295775,93617.02127659574,48591.54929577465,55263.15789473685,61538.46153846154,70238.09523809524,92546.58385093167,83687.94326241134,75000.0,86666.66666666667,76422.76422764228,79452.05479452055,68085.10638297872,63157.8947368421,55555.555555555555,87837.83783783784,38848.92086330936,72992.700729927,71126.76056338029,77205.88235294117,64238.410596026486,100000.0,66049.38271604938,79452.05479452055,89403.97350993377,90131.57894736841,57142.85714285714,62500.0,85064.93506493507,79113.92405063291,25000.0,83206.106870229,86666.66666666667,92857.14285714286,59259.259259259255,82580.64516129032,92156.86274509803,91228.0701754386,80952.38095238095,72727.27272727274,81250.0,100000.0,49655.1724137931,23529.41176470588,44628.09917355372,68548.38709677418,60416.666666666664,76153.84615384616,35338.34586466165,13235.29411764706,70247.93388429753,100000.0,79069.76744186046,33333.33333333333,50000.0,66666.66666666666,100000.0,100000.0,100000.0,80000.0,89285.71428571429,56250.0,66666.66666666666,100000.0,100000.0,66666.66666666666,66666.66666666666,82644.62809917355,100000.0,60000.0,45833.33333333333,60526.31578947369,90225.56390977443,65000.0,82407.4074074074,70731.70731707316,29452.05479452055,61224.489795918365,45637.58389261745,94776.11940298507,64705.88235294118,57364.34108527132,80916.03053435114,91666.66666666666,21052.631578947367,19047.619047619046,70229.00763358778,86290.32258064517,29310.344827586203,61702.12765957447,75000.0,82352.94117647059,60000.0,75000.0,100000.0,100000.0,11111.111111111111,50000.0,50000.0,50000.0,50000.0,50000.0,75000.0,77777.77777777778,50000.0,40000.0,100000.0,75000.0,57142.85714285714,54545.454545454544,70454.54545454546,87500.0,100000.0,33333.33333333333,38461.53846153846,73118.27956989247,64516.12903225806,20000.0,25862.068965517243,66666.66666666666,12500.0,96319.01840490797,90277.77777777778,97333.33333333334,55384.61538461539,88888.88888888889,82068.96551724138,84507.04225352113,45454.545454545456,31147.54098360656,52413.79310344828,72661.87050359712,81818.18181818182,91216.21621621621,87671.23287671233,67763.15789473685,73648.64864864865,80272.10884353741,73381.29496402877,33333.33333333333,57534.24657534246,40136.054421768706,70289.85507246378,63576.158940397356,76086.95652173914,75539.56834532374,63909.77443609023,47651.00671140939,64000.0,76595.74468085106,70068.02721088435,61875.0,86428.57142857143,70000.0,33333.33333333333,34400.0,57142.85714285714,36290.32258064516,44303.79746835443,91379.3103448276,76223.77622377622,92631.57894736843,57142.85714285714,68571.42857142857,33333.33333333333,76470.58823529411,92592.5925925926,88157.8947368421,100000.0,85714.28571428571,77536.23188405797,86624.20382165605,87142.85714285714,58974.35897435898,56862.74509803922,86301.3698630137,50675.67567567568,69503.54609929078,74285.71428571429,76223.77622377622,64539.00709219858,100000.0,78064.51612903226,86111.11111111111,90789.47368421053,82432.43243243244,85714.28571428571,84210.52631578947,85625.0,76729.55974842768,80000.0,80689.65517241378,88636.36363636363,88888.88888888889,66433.56643356643,83333.33333333334,90909.09090909091,87272.72727272726,57142.85714285714,88571.42857142857,86666.66666666667,83333.33333333334,53571.42857142857,25000.0,56934.30656934306,75373.13432835821,64864.86486486487,78985.5072463768,38970.58823529412,15909.090909090908,70833.33333333334,100000.0,81818.18181818182,66666.66666666666,50000.0,33333.33333333333,100000.0,100000.0,60000.0,78571.42857142857,66666.66666666666,30000.0,50000.0,100000.0,100000.0,66666.66666666666,88617.8861788618,100000.0,92307.69230769231,47058.82352941176,71428.57142857143,90625.0,68309.85915492958,89215.6862745098,88095.23809523809,41379.31034482759,67123.28767123287,58695.65217391305,93023.25581395348,64666.666666666664,66141.73228346457,73846.15384615384,70000.0,43589.74358974359,23684.210526315786,61194.029850746265,85365.85365853658,35087.71929824561,57142.85714285714,50000.0,64285.71428571429,66666.66666666666,50000.0,66666.66666666666,100000.0,66666.66666666666,42857.142857142855,50000.0,100000.0,60000.0,50000.0,60000.0,50000.0,68750.0,45000.0,25000.0,50000.0,75000.0,42857.142857142855,75000.0,59523.80952380953,88489.20863309353,100000.0,50000.0,75531.91489361702,74400.0,60000.0,38392.857142857145,63636.36363636363,42857.142857142855,96932.5153374233,87692.30769230769,96103.8961038961,54263.56589147286,83333.33333333334,77372.26277372263,76612.90322580645,43181.818181818184,28688.524590163932,55704.69798657718,71014.4927536232,72727.27272727274,88435.37414965987,80136.98630136986,60927.1523178808,87500.0,68000.0,78873.23943661971,21428.571428571428,55555.555555555555,29333.333333333332,70149.25373134328,66000.0,75714.28571428571,74324.32432432432,65693.4306569343,49645.39007092199,58666.666666666664,81690.14084507042,64539.00709219858,53642.384105960264,72340.4255319149,30000.0,50000.0,32142.857142857145,36363.63636363637,30708.661417322837,48648.648648648654,83870.96774193548,80419.58041958042,91139.24050632911,42567.56756756757,72972.97297297297,85714.28571428571,73988.43930635838,96078.43137254902,80821.91780821918,75000.0,83333.33333333334,75939.84962406015,81208.05369127517,68493.1506849315,65853.65853658537,50000.0,86666.66666666667,36567.164179104475,75373.13432835821,72463.76811594203,80132.45033112583,65986.39455782312,100000.0,69178.08219178082,86896.55172413793,85211.2676056338,86206.89655172413,71428.57142857143,85000.0,90714.28571428571,77551.02040816327,60000.0,81045.75163398693,86585.36585365854,95000.0,53146.853146853144,84000.0,88125.0,81034.48275862068,75000.0,68571.42857142857,93750.0,87500.0,44827.58620689655,35714.28571428572,44755.244755244756,61594.20289855072,56081.08108108109,80000.0,36363.63636363637,15384.615384615385,70833.33333333334,100000.0,84090.90909090909,50000.0,50000.0,33333.33333333333,66666.66666666666,100000.0,83333.33333333334,60000.0,71428.57142857143,50000.0,50000.0,71428.57142857143,100000.0,100000.0,80000.0,100000.0,77165.35433070865,100000.0,91666.66666666666,54545.454545454544,58620.689655172406,86956.52173913043,73758.86524822694,86597.9381443299,80952.38095238095,28859.060402684565,60402.68456375839,51515.15151515151,94573.64341085272,68750.0,54961.83206106871,73684.21052631579,60000.0,25000.0,22222.222222222223,56643.356643356645,72950.81967213115,29032.258064516132,51388.88888888888,50000.0,62500.0,66666.66666666666,60000.0,100000.0,75000.0,75000.0,37500.0,50000.0,66666.66666666666,25000.0,66666.66666666666,54545.454545454544,33333.33333333333,60000.0,100000.0,68421.05263157895,71428.57142857143,50000.0,44444.444444444445,75000.0,33333.33333333333,83333.33333333334,75000.0,84000.0,100000.0,100000.0,58333.333333333336,70000.0,70940.17094017094,69230.76923076923,30769.23076923077,71428.57142857143,33333.33333333333,93548.38709677418,86301.3698630137,96202.53164556962],\"xaxis\":\"x\",\"y\":[47.46528683072275,38.72300146286894,106.18116640773364,64.34221502555478,78.33416693636175,90.35100314127325,83.92606114013554,6.763068573288415,13.832488563496064,46.79524353622756,11.715089034676664,82.40031449823539,121.59675029344271,84.71062977219258,95.53433068782475,63.71000836618971,84.80517770817835,70.5205266794771,116.27515976773284,90.68508908380284,124.11411737718377,74.52368318032872,117.74944964931143,67.26698073826704,111.26160990712074,125.52366095181027,85.43254311784716,93.51005504292567,88.67442052297285,96.0758734971618,86.03289103603454,128.03472789571876,83.78154737277616,118.08055965729409,113.69688582507045,197.13135476603452,148.58756741735525,133.80621119799721,98.03471744283857,82.09624727051137,72.83936967931167,114.60803523800973,80.61174781871544,38.03035095426974,20.639568633015568,28.700581186769032,45.74066148599514,76.32727682449452,34.548975180980385,95.39061009521718,106.09106804890668,45.84283658899892,42.52885362741791,45.0880664378752,61.51702721998489,50.41381338486745,38.728275521143196,48.349005436163814,31.988782855544788,26.606101864210782,46.7842644676242,33.54029285568184,39.485011877868324,43.38431341164974,41.475746563438136,27.58845104995278,64.42780059595715,22.54011049016742,56.239957150508836,45.25934658134052,14.352922414480503,17.392171576813194,1.7271952651820464,92.08854785798466,74.6657938610398,55.49726011425906,84.85327105159247,94.32571849668386,34.54823948936253,6.829201666325207,66.15984012226748,109.44253906690635,57.5572002855318,68.31105050590973,45.24709298970167,52.74104887832417,66.95065771216073,114.4950767117014,94.05134014418874,19.646365422396855,99.83028850953379,85.295121119072,63.406515019418244,29.090062834535722,67.04659738518271,104.97416020671835,90.04523448838417,92.72045768396133,43.42633807404191,53.29070077271516,53.32736984251223,49.47778447477083,50.0751126690035,38.32568300572871,40.16216421020725,40.78303425774878,28.378857750975524,66.58049539687146,76.43796513144119,93.69856425607071,99.47999614471988,104.47083252222437,64.96455048577299,59.98218455326976,24.047107237551963,47.3753363532193,47.88370303736091,65.00523768316364,108.60850664036221,47.83667822106433,44.46896642593035,47.502101968012084,25.205066463068462,58.98908777697575,40.189695362109155,74.14701963737473,13.162224415926293,2.424800863229107,11.040269382572935,2.65188681747063,0.0,7.729468599033816,0.0,18.12250815512867,8.913450396648543,0.0,9.065009065009065,0.0,0.0,0.0,49.044139725753176,0.0,22.151337940811626,0.0,0.0,11.381225530365109,54.67869597978222,53.62905628541948,20.073189938699564,30.643826801090924,12.31462097355875,68.67006247500672,53.15501702343761,0.0,2.856683369447454,1.6649462222370217,0.0,65.64286824785366,86.71441183077108,79.59120885000736,60.72436930221572,43.02555718096549,138.39114703094089,77.58064021949194,101.13566153755627,136.5770977716921,83.22667729730108,24.93881536400103,14.820523460888637,27.84747621481026,11.055084018638542,102.27855748365874,153.73655068910685,93.18169274941184,111.45671913579554,81.39463702299682,103.48068615654974,81.87953768825194,136.2737793320461,105.30908092704671,156.47071607084646,90.40577959580861,145.31621043677563,87.7810245095116,160.32728881026094,140.76213007970495,86.00114573427209,107.17857816984984,104.71372139276123,116.34876423509502,178.6836967671487,151.2029167530393,117.91477037649979,166.60003490431637,149.29894098241573,207.37194462401033,178.64535777277445,214.37769320969448,148.81088934770972,114.82189910342998,64.38479998439156,141.0154166292562,88.06616750947838,54.062753807540325,34.829272068213776,23.119912622675052,51.626859210734466,73.78303426367802,33.745510641887826,105.79685846924087,140.79987426243787,50.92163481168685,56.4607194708824,51.333372937716014,68.79509804601128,50.22285197053084,43.11125289923176,68.18449484587204,48.07894908228588,46.67215634280551,68.99313709427848,45.3884455164763,49.19444102816382,79.18690214941894,64.36292323850064,46.15760079511331,83.986240062587,37.80921759640987,81.01231922870916,67.88901987201078,9.037025223932169,20.676008168239463,2.0150611427123875,111.22051763457426,81.82552751894772,70.42089308616066,96.61511060329836,84.00884303610907,53.392733756287534,22.19490541555692,103.42817383455252,145.44337428628344,101.58920990344517,104.85355655799106,72.25683727437053,84.68281087505572,102.33390686573792,137.3940920540417,100.6943716041872,58.93909626719057,89.84725965858041,85.295121119072,87.1839581517001,87.27018850360717,185.72351421188628,96.40136868756422,69.04714933912014,75.99609162957334,97.69961808331112,43.866062289808454,44.080207986614006,45.522829699094096,47.92191275368552,58.34880460728224,52.64718967818478,48.02575927088165,102.66691287029465,95.45110603808537,100.74668634612912,128.16511614031384,136.2663032898579,78.45200041361512,78.64096603996352,36.17521349649122,53.90986550538749,50.90549012224292,81.56708167887412,147.30303532194876,62.555656135237975,72.46794528670131,76.00336314881933,47.47362032849788,91.89559689677971,59.15923157302468,93.26304813763541,6.581112207963146,3.637201294843661,6.900168364108084,15.911320904823782,0.0,15.458937198067632,7.144643303683063,6.38060296698038,0.0,0.0,3.885003885003885,14.068655036578503,39.33910306845004,8.289811821271657,0.0,18.01621459313382,0.0,17.7210703526493,0.0,7.693491306354824,9.104980424292087,59.34638953903192,57.392498831764705,33.97001374241465,33.42539978537375,89.32024832667938,61.849517949204355,0.899814638184534,3.06828954496208,1.6649462222370217,0.0,97.60058042115082,120.14647422335752,111.02639217732118,18.941546387847104,17.210222872386197,45.11429462682654,30.176672276136205,34.20224190179176,43.07431545107213,27.975353713378514,7.185760359118941,8.892314076533184,7.464271975103782,4.950037620285914,33.42654267381247,54.78534903330935,28.750274346925966,33.63884883374111,27.66057302731368,35.36100370142454,28.870819647302707,39.46630232603413,31.780630318557925,45.878759341760535,29.214558623792442,44.50062812833509,30.055459478800163,52.52100840336134,34.0928461844423,27.008624280184623,33.19498473681584,38.7234549570605,26.442900962521595,43.01644551801727,34.142594105525,0.0,49.50966861941051,40.19586872603501,75.52435020257167,45.937377712999144,65.46432913450403,37.47036782136576,31.032945703629725,25.363709084760313,43.308105481644226,35.71187107667824,16.84023710556716,7.739838237380839,11.161337128187956,18.149109651279574,25.805888831138624,12.051968086388507,20.812496748047383,27.832533284435392,14.501305451622109,16.13163413453783,14.318507585000907,21.834212478079145,16.23172021861263,12.502263340777208,22.314925585921763,13.983120649429756,13.526007092978665,20.02439335190141,11.848152660794463,14.887791363786418,20.63913939000813,16.96207002314277,14.678470750936414,13.805957270562248,9.888564602137967,23.32172826281021,16.31441562815763,4.784307471493501,6.810920337772999,0.2878658775303411,27.55003647828904,35.79866828953963,24.71726710971202,29.404598879264714,28.00294767870302,9.422247133462506,0.0,32.139663935365085,44.88104124015677,30.356539053988055,32.2025409627605,22.392693979597254,28.22760362501857,36.770827551756675,22.89901534234028,34.613690238939355,29.94908655286014,39.29273084479371,17.0590242238144,35.66616469842276,0.0,22.348865795060902,16.149870801033593,30.72131529603695,25.646084040244624,24.71916284435167,10.856584518510477,35.52713384847677,20.6428528422628,15.293133383110984,22.761414849547048,14.512816594132202,15.913310347440609,12.60566513421326,12.006439817720413,32.498878894193986,31.85985773545784,36.89899211854112,42.56871807346145,35.6887937187723,19.332011563240403,23.82420687001576,6.691368970449242,18.670083291909087,18.363167669667533,16.561843995710483,47.92845029878332,38.269342576851464,18.116986321675327,27.076198121766886,9.543665942326893,24.869435463814973,17.68346595932803,32.149684295892946,6.581112207963146,1.2124004316145536,0.0,2.65188681747063,0.0,7.729468599033816,10.716964955524595,0.0,0.0,0.0,0.0,0.0,1.295001295001295,0.0,0.0,0.0,0.0,8.007206485837253,0.0,0.0,0.0,2.5644971021182745,4.5524902121460435,18.670774236998806,18.817212731726134,10.808640736222843,21.450678760763644,10.5553894059075,26.386348588248406,17.586604145300917,0.899814638184534,0.9522277898158179,1.6649462222370217,1.6590626296142679,31.95771217329717,28.20830264374481,50.16252658613909],\"yaxis\":\"y\",\"type\":\"scatter\"}],                        {\"template\":{\"data\":{\"bar\":[{\"error_x\":{\"color\":\"#2a3f5f\"},\"error_y\":{\"color\":\"#2a3f5f\"},\"marker\":{\"line\":{\"color\":\"#E5ECF6\",\"width\":0.5},\"pattern\":{\"fillmode\":\"overlay\",\"size\":10,\"solidity\":0.2}},\"type\":\"bar\"}],\"barpolar\":[{\"marker\":{\"line\":{\"color\":\"#E5ECF6\",\"width\":0.5},\"pattern\":{\"fillmode\":\"overlay\",\"size\":10,\"solidity\":0.2}},\"type\":\"barpolar\"}],\"carpet\":[{\"aaxis\":{\"endlinecolor\":\"#2a3f5f\",\"gridcolor\":\"white\",\"linecolor\":\"white\",\"minorgridcolor\":\"white\",\"startlinecolor\":\"#2a3f5f\"},\"baxis\":{\"endlinecolor\":\"#2a3f5f\",\"gridcolor\":\"white\",\"linecolor\":\"white\",\"minorgridcolor\":\"white\",\"startlinecolor\":\"#2a3f5f\"},\"type\":\"carpet\"}],\"choropleth\":[{\"colorbar\":{\"outlinewidth\":0,\"ticks\":\"\"},\"type\":\"choropleth\"}],\"contour\":[{\"colorbar\":{\"outlinewidth\":0,\"ticks\":\"\"},\"colorscale\":[[0.0,\"#0d0887\"],[0.1111111111111111,\"#46039f\"],[0.2222222222222222,\"#7201a8\"],[0.3333333333333333,\"#9c179e\"],[0.4444444444444444,\"#bd3786\"],[0.5555555555555556,\"#d8576b\"],[0.6666666666666666,\"#ed7953\"],[0.7777777777777778,\"#fb9f3a\"],[0.8888888888888888,\"#fdca26\"],[1.0,\"#f0f921\"]],\"type\":\"contour\"}],\"contourcarpet\":[{\"colorbar\":{\"outlinewidth\":0,\"ticks\":\"\"},\"type\":\"contourcarpet\"}],\"heatmap\":[{\"colorbar\":{\"outlinewidth\":0,\"ticks\":\"\"},\"colorscale\":[[0.0,\"#0d0887\"],[0.1111111111111111,\"#46039f\"],[0.2222222222222222,\"#7201a8\"],[0.3333333333333333,\"#9c179e\"],[0.4444444444444444,\"#bd3786\"],[0.5555555555555556,\"#d8576b\"],[0.6666666666666666,\"#ed7953\"],[0.7777777777777778,\"#fb9f3a\"],[0.8888888888888888,\"#fdca26\"],[1.0,\"#f0f921\"]],\"type\":\"heatmap\"}],\"heatmapgl\":[{\"colorbar\":{\"outlinewidth\":0,\"ticks\":\"\"},\"colorscale\":[[0.0,\"#0d0887\"],[0.1111111111111111,\"#46039f\"],[0.2222222222222222,\"#7201a8\"],[0.3333333333333333,\"#9c179e\"],[0.4444444444444444,\"#bd3786\"],[0.5555555555555556,\"#d8576b\"],[0.6666666666666666,\"#ed7953\"],[0.7777777777777778,\"#fb9f3a\"],[0.8888888888888888,\"#fdca26\"],[1.0,\"#f0f921\"]],\"type\":\"heatmapgl\"}],\"histogram\":[{\"marker\":{\"pattern\":{\"fillmode\":\"overlay\",\"size\":10,\"solidity\":0.2}},\"type\":\"histogram\"}],\"histogram2d\":[{\"colorbar\":{\"outlinewidth\":0,\"ticks\":\"\"},\"colorscale\":[[0.0,\"#0d0887\"],[0.1111111111111111,\"#46039f\"],[0.2222222222222222,\"#7201a8\"],[0.3333333333333333,\"#9c179e\"],[0.4444444444444444,\"#bd3786\"],[0.5555555555555556,\"#d8576b\"],[0.6666666666666666,\"#ed7953\"],[0.7777777777777778,\"#fb9f3a\"],[0.8888888888888888,\"#fdca26\"],[1.0,\"#f0f921\"]],\"type\":\"histogram2d\"}],\"histogram2dcontour\":[{\"colorbar\":{\"outlinewidth\":0,\"ticks\":\"\"},\"colorscale\":[[0.0,\"#0d0887\"],[0.1111111111111111,\"#46039f\"],[0.2222222222222222,\"#7201a8\"],[0.3333333333333333,\"#9c179e\"],[0.4444444444444444,\"#bd3786\"],[0.5555555555555556,\"#d8576b\"],[0.6666666666666666,\"#ed7953\"],[0.7777777777777778,\"#fb9f3a\"],[0.8888888888888888,\"#fdca26\"],[1.0,\"#f0f921\"]],\"type\":\"histogram2dcontour\"}],\"mesh3d\":[{\"colorbar\":{\"outlinewidth\":0,\"ticks\":\"\"},\"type\":\"mesh3d\"}],\"parcoords\":[{\"line\":{\"colorbar\":{\"outlinewidth\":0,\"ticks\":\"\"}},\"type\":\"parcoords\"}],\"pie\":[{\"automargin\":true,\"type\":\"pie\"}],\"scatter\":[{\"marker\":{\"colorbar\":{\"outlinewidth\":0,\"ticks\":\"\"}},\"type\":\"scatter\"}],\"scatter3d\":[{\"line\":{\"colorbar\":{\"outlinewidth\":0,\"ticks\":\"\"}},\"marker\":{\"colorbar\":{\"outlinewidth\":0,\"ticks\":\"\"}},\"type\":\"scatter3d\"}],\"scattercarpet\":[{\"marker\":{\"colorbar\":{\"outlinewidth\":0,\"ticks\":\"\"}},\"type\":\"scattercarpet\"}],\"scattergeo\":[{\"marker\":{\"colorbar\":{\"outlinewidth\":0,\"ticks\":\"\"}},\"type\":\"scattergeo\"}],\"scattergl\":[{\"marker\":{\"colorbar\":{\"outlinewidth\":0,\"ticks\":\"\"}},\"type\":\"scattergl\"}],\"scattermapbox\":[{\"marker\":{\"colorbar\":{\"outlinewidth\":0,\"ticks\":\"\"}},\"type\":\"scattermapbox\"}],\"scatterpolar\":[{\"marker\":{\"colorbar\":{\"outlinewidth\":0,\"ticks\":\"\"}},\"type\":\"scatterpolar\"}],\"scatterpolargl\":[{\"marker\":{\"colorbar\":{\"outlinewidth\":0,\"ticks\":\"\"}},\"type\":\"scatterpolargl\"}],\"scatterternary\":[{\"marker\":{\"colorbar\":{\"outlinewidth\":0,\"ticks\":\"\"}},\"type\":\"scatterternary\"}],\"surface\":[{\"colorbar\":{\"outlinewidth\":0,\"ticks\":\"\"},\"colorscale\":[[0.0,\"#0d0887\"],[0.1111111111111111,\"#46039f\"],[0.2222222222222222,\"#7201a8\"],[0.3333333333333333,\"#9c179e\"],[0.4444444444444444,\"#bd3786\"],[0.5555555555555556,\"#d8576b\"],[0.6666666666666666,\"#ed7953\"],[0.7777777777777778,\"#fb9f3a\"],[0.8888888888888888,\"#fdca26\"],[1.0,\"#f0f921\"]],\"type\":\"surface\"}],\"table\":[{\"cells\":{\"fill\":{\"color\":\"#EBF0F8\"},\"line\":{\"color\":\"white\"}},\"header\":{\"fill\":{\"color\":\"#C8D4E3\"},\"line\":{\"color\":\"white\"}},\"type\":\"table\"}]},\"layout\":{\"annotationdefaults\":{\"arrowcolor\":\"#2a3f5f\",\"arrowhead\":0,\"arrowwidth\":1},\"autotypenumbers\":\"strict\",\"coloraxis\":{\"colorbar\":{\"outlinewidth\":0,\"ticks\":\"\"}},\"colorscale\":{\"diverging\":[[0,\"#8e0152\"],[0.1,\"#c51b7d\"],[0.2,\"#de77ae\"],[0.3,\"#f1b6da\"],[0.4,\"#fde0ef\"],[0.5,\"#f7f7f7\"],[0.6,\"#e6f5d0\"],[0.7,\"#b8e186\"],[0.8,\"#7fbc41\"],[0.9,\"#4d9221\"],[1,\"#276419\"]],\"sequential\":[[0.0,\"#0d0887\"],[0.1111111111111111,\"#46039f\"],[0.2222222222222222,\"#7201a8\"],[0.3333333333333333,\"#9c179e\"],[0.4444444444444444,\"#bd3786\"],[0.5555555555555556,\"#d8576b\"],[0.6666666666666666,\"#ed7953\"],[0.7777777777777778,\"#fb9f3a\"],[0.8888888888888888,\"#fdca26\"],[1.0,\"#f0f921\"]],\"sequentialminus\":[[0.0,\"#0d0887\"],[0.1111111111111111,\"#46039f\"],[0.2222222222222222,\"#7201a8\"],[0.3333333333333333,\"#9c179e\"],[0.4444444444444444,\"#bd3786\"],[0.5555555555555556,\"#d8576b\"],[0.6666666666666666,\"#ed7953\"],[0.7777777777777778,\"#fb9f3a\"],[0.8888888888888888,\"#fdca26\"],[1.0,\"#f0f921\"]]},\"colorway\":[\"#636efa\",\"#EF553B\",\"#00cc96\",\"#ab63fa\",\"#FFA15A\",\"#19d3f3\",\"#FF6692\",\"#B6E880\",\"#FF97FF\",\"#FECB52\"],\"font\":{\"color\":\"#2a3f5f\"},\"geo\":{\"bgcolor\":\"white\",\"lakecolor\":\"white\",\"landcolor\":\"#E5ECF6\",\"showlakes\":true,\"showland\":true,\"subunitcolor\":\"white\"},\"hoverlabel\":{\"align\":\"left\"},\"hovermode\":\"closest\",\"mapbox\":{\"style\":\"light\"},\"paper_bgcolor\":\"white\",\"plot_bgcolor\":\"#E5ECF6\",\"polar\":{\"angularaxis\":{\"gridcolor\":\"white\",\"linecolor\":\"white\",\"ticks\":\"\"},\"bgcolor\":\"#E5ECF6\",\"radialaxis\":{\"gridcolor\":\"white\",\"linecolor\":\"white\",\"ticks\":\"\"}},\"scene\":{\"xaxis\":{\"backgroundcolor\":\"#E5ECF6\",\"gridcolor\":\"white\",\"gridwidth\":2,\"linecolor\":\"white\",\"showbackground\":true,\"ticks\":\"\",\"zerolinecolor\":\"white\"},\"yaxis\":{\"backgroundcolor\":\"#E5ECF6\",\"gridcolor\":\"white\",\"gridwidth\":2,\"linecolor\":\"white\",\"showbackground\":true,\"ticks\":\"\",\"zerolinecolor\":\"white\"},\"zaxis\":{\"backgroundcolor\":\"#E5ECF6\",\"gridcolor\":\"white\",\"gridwidth\":2,\"linecolor\":\"white\",\"showbackground\":true,\"ticks\":\"\",\"zerolinecolor\":\"white\"}},\"shapedefaults\":{\"line\":{\"color\":\"#2a3f5f\"}},\"ternary\":{\"aaxis\":{\"gridcolor\":\"white\",\"linecolor\":\"white\",\"ticks\":\"\"},\"baxis\":{\"gridcolor\":\"white\",\"linecolor\":\"white\",\"ticks\":\"\"},\"bgcolor\":\"#E5ECF6\",\"caxis\":{\"gridcolor\":\"white\",\"linecolor\":\"white\",\"ticks\":\"\"}},\"title\":{\"x\":0.05},\"xaxis\":{\"automargin\":true,\"gridcolor\":\"white\",\"linecolor\":\"white\",\"ticks\":\"\",\"title\":{\"standoff\":15},\"zerolinecolor\":\"white\",\"zerolinewidth\":2},\"yaxis\":{\"automargin\":true,\"gridcolor\":\"white\",\"linecolor\":\"white\",\"ticks\":\"\",\"title\":{\"standoff\":15},\"zerolinecolor\":\"white\",\"zerolinewidth\":2}}},\"xaxis\":{\"anchor\":\"y\",\"domain\":[0.0,1.0],\"title\":{\"text\":\"PERCEPCION_INSEGURIDAD\"}},\"yaxis\":{\"anchor\":\"x\",\"domain\":[0.0,1.0],\"title\":{\"text\":\"TOTAL_DELITOS\"}},\"legend\":{\"tracegroupgap\":0},\"title\":{\"text\":\"Percepci\\u00f3n de inseguridad vs cantidad de delitos\"},\"width\":500,\"height\":400},                        {\"responsive\": true}                    ).then(function(){\n",
       "                            \n",
       "var gd = document.getElementById('9e82f188-671a-4f78-99dc-fb3cda084fad');\n",
       "var x = new MutationObserver(function (mutations, observer) {{\n",
       "        var display = window.getComputedStyle(gd).display;\n",
       "        if (!display || display === 'none') {{\n",
       "            console.log([gd, 'removed!']);\n",
       "            Plotly.purge(gd);\n",
       "            observer.disconnect();\n",
       "        }}\n",
       "}});\n",
       "\n",
       "// Listen for the removal of the full notebook cells\n",
       "var notebookContainer = gd.closest('#notebook-container');\n",
       "if (notebookContainer) {{\n",
       "    x.observe(notebookContainer, {childList: true});\n",
       "}}\n",
       "\n",
       "// Listen for the clearing of the current output cell\n",
       "var outputEl = gd.closest('.output');\n",
       "if (outputEl) {{\n",
       "    x.observe(outputEl, {childList: true});\n",
       "}}\n",
       "\n",
       "                        })                };                });            </script>        </div>"
      ]
     },
     "metadata": {},
     "output_type": "display_data"
    }
   ],
   "source": [
    "import plotly.express as px\n",
    "fig = px.scatter(df, x=\"PERCEPCION_INSEGURIDAD\", y=\"TOTAL_DELITOS\",\n",
    "                title='Percepción de inseguridad vs cantidad de delitos')\n",
    "fig.update_layout(width=500,\n",
    "                  height=400\n",
    ")\n",
    "fig.show()"
   ]
  },
  {
   "cell_type": "code",
   "execution_count": 49,
   "id": "ae7dade5",
   "metadata": {},
   "outputs": [
    {
     "data": {
      "application/vnd.plotly.v1+json": {
       "config": {
        "plotlyServerURL": "https://plot.ly"
       },
       "data": [
        {
         "alignmentgroup": "True",
         "bingroup": "x",
         "histfunc": "sum",
         "hovertemplate": "FECHA=%{x}<br>sum of TOTAL_DELITOS=%{y}<extra></extra>",
         "legendgroup": "",
         "marker": {
          "color": "#636efa",
          "pattern": {
           "shape": ""
          }
         },
         "name": "",
         "offsetgroup": "",
         "orientation": "v",
         "showlegend": false,
         "type": "histogram",
         "x": [
          "2022-01-01T00:00:00",
          "2022-01-01T00:00:00",
          "2022-01-01T00:00:00",
          "2022-01-01T00:00:00",
          "2022-01-01T00:00:00",
          "2022-01-01T00:00:00",
          "2022-01-01T00:00:00",
          "2022-01-01T00:00:00",
          "2022-01-01T00:00:00",
          "2022-01-01T00:00:00",
          "2022-01-01T00:00:00",
          "2022-01-01T00:00:00",
          "2022-01-01T00:00:00",
          "2022-01-01T00:00:00",
          "2022-01-01T00:00:00",
          "2022-01-01T00:00:00",
          "2022-01-01T00:00:00",
          "2022-01-01T00:00:00",
          "2022-01-01T00:00:00",
          "2022-01-01T00:00:00",
          "2022-01-01T00:00:00",
          "2022-01-01T00:00:00",
          "2022-01-01T00:00:00",
          "2022-01-01T00:00:00",
          "2022-01-01T00:00:00",
          "2022-01-01T00:00:00",
          "2022-01-01T00:00:00",
          "2022-01-01T00:00:00",
          "2022-01-01T00:00:00",
          "2022-01-01T00:00:00",
          "2022-01-01T00:00:00",
          "2022-01-01T00:00:00",
          "2022-01-01T00:00:00",
          "2022-01-01T00:00:00",
          "2022-01-01T00:00:00",
          "2022-01-01T00:00:00",
          "2022-01-01T00:00:00",
          "2022-01-01T00:00:00",
          "2022-01-01T00:00:00",
          "2022-01-01T00:00:00",
          "2022-01-01T00:00:00",
          "2022-01-01T00:00:00",
          "2022-01-01T00:00:00",
          "2022-01-01T00:00:00",
          "2022-01-01T00:00:00",
          "2022-01-01T00:00:00",
          "2022-01-01T00:00:00",
          "2022-01-01T00:00:00",
          "2022-01-01T00:00:00",
          "2022-01-01T00:00:00",
          "2022-01-01T00:00:00",
          "2022-01-01T00:00:00",
          "2022-01-01T00:00:00",
          "2022-01-01T00:00:00",
          "2022-01-01T00:00:00",
          "2022-01-01T00:00:00",
          "2022-01-01T00:00:00",
          "2022-01-01T00:00:00",
          "2022-01-01T00:00:00",
          "2022-01-01T00:00:00",
          "2022-01-01T00:00:00",
          "2022-01-01T00:00:00",
          "2022-01-01T00:00:00",
          "2022-01-01T00:00:00",
          "2022-01-01T00:00:00",
          "2022-01-01T00:00:00",
          "2022-01-01T00:00:00",
          "2022-01-01T00:00:00",
          "2022-01-01T00:00:00",
          "2022-01-01T00:00:00",
          "2022-01-01T00:00:00",
          "2022-01-01T00:00:00",
          "2022-01-01T00:00:00",
          "2022-01-01T00:00:00",
          "2022-01-01T00:00:00",
          "2022-01-01T00:00:00",
          "2022-01-01T00:00:00",
          "2022-01-01T00:00:00",
          "2022-01-01T00:00:00",
          "2022-01-01T00:00:00",
          "2022-01-01T00:00:00",
          "2022-01-01T00:00:00",
          "2022-01-01T00:00:00",
          "2022-01-01T00:00:00",
          "2022-01-01T00:00:00",
          "2022-01-01T00:00:00",
          "2022-01-01T00:00:00",
          "2022-01-01T00:00:00",
          "2022-01-01T00:00:00",
          "2022-01-01T00:00:00",
          "2022-01-01T00:00:00",
          "2022-01-01T00:00:00",
          "2022-01-01T00:00:00",
          "2022-01-01T00:00:00",
          "2022-01-01T00:00:00",
          "2022-01-01T00:00:00",
          "2022-01-01T00:00:00",
          "2022-01-01T00:00:00",
          "2022-01-01T00:00:00",
          "2022-01-01T00:00:00",
          "2022-01-01T00:00:00",
          "2022-01-01T00:00:00",
          "2022-01-01T00:00:00",
          "2022-01-01T00:00:00",
          "2022-01-01T00:00:00",
          "2022-01-01T00:00:00",
          "2022-01-01T00:00:00",
          "2022-01-01T00:00:00",
          "2022-01-01T00:00:00",
          "2022-01-01T00:00:00",
          "2022-01-01T00:00:00",
          "2022-01-01T00:00:00",
          "2022-01-01T00:00:00",
          "2022-01-01T00:00:00",
          "2022-01-01T00:00:00",
          "2022-01-01T00:00:00",
          "2022-01-01T00:00:00",
          "2022-01-01T00:00:00",
          "2022-01-01T00:00:00",
          "2022-01-01T00:00:00",
          "2022-01-01T00:00:00",
          "2022-01-01T00:00:00",
          "2022-01-01T00:00:00",
          "2022-01-01T00:00:00",
          "2022-01-01T00:00:00",
          "2022-01-01T00:00:00",
          "2022-01-01T00:00:00",
          "2022-01-01T00:00:00",
          "2022-01-01T00:00:00",
          "2022-01-01T00:00:00",
          "2022-01-01T00:00:00",
          "2022-01-01T00:00:00",
          "2022-01-01T00:00:00",
          "2022-01-01T00:00:00",
          "2022-01-01T00:00:00",
          "2022-01-01T00:00:00",
          "2022-01-01T00:00:00",
          "2022-01-01T00:00:00",
          "2022-01-01T00:00:00",
          "2022-01-01T00:00:00",
          "2022-01-01T00:00:00",
          "2022-01-01T00:00:00",
          "2022-01-01T00:00:00",
          "2022-01-01T00:00:00",
          "2022-01-01T00:00:00",
          "2022-01-01T00:00:00",
          "2022-01-01T00:00:00",
          "2022-01-01T00:00:00",
          "2022-01-01T00:00:00",
          "2022-01-01T00:00:00",
          "2022-01-01T00:00:00",
          "2022-01-01T00:00:00",
          "2022-01-01T00:00:00",
          "2022-01-01T00:00:00",
          "2022-01-01T00:00:00",
          "2022-01-01T00:00:00",
          "2022-01-01T00:00:00",
          "2022-01-01T00:00:00",
          "2022-01-01T00:00:00",
          "2022-01-01T00:00:00",
          "2022-04-01T00:00:00",
          "2022-04-01T00:00:00",
          "2022-04-01T00:00:00",
          "2022-04-01T00:00:00",
          "2022-04-01T00:00:00",
          "2022-04-01T00:00:00",
          "2022-04-01T00:00:00",
          "2022-04-01T00:00:00",
          "2022-04-01T00:00:00",
          "2022-04-01T00:00:00",
          "2022-04-01T00:00:00",
          "2022-04-01T00:00:00",
          "2022-04-01T00:00:00",
          "2022-04-01T00:00:00",
          "2022-04-01T00:00:00",
          "2022-04-01T00:00:00",
          "2022-04-01T00:00:00",
          "2022-04-01T00:00:00",
          "2022-04-01T00:00:00",
          "2022-04-01T00:00:00",
          "2022-04-01T00:00:00",
          "2022-04-01T00:00:00",
          "2022-04-01T00:00:00",
          "2022-04-01T00:00:00",
          "2022-04-01T00:00:00",
          "2022-04-01T00:00:00",
          "2022-04-01T00:00:00",
          "2022-04-01T00:00:00",
          "2022-04-01T00:00:00",
          "2022-04-01T00:00:00",
          "2022-04-01T00:00:00",
          "2022-04-01T00:00:00",
          "2022-04-01T00:00:00",
          "2022-04-01T00:00:00",
          "2022-04-01T00:00:00",
          "2022-04-01T00:00:00",
          "2022-04-01T00:00:00",
          "2022-04-01T00:00:00",
          "2022-04-01T00:00:00",
          "2022-04-01T00:00:00",
          "2022-04-01T00:00:00",
          "2022-04-01T00:00:00",
          "2022-04-01T00:00:00",
          "2022-04-01T00:00:00",
          "2022-04-01T00:00:00",
          "2022-04-01T00:00:00",
          "2022-04-01T00:00:00",
          "2022-04-01T00:00:00",
          "2022-04-01T00:00:00",
          "2022-04-01T00:00:00",
          "2022-04-01T00:00:00",
          "2022-04-01T00:00:00",
          "2022-04-01T00:00:00",
          "2022-04-01T00:00:00",
          "2022-04-01T00:00:00",
          "2022-04-01T00:00:00",
          "2022-04-01T00:00:00",
          "2022-04-01T00:00:00",
          "2022-04-01T00:00:00",
          "2022-04-01T00:00:00",
          "2022-04-01T00:00:00",
          "2022-04-01T00:00:00",
          "2022-04-01T00:00:00",
          "2022-04-01T00:00:00",
          "2022-04-01T00:00:00",
          "2022-04-01T00:00:00",
          "2022-04-01T00:00:00",
          "2022-04-01T00:00:00",
          "2022-04-01T00:00:00",
          "2022-04-01T00:00:00",
          "2022-04-01T00:00:00",
          "2022-04-01T00:00:00",
          "2022-04-01T00:00:00",
          "2022-04-01T00:00:00",
          "2022-04-01T00:00:00",
          "2022-04-01T00:00:00",
          "2022-04-01T00:00:00",
          "2022-04-01T00:00:00",
          "2022-04-01T00:00:00",
          "2022-04-01T00:00:00",
          "2022-04-01T00:00:00",
          "2022-04-01T00:00:00",
          "2022-04-01T00:00:00",
          "2022-04-01T00:00:00",
          "2022-04-01T00:00:00",
          "2022-04-01T00:00:00",
          "2022-04-01T00:00:00",
          "2022-04-01T00:00:00",
          "2022-04-01T00:00:00",
          "2022-04-01T00:00:00",
          "2022-04-01T00:00:00",
          "2022-04-01T00:00:00",
          "2022-04-01T00:00:00",
          "2022-04-01T00:00:00",
          "2022-04-01T00:00:00",
          "2022-04-01T00:00:00",
          "2022-04-01T00:00:00",
          "2022-04-01T00:00:00",
          "2022-04-01T00:00:00",
          "2022-04-01T00:00:00",
          "2022-04-01T00:00:00",
          "2022-04-01T00:00:00",
          "2022-04-01T00:00:00",
          "2022-04-01T00:00:00",
          "2022-04-01T00:00:00",
          "2022-04-01T00:00:00",
          "2022-04-01T00:00:00",
          "2022-04-01T00:00:00",
          "2022-04-01T00:00:00",
          "2022-04-01T00:00:00",
          "2022-04-01T00:00:00",
          "2022-04-01T00:00:00",
          "2022-04-01T00:00:00",
          "2022-04-01T00:00:00",
          "2022-04-01T00:00:00",
          "2022-04-01T00:00:00",
          "2022-04-01T00:00:00",
          "2022-04-01T00:00:00",
          "2022-04-01T00:00:00",
          "2022-04-01T00:00:00",
          "2022-04-01T00:00:00",
          "2022-04-01T00:00:00",
          "2022-04-01T00:00:00",
          "2022-04-01T00:00:00",
          "2022-04-01T00:00:00",
          "2022-04-01T00:00:00",
          "2022-04-01T00:00:00",
          "2022-04-01T00:00:00",
          "2022-04-01T00:00:00",
          "2022-04-01T00:00:00",
          "2022-04-01T00:00:00",
          "2022-04-01T00:00:00",
          "2022-04-01T00:00:00",
          "2022-04-01T00:00:00",
          "2022-04-01T00:00:00",
          "2022-04-01T00:00:00",
          "2022-04-01T00:00:00",
          "2022-04-01T00:00:00",
          "2022-04-01T00:00:00",
          "2022-04-01T00:00:00",
          "2022-04-01T00:00:00",
          "2022-04-01T00:00:00",
          "2022-04-01T00:00:00",
          "2022-04-01T00:00:00",
          "2022-04-01T00:00:00",
          "2022-04-01T00:00:00",
          "2022-04-01T00:00:00",
          "2022-04-01T00:00:00",
          "2022-04-01T00:00:00",
          "2022-04-01T00:00:00",
          "2022-04-01T00:00:00",
          "2022-04-01T00:00:00",
          "2022-04-01T00:00:00",
          "2022-04-01T00:00:00",
          "2022-04-01T00:00:00",
          "2022-04-01T00:00:00",
          "2022-04-01T00:00:00",
          "2022-04-01T00:00:00",
          "2022-04-01T00:00:00",
          "2022-07-01T00:00:00",
          "2022-07-01T00:00:00",
          "2022-07-01T00:00:00",
          "2022-07-01T00:00:00",
          "2022-07-01T00:00:00",
          "2022-07-01T00:00:00",
          "2022-07-01T00:00:00",
          "2022-07-01T00:00:00",
          "2022-07-01T00:00:00",
          "2022-07-01T00:00:00",
          "2022-07-01T00:00:00",
          "2022-07-01T00:00:00",
          "2022-07-01T00:00:00",
          "2022-07-01T00:00:00",
          "2022-07-01T00:00:00",
          "2022-07-01T00:00:00",
          "2022-07-01T00:00:00",
          "2022-07-01T00:00:00",
          "2022-07-01T00:00:00",
          "2022-07-01T00:00:00",
          "2022-07-01T00:00:00",
          "2022-07-01T00:00:00",
          "2022-07-01T00:00:00",
          "2022-07-01T00:00:00",
          "2022-07-01T00:00:00",
          "2022-07-01T00:00:00",
          "2022-07-01T00:00:00",
          "2022-07-01T00:00:00",
          "2022-07-01T00:00:00",
          "2022-07-01T00:00:00",
          "2022-07-01T00:00:00",
          "2022-07-01T00:00:00",
          "2022-07-01T00:00:00",
          "2022-07-01T00:00:00",
          "2022-07-01T00:00:00",
          "2022-07-01T00:00:00",
          "2022-07-01T00:00:00",
          "2022-07-01T00:00:00",
          "2022-07-01T00:00:00",
          "2022-07-01T00:00:00",
          "2022-07-01T00:00:00",
          "2022-07-01T00:00:00",
          "2022-07-01T00:00:00",
          "2022-07-01T00:00:00",
          "2022-07-01T00:00:00",
          "2022-07-01T00:00:00",
          "2022-07-01T00:00:00",
          "2022-07-01T00:00:00",
          "2022-07-01T00:00:00",
          "2022-07-01T00:00:00",
          "2022-07-01T00:00:00",
          "2022-07-01T00:00:00",
          "2022-07-01T00:00:00",
          "2022-07-01T00:00:00",
          "2022-07-01T00:00:00",
          "2022-07-01T00:00:00",
          "2022-07-01T00:00:00",
          "2022-07-01T00:00:00",
          "2022-07-01T00:00:00",
          "2022-07-01T00:00:00",
          "2022-07-01T00:00:00",
          "2022-07-01T00:00:00",
          "2022-07-01T00:00:00",
          "2022-07-01T00:00:00",
          "2022-07-01T00:00:00",
          "2022-07-01T00:00:00",
          "2022-07-01T00:00:00",
          "2022-07-01T00:00:00",
          "2022-07-01T00:00:00",
          "2022-07-01T00:00:00",
          "2022-07-01T00:00:00",
          "2022-07-01T00:00:00",
          "2022-07-01T00:00:00",
          "2022-07-01T00:00:00",
          "2022-07-01T00:00:00",
          "2022-07-01T00:00:00",
          "2022-07-01T00:00:00",
          "2022-07-01T00:00:00",
          "2022-07-01T00:00:00",
          "2022-07-01T00:00:00",
          "2022-07-01T00:00:00",
          "2022-07-01T00:00:00",
          "2022-07-01T00:00:00",
          "2022-07-01T00:00:00",
          "2022-07-01T00:00:00",
          "2022-07-01T00:00:00",
          "2022-07-01T00:00:00",
          "2022-07-01T00:00:00",
          "2022-07-01T00:00:00",
          "2022-07-01T00:00:00",
          "2022-07-01T00:00:00",
          "2022-07-01T00:00:00",
          "2022-07-01T00:00:00",
          "2022-07-01T00:00:00",
          "2022-07-01T00:00:00",
          "2022-07-01T00:00:00",
          "2022-07-01T00:00:00",
          "2022-07-01T00:00:00",
          "2022-07-01T00:00:00",
          "2022-07-01T00:00:00",
          "2022-07-01T00:00:00",
          "2022-07-01T00:00:00",
          "2022-07-01T00:00:00",
          "2022-07-01T00:00:00",
          "2022-07-01T00:00:00",
          "2022-07-01T00:00:00",
          "2022-07-01T00:00:00",
          "2022-07-01T00:00:00",
          "2022-07-01T00:00:00",
          "2022-07-01T00:00:00",
          "2022-07-01T00:00:00",
          "2022-07-01T00:00:00",
          "2022-07-01T00:00:00",
          "2022-07-01T00:00:00",
          "2022-07-01T00:00:00",
          "2022-07-01T00:00:00",
          "2022-07-01T00:00:00",
          "2022-07-01T00:00:00",
          "2022-07-01T00:00:00",
          "2022-07-01T00:00:00",
          "2022-07-01T00:00:00",
          "2022-07-01T00:00:00",
          "2022-07-01T00:00:00",
          "2022-07-01T00:00:00",
          "2022-07-01T00:00:00",
          "2022-07-01T00:00:00",
          "2022-07-01T00:00:00",
          "2022-07-01T00:00:00",
          "2022-07-01T00:00:00",
          "2022-07-01T00:00:00",
          "2022-07-01T00:00:00",
          "2022-07-01T00:00:00",
          "2022-07-01T00:00:00",
          "2022-07-01T00:00:00",
          "2022-07-01T00:00:00",
          "2022-07-01T00:00:00",
          "2022-07-01T00:00:00",
          "2022-07-01T00:00:00",
          "2022-07-01T00:00:00",
          "2022-07-01T00:00:00",
          "2022-07-01T00:00:00",
          "2022-07-01T00:00:00",
          "2022-07-01T00:00:00",
          "2022-07-01T00:00:00",
          "2022-07-01T00:00:00",
          "2022-07-01T00:00:00",
          "2022-07-01T00:00:00",
          "2022-07-01T00:00:00",
          "2022-07-01T00:00:00",
          "2022-07-01T00:00:00",
          "2022-07-01T00:00:00",
          "2022-07-01T00:00:00",
          "2022-07-01T00:00:00",
          "2022-07-01T00:00:00",
          "2022-07-01T00:00:00",
          "2022-07-01T00:00:00",
          "2022-07-01T00:00:00",
          "2022-07-01T00:00:00",
          "2022-07-01T00:00:00",
          "2022-07-01T00:00:00",
          "2022-07-01T00:00:00",
          "2022-07-01T00:00:00",
          "2022-07-01T00:00:00",
          "2022-07-01T00:00:00"
         ],
         "xaxis": "x",
         "y": [
          47.46528683072275,
          38.72300146286894,
          106.18116640773364,
          64.34221502555478,
          78.33416693636175,
          90.35100314127325,
          83.92606114013554,
          6.763068573288415,
          13.832488563496064,
          46.79524353622756,
          11.715089034676664,
          82.40031449823539,
          121.59675029344271,
          84.71062977219258,
          95.53433068782475,
          63.71000836618971,
          84.80517770817835,
          70.5205266794771,
          116.27515976773284,
          90.68508908380284,
          124.11411737718377,
          74.52368318032872,
          117.74944964931143,
          67.26698073826704,
          111.26160990712074,
          125.52366095181027,
          85.43254311784716,
          93.51005504292567,
          88.67442052297285,
          96.0758734971618,
          86.03289103603454,
          128.03472789571876,
          83.78154737277616,
          118.08055965729409,
          113.69688582507045,
          197.13135476603452,
          148.58756741735525,
          133.80621119799721,
          98.03471744283857,
          82.09624727051137,
          72.83936967931167,
          114.60803523800973,
          80.61174781871544,
          38.03035095426974,
          20.639568633015568,
          28.700581186769032,
          45.74066148599514,
          76.32727682449452,
          34.548975180980385,
          95.39061009521718,
          106.09106804890668,
          45.84283658899892,
          42.52885362741791,
          45.0880664378752,
          61.51702721998489,
          50.41381338486745,
          38.728275521143196,
          48.349005436163814,
          31.988782855544788,
          26.606101864210782,
          46.7842644676242,
          33.54029285568184,
          39.485011877868324,
          43.38431341164974,
          41.475746563438136,
          27.58845104995278,
          64.42780059595715,
          22.54011049016742,
          56.239957150508836,
          45.25934658134052,
          14.352922414480503,
          17.392171576813194,
          1.7271952651820464,
          92.08854785798466,
          74.6657938610398,
          55.49726011425906,
          84.85327105159247,
          94.32571849668386,
          34.54823948936253,
          6.829201666325207,
          66.15984012226748,
          109.44253906690635,
          57.5572002855318,
          68.31105050590973,
          45.24709298970167,
          52.74104887832417,
          66.95065771216073,
          114.4950767117014,
          94.05134014418874,
          19.646365422396855,
          99.83028850953379,
          85.295121119072,
          63.406515019418244,
          29.090062834535722,
          67.04659738518271,
          104.97416020671835,
          90.04523448838417,
          92.72045768396133,
          43.42633807404191,
          53.29070077271516,
          53.32736984251223,
          49.47778447477083,
          50.0751126690035,
          38.32568300572871,
          40.16216421020725,
          40.78303425774878,
          28.378857750975524,
          66.58049539687146,
          76.43796513144119,
          93.69856425607071,
          99.47999614471988,
          104.47083252222437,
          64.96455048577299,
          59.98218455326976,
          24.047107237551963,
          47.3753363532193,
          47.88370303736091,
          65.00523768316364,
          108.60850664036221,
          47.83667822106433,
          44.46896642593035,
          47.502101968012084,
          25.205066463068462,
          58.98908777697575,
          40.189695362109155,
          74.14701963737473,
          13.162224415926293,
          2.424800863229107,
          11.040269382572935,
          2.65188681747063,
          0,
          7.729468599033816,
          0,
          18.12250815512867,
          8.913450396648543,
          0,
          9.065009065009065,
          0,
          0,
          0,
          49.044139725753176,
          0,
          22.151337940811626,
          0,
          0,
          11.381225530365109,
          54.67869597978222,
          53.62905628541948,
          20.073189938699564,
          30.643826801090924,
          12.31462097355875,
          68.67006247500672,
          53.15501702343761,
          0,
          2.856683369447454,
          1.6649462222370217,
          0,
          65.64286824785366,
          86.71441183077108,
          79.59120885000736,
          60.72436930221572,
          43.02555718096549,
          138.39114703094089,
          77.58064021949194,
          101.13566153755627,
          136.5770977716921,
          83.22667729730108,
          24.93881536400103,
          14.820523460888637,
          27.84747621481026,
          11.055084018638542,
          102.27855748365874,
          153.73655068910685,
          93.18169274941184,
          111.45671913579554,
          81.39463702299682,
          103.48068615654974,
          81.87953768825194,
          136.2737793320461,
          105.30908092704671,
          156.47071607084646,
          90.40577959580861,
          145.31621043677563,
          87.7810245095116,
          160.32728881026094,
          140.76213007970495,
          86.00114573427209,
          107.17857816984984,
          104.71372139276123,
          116.34876423509502,
          178.6836967671487,
          151.2029167530393,
          117.91477037649979,
          166.60003490431637,
          149.29894098241573,
          207.37194462401033,
          178.64535777277445,
          214.37769320969448,
          148.81088934770972,
          114.82189910342998,
          64.38479998439156,
          141.0154166292562,
          88.06616750947838,
          54.062753807540325,
          34.829272068213776,
          23.119912622675052,
          51.626859210734466,
          73.78303426367802,
          33.745510641887826,
          105.79685846924087,
          140.79987426243787,
          50.92163481168685,
          56.4607194708824,
          51.333372937716014,
          68.79509804601128,
          50.22285197053084,
          43.11125289923176,
          68.18449484587204,
          48.07894908228588,
          46.67215634280551,
          68.99313709427848,
          45.3884455164763,
          49.19444102816382,
          79.18690214941894,
          64.36292323850064,
          46.15760079511331,
          83.986240062587,
          37.80921759640987,
          81.01231922870916,
          67.88901987201078,
          9.037025223932169,
          20.676008168239463,
          2.0150611427123875,
          111.22051763457426,
          81.82552751894772,
          70.42089308616066,
          96.61511060329836,
          84.00884303610907,
          53.392733756287534,
          22.19490541555692,
          103.42817383455252,
          145.44337428628344,
          101.58920990344517,
          104.85355655799106,
          72.25683727437053,
          84.68281087505572,
          102.33390686573792,
          137.3940920540417,
          100.6943716041872,
          58.93909626719057,
          89.84725965858041,
          85.295121119072,
          87.1839581517001,
          87.27018850360717,
          185.72351421188628,
          96.40136868756422,
          69.04714933912014,
          75.99609162957334,
          97.69961808331112,
          43.866062289808454,
          44.080207986614006,
          45.522829699094096,
          47.92191275368552,
          58.34880460728224,
          52.64718967818478,
          48.02575927088165,
          102.66691287029465,
          95.45110603808537,
          100.74668634612912,
          128.16511614031384,
          136.2663032898579,
          78.45200041361512,
          78.64096603996352,
          36.17521349649122,
          53.90986550538749,
          50.90549012224292,
          81.56708167887412,
          147.30303532194876,
          62.555656135237975,
          72.46794528670131,
          76.00336314881933,
          47.47362032849788,
          91.89559689677971,
          59.15923157302468,
          93.26304813763541,
          6.581112207963146,
          3.637201294843661,
          6.900168364108084,
          15.911320904823782,
          0,
          15.458937198067632,
          7.144643303683063,
          6.38060296698038,
          0,
          0,
          3.885003885003885,
          14.068655036578503,
          39.33910306845004,
          8.289811821271657,
          0,
          18.01621459313382,
          0,
          17.7210703526493,
          0,
          7.693491306354824,
          9.104980424292087,
          59.34638953903192,
          57.392498831764705,
          33.97001374241465,
          33.42539978537375,
          89.32024832667938,
          61.849517949204355,
          0.899814638184534,
          3.06828954496208,
          1.6649462222370217,
          0,
          97.60058042115082,
          120.14647422335752,
          111.02639217732118,
          18.941546387847104,
          17.210222872386197,
          45.11429462682654,
          30.176672276136205,
          34.20224190179176,
          43.07431545107213,
          27.975353713378514,
          7.185760359118941,
          8.892314076533184,
          7.464271975103782,
          4.950037620285914,
          33.42654267381247,
          54.78534903330935,
          28.750274346925966,
          33.63884883374111,
          27.66057302731368,
          35.36100370142454,
          28.870819647302707,
          39.46630232603413,
          31.780630318557925,
          45.878759341760535,
          29.214558623792442,
          44.50062812833509,
          30.055459478800163,
          52.52100840336134,
          34.0928461844423,
          27.008624280184623,
          33.19498473681584,
          38.7234549570605,
          26.442900962521595,
          43.01644551801727,
          34.142594105525,
          0,
          49.50966861941051,
          40.19586872603501,
          75.52435020257167,
          45.937377712999144,
          65.46432913450403,
          37.47036782136576,
          31.032945703629725,
          25.363709084760313,
          43.308105481644226,
          35.71187107667824,
          16.84023710556716,
          7.739838237380839,
          11.161337128187956,
          18.149109651279574,
          25.805888831138624,
          12.051968086388507,
          20.812496748047383,
          27.832533284435392,
          14.501305451622109,
          16.13163413453783,
          14.318507585000907,
          21.834212478079145,
          16.23172021861263,
          12.502263340777208,
          22.314925585921763,
          13.983120649429756,
          13.526007092978665,
          20.02439335190141,
          11.848152660794463,
          14.887791363786418,
          20.63913939000813,
          16.96207002314277,
          14.678470750936414,
          13.805957270562248,
          9.888564602137967,
          23.32172826281021,
          16.31441562815763,
          4.784307471493501,
          6.810920337772999,
          0.2878658775303411,
          27.55003647828904,
          35.79866828953963,
          24.71726710971202,
          29.404598879264714,
          28.00294767870302,
          9.422247133462506,
          0,
          32.139663935365085,
          44.88104124015677,
          30.356539053988055,
          32.2025409627605,
          22.392693979597254,
          28.22760362501857,
          36.770827551756675,
          22.89901534234028,
          34.613690238939355,
          29.94908655286014,
          39.29273084479371,
          17.0590242238144,
          35.66616469842276,
          0,
          22.348865795060902,
          16.149870801033593,
          30.72131529603695,
          25.646084040244624,
          24.71916284435167,
          10.856584518510477,
          35.52713384847677,
          20.6428528422628,
          15.293133383110984,
          22.761414849547048,
          14.512816594132202,
          15.913310347440609,
          12.60566513421326,
          12.006439817720413,
          32.498878894193986,
          31.85985773545784,
          36.89899211854112,
          42.56871807346145,
          35.6887937187723,
          19.332011563240403,
          23.82420687001576,
          6.691368970449242,
          18.670083291909087,
          18.363167669667533,
          16.561843995710483,
          47.92845029878332,
          38.269342576851464,
          18.116986321675327,
          27.076198121766886,
          9.543665942326893,
          24.869435463814973,
          17.68346595932803,
          32.149684295892946,
          6.581112207963146,
          1.2124004316145536,
          0,
          2.65188681747063,
          0,
          7.729468599033816,
          10.716964955524595,
          0,
          0,
          0,
          0,
          0,
          1.295001295001295,
          0,
          0,
          0,
          0,
          8.007206485837253,
          0,
          0,
          0,
          2.5644971021182745,
          4.5524902121460435,
          18.670774236998806,
          18.817212731726134,
          10.808640736222843,
          21.450678760763644,
          10.5553894059075,
          26.386348588248406,
          17.586604145300917,
          0.899814638184534,
          0.9522277898158179,
          1.6649462222370217,
          1.6590626296142679,
          31.95771217329717,
          28.20830264374481,
          50.16252658613909
         ],
         "yaxis": "y"
        }
       ],
       "layout": {
        "barmode": "relative",
        "height": 400,
        "legend": {
         "tracegroupgap": 0
        },
        "template": {
         "data": {
          "bar": [
           {
            "error_x": {
             "color": "#2a3f5f"
            },
            "error_y": {
             "color": "#2a3f5f"
            },
            "marker": {
             "line": {
              "color": "#E5ECF6",
              "width": 0.5
             },
             "pattern": {
              "fillmode": "overlay",
              "size": 10,
              "solidity": 0.2
             }
            },
            "type": "bar"
           }
          ],
          "barpolar": [
           {
            "marker": {
             "line": {
              "color": "#E5ECF6",
              "width": 0.5
             },
             "pattern": {
              "fillmode": "overlay",
              "size": 10,
              "solidity": 0.2
             }
            },
            "type": "barpolar"
           }
          ],
          "carpet": [
           {
            "aaxis": {
             "endlinecolor": "#2a3f5f",
             "gridcolor": "white",
             "linecolor": "white",
             "minorgridcolor": "white",
             "startlinecolor": "#2a3f5f"
            },
            "baxis": {
             "endlinecolor": "#2a3f5f",
             "gridcolor": "white",
             "linecolor": "white",
             "minorgridcolor": "white",
             "startlinecolor": "#2a3f5f"
            },
            "type": "carpet"
           }
          ],
          "choropleth": [
           {
            "colorbar": {
             "outlinewidth": 0,
             "ticks": ""
            },
            "type": "choropleth"
           }
          ],
          "contour": [
           {
            "colorbar": {
             "outlinewidth": 0,
             "ticks": ""
            },
            "colorscale": [
             [
              0,
              "#0d0887"
             ],
             [
              0.1111111111111111,
              "#46039f"
             ],
             [
              0.2222222222222222,
              "#7201a8"
             ],
             [
              0.3333333333333333,
              "#9c179e"
             ],
             [
              0.4444444444444444,
              "#bd3786"
             ],
             [
              0.5555555555555556,
              "#d8576b"
             ],
             [
              0.6666666666666666,
              "#ed7953"
             ],
             [
              0.7777777777777778,
              "#fb9f3a"
             ],
             [
              0.8888888888888888,
              "#fdca26"
             ],
             [
              1,
              "#f0f921"
             ]
            ],
            "type": "contour"
           }
          ],
          "contourcarpet": [
           {
            "colorbar": {
             "outlinewidth": 0,
             "ticks": ""
            },
            "type": "contourcarpet"
           }
          ],
          "heatmap": [
           {
            "colorbar": {
             "outlinewidth": 0,
             "ticks": ""
            },
            "colorscale": [
             [
              0,
              "#0d0887"
             ],
             [
              0.1111111111111111,
              "#46039f"
             ],
             [
              0.2222222222222222,
              "#7201a8"
             ],
             [
              0.3333333333333333,
              "#9c179e"
             ],
             [
              0.4444444444444444,
              "#bd3786"
             ],
             [
              0.5555555555555556,
              "#d8576b"
             ],
             [
              0.6666666666666666,
              "#ed7953"
             ],
             [
              0.7777777777777778,
              "#fb9f3a"
             ],
             [
              0.8888888888888888,
              "#fdca26"
             ],
             [
              1,
              "#f0f921"
             ]
            ],
            "type": "heatmap"
           }
          ],
          "heatmapgl": [
           {
            "colorbar": {
             "outlinewidth": 0,
             "ticks": ""
            },
            "colorscale": [
             [
              0,
              "#0d0887"
             ],
             [
              0.1111111111111111,
              "#46039f"
             ],
             [
              0.2222222222222222,
              "#7201a8"
             ],
             [
              0.3333333333333333,
              "#9c179e"
             ],
             [
              0.4444444444444444,
              "#bd3786"
             ],
             [
              0.5555555555555556,
              "#d8576b"
             ],
             [
              0.6666666666666666,
              "#ed7953"
             ],
             [
              0.7777777777777778,
              "#fb9f3a"
             ],
             [
              0.8888888888888888,
              "#fdca26"
             ],
             [
              1,
              "#f0f921"
             ]
            ],
            "type": "heatmapgl"
           }
          ],
          "histogram": [
           {
            "marker": {
             "pattern": {
              "fillmode": "overlay",
              "size": 10,
              "solidity": 0.2
             }
            },
            "type": "histogram"
           }
          ],
          "histogram2d": [
           {
            "colorbar": {
             "outlinewidth": 0,
             "ticks": ""
            },
            "colorscale": [
             [
              0,
              "#0d0887"
             ],
             [
              0.1111111111111111,
              "#46039f"
             ],
             [
              0.2222222222222222,
              "#7201a8"
             ],
             [
              0.3333333333333333,
              "#9c179e"
             ],
             [
              0.4444444444444444,
              "#bd3786"
             ],
             [
              0.5555555555555556,
              "#d8576b"
             ],
             [
              0.6666666666666666,
              "#ed7953"
             ],
             [
              0.7777777777777778,
              "#fb9f3a"
             ],
             [
              0.8888888888888888,
              "#fdca26"
             ],
             [
              1,
              "#f0f921"
             ]
            ],
            "type": "histogram2d"
           }
          ],
          "histogram2dcontour": [
           {
            "colorbar": {
             "outlinewidth": 0,
             "ticks": ""
            },
            "colorscale": [
             [
              0,
              "#0d0887"
             ],
             [
              0.1111111111111111,
              "#46039f"
             ],
             [
              0.2222222222222222,
              "#7201a8"
             ],
             [
              0.3333333333333333,
              "#9c179e"
             ],
             [
              0.4444444444444444,
              "#bd3786"
             ],
             [
              0.5555555555555556,
              "#d8576b"
             ],
             [
              0.6666666666666666,
              "#ed7953"
             ],
             [
              0.7777777777777778,
              "#fb9f3a"
             ],
             [
              0.8888888888888888,
              "#fdca26"
             ],
             [
              1,
              "#f0f921"
             ]
            ],
            "type": "histogram2dcontour"
           }
          ],
          "mesh3d": [
           {
            "colorbar": {
             "outlinewidth": 0,
             "ticks": ""
            },
            "type": "mesh3d"
           }
          ],
          "parcoords": [
           {
            "line": {
             "colorbar": {
              "outlinewidth": 0,
              "ticks": ""
             }
            },
            "type": "parcoords"
           }
          ],
          "pie": [
           {
            "automargin": true,
            "type": "pie"
           }
          ],
          "scatter": [
           {
            "marker": {
             "colorbar": {
              "outlinewidth": 0,
              "ticks": ""
             }
            },
            "type": "scatter"
           }
          ],
          "scatter3d": [
           {
            "line": {
             "colorbar": {
              "outlinewidth": 0,
              "ticks": ""
             }
            },
            "marker": {
             "colorbar": {
              "outlinewidth": 0,
              "ticks": ""
             }
            },
            "type": "scatter3d"
           }
          ],
          "scattercarpet": [
           {
            "marker": {
             "colorbar": {
              "outlinewidth": 0,
              "ticks": ""
             }
            },
            "type": "scattercarpet"
           }
          ],
          "scattergeo": [
           {
            "marker": {
             "colorbar": {
              "outlinewidth": 0,
              "ticks": ""
             }
            },
            "type": "scattergeo"
           }
          ],
          "scattergl": [
           {
            "marker": {
             "colorbar": {
              "outlinewidth": 0,
              "ticks": ""
             }
            },
            "type": "scattergl"
           }
          ],
          "scattermapbox": [
           {
            "marker": {
             "colorbar": {
              "outlinewidth": 0,
              "ticks": ""
             }
            },
            "type": "scattermapbox"
           }
          ],
          "scatterpolar": [
           {
            "marker": {
             "colorbar": {
              "outlinewidth": 0,
              "ticks": ""
             }
            },
            "type": "scatterpolar"
           }
          ],
          "scatterpolargl": [
           {
            "marker": {
             "colorbar": {
              "outlinewidth": 0,
              "ticks": ""
             }
            },
            "type": "scatterpolargl"
           }
          ],
          "scatterternary": [
           {
            "marker": {
             "colorbar": {
              "outlinewidth": 0,
              "ticks": ""
             }
            },
            "type": "scatterternary"
           }
          ],
          "surface": [
           {
            "colorbar": {
             "outlinewidth": 0,
             "ticks": ""
            },
            "colorscale": [
             [
              0,
              "#0d0887"
             ],
             [
              0.1111111111111111,
              "#46039f"
             ],
             [
              0.2222222222222222,
              "#7201a8"
             ],
             [
              0.3333333333333333,
              "#9c179e"
             ],
             [
              0.4444444444444444,
              "#bd3786"
             ],
             [
              0.5555555555555556,
              "#d8576b"
             ],
             [
              0.6666666666666666,
              "#ed7953"
             ],
             [
              0.7777777777777778,
              "#fb9f3a"
             ],
             [
              0.8888888888888888,
              "#fdca26"
             ],
             [
              1,
              "#f0f921"
             ]
            ],
            "type": "surface"
           }
          ],
          "table": [
           {
            "cells": {
             "fill": {
              "color": "#EBF0F8"
             },
             "line": {
              "color": "white"
             }
            },
            "header": {
             "fill": {
              "color": "#C8D4E3"
             },
             "line": {
              "color": "white"
             }
            },
            "type": "table"
           }
          ]
         },
         "layout": {
          "annotationdefaults": {
           "arrowcolor": "#2a3f5f",
           "arrowhead": 0,
           "arrowwidth": 1
          },
          "autotypenumbers": "strict",
          "coloraxis": {
           "colorbar": {
            "outlinewidth": 0,
            "ticks": ""
           }
          },
          "colorscale": {
           "diverging": [
            [
             0,
             "#8e0152"
            ],
            [
             0.1,
             "#c51b7d"
            ],
            [
             0.2,
             "#de77ae"
            ],
            [
             0.3,
             "#f1b6da"
            ],
            [
             0.4,
             "#fde0ef"
            ],
            [
             0.5,
             "#f7f7f7"
            ],
            [
             0.6,
             "#e6f5d0"
            ],
            [
             0.7,
             "#b8e186"
            ],
            [
             0.8,
             "#7fbc41"
            ],
            [
             0.9,
             "#4d9221"
            ],
            [
             1,
             "#276419"
            ]
           ],
           "sequential": [
            [
             0,
             "#0d0887"
            ],
            [
             0.1111111111111111,
             "#46039f"
            ],
            [
             0.2222222222222222,
             "#7201a8"
            ],
            [
             0.3333333333333333,
             "#9c179e"
            ],
            [
             0.4444444444444444,
             "#bd3786"
            ],
            [
             0.5555555555555556,
             "#d8576b"
            ],
            [
             0.6666666666666666,
             "#ed7953"
            ],
            [
             0.7777777777777778,
             "#fb9f3a"
            ],
            [
             0.8888888888888888,
             "#fdca26"
            ],
            [
             1,
             "#f0f921"
            ]
           ],
           "sequentialminus": [
            [
             0,
             "#0d0887"
            ],
            [
             0.1111111111111111,
             "#46039f"
            ],
            [
             0.2222222222222222,
             "#7201a8"
            ],
            [
             0.3333333333333333,
             "#9c179e"
            ],
            [
             0.4444444444444444,
             "#bd3786"
            ],
            [
             0.5555555555555556,
             "#d8576b"
            ],
            [
             0.6666666666666666,
             "#ed7953"
            ],
            [
             0.7777777777777778,
             "#fb9f3a"
            ],
            [
             0.8888888888888888,
             "#fdca26"
            ],
            [
             1,
             "#f0f921"
            ]
           ]
          },
          "colorway": [
           "#636efa",
           "#EF553B",
           "#00cc96",
           "#ab63fa",
           "#FFA15A",
           "#19d3f3",
           "#FF6692",
           "#B6E880",
           "#FF97FF",
           "#FECB52"
          ],
          "font": {
           "color": "#2a3f5f"
          },
          "geo": {
           "bgcolor": "white",
           "lakecolor": "white",
           "landcolor": "#E5ECF6",
           "showlakes": true,
           "showland": true,
           "subunitcolor": "white"
          },
          "hoverlabel": {
           "align": "left"
          },
          "hovermode": "closest",
          "mapbox": {
           "style": "light"
          },
          "paper_bgcolor": "white",
          "plot_bgcolor": "#E5ECF6",
          "polar": {
           "angularaxis": {
            "gridcolor": "white",
            "linecolor": "white",
            "ticks": ""
           },
           "bgcolor": "#E5ECF6",
           "radialaxis": {
            "gridcolor": "white",
            "linecolor": "white",
            "ticks": ""
           }
          },
          "scene": {
           "xaxis": {
            "backgroundcolor": "#E5ECF6",
            "gridcolor": "white",
            "gridwidth": 2,
            "linecolor": "white",
            "showbackground": true,
            "ticks": "",
            "zerolinecolor": "white"
           },
           "yaxis": {
            "backgroundcolor": "#E5ECF6",
            "gridcolor": "white",
            "gridwidth": 2,
            "linecolor": "white",
            "showbackground": true,
            "ticks": "",
            "zerolinecolor": "white"
           },
           "zaxis": {
            "backgroundcolor": "#E5ECF6",
            "gridcolor": "white",
            "gridwidth": 2,
            "linecolor": "white",
            "showbackground": true,
            "ticks": "",
            "zerolinecolor": "white"
           }
          },
          "shapedefaults": {
           "line": {
            "color": "#2a3f5f"
           }
          },
          "ternary": {
           "aaxis": {
            "gridcolor": "white",
            "linecolor": "white",
            "ticks": ""
           },
           "baxis": {
            "gridcolor": "white",
            "linecolor": "white",
            "ticks": ""
           },
           "bgcolor": "#E5ECF6",
           "caxis": {
            "gridcolor": "white",
            "linecolor": "white",
            "ticks": ""
           }
          },
          "title": {
           "x": 0.05
          },
          "xaxis": {
           "automargin": true,
           "gridcolor": "white",
           "linecolor": "white",
           "ticks": "",
           "title": {
            "standoff": 15
           },
           "zerolinecolor": "white",
           "zerolinewidth": 2
          },
          "yaxis": {
           "automargin": true,
           "gridcolor": "white",
           "linecolor": "white",
           "ticks": "",
           "title": {
            "standoff": 15
           },
           "zerolinecolor": "white",
           "zerolinewidth": 2
          }
         }
        },
        "title": {
         "text": "Cantidad de delitos"
        },
        "width": 500,
        "xaxis": {
         "anchor": "y",
         "domain": [
          0,
          1
         ],
         "title": {
          "text": "FECHA"
         }
        },
        "yaxis": {
         "anchor": "x",
         "domain": [
          0,
          1
         ],
         "title": {
          "text": "sum of TOTAL_DELITOS"
         }
        }
       }
      },
      "text/html": [
       "<div>                            <div id=\"d02e96fb-69f6-4573-b1f0-8aae8d9c5a1a\" class=\"plotly-graph-div\" style=\"height:400px; width:500px;\"></div>            <script type=\"text/javascript\">                require([\"plotly\"], function(Plotly) {                    window.PLOTLYENV=window.PLOTLYENV || {};                                    if (document.getElementById(\"d02e96fb-69f6-4573-b1f0-8aae8d9c5a1a\")) {                    Plotly.newPlot(                        \"d02e96fb-69f6-4573-b1f0-8aae8d9c5a1a\",                        [{\"alignmentgroup\":\"True\",\"bingroup\":\"x\",\"histfunc\":\"sum\",\"hovertemplate\":\"FECHA=%{x}<br>sum of TOTAL_DELITOS=%{y}<extra></extra>\",\"legendgroup\":\"\",\"marker\":{\"color\":\"#636efa\",\"pattern\":{\"shape\":\"\"}},\"name\":\"\",\"offsetgroup\":\"\",\"orientation\":\"v\",\"showlegend\":false,\"x\":[\"2022-01-01T00:00:00\",\"2022-01-01T00:00:00\",\"2022-01-01T00:00:00\",\"2022-01-01T00:00:00\",\"2022-01-01T00:00:00\",\"2022-01-01T00:00:00\",\"2022-01-01T00:00:00\",\"2022-01-01T00:00:00\",\"2022-01-01T00:00:00\",\"2022-01-01T00:00:00\",\"2022-01-01T00:00:00\",\"2022-01-01T00:00:00\",\"2022-01-01T00:00:00\",\"2022-01-01T00:00:00\",\"2022-01-01T00:00:00\",\"2022-01-01T00:00:00\",\"2022-01-01T00:00:00\",\"2022-01-01T00:00:00\",\"2022-01-01T00:00:00\",\"2022-01-01T00:00:00\",\"2022-01-01T00:00:00\",\"2022-01-01T00:00:00\",\"2022-01-01T00:00:00\",\"2022-01-01T00:00:00\",\"2022-01-01T00:00:00\",\"2022-01-01T00:00:00\",\"2022-01-01T00:00:00\",\"2022-01-01T00:00:00\",\"2022-01-01T00:00:00\",\"2022-01-01T00:00:00\",\"2022-01-01T00:00:00\",\"2022-01-01T00:00:00\",\"2022-01-01T00:00:00\",\"2022-01-01T00:00:00\",\"2022-01-01T00:00:00\",\"2022-01-01T00:00:00\",\"2022-01-01T00:00:00\",\"2022-01-01T00:00:00\",\"2022-01-01T00:00:00\",\"2022-01-01T00:00:00\",\"2022-01-01T00:00:00\",\"2022-01-01T00:00:00\",\"2022-01-01T00:00:00\",\"2022-01-01T00:00:00\",\"2022-01-01T00:00:00\",\"2022-01-01T00:00:00\",\"2022-01-01T00:00:00\",\"2022-01-01T00:00:00\",\"2022-01-01T00:00:00\",\"2022-01-01T00:00:00\",\"2022-01-01T00:00:00\",\"2022-01-01T00:00:00\",\"2022-01-01T00:00:00\",\"2022-01-01T00:00:00\",\"2022-01-01T00:00:00\",\"2022-01-01T00:00:00\",\"2022-01-01T00:00:00\",\"2022-01-01T00:00:00\",\"2022-01-01T00:00:00\",\"2022-01-01T00:00:00\",\"2022-01-01T00:00:00\",\"2022-01-01T00:00:00\",\"2022-01-01T00:00:00\",\"2022-01-01T00:00:00\",\"2022-01-01T00:00:00\",\"2022-01-01T00:00:00\",\"2022-01-01T00:00:00\",\"2022-01-01T00:00:00\",\"2022-01-01T00:00:00\",\"2022-01-01T00:00:00\",\"2022-01-01T00:00:00\",\"2022-01-01T00:00:00\",\"2022-01-01T00:00:00\",\"2022-01-01T00:00:00\",\"2022-01-01T00:00:00\",\"2022-01-01T00:00:00\",\"2022-01-01T00:00:00\",\"2022-01-01T00:00:00\",\"2022-01-01T00:00:00\",\"2022-01-01T00:00:00\",\"2022-01-01T00:00:00\",\"2022-01-01T00:00:00\",\"2022-01-01T00:00:00\",\"2022-01-01T00:00:00\",\"2022-01-01T00:00:00\",\"2022-01-01T00:00:00\",\"2022-01-01T00:00:00\",\"2022-01-01T00:00:00\",\"2022-01-01T00:00:00\",\"2022-01-01T00:00:00\",\"2022-01-01T00:00:00\",\"2022-01-01T00:00:00\",\"2022-01-01T00:00:00\",\"2022-01-01T00:00:00\",\"2022-01-01T00:00:00\",\"2022-01-01T00:00:00\",\"2022-01-01T00:00:00\",\"2022-01-01T00:00:00\",\"2022-01-01T00:00:00\",\"2022-01-01T00:00:00\",\"2022-01-01T00:00:00\",\"2022-01-01T00:00:00\",\"2022-01-01T00:00:00\",\"2022-01-01T00:00:00\",\"2022-01-01T00:00:00\",\"2022-01-01T00:00:00\",\"2022-01-01T00:00:00\",\"2022-01-01T00:00:00\",\"2022-01-01T00:00:00\",\"2022-01-01T00:00:00\",\"2022-01-01T00:00:00\",\"2022-01-01T00:00:00\",\"2022-01-01T00:00:00\",\"2022-01-01T00:00:00\",\"2022-01-01T00:00:00\",\"2022-01-01T00:00:00\",\"2022-01-01T00:00:00\",\"2022-01-01T00:00:00\",\"2022-01-01T00:00:00\",\"2022-01-01T00:00:00\",\"2022-01-01T00:00:00\",\"2022-01-01T00:00:00\",\"2022-01-01T00:00:00\",\"2022-01-01T00:00:00\",\"2022-01-01T00:00:00\",\"2022-01-01T00:00:00\",\"2022-01-01T00:00:00\",\"2022-01-01T00:00:00\",\"2022-01-01T00:00:00\",\"2022-01-01T00:00:00\",\"2022-01-01T00:00:00\",\"2022-01-01T00:00:00\",\"2022-01-01T00:00:00\",\"2022-01-01T00:00:00\",\"2022-01-01T00:00:00\",\"2022-01-01T00:00:00\",\"2022-01-01T00:00:00\",\"2022-01-01T00:00:00\",\"2022-01-01T00:00:00\",\"2022-01-01T00:00:00\",\"2022-01-01T00:00:00\",\"2022-01-01T00:00:00\",\"2022-01-01T00:00:00\",\"2022-01-01T00:00:00\",\"2022-01-01T00:00:00\",\"2022-01-01T00:00:00\",\"2022-01-01T00:00:00\",\"2022-01-01T00:00:00\",\"2022-01-01T00:00:00\",\"2022-01-01T00:00:00\",\"2022-01-01T00:00:00\",\"2022-01-01T00:00:00\",\"2022-01-01T00:00:00\",\"2022-01-01T00:00:00\",\"2022-01-01T00:00:00\",\"2022-01-01T00:00:00\",\"2022-01-01T00:00:00\",\"2022-01-01T00:00:00\",\"2022-01-01T00:00:00\",\"2022-01-01T00:00:00\",\"2022-04-01T00:00:00\",\"2022-04-01T00:00:00\",\"2022-04-01T00:00:00\",\"2022-04-01T00:00:00\",\"2022-04-01T00:00:00\",\"2022-04-01T00:00:00\",\"2022-04-01T00:00:00\",\"2022-04-01T00:00:00\",\"2022-04-01T00:00:00\",\"2022-04-01T00:00:00\",\"2022-04-01T00:00:00\",\"2022-04-01T00:00:00\",\"2022-04-01T00:00:00\",\"2022-04-01T00:00:00\",\"2022-04-01T00:00:00\",\"2022-04-01T00:00:00\",\"2022-04-01T00:00:00\",\"2022-04-01T00:00:00\",\"2022-04-01T00:00:00\",\"2022-04-01T00:00:00\",\"2022-04-01T00:00:00\",\"2022-04-01T00:00:00\",\"2022-04-01T00:00:00\",\"2022-04-01T00:00:00\",\"2022-04-01T00:00:00\",\"2022-04-01T00:00:00\",\"2022-04-01T00:00:00\",\"2022-04-01T00:00:00\",\"2022-04-01T00:00:00\",\"2022-04-01T00:00:00\",\"2022-04-01T00:00:00\",\"2022-04-01T00:00:00\",\"2022-04-01T00:00:00\",\"2022-04-01T00:00:00\",\"2022-04-01T00:00:00\",\"2022-04-01T00:00:00\",\"2022-04-01T00:00:00\",\"2022-04-01T00:00:00\",\"2022-04-01T00:00:00\",\"2022-04-01T00:00:00\",\"2022-04-01T00:00:00\",\"2022-04-01T00:00:00\",\"2022-04-01T00:00:00\",\"2022-04-01T00:00:00\",\"2022-04-01T00:00:00\",\"2022-04-01T00:00:00\",\"2022-04-01T00:00:00\",\"2022-04-01T00:00:00\",\"2022-04-01T00:00:00\",\"2022-04-01T00:00:00\",\"2022-04-01T00:00:00\",\"2022-04-01T00:00:00\",\"2022-04-01T00:00:00\",\"2022-04-01T00:00:00\",\"2022-04-01T00:00:00\",\"2022-04-01T00:00:00\",\"2022-04-01T00:00:00\",\"2022-04-01T00:00:00\",\"2022-04-01T00:00:00\",\"2022-04-01T00:00:00\",\"2022-04-01T00:00:00\",\"2022-04-01T00:00:00\",\"2022-04-01T00:00:00\",\"2022-04-01T00:00:00\",\"2022-04-01T00:00:00\",\"2022-04-01T00:00:00\",\"2022-04-01T00:00:00\",\"2022-04-01T00:00:00\",\"2022-04-01T00:00:00\",\"2022-04-01T00:00:00\",\"2022-04-01T00:00:00\",\"2022-04-01T00:00:00\",\"2022-04-01T00:00:00\",\"2022-04-01T00:00:00\",\"2022-04-01T00:00:00\",\"2022-04-01T00:00:00\",\"2022-04-01T00:00:00\",\"2022-04-01T00:00:00\",\"2022-04-01T00:00:00\",\"2022-04-01T00:00:00\",\"2022-04-01T00:00:00\",\"2022-04-01T00:00:00\",\"2022-04-01T00:00:00\",\"2022-04-01T00:00:00\",\"2022-04-01T00:00:00\",\"2022-04-01T00:00:00\",\"2022-04-01T00:00:00\",\"2022-04-01T00:00:00\",\"2022-04-01T00:00:00\",\"2022-04-01T00:00:00\",\"2022-04-01T00:00:00\",\"2022-04-01T00:00:00\",\"2022-04-01T00:00:00\",\"2022-04-01T00:00:00\",\"2022-04-01T00:00:00\",\"2022-04-01T00:00:00\",\"2022-04-01T00:00:00\",\"2022-04-01T00:00:00\",\"2022-04-01T00:00:00\",\"2022-04-01T00:00:00\",\"2022-04-01T00:00:00\",\"2022-04-01T00:00:00\",\"2022-04-01T00:00:00\",\"2022-04-01T00:00:00\",\"2022-04-01T00:00:00\",\"2022-04-01T00:00:00\",\"2022-04-01T00:00:00\",\"2022-04-01T00:00:00\",\"2022-04-01T00:00:00\",\"2022-04-01T00:00:00\",\"2022-04-01T00:00:00\",\"2022-04-01T00:00:00\",\"2022-04-01T00:00:00\",\"2022-04-01T00:00:00\",\"2022-04-01T00:00:00\",\"2022-04-01T00:00:00\",\"2022-04-01T00:00:00\",\"2022-04-01T00:00:00\",\"2022-04-01T00:00:00\",\"2022-04-01T00:00:00\",\"2022-04-01T00:00:00\",\"2022-04-01T00:00:00\",\"2022-04-01T00:00:00\",\"2022-04-01T00:00:00\",\"2022-04-01T00:00:00\",\"2022-04-01T00:00:00\",\"2022-04-01T00:00:00\",\"2022-04-01T00:00:00\",\"2022-04-01T00:00:00\",\"2022-04-01T00:00:00\",\"2022-04-01T00:00:00\",\"2022-04-01T00:00:00\",\"2022-04-01T00:00:00\",\"2022-04-01T00:00:00\",\"2022-04-01T00:00:00\",\"2022-04-01T00:00:00\",\"2022-04-01T00:00:00\",\"2022-04-01T00:00:00\",\"2022-04-01T00:00:00\",\"2022-04-01T00:00:00\",\"2022-04-01T00:00:00\",\"2022-04-01T00:00:00\",\"2022-04-01T00:00:00\",\"2022-04-01T00:00:00\",\"2022-04-01T00:00:00\",\"2022-04-01T00:00:00\",\"2022-04-01T00:00:00\",\"2022-04-01T00:00:00\",\"2022-04-01T00:00:00\",\"2022-04-01T00:00:00\",\"2022-04-01T00:00:00\",\"2022-04-01T00:00:00\",\"2022-04-01T00:00:00\",\"2022-04-01T00:00:00\",\"2022-04-01T00:00:00\",\"2022-04-01T00:00:00\",\"2022-04-01T00:00:00\",\"2022-04-01T00:00:00\",\"2022-04-01T00:00:00\",\"2022-07-01T00:00:00\",\"2022-07-01T00:00:00\",\"2022-07-01T00:00:00\",\"2022-07-01T00:00:00\",\"2022-07-01T00:00:00\",\"2022-07-01T00:00:00\",\"2022-07-01T00:00:00\",\"2022-07-01T00:00:00\",\"2022-07-01T00:00:00\",\"2022-07-01T00:00:00\",\"2022-07-01T00:00:00\",\"2022-07-01T00:00:00\",\"2022-07-01T00:00:00\",\"2022-07-01T00:00:00\",\"2022-07-01T00:00:00\",\"2022-07-01T00:00:00\",\"2022-07-01T00:00:00\",\"2022-07-01T00:00:00\",\"2022-07-01T00:00:00\",\"2022-07-01T00:00:00\",\"2022-07-01T00:00:00\",\"2022-07-01T00:00:00\",\"2022-07-01T00:00:00\",\"2022-07-01T00:00:00\",\"2022-07-01T00:00:00\",\"2022-07-01T00:00:00\",\"2022-07-01T00:00:00\",\"2022-07-01T00:00:00\",\"2022-07-01T00:00:00\",\"2022-07-01T00:00:00\",\"2022-07-01T00:00:00\",\"2022-07-01T00:00:00\",\"2022-07-01T00:00:00\",\"2022-07-01T00:00:00\",\"2022-07-01T00:00:00\",\"2022-07-01T00:00:00\",\"2022-07-01T00:00:00\",\"2022-07-01T00:00:00\",\"2022-07-01T00:00:00\",\"2022-07-01T00:00:00\",\"2022-07-01T00:00:00\",\"2022-07-01T00:00:00\",\"2022-07-01T00:00:00\",\"2022-07-01T00:00:00\",\"2022-07-01T00:00:00\",\"2022-07-01T00:00:00\",\"2022-07-01T00:00:00\",\"2022-07-01T00:00:00\",\"2022-07-01T00:00:00\",\"2022-07-01T00:00:00\",\"2022-07-01T00:00:00\",\"2022-07-01T00:00:00\",\"2022-07-01T00:00:00\",\"2022-07-01T00:00:00\",\"2022-07-01T00:00:00\",\"2022-07-01T00:00:00\",\"2022-07-01T00:00:00\",\"2022-07-01T00:00:00\",\"2022-07-01T00:00:00\",\"2022-07-01T00:00:00\",\"2022-07-01T00:00:00\",\"2022-07-01T00:00:00\",\"2022-07-01T00:00:00\",\"2022-07-01T00:00:00\",\"2022-07-01T00:00:00\",\"2022-07-01T00:00:00\",\"2022-07-01T00:00:00\",\"2022-07-01T00:00:00\",\"2022-07-01T00:00:00\",\"2022-07-01T00:00:00\",\"2022-07-01T00:00:00\",\"2022-07-01T00:00:00\",\"2022-07-01T00:00:00\",\"2022-07-01T00:00:00\",\"2022-07-01T00:00:00\",\"2022-07-01T00:00:00\",\"2022-07-01T00:00:00\",\"2022-07-01T00:00:00\",\"2022-07-01T00:00:00\",\"2022-07-01T00:00:00\",\"2022-07-01T00:00:00\",\"2022-07-01T00:00:00\",\"2022-07-01T00:00:00\",\"2022-07-01T00:00:00\",\"2022-07-01T00:00:00\",\"2022-07-01T00:00:00\",\"2022-07-01T00:00:00\",\"2022-07-01T00:00:00\",\"2022-07-01T00:00:00\",\"2022-07-01T00:00:00\",\"2022-07-01T00:00:00\",\"2022-07-01T00:00:00\",\"2022-07-01T00:00:00\",\"2022-07-01T00:00:00\",\"2022-07-01T00:00:00\",\"2022-07-01T00:00:00\",\"2022-07-01T00:00:00\",\"2022-07-01T00:00:00\",\"2022-07-01T00:00:00\",\"2022-07-01T00:00:00\",\"2022-07-01T00:00:00\",\"2022-07-01T00:00:00\",\"2022-07-01T00:00:00\",\"2022-07-01T00:00:00\",\"2022-07-01T00:00:00\",\"2022-07-01T00:00:00\",\"2022-07-01T00:00:00\",\"2022-07-01T00:00:00\",\"2022-07-01T00:00:00\",\"2022-07-01T00:00:00\",\"2022-07-01T00:00:00\",\"2022-07-01T00:00:00\",\"2022-07-01T00:00:00\",\"2022-07-01T00:00:00\",\"2022-07-01T00:00:00\",\"2022-07-01T00:00:00\",\"2022-07-01T00:00:00\",\"2022-07-01T00:00:00\",\"2022-07-01T00:00:00\",\"2022-07-01T00:00:00\",\"2022-07-01T00:00:00\",\"2022-07-01T00:00:00\",\"2022-07-01T00:00:00\",\"2022-07-01T00:00:00\",\"2022-07-01T00:00:00\",\"2022-07-01T00:00:00\",\"2022-07-01T00:00:00\",\"2022-07-01T00:00:00\",\"2022-07-01T00:00:00\",\"2022-07-01T00:00:00\",\"2022-07-01T00:00:00\",\"2022-07-01T00:00:00\",\"2022-07-01T00:00:00\",\"2022-07-01T00:00:00\",\"2022-07-01T00:00:00\",\"2022-07-01T00:00:00\",\"2022-07-01T00:00:00\",\"2022-07-01T00:00:00\",\"2022-07-01T00:00:00\",\"2022-07-01T00:00:00\",\"2022-07-01T00:00:00\",\"2022-07-01T00:00:00\",\"2022-07-01T00:00:00\",\"2022-07-01T00:00:00\",\"2022-07-01T00:00:00\",\"2022-07-01T00:00:00\",\"2022-07-01T00:00:00\",\"2022-07-01T00:00:00\",\"2022-07-01T00:00:00\",\"2022-07-01T00:00:00\",\"2022-07-01T00:00:00\",\"2022-07-01T00:00:00\",\"2022-07-01T00:00:00\",\"2022-07-01T00:00:00\",\"2022-07-01T00:00:00\",\"2022-07-01T00:00:00\",\"2022-07-01T00:00:00\",\"2022-07-01T00:00:00\",\"2022-07-01T00:00:00\",\"2022-07-01T00:00:00\",\"2022-07-01T00:00:00\",\"2022-07-01T00:00:00\",\"2022-07-01T00:00:00\",\"2022-07-01T00:00:00\"],\"xaxis\":\"x\",\"y\":[47.46528683072275,38.72300146286894,106.18116640773364,64.34221502555478,78.33416693636175,90.35100314127325,83.92606114013554,6.763068573288415,13.832488563496064,46.79524353622756,11.715089034676664,82.40031449823539,121.59675029344271,84.71062977219258,95.53433068782475,63.71000836618971,84.80517770817835,70.5205266794771,116.27515976773284,90.68508908380284,124.11411737718377,74.52368318032872,117.74944964931143,67.26698073826704,111.26160990712074,125.52366095181027,85.43254311784716,93.51005504292567,88.67442052297285,96.0758734971618,86.03289103603454,128.03472789571876,83.78154737277616,118.08055965729409,113.69688582507045,197.13135476603452,148.58756741735525,133.80621119799721,98.03471744283857,82.09624727051137,72.83936967931167,114.60803523800973,80.61174781871544,38.03035095426974,20.639568633015568,28.700581186769032,45.74066148599514,76.32727682449452,34.548975180980385,95.39061009521718,106.09106804890668,45.84283658899892,42.52885362741791,45.0880664378752,61.51702721998489,50.41381338486745,38.728275521143196,48.349005436163814,31.988782855544788,26.606101864210782,46.7842644676242,33.54029285568184,39.485011877868324,43.38431341164974,41.475746563438136,27.58845104995278,64.42780059595715,22.54011049016742,56.239957150508836,45.25934658134052,14.352922414480503,17.392171576813194,1.7271952651820464,92.08854785798466,74.6657938610398,55.49726011425906,84.85327105159247,94.32571849668386,34.54823948936253,6.829201666325207,66.15984012226748,109.44253906690635,57.5572002855318,68.31105050590973,45.24709298970167,52.74104887832417,66.95065771216073,114.4950767117014,94.05134014418874,19.646365422396855,99.83028850953379,85.295121119072,63.406515019418244,29.090062834535722,67.04659738518271,104.97416020671835,90.04523448838417,92.72045768396133,43.42633807404191,53.29070077271516,53.32736984251223,49.47778447477083,50.0751126690035,38.32568300572871,40.16216421020725,40.78303425774878,28.378857750975524,66.58049539687146,76.43796513144119,93.69856425607071,99.47999614471988,104.47083252222437,64.96455048577299,59.98218455326976,24.047107237551963,47.3753363532193,47.88370303736091,65.00523768316364,108.60850664036221,47.83667822106433,44.46896642593035,47.502101968012084,25.205066463068462,58.98908777697575,40.189695362109155,74.14701963737473,13.162224415926293,2.424800863229107,11.040269382572935,2.65188681747063,0.0,7.729468599033816,0.0,18.12250815512867,8.913450396648543,0.0,9.065009065009065,0.0,0.0,0.0,49.044139725753176,0.0,22.151337940811626,0.0,0.0,11.381225530365109,54.67869597978222,53.62905628541948,20.073189938699564,30.643826801090924,12.31462097355875,68.67006247500672,53.15501702343761,0.0,2.856683369447454,1.6649462222370217,0.0,65.64286824785366,86.71441183077108,79.59120885000736,60.72436930221572,43.02555718096549,138.39114703094089,77.58064021949194,101.13566153755627,136.5770977716921,83.22667729730108,24.93881536400103,14.820523460888637,27.84747621481026,11.055084018638542,102.27855748365874,153.73655068910685,93.18169274941184,111.45671913579554,81.39463702299682,103.48068615654974,81.87953768825194,136.2737793320461,105.30908092704671,156.47071607084646,90.40577959580861,145.31621043677563,87.7810245095116,160.32728881026094,140.76213007970495,86.00114573427209,107.17857816984984,104.71372139276123,116.34876423509502,178.6836967671487,151.2029167530393,117.91477037649979,166.60003490431637,149.29894098241573,207.37194462401033,178.64535777277445,214.37769320969448,148.81088934770972,114.82189910342998,64.38479998439156,141.0154166292562,88.06616750947838,54.062753807540325,34.829272068213776,23.119912622675052,51.626859210734466,73.78303426367802,33.745510641887826,105.79685846924087,140.79987426243787,50.92163481168685,56.4607194708824,51.333372937716014,68.79509804601128,50.22285197053084,43.11125289923176,68.18449484587204,48.07894908228588,46.67215634280551,68.99313709427848,45.3884455164763,49.19444102816382,79.18690214941894,64.36292323850064,46.15760079511331,83.986240062587,37.80921759640987,81.01231922870916,67.88901987201078,9.037025223932169,20.676008168239463,2.0150611427123875,111.22051763457426,81.82552751894772,70.42089308616066,96.61511060329836,84.00884303610907,53.392733756287534,22.19490541555692,103.42817383455252,145.44337428628344,101.58920990344517,104.85355655799106,72.25683727437053,84.68281087505572,102.33390686573792,137.3940920540417,100.6943716041872,58.93909626719057,89.84725965858041,85.295121119072,87.1839581517001,87.27018850360717,185.72351421188628,96.40136868756422,69.04714933912014,75.99609162957334,97.69961808331112,43.866062289808454,44.080207986614006,45.522829699094096,47.92191275368552,58.34880460728224,52.64718967818478,48.02575927088165,102.66691287029465,95.45110603808537,100.74668634612912,128.16511614031384,136.2663032898579,78.45200041361512,78.64096603996352,36.17521349649122,53.90986550538749,50.90549012224292,81.56708167887412,147.30303532194876,62.555656135237975,72.46794528670131,76.00336314881933,47.47362032849788,91.89559689677971,59.15923157302468,93.26304813763541,6.581112207963146,3.637201294843661,6.900168364108084,15.911320904823782,0.0,15.458937198067632,7.144643303683063,6.38060296698038,0.0,0.0,3.885003885003885,14.068655036578503,39.33910306845004,8.289811821271657,0.0,18.01621459313382,0.0,17.7210703526493,0.0,7.693491306354824,9.104980424292087,59.34638953903192,57.392498831764705,33.97001374241465,33.42539978537375,89.32024832667938,61.849517949204355,0.899814638184534,3.06828954496208,1.6649462222370217,0.0,97.60058042115082,120.14647422335752,111.02639217732118,18.941546387847104,17.210222872386197,45.11429462682654,30.176672276136205,34.20224190179176,43.07431545107213,27.975353713378514,7.185760359118941,8.892314076533184,7.464271975103782,4.950037620285914,33.42654267381247,54.78534903330935,28.750274346925966,33.63884883374111,27.66057302731368,35.36100370142454,28.870819647302707,39.46630232603413,31.780630318557925,45.878759341760535,29.214558623792442,44.50062812833509,30.055459478800163,52.52100840336134,34.0928461844423,27.008624280184623,33.19498473681584,38.7234549570605,26.442900962521595,43.01644551801727,34.142594105525,0.0,49.50966861941051,40.19586872603501,75.52435020257167,45.937377712999144,65.46432913450403,37.47036782136576,31.032945703629725,25.363709084760313,43.308105481644226,35.71187107667824,16.84023710556716,7.739838237380839,11.161337128187956,18.149109651279574,25.805888831138624,12.051968086388507,20.812496748047383,27.832533284435392,14.501305451622109,16.13163413453783,14.318507585000907,21.834212478079145,16.23172021861263,12.502263340777208,22.314925585921763,13.983120649429756,13.526007092978665,20.02439335190141,11.848152660794463,14.887791363786418,20.63913939000813,16.96207002314277,14.678470750936414,13.805957270562248,9.888564602137967,23.32172826281021,16.31441562815763,4.784307471493501,6.810920337772999,0.2878658775303411,27.55003647828904,35.79866828953963,24.71726710971202,29.404598879264714,28.00294767870302,9.422247133462506,0.0,32.139663935365085,44.88104124015677,30.356539053988055,32.2025409627605,22.392693979597254,28.22760362501857,36.770827551756675,22.89901534234028,34.613690238939355,29.94908655286014,39.29273084479371,17.0590242238144,35.66616469842276,0.0,22.348865795060902,16.149870801033593,30.72131529603695,25.646084040244624,24.71916284435167,10.856584518510477,35.52713384847677,20.6428528422628,15.293133383110984,22.761414849547048,14.512816594132202,15.913310347440609,12.60566513421326,12.006439817720413,32.498878894193986,31.85985773545784,36.89899211854112,42.56871807346145,35.6887937187723,19.332011563240403,23.82420687001576,6.691368970449242,18.670083291909087,18.363167669667533,16.561843995710483,47.92845029878332,38.269342576851464,18.116986321675327,27.076198121766886,9.543665942326893,24.869435463814973,17.68346595932803,32.149684295892946,6.581112207963146,1.2124004316145536,0.0,2.65188681747063,0.0,7.729468599033816,10.716964955524595,0.0,0.0,0.0,0.0,0.0,1.295001295001295,0.0,0.0,0.0,0.0,8.007206485837253,0.0,0.0,0.0,2.5644971021182745,4.5524902121460435,18.670774236998806,18.817212731726134,10.808640736222843,21.450678760763644,10.5553894059075,26.386348588248406,17.586604145300917,0.899814638184534,0.9522277898158179,1.6649462222370217,1.6590626296142679,31.95771217329717,28.20830264374481,50.16252658613909],\"yaxis\":\"y\",\"type\":\"histogram\"}],                        {\"template\":{\"data\":{\"bar\":[{\"error_x\":{\"color\":\"#2a3f5f\"},\"error_y\":{\"color\":\"#2a3f5f\"},\"marker\":{\"line\":{\"color\":\"#E5ECF6\",\"width\":0.5},\"pattern\":{\"fillmode\":\"overlay\",\"size\":10,\"solidity\":0.2}},\"type\":\"bar\"}],\"barpolar\":[{\"marker\":{\"line\":{\"color\":\"#E5ECF6\",\"width\":0.5},\"pattern\":{\"fillmode\":\"overlay\",\"size\":10,\"solidity\":0.2}},\"type\":\"barpolar\"}],\"carpet\":[{\"aaxis\":{\"endlinecolor\":\"#2a3f5f\",\"gridcolor\":\"white\",\"linecolor\":\"white\",\"minorgridcolor\":\"white\",\"startlinecolor\":\"#2a3f5f\"},\"baxis\":{\"endlinecolor\":\"#2a3f5f\",\"gridcolor\":\"white\",\"linecolor\":\"white\",\"minorgridcolor\":\"white\",\"startlinecolor\":\"#2a3f5f\"},\"type\":\"carpet\"}],\"choropleth\":[{\"colorbar\":{\"outlinewidth\":0,\"ticks\":\"\"},\"type\":\"choropleth\"}],\"contour\":[{\"colorbar\":{\"outlinewidth\":0,\"ticks\":\"\"},\"colorscale\":[[0.0,\"#0d0887\"],[0.1111111111111111,\"#46039f\"],[0.2222222222222222,\"#7201a8\"],[0.3333333333333333,\"#9c179e\"],[0.4444444444444444,\"#bd3786\"],[0.5555555555555556,\"#d8576b\"],[0.6666666666666666,\"#ed7953\"],[0.7777777777777778,\"#fb9f3a\"],[0.8888888888888888,\"#fdca26\"],[1.0,\"#f0f921\"]],\"type\":\"contour\"}],\"contourcarpet\":[{\"colorbar\":{\"outlinewidth\":0,\"ticks\":\"\"},\"type\":\"contourcarpet\"}],\"heatmap\":[{\"colorbar\":{\"outlinewidth\":0,\"ticks\":\"\"},\"colorscale\":[[0.0,\"#0d0887\"],[0.1111111111111111,\"#46039f\"],[0.2222222222222222,\"#7201a8\"],[0.3333333333333333,\"#9c179e\"],[0.4444444444444444,\"#bd3786\"],[0.5555555555555556,\"#d8576b\"],[0.6666666666666666,\"#ed7953\"],[0.7777777777777778,\"#fb9f3a\"],[0.8888888888888888,\"#fdca26\"],[1.0,\"#f0f921\"]],\"type\":\"heatmap\"}],\"heatmapgl\":[{\"colorbar\":{\"outlinewidth\":0,\"ticks\":\"\"},\"colorscale\":[[0.0,\"#0d0887\"],[0.1111111111111111,\"#46039f\"],[0.2222222222222222,\"#7201a8\"],[0.3333333333333333,\"#9c179e\"],[0.4444444444444444,\"#bd3786\"],[0.5555555555555556,\"#d8576b\"],[0.6666666666666666,\"#ed7953\"],[0.7777777777777778,\"#fb9f3a\"],[0.8888888888888888,\"#fdca26\"],[1.0,\"#f0f921\"]],\"type\":\"heatmapgl\"}],\"histogram\":[{\"marker\":{\"pattern\":{\"fillmode\":\"overlay\",\"size\":10,\"solidity\":0.2}},\"type\":\"histogram\"}],\"histogram2d\":[{\"colorbar\":{\"outlinewidth\":0,\"ticks\":\"\"},\"colorscale\":[[0.0,\"#0d0887\"],[0.1111111111111111,\"#46039f\"],[0.2222222222222222,\"#7201a8\"],[0.3333333333333333,\"#9c179e\"],[0.4444444444444444,\"#bd3786\"],[0.5555555555555556,\"#d8576b\"],[0.6666666666666666,\"#ed7953\"],[0.7777777777777778,\"#fb9f3a\"],[0.8888888888888888,\"#fdca26\"],[1.0,\"#f0f921\"]],\"type\":\"histogram2d\"}],\"histogram2dcontour\":[{\"colorbar\":{\"outlinewidth\":0,\"ticks\":\"\"},\"colorscale\":[[0.0,\"#0d0887\"],[0.1111111111111111,\"#46039f\"],[0.2222222222222222,\"#7201a8\"],[0.3333333333333333,\"#9c179e\"],[0.4444444444444444,\"#bd3786\"],[0.5555555555555556,\"#d8576b\"],[0.6666666666666666,\"#ed7953\"],[0.7777777777777778,\"#fb9f3a\"],[0.8888888888888888,\"#fdca26\"],[1.0,\"#f0f921\"]],\"type\":\"histogram2dcontour\"}],\"mesh3d\":[{\"colorbar\":{\"outlinewidth\":0,\"ticks\":\"\"},\"type\":\"mesh3d\"}],\"parcoords\":[{\"line\":{\"colorbar\":{\"outlinewidth\":0,\"ticks\":\"\"}},\"type\":\"parcoords\"}],\"pie\":[{\"automargin\":true,\"type\":\"pie\"}],\"scatter\":[{\"marker\":{\"colorbar\":{\"outlinewidth\":0,\"ticks\":\"\"}},\"type\":\"scatter\"}],\"scatter3d\":[{\"line\":{\"colorbar\":{\"outlinewidth\":0,\"ticks\":\"\"}},\"marker\":{\"colorbar\":{\"outlinewidth\":0,\"ticks\":\"\"}},\"type\":\"scatter3d\"}],\"scattercarpet\":[{\"marker\":{\"colorbar\":{\"outlinewidth\":0,\"ticks\":\"\"}},\"type\":\"scattercarpet\"}],\"scattergeo\":[{\"marker\":{\"colorbar\":{\"outlinewidth\":0,\"ticks\":\"\"}},\"type\":\"scattergeo\"}],\"scattergl\":[{\"marker\":{\"colorbar\":{\"outlinewidth\":0,\"ticks\":\"\"}},\"type\":\"scattergl\"}],\"scattermapbox\":[{\"marker\":{\"colorbar\":{\"outlinewidth\":0,\"ticks\":\"\"}},\"type\":\"scattermapbox\"}],\"scatterpolar\":[{\"marker\":{\"colorbar\":{\"outlinewidth\":0,\"ticks\":\"\"}},\"type\":\"scatterpolar\"}],\"scatterpolargl\":[{\"marker\":{\"colorbar\":{\"outlinewidth\":0,\"ticks\":\"\"}},\"type\":\"scatterpolargl\"}],\"scatterternary\":[{\"marker\":{\"colorbar\":{\"outlinewidth\":0,\"ticks\":\"\"}},\"type\":\"scatterternary\"}],\"surface\":[{\"colorbar\":{\"outlinewidth\":0,\"ticks\":\"\"},\"colorscale\":[[0.0,\"#0d0887\"],[0.1111111111111111,\"#46039f\"],[0.2222222222222222,\"#7201a8\"],[0.3333333333333333,\"#9c179e\"],[0.4444444444444444,\"#bd3786\"],[0.5555555555555556,\"#d8576b\"],[0.6666666666666666,\"#ed7953\"],[0.7777777777777778,\"#fb9f3a\"],[0.8888888888888888,\"#fdca26\"],[1.0,\"#f0f921\"]],\"type\":\"surface\"}],\"table\":[{\"cells\":{\"fill\":{\"color\":\"#EBF0F8\"},\"line\":{\"color\":\"white\"}},\"header\":{\"fill\":{\"color\":\"#C8D4E3\"},\"line\":{\"color\":\"white\"}},\"type\":\"table\"}]},\"layout\":{\"annotationdefaults\":{\"arrowcolor\":\"#2a3f5f\",\"arrowhead\":0,\"arrowwidth\":1},\"autotypenumbers\":\"strict\",\"coloraxis\":{\"colorbar\":{\"outlinewidth\":0,\"ticks\":\"\"}},\"colorscale\":{\"diverging\":[[0,\"#8e0152\"],[0.1,\"#c51b7d\"],[0.2,\"#de77ae\"],[0.3,\"#f1b6da\"],[0.4,\"#fde0ef\"],[0.5,\"#f7f7f7\"],[0.6,\"#e6f5d0\"],[0.7,\"#b8e186\"],[0.8,\"#7fbc41\"],[0.9,\"#4d9221\"],[1,\"#276419\"]],\"sequential\":[[0.0,\"#0d0887\"],[0.1111111111111111,\"#46039f\"],[0.2222222222222222,\"#7201a8\"],[0.3333333333333333,\"#9c179e\"],[0.4444444444444444,\"#bd3786\"],[0.5555555555555556,\"#d8576b\"],[0.6666666666666666,\"#ed7953\"],[0.7777777777777778,\"#fb9f3a\"],[0.8888888888888888,\"#fdca26\"],[1.0,\"#f0f921\"]],\"sequentialminus\":[[0.0,\"#0d0887\"],[0.1111111111111111,\"#46039f\"],[0.2222222222222222,\"#7201a8\"],[0.3333333333333333,\"#9c179e\"],[0.4444444444444444,\"#bd3786\"],[0.5555555555555556,\"#d8576b\"],[0.6666666666666666,\"#ed7953\"],[0.7777777777777778,\"#fb9f3a\"],[0.8888888888888888,\"#fdca26\"],[1.0,\"#f0f921\"]]},\"colorway\":[\"#636efa\",\"#EF553B\",\"#00cc96\",\"#ab63fa\",\"#FFA15A\",\"#19d3f3\",\"#FF6692\",\"#B6E880\",\"#FF97FF\",\"#FECB52\"],\"font\":{\"color\":\"#2a3f5f\"},\"geo\":{\"bgcolor\":\"white\",\"lakecolor\":\"white\",\"landcolor\":\"#E5ECF6\",\"showlakes\":true,\"showland\":true,\"subunitcolor\":\"white\"},\"hoverlabel\":{\"align\":\"left\"},\"hovermode\":\"closest\",\"mapbox\":{\"style\":\"light\"},\"paper_bgcolor\":\"white\",\"plot_bgcolor\":\"#E5ECF6\",\"polar\":{\"angularaxis\":{\"gridcolor\":\"white\",\"linecolor\":\"white\",\"ticks\":\"\"},\"bgcolor\":\"#E5ECF6\",\"radialaxis\":{\"gridcolor\":\"white\",\"linecolor\":\"white\",\"ticks\":\"\"}},\"scene\":{\"xaxis\":{\"backgroundcolor\":\"#E5ECF6\",\"gridcolor\":\"white\",\"gridwidth\":2,\"linecolor\":\"white\",\"showbackground\":true,\"ticks\":\"\",\"zerolinecolor\":\"white\"},\"yaxis\":{\"backgroundcolor\":\"#E5ECF6\",\"gridcolor\":\"white\",\"gridwidth\":2,\"linecolor\":\"white\",\"showbackground\":true,\"ticks\":\"\",\"zerolinecolor\":\"white\"},\"zaxis\":{\"backgroundcolor\":\"#E5ECF6\",\"gridcolor\":\"white\",\"gridwidth\":2,\"linecolor\":\"white\",\"showbackground\":true,\"ticks\":\"\",\"zerolinecolor\":\"white\"}},\"shapedefaults\":{\"line\":{\"color\":\"#2a3f5f\"}},\"ternary\":{\"aaxis\":{\"gridcolor\":\"white\",\"linecolor\":\"white\",\"ticks\":\"\"},\"baxis\":{\"gridcolor\":\"white\",\"linecolor\":\"white\",\"ticks\":\"\"},\"bgcolor\":\"#E5ECF6\",\"caxis\":{\"gridcolor\":\"white\",\"linecolor\":\"white\",\"ticks\":\"\"}},\"title\":{\"x\":0.05},\"xaxis\":{\"automargin\":true,\"gridcolor\":\"white\",\"linecolor\":\"white\",\"ticks\":\"\",\"title\":{\"standoff\":15},\"zerolinecolor\":\"white\",\"zerolinewidth\":2},\"yaxis\":{\"automargin\":true,\"gridcolor\":\"white\",\"linecolor\":\"white\",\"ticks\":\"\",\"title\":{\"standoff\":15},\"zerolinecolor\":\"white\",\"zerolinewidth\":2}}},\"xaxis\":{\"anchor\":\"y\",\"domain\":[0.0,1.0],\"title\":{\"text\":\"FECHA\"}},\"yaxis\":{\"anchor\":\"x\",\"domain\":[0.0,1.0],\"title\":{\"text\":\"sum of TOTAL_DELITOS\"}},\"legend\":{\"tracegroupgap\":0},\"title\":{\"text\":\"Cantidad de delitos\"},\"barmode\":\"relative\",\"width\":500,\"height\":400},                        {\"responsive\": true}                    ).then(function(){\n",
       "                            \n",
       "var gd = document.getElementById('d02e96fb-69f6-4573-b1f0-8aae8d9c5a1a');\n",
       "var x = new MutationObserver(function (mutations, observer) {{\n",
       "        var display = window.getComputedStyle(gd).display;\n",
       "        if (!display || display === 'none') {{\n",
       "            console.log([gd, 'removed!']);\n",
       "            Plotly.purge(gd);\n",
       "            observer.disconnect();\n",
       "        }}\n",
       "}});\n",
       "\n",
       "// Listen for the removal of the full notebook cells\n",
       "var notebookContainer = gd.closest('#notebook-container');\n",
       "if (notebookContainer) {{\n",
       "    x.observe(notebookContainer, {childList: true});\n",
       "}}\n",
       "\n",
       "// Listen for the clearing of the current output cell\n",
       "var outputEl = gd.closest('.output');\n",
       "if (outputEl) {{\n",
       "    x.observe(outputEl, {childList: true});\n",
       "}}\n",
       "\n",
       "                        })                };                });            </script>        </div>"
      ]
     },
     "metadata": {},
     "output_type": "display_data"
    }
   ],
   "source": [
    "fig = px.histogram(df, x='FECHA', y='TOTAL_DELITOS', title='Cantidad de delitos')\n",
    "fig.update_layout(width=500, height=400)\n",
    "fig.show()"
   ]
  },
  {
   "cell_type": "code",
   "execution_count": 50,
   "id": "0931ac48",
   "metadata": {},
   "outputs": [
    {
     "name": "stdout",
     "output_type": "stream",
     "text": [
      "Correlación de Pearson\n"
     ]
    },
    {
     "data": {
      "image/png": "[encoded data removed]",
      "text/plain": [
       "<Figure size 600x400 with 2 Axes>"
      ]
     },
     "metadata": {},
     "output_type": "display_data"
    }
   ],
   "source": [
    "import seaborn as sn\n",
    "import matplotlib.pyplot as plt\n",
    "\n",
    "# Correlación de Pearson\n",
    "corr_matrix = df.corr()\n",
    "sn.heatmap(corr_matrix, annot=True)\n",
    "print(\"Correlación de Pearson\")\n",
    "plt.show()"
   ]
  },
  {
   "cell_type": "code",
   "execution_count": 52,
   "id": "2cacb1be",
   "metadata": {},
   "outputs": [
    {
     "data": {
      "application/vnd.plotly.v1+json": {
       "config": {
        "plotlyServerURL": "https://plot.ly"
       },
       "data": [
        {
         "hovertemplate": "PERCEPCION_INSEGURIDAD=%{x}<br>VIOLENCIA_GENERO=%{y}<extra></extra>",
         "legendgroup": "",
         "marker": {
          "color": "#636efa",
          "symbol": "circle"
         },
         "mode": "markers",
         "name": "",
         "orientation": "v",
         "showlegend": false,
         "type": "scatter",
         "x": [
          50000,
          77777.77777777778,
          77083.33333333334,
          88235.29411764706,
          42647.05882352941,
          33333.33333333333,
          48905.109489051094,
          62698.4126984127,
          53333.333333333336,
          83211.67883211678,
          82978.72340425532,
          57534.24657534246,
          82269.50354609928,
          72000,
          85714.28571428571,
          28260.86956521739,
          54166.666666666664,
          45112.781954887214,
          65648.85496183205,
          70625,
          72222.22222222222,
          83561.64383561644,
          71942.44604316546,
          61290.32258064516,
          55696.20253164557,
          70000,
          68627.45098039215,
          59872.61146496815,
          79591.83673469388,
          76923.07692307692,
          75000,
          31617.647058823528,
          44444.444444444445,
          30327.868852459018,
          51898.73417721519,
          92592.5925925926,
          80985.91549295775,
          93617.02127659574,
          48591.54929577465,
          55263.15789473685,
          61538.46153846154,
          70238.09523809524,
          92546.58385093167,
          83687.94326241134,
          75000,
          86666.66666666667,
          76422.76422764228,
          79452.05479452055,
          68085.10638297872,
          63157.8947368421,
          55555.555555555555,
          87837.83783783784,
          38848.92086330936,
          72992.700729927,
          71126.76056338029,
          77205.88235294117,
          64238.410596026486,
          100000,
          66049.38271604938,
          79452.05479452055,
          89403.97350993377,
          90131.57894736841,
          57142.85714285714,
          62500,
          85064.93506493507,
          79113.92405063291,
          25000,
          83206.106870229,
          86666.66666666667,
          92857.14285714286,
          59259.259259259255,
          82580.64516129032,
          92156.86274509803,
          91228.0701754386,
          80952.38095238095,
          72727.27272727274,
          81250,
          100000,
          49655.1724137931,
          23529.41176470588,
          44628.09917355372,
          68548.38709677418,
          60416.666666666664,
          76153.84615384616,
          35338.34586466165,
          13235.29411764706,
          70247.93388429753,
          100000,
          79069.76744186046,
          33333.33333333333,
          50000,
          66666.66666666666,
          100000,
          100000,
          100000,
          80000,
          89285.71428571429,
          56250,
          66666.66666666666,
          100000,
          100000,
          66666.66666666666,
          66666.66666666666,
          82644.62809917355,
          100000,
          60000,
          45833.33333333333,
          60526.31578947369,
          90225.56390977443,
          65000,
          82407.4074074074,
          70731.70731707316,
          29452.05479452055,
          61224.489795918365,
          45637.58389261745,
          94776.11940298507,
          64705.88235294118,
          57364.34108527132,
          80916.03053435114,
          91666.66666666666,
          21052.631578947367,
          19047.619047619046,
          70229.00763358778,
          86290.32258064517,
          29310.344827586203,
          61702.12765957447,
          75000,
          82352.94117647059,
          60000,
          75000,
          100000,
          100000,
          11111.111111111111,
          50000,
          50000,
          50000,
          50000,
          50000,
          75000,
          77777.77777777778,
          50000,
          40000,
          100000,
          75000,
          57142.85714285714,
          54545.454545454544,
          70454.54545454546,
          87500,
          100000,
          33333.33333333333,
          38461.53846153846,
          73118.27956989247,
          64516.12903225806,
          20000,
          25862.068965517243,
          66666.66666666666,
          12500,
          96319.01840490797,
          90277.77777777778,
          97333.33333333334,
          55384.61538461539,
          88888.88888888889,
          82068.96551724138,
          84507.04225352113,
          45454.545454545456,
          31147.54098360656,
          52413.79310344828,
          72661.87050359712,
          81818.18181818182,
          91216.21621621621,
          87671.23287671233,
          67763.15789473685,
          73648.64864864865,
          80272.10884353741,
          73381.29496402877,
          33333.33333333333,
          57534.24657534246,
          40136.054421768706,
          70289.85507246378,
          63576.158940397356,
          76086.95652173914,
          75539.56834532374,
          63909.77443609023,
          47651.00671140939,
          64000,
          76595.74468085106,
          70068.02721088435,
          61875,
          86428.57142857143,
          70000,
          33333.33333333333,
          34400,
          57142.85714285714,
          36290.32258064516,
          44303.79746835443,
          91379.3103448276,
          76223.77622377622,
          92631.57894736843,
          57142.85714285714,
          68571.42857142857,
          33333.33333333333,
          76470.58823529411,
          92592.5925925926,
          88157.8947368421,
          100000,
          85714.28571428571,
          77536.23188405797,
          86624.20382165605,
          87142.85714285714,
          58974.35897435898,
          56862.74509803922,
          86301.3698630137,
          50675.67567567568,
          69503.54609929078,
          74285.71428571429,
          76223.77622377622,
          64539.00709219858,
          100000,
          78064.51612903226,
          86111.11111111111,
          90789.47368421053,
          82432.43243243244,
          85714.28571428571,
          84210.52631578947,
          85625,
          76729.55974842768,
          80000,
          80689.65517241378,
          88636.36363636363,
          88888.88888888889,
          66433.56643356643,
          83333.33333333334,
          90909.09090909091,
          87272.72727272726,
          57142.85714285714,
          88571.42857142857,
          86666.66666666667,
          83333.33333333334,
          53571.42857142857,
          25000,
          56934.30656934306,
          75373.13432835821,
          64864.86486486487,
          78985.5072463768,
          38970.58823529412,
          15909.090909090908,
          70833.33333333334,
          100000,
          81818.18181818182,
          66666.66666666666,
          50000,
          33333.33333333333,
          100000,
          100000,
          60000,
          78571.42857142857,
          66666.66666666666,
          30000,
          50000,
          100000,
          100000,
          66666.66666666666,
          88617.8861788618,
          100000,
          92307.69230769231,
          47058.82352941176,
          71428.57142857143,
          90625,
          68309.85915492958,
          89215.6862745098,
          88095.23809523809,
          41379.31034482759,
          67123.28767123287,
          58695.65217391305,
          93023.25581395348,
          64666.666666666664,
          66141.73228346457,
          73846.15384615384,
          70000,
          43589.74358974359,
          23684.210526315786,
          61194.029850746265,
          85365.85365853658,
          35087.71929824561,
          57142.85714285714,
          50000,
          64285.71428571429,
          66666.66666666666,
          50000,
          66666.66666666666,
          100000,
          66666.66666666666,
          42857.142857142855,
          50000,
          100000,
          60000,
          50000,
          60000,
          50000,
          68750,
          45000,
          25000,
          50000,
          75000,
          42857.142857142855,
          75000,
          59523.80952380953,
          88489.20863309353,
          100000,
          50000,
          75531.91489361702,
          74400,
          60000,
          38392.857142857145,
          63636.36363636363,
          42857.142857142855,
          96932.5153374233,
          87692.30769230769,
          96103.8961038961,
          54263.56589147286,
          83333.33333333334,
          77372.26277372263,
          76612.90322580645,
          43181.818181818184,
          28688.524590163932,
          55704.69798657718,
          71014.4927536232,
          72727.27272727274,
          88435.37414965987,
          80136.98630136986,
          60927.1523178808,
          87500,
          68000,
          78873.23943661971,
          21428.571428571428,
          55555.555555555555,
          29333.333333333332,
          70149.25373134328,
          66000,
          75714.28571428571,
          74324.32432432432,
          65693.4306569343,
          49645.39007092199,
          58666.666666666664,
          81690.14084507042,
          64539.00709219858,
          53642.384105960264,
          72340.4255319149,
          30000,
          50000,
          32142.857142857145,
          36363.63636363637,
          30708.661417322837,
          48648.648648648654,
          83870.96774193548,
          80419.58041958042,
          91139.24050632911,
          42567.56756756757,
          72972.97297297297,
          85714.28571428571,
          73988.43930635838,
          96078.43137254902,
          80821.91780821918,
          75000,
          83333.33333333334,
          75939.84962406015,
          81208.05369127517,
          68493.1506849315,
          65853.65853658537,
          50000,
          86666.66666666667,
          36567.164179104475,
          75373.13432835821,
          72463.76811594203,
          80132.45033112583,
          65986.39455782312,
          100000,
          69178.08219178082,
          86896.55172413793,
          85211.2676056338,
          86206.89655172413,
          71428.57142857143,
          85000,
          90714.28571428571,
          77551.02040816327,
          60000,
          81045.75163398693,
          86585.36585365854,
          95000,
          53146.853146853144,
          84000,
          88125,
          81034.48275862068,
          75000,
          68571.42857142857,
          93750,
          87500,
          44827.58620689655,
          35714.28571428572,
          44755.244755244756,
          61594.20289855072,
          56081.08108108109,
          80000,
          36363.63636363637,
          15384.615384615385,
          70833.33333333334,
          100000,
          84090.90909090909,
          50000,
          50000,
          33333.33333333333,
          66666.66666666666,
          100000,
          83333.33333333334,
          60000,
          71428.57142857143,
          50000,
          50000,
          71428.57142857143,
          100000,
          100000,
          80000,
          100000,
          77165.35433070865,
          100000,
          91666.66666666666,
          54545.454545454544,
          58620.689655172406,
          86956.52173913043,
          73758.86524822694,
          86597.9381443299,
          80952.38095238095,
          28859.060402684565,
          60402.68456375839,
          51515.15151515151,
          94573.64341085272,
          68750,
          54961.83206106871,
          73684.21052631579,
          60000,
          25000,
          22222.222222222223,
          56643.356643356645,
          72950.81967213115,
          29032.258064516132,
          51388.88888888888,
          50000,
          62500,
          66666.66666666666,
          60000,
          100000,
          75000,
          75000,
          37500,
          50000,
          66666.66666666666,
          25000,
          66666.66666666666,
          54545.454545454544,
          33333.33333333333,
          60000,
          100000,
          68421.05263157895,
          71428.57142857143,
          50000,
          44444.444444444445,
          75000,
          33333.33333333333,
          83333.33333333334,
          75000,
          84000,
          100000,
          100000,
          58333.333333333336,
          70000,
          70940.17094017094,
          69230.76923076923,
          30769.23076923077,
          71428.57142857143,
          33333.33333333333,
          93548.38709677418,
          86301.3698630137,
          96202.53164556962
         ],
         "xaxis": "x",
         "y": [
          0.4456834444199318,
          0,
          0,
          0,
          0,
          0,
          0,
          0,
          0,
          0,
          0,
          0.6663098207404479,
          0.14065558160028074,
          0,
          0,
          0,
          0,
          0,
          0,
          0,
          0,
          0,
          0,
          0,
          0,
          0,
          0,
          0,
          0,
          0,
          0,
          0,
          0,
          0,
          0,
          0,
          0,
          0,
          0,
          0,
          0,
          0,
          0,
          0,
          0,
          0,
          6.744601559597139,
          1.0903896689213501,
          0,
          0,
          0,
          0,
          0,
          0,
          0,
          0,
          0,
          4.3390133083736755,
          2.490144773186121,
          2.5268364898971134,
          3.640798791254801,
          3.6546540545734163,
          5.178362213490928,
          2.527241557960179,
          1.742678427035216,
          1.945339497112055,
          4.6019857568540825,
          2.1813010151774925,
          5.579360828423496,
          2.631357359380263,
          0,
          0,
          0,
          0,
          0,
          0,
          0,
          0,
          0,
          0,
          0,
          0,
          0,
          0,
          0,
          0,
          0,
          0,
          0,
          0,
          0,
          0,
          0,
          0,
          0,
          0,
          0,
          0,
          0,
          0,
          0,
          0,
          0,
          0,
          0,
          0,
          2.728736322209185,
          8.652298926376323,
          0,
          0,
          0,
          0,
          0,
          0,
          0,
          0,
          0,
          0,
          0,
          0,
          0,
          0,
          0,
          0,
          0,
          0,
          0,
          0,
          0,
          0,
          0,
          0,
          0,
          0,
          0,
          0,
          0,
          0,
          0,
          0,
          0,
          0,
          0,
          0,
          0,
          0,
          10.002200484106503,
          13.485669124403731,
          3.0881830674922406,
          0,
          0,
          11.636215837053644,
          6.916080281859912,
          0,
          0,
          0,
          0,
          0,
          0,
          0,
          0.3342625833149489,
          0,
          0,
          0,
          0.36776604195475004,
          0,
          0,
          0,
          0,
          0,
          0,
          0.6663098207404479,
          0.3516389540007019,
          0,
          0,
          0,
          0,
          0,
          0,
          0,
          0,
          0,
          0,
          0,
          0,
          0,
          0,
          0,
          0,
          0,
          0,
          0,
          0,
          0,
          0,
          0,
          0,
          0,
          0,
          2.821176882148157,
          0,
          0,
          0,
          0,
          0,
          0,
          6.37671420180093,
          2.1807793378427003,
          0,
          0,
          0,
          0,
          0,
          0,
          0,
          0,
          0,
          6.818449484587205,
          3.064793566998303,
          2.080924168150564,
          7.645677461635083,
          4.774628684200754,
          5.825657490177294,
          9.266552379187322,
          3.6015354158727795,
          3.6254054264361026,
          5.752482196067603,
          4.653442165711984,
          6.137296911265846,
          8.42034355001684,
          0,
          0,
          0,
          0,
          0,
          0,
          0,
          0,
          0,
          0,
          0,
          0,
          0,
          0,
          0,
          0,
          0,
          0,
          0.34963323473676117,
          0,
          0,
          0,
          0,
          0,
          0,
          0,
          0,
          0,
          0,
          0,
          0,
          0,
          0,
          0,
          0,
          7.640461702185718,
          14.877733519744652,
          0,
          0,
          0,
          0,
          0,
          0,
          0,
          0,
          0,
          0,
          0,
          0,
          0,
          0,
          0,
          0,
          0,
          0,
          0,
          0,
          0,
          0,
          0,
          0,
          0,
          0,
          0,
          0,
          0,
          0,
          0,
          0,
          0,
          0,
          0,
          0,
          0,
          0,
          0,
          13.336267312142006,
          14.74014997318547,
          7.720457668730602,
          3.5184631353024995,
          15.733474934607745,
          6.718477988092485,
          0,
          0,
          0,
          0,
          0,
          0,
          0,
          0.3342625833149489,
          0,
          0,
          0,
          0.36776604195475004,
          0.35019768659408235,
          0,
          0,
          0,
          0,
          0,
          0.33315491037022393,
          0.14065558160028074,
          0,
          0,
          0,
          0,
          0,
          0,
          0,
          0,
          0,
          0,
          0,
          0,
          0,
          0,
          0,
          0,
          0,
          0,
          0,
          0,
          0,
          0,
          0,
          0,
          0,
          0,
          0,
          0,
          0,
          0,
          0,
          0,
          0,
          2.329953266042648,
          2.1807793378427003,
          0,
          0,
          0,
          0,
          0,
          0,
          0,
          0,
          0,
          0.6198590440533822,
          0.7661983917495757,
          1.3377369652396482,
          1.6383594560646606,
          0.9431365302124944,
          1.941885830059098,
          1.2636207789800895,
          1.2779641798258252,
          1.06109427115203,
          0,
          1.3087806091064955,
          3.236029280485628,
          2.631357359380263,
          0,
          0,
          0,
          0,
          0,
          0,
          0,
          0,
          0,
          0,
          0,
          0,
          0,
          0,
          0,
          0,
          0,
          0,
          0,
          0,
          0,
          0,
          0,
          0,
          0,
          0,
          0,
          0,
          0,
          0,
          0,
          0,
          0,
          0,
          0,
          0,
          0,
          1.637241793325511,
          4.853728666015986,
          0,
          0,
          0,
          0,
          0,
          0,
          0,
          0,
          0,
          0,
          0,
          0,
          0,
          0,
          0,
          0,
          0,
          0,
          0,
          0,
          0,
          0,
          0,
          0,
          0,
          0,
          0,
          0,
          0,
          0,
          0,
          0,
          0,
          0,
          0,
          0,
          0,
          0,
          0,
          0,
          0,
          1.3336267312142005,
          5.017923395126969,
          2.316137300619181,
          4.0858435734787895,
          0,
          3.1139169141411163,
          1.7784206439068346,
          0,
          0,
          0,
          0,
          0,
          0,
          0
         ],
         "yaxis": "y"
        }
       ],
       "layout": {
        "height": 400,
        "legend": {
         "tracegroupgap": 0
        },
        "template": {
         "data": {
          "bar": [
           {
            "error_x": {
             "color": "#2a3f5f"
            },
            "error_y": {
             "color": "#2a3f5f"
            },
            "marker": {
             "line": {
              "color": "#E5ECF6",
              "width": 0.5
             },
             "pattern": {
              "fillmode": "overlay",
              "size": 10,
              "solidity": 0.2
             }
            },
            "type": "bar"
           }
          ],
          "barpolar": [
           {
            "marker": {
             "line": {
              "color": "#E5ECF6",
              "width": 0.5
             },
             "pattern": {
              "fillmode": "overlay",
              "size": 10,
              "solidity": 0.2
             }
            },
            "type": "barpolar"
           }
          ],
          "carpet": [
           {
            "aaxis": {
             "endlinecolor": "#2a3f5f",
             "gridcolor": "white",
             "linecolor": "white",
             "minorgridcolor": "white",
             "startlinecolor": "#2a3f5f"
            },
            "baxis": {
             "endlinecolor": "#2a3f5f",
             "gridcolor": "white",
             "linecolor": "white",
             "minorgridcolor": "white",
             "startlinecolor": "#2a3f5f"
            },
            "type": "carpet"
           }
          ],
          "choropleth": [
           {
            "colorbar": {
             "outlinewidth": 0,
             "ticks": ""
            },
            "type": "choropleth"
           }
          ],
          "contour": [
           {
            "colorbar": {
             "outlinewidth": 0,
             "ticks": ""
            },
            "colorscale": [
             [
              0,
              "#0d0887"
             ],
             [
              0.1111111111111111,
              "#46039f"
             ],
             [
              0.2222222222222222,
              "#7201a8"
             ],
             [
              0.3333333333333333,
              "#9c179e"
             ],
             [
              0.4444444444444444,
              "#bd3786"
             ],
             [
              0.5555555555555556,
              "#d8576b"
             ],
             [
              0.6666666666666666,
              "#ed7953"
             ],
             [
              0.7777777777777778,
              "#fb9f3a"
             ],
             [
              0.8888888888888888,
              "#fdca26"
             ],
             [
              1,
              "#f0f921"
             ]
            ],
            "type": "contour"
           }
          ],
          "contourcarpet": [
           {
            "colorbar": {
             "outlinewidth": 0,
             "ticks": ""
            },
            "type": "contourcarpet"
           }
          ],
          "heatmap": [
           {
            "colorbar": {
             "outlinewidth": 0,
             "ticks": ""
            },
            "colorscale": [
             [
              0,
              "#0d0887"
             ],
             [
              0.1111111111111111,
              "#46039f"
             ],
             [
              0.2222222222222222,
              "#7201a8"
             ],
             [
              0.3333333333333333,
              "#9c179e"
             ],
             [
              0.4444444444444444,
              "#bd3786"
             ],
             [
              0.5555555555555556,
              "#d8576b"
             ],
             [
              0.6666666666666666,
              "#ed7953"
             ],
             [
              0.7777777777777778,
              "#fb9f3a"
             ],
             [
              0.8888888888888888,
              "#fdca26"
             ],
             [
              1,
              "#f0f921"
             ]
            ],
            "type": "heatmap"
           }
          ],
          "heatmapgl": [
           {
            "colorbar": {
             "outlinewidth": 0,
             "ticks": ""
            },
            "colorscale": [
             [
              0,
              "#0d0887"
             ],
             [
              0.1111111111111111,
              "#46039f"
             ],
             [
              0.2222222222222222,
              "#7201a8"
             ],
             [
              0.3333333333333333,
              "#9c179e"
             ],
             [
              0.4444444444444444,
              "#bd3786"
             ],
             [
              0.5555555555555556,
              "#d8576b"
             ],
             [
              0.6666666666666666,
              "#ed7953"
             ],
             [
              0.7777777777777778,
              "#fb9f3a"
             ],
             [
              0.8888888888888888,
              "#fdca26"
             ],
             [
              1,
              "#f0f921"
             ]
            ],
            "type": "heatmapgl"
           }
          ],
          "histogram": [
           {
            "marker": {
             "pattern": {
              "fillmode": "overlay",
              "size": 10,
              "solidity": 0.2
             }
            },
            "type": "histogram"
           }
          ],
          "histogram2d": [
           {
            "colorbar": {
             "outlinewidth": 0,
             "ticks": ""
            },
            "colorscale": [
             [
              0,
              "#0d0887"
             ],
             [
              0.1111111111111111,
              "#46039f"
             ],
             [
              0.2222222222222222,
              "#7201a8"
             ],
             [
              0.3333333333333333,
              "#9c179e"
             ],
             [
              0.4444444444444444,
              "#bd3786"
             ],
             [
              0.5555555555555556,
              "#d8576b"
             ],
             [
              0.6666666666666666,
              "#ed7953"
             ],
             [
              0.7777777777777778,
              "#fb9f3a"
             ],
             [
              0.8888888888888888,
              "#fdca26"
             ],
             [
              1,
              "#f0f921"
             ]
            ],
            "type": "histogram2d"
           }
          ],
          "histogram2dcontour": [
           {
            "colorbar": {
             "outlinewidth": 0,
             "ticks": ""
            },
            "colorscale": [
             [
              0,
              "#0d0887"
             ],
             [
              0.1111111111111111,
              "#46039f"
             ],
             [
              0.2222222222222222,
              "#7201a8"
             ],
             [
              0.3333333333333333,
              "#9c179e"
             ],
             [
              0.4444444444444444,
              "#bd3786"
             ],
             [
              0.5555555555555556,
              "#d8576b"
             ],
             [
              0.6666666666666666,
              "#ed7953"
             ],
             [
              0.7777777777777778,
              "#fb9f3a"
             ],
             [
              0.8888888888888888,
              "#fdca26"
             ],
             [
              1,
              "#f0f921"
             ]
            ],
            "type": "histogram2dcontour"
           }
          ],
          "mesh3d": [
           {
            "colorbar": {
             "outlinewidth": 0,
             "ticks": ""
            },
            "type": "mesh3d"
           }
          ],
          "parcoords": [
           {
            "line": {
             "colorbar": {
              "outlinewidth": 0,
              "ticks": ""
             }
            },
            "type": "parcoords"
           }
          ],
          "pie": [
           {
            "automargin": true,
            "type": "pie"
           }
          ],
          "scatter": [
           {
            "marker": {
             "colorbar": {
              "outlinewidth": 0,
              "ticks": ""
             }
            },
            "type": "scatter"
           }
          ],
          "scatter3d": [
           {
            "line": {
             "colorbar": {
              "outlinewidth": 0,
              "ticks": ""
             }
            },
            "marker": {
             "colorbar": {
              "outlinewidth": 0,
              "ticks": ""
             }
            },
            "type": "scatter3d"
           }
          ],
          "scattercarpet": [
           {
            "marker": {
             "colorbar": {
              "outlinewidth": 0,
              "ticks": ""
             }
            },
            "type": "scattercarpet"
           }
          ],
          "scattergeo": [
           {
            "marker": {
             "colorbar": {
              "outlinewidth": 0,
              "ticks": ""
             }
            },
            "type": "scattergeo"
           }
          ],
          "scattergl": [
           {
            "marker": {
             "colorbar": {
              "outlinewidth": 0,
              "ticks": ""
             }
            },
            "type": "scattergl"
           }
          ],
          "scattermapbox": [
           {
            "marker": {
             "colorbar": {
              "outlinewidth": 0,
              "ticks": ""
             }
            },
            "type": "scattermapbox"
           }
          ],
          "scatterpolar": [
           {
            "marker": {
             "colorbar": {
              "outlinewidth": 0,
              "ticks": ""
             }
            },
            "type": "scatterpolar"
           }
          ],
          "scatterpolargl": [
           {
            "marker": {
             "colorbar": {
              "outlinewidth": 0,
              "ticks": ""
             }
            },
            "type": "scatterpolargl"
           }
          ],
          "scatterternary": [
           {
            "marker": {
             "colorbar": {
              "outlinewidth": 0,
              "ticks": ""
             }
            },
            "type": "scatterternary"
           }
          ],
          "surface": [
           {
            "colorbar": {
             "outlinewidth": 0,
             "ticks": ""
            },
            "colorscale": [
             [
              0,
              "#0d0887"
             ],
             [
              0.1111111111111111,
              "#46039f"
             ],
             [
              0.2222222222222222,
              "#7201a8"
             ],
             [
              0.3333333333333333,
              "#9c179e"
             ],
             [
              0.4444444444444444,
              "#bd3786"
             ],
             [
              0.5555555555555556,
              "#d8576b"
             ],
             [
              0.6666666666666666,
              "#ed7953"
             ],
             [
              0.7777777777777778,
              "#fb9f3a"
             ],
             [
              0.8888888888888888,
              "#fdca26"
             ],
             [
              1,
              "#f0f921"
             ]
            ],
            "type": "surface"
           }
          ],
          "table": [
           {
            "cells": {
             "fill": {
              "color": "#EBF0F8"
             },
             "line": {
              "color": "white"
             }
            },
            "header": {
             "fill": {
              "color": "#C8D4E3"
             },
             "line": {
              "color": "white"
             }
            },
            "type": "table"
           }
          ]
         },
         "layout": {
          "annotationdefaults": {
           "arrowcolor": "#2a3f5f",
           "arrowhead": 0,
           "arrowwidth": 1
          },
          "autotypenumbers": "strict",
          "coloraxis": {
           "colorbar": {
            "outlinewidth": 0,
            "ticks": ""
           }
          },
          "colorscale": {
           "diverging": [
            [
             0,
             "#8e0152"
            ],
            [
             0.1,
             "#c51b7d"
            ],
            [
             0.2,
             "#de77ae"
            ],
            [
             0.3,
             "#f1b6da"
            ],
            [
             0.4,
             "#fde0ef"
            ],
            [
             0.5,
             "#f7f7f7"
            ],
            [
             0.6,
             "#e6f5d0"
            ],
            [
             0.7,
             "#b8e186"
            ],
            [
             0.8,
             "#7fbc41"
            ],
            [
             0.9,
             "#4d9221"
            ],
            [
             1,
             "#276419"
            ]
           ],
           "sequential": [
            [
             0,
             "#0d0887"
            ],
            [
             0.1111111111111111,
             "#46039f"
            ],
            [
             0.2222222222222222,
             "#7201a8"
            ],
            [
             0.3333333333333333,
             "#9c179e"
            ],
            [
             0.4444444444444444,
             "#bd3786"
            ],
            [
             0.5555555555555556,
             "#d8576b"
            ],
            [
             0.6666666666666666,
             "#ed7953"
            ],
            [
             0.7777777777777778,
             "#fb9f3a"
            ],
            [
             0.8888888888888888,
             "#fdca26"
            ],
            [
             1,
             "#f0f921"
            ]
           ],
           "sequentialminus": [
            [
             0,
             "#0d0887"
            ],
            [
             0.1111111111111111,
             "#46039f"
            ],
            [
             0.2222222222222222,
             "#7201a8"
            ],
            [
             0.3333333333333333,
             "#9c179e"
            ],
            [
             0.4444444444444444,
             "#bd3786"
            ],
            [
             0.5555555555555556,
             "#d8576b"
            ],
            [
             0.6666666666666666,
             "#ed7953"
            ],
            [
             0.7777777777777778,
             "#fb9f3a"
            ],
            [
             0.8888888888888888,
             "#fdca26"
            ],
            [
             1,
             "#f0f921"
            ]
           ]
          },
          "colorway": [
           "#636efa",
           "#EF553B",
           "#00cc96",
           "#ab63fa",
           "#FFA15A",
           "#19d3f3",
           "#FF6692",
           "#B6E880",
           "#FF97FF",
           "#FECB52"
          ],
          "font": {
           "color": "#2a3f5f"
          },
          "geo": {
           "bgcolor": "white",
           "lakecolor": "white",
           "landcolor": "#E5ECF6",
           "showlakes": true,
           "showland": true,
           "subunitcolor": "white"
          },
          "hoverlabel": {
           "align": "left"
          },
          "hovermode": "closest",
          "mapbox": {
           "style": "light"
          },
          "paper_bgcolor": "white",
          "plot_bgcolor": "#E5ECF6",
          "polar": {
           "angularaxis": {
            "gridcolor": "white",
            "linecolor": "white",
            "ticks": ""
           },
           "bgcolor": "#E5ECF6",
           "radialaxis": {
            "gridcolor": "white",
            "linecolor": "white",
            "ticks": ""
           }
          },
          "scene": {
           "xaxis": {
            "backgroundcolor": "#E5ECF6",
            "gridcolor": "white",
            "gridwidth": 2,
            "linecolor": "white",
            "showbackground": true,
            "ticks": "",
            "zerolinecolor": "white"
           },
           "yaxis": {
            "backgroundcolor": "#E5ECF6",
            "gridcolor": "white",
            "gridwidth": 2,
            "linecolor": "white",
            "showbackground": true,
            "ticks": "",
            "zerolinecolor": "white"
           },
           "zaxis": {
            "backgroundcolor": "#E5ECF6",
            "gridcolor": "white",
            "gridwidth": 2,
            "linecolor": "white",
            "showbackground": true,
            "ticks": "",
            "zerolinecolor": "white"
           }
          },
          "shapedefaults": {
           "line": {
            "color": "#2a3f5f"
           }
          },
          "ternary": {
           "aaxis": {
            "gridcolor": "white",
            "linecolor": "white",
            "ticks": ""
           },
           "baxis": {
            "gridcolor": "white",
            "linecolor": "white",
            "ticks": ""
           },
           "bgcolor": "#E5ECF6",
           "caxis": {
            "gridcolor": "white",
            "linecolor": "white",
            "ticks": ""
           }
          },
          "title": {
           "x": 0.05
          },
          "xaxis": {
           "automargin": true,
           "gridcolor": "white",
           "linecolor": "white",
           "ticks": "",
           "title": {
            "standoff": 15
           },
           "zerolinecolor": "white",
           "zerolinewidth": 2
          },
          "yaxis": {
           "automargin": true,
           "gridcolor": "white",
           "linecolor": "white",
           "ticks": "",
           "title": {
            "standoff": 15
           },
           "zerolinecolor": "white",
           "zerolinewidth": 2
          }
         }
        },
        "title": {
         "text": "Percepción de inseguridad vs cantidad de delitos"
        },
        "width": 500,
        "xaxis": {
         "anchor": "y",
         "domain": [
          0,
          1
         ],
         "title": {
          "text": "PERCEPCION_INSEGURIDAD"
         }
        },
        "yaxis": {
         "anchor": "x",
         "domain": [
          0,
          1
         ],
         "title": {
          "text": "VIOLENCIA_GENERO"
         }
        }
       }
      },
      "text/html": [
       "<div>                            <div id=\"6c86b10e-3b24-4b01-a1b2-f5cb21b93b8d\" class=\"plotly-graph-div\" style=\"height:400px; width:500px;\"></div>            <script type=\"text/javascript\">                require([\"plotly\"], function(Plotly) {                    window.PLOTLYENV=window.PLOTLYENV || {};                                    if (document.getElementById(\"6c86b10e-3b24-4b01-a1b2-f5cb21b93b8d\")) {                    Plotly.newPlot(                        \"6c86b10e-3b24-4b01-a1b2-f5cb21b93b8d\",                        [{\"hovertemplate\":\"PERCEPCION_INSEGURIDAD=%{x}<br>VIOLENCIA_GENERO=%{y}<extra></extra>\",\"legendgroup\":\"\",\"marker\":{\"color\":\"#636efa\",\"symbol\":\"circle\"},\"mode\":\"markers\",\"name\":\"\",\"orientation\":\"v\",\"showlegend\":false,\"x\":[50000.0,77777.77777777778,77083.33333333334,88235.29411764706,42647.05882352941,33333.33333333333,48905.109489051094,62698.4126984127,53333.333333333336,83211.67883211678,82978.72340425532,57534.24657534246,82269.50354609928,72000.0,85714.28571428571,28260.86956521739,54166.666666666664,45112.781954887214,65648.85496183205,70625.0,72222.22222222222,83561.64383561644,71942.44604316546,61290.32258064516,55696.20253164557,70000.0,68627.45098039215,59872.61146496815,79591.83673469388,76923.07692307692,75000.0,31617.647058823528,44444.444444444445,30327.868852459018,51898.73417721519,92592.5925925926,80985.91549295775,93617.02127659574,48591.54929577465,55263.15789473685,61538.46153846154,70238.09523809524,92546.58385093167,83687.94326241134,75000.0,86666.66666666667,76422.76422764228,79452.05479452055,68085.10638297872,63157.8947368421,55555.555555555555,87837.83783783784,38848.92086330936,72992.700729927,71126.76056338029,77205.88235294117,64238.410596026486,100000.0,66049.38271604938,79452.05479452055,89403.97350993377,90131.57894736841,57142.85714285714,62500.0,85064.93506493507,79113.92405063291,25000.0,83206.106870229,86666.66666666667,92857.14285714286,59259.259259259255,82580.64516129032,92156.86274509803,91228.0701754386,80952.38095238095,72727.27272727274,81250.0,100000.0,49655.1724137931,23529.41176470588,44628.09917355372,68548.38709677418,60416.666666666664,76153.84615384616,35338.34586466165,13235.29411764706,70247.93388429753,100000.0,79069.76744186046,33333.33333333333,50000.0,66666.66666666666,100000.0,100000.0,100000.0,80000.0,89285.71428571429,56250.0,66666.66666666666,100000.0,100000.0,66666.66666666666,66666.66666666666,82644.62809917355,100000.0,60000.0,45833.33333333333,60526.31578947369,90225.56390977443,65000.0,82407.4074074074,70731.70731707316,29452.05479452055,61224.489795918365,45637.58389261745,94776.11940298507,64705.88235294118,57364.34108527132,80916.03053435114,91666.66666666666,21052.631578947367,19047.619047619046,70229.00763358778,86290.32258064517,29310.344827586203,61702.12765957447,75000.0,82352.94117647059,60000.0,75000.0,100000.0,100000.0,11111.111111111111,50000.0,50000.0,50000.0,50000.0,50000.0,75000.0,77777.77777777778,50000.0,40000.0,100000.0,75000.0,57142.85714285714,54545.454545454544,70454.54545454546,87500.0,100000.0,33333.33333333333,38461.53846153846,73118.27956989247,64516.12903225806,20000.0,25862.068965517243,66666.66666666666,12500.0,96319.01840490797,90277.77777777778,97333.33333333334,55384.61538461539,88888.88888888889,82068.96551724138,84507.04225352113,45454.545454545456,31147.54098360656,52413.79310344828,72661.87050359712,81818.18181818182,91216.21621621621,87671.23287671233,67763.15789473685,73648.64864864865,80272.10884353741,73381.29496402877,33333.33333333333,57534.24657534246,40136.054421768706,70289.85507246378,63576.158940397356,76086.95652173914,75539.56834532374,63909.77443609023,47651.00671140939,64000.0,76595.74468085106,70068.02721088435,61875.0,86428.57142857143,70000.0,33333.33333333333,34400.0,57142.85714285714,36290.32258064516,44303.79746835443,91379.3103448276,76223.77622377622,92631.57894736843,57142.85714285714,68571.42857142857,33333.33333333333,76470.58823529411,92592.5925925926,88157.8947368421,100000.0,85714.28571428571,77536.23188405797,86624.20382165605,87142.85714285714,58974.35897435898,56862.74509803922,86301.3698630137,50675.67567567568,69503.54609929078,74285.71428571429,76223.77622377622,64539.00709219858,100000.0,78064.51612903226,86111.11111111111,90789.47368421053,82432.43243243244,85714.28571428571,84210.52631578947,85625.0,76729.55974842768,80000.0,80689.65517241378,88636.36363636363,88888.88888888889,66433.56643356643,83333.33333333334,90909.09090909091,87272.72727272726,57142.85714285714,88571.42857142857,86666.66666666667,83333.33333333334,53571.42857142857,25000.0,56934.30656934306,75373.13432835821,64864.86486486487,78985.5072463768,38970.58823529412,15909.090909090908,70833.33333333334,100000.0,81818.18181818182,66666.66666666666,50000.0,33333.33333333333,100000.0,100000.0,60000.0,78571.42857142857,66666.66666666666,30000.0,50000.0,100000.0,100000.0,66666.66666666666,88617.8861788618,100000.0,92307.69230769231,47058.82352941176,71428.57142857143,90625.0,68309.85915492958,89215.6862745098,88095.23809523809,41379.31034482759,67123.28767123287,58695.65217391305,93023.25581395348,64666.666666666664,66141.73228346457,73846.15384615384,70000.0,43589.74358974359,23684.210526315786,61194.029850746265,85365.85365853658,35087.71929824561,57142.85714285714,50000.0,64285.71428571429,66666.66666666666,50000.0,66666.66666666666,100000.0,66666.66666666666,42857.142857142855,50000.0,100000.0,60000.0,50000.0,60000.0,50000.0,68750.0,45000.0,25000.0,50000.0,75000.0,42857.142857142855,75000.0,59523.80952380953,88489.20863309353,100000.0,50000.0,75531.91489361702,74400.0,60000.0,38392.857142857145,63636.36363636363,42857.142857142855,96932.5153374233,87692.30769230769,96103.8961038961,54263.56589147286,83333.33333333334,77372.26277372263,76612.90322580645,43181.818181818184,28688.524590163932,55704.69798657718,71014.4927536232,72727.27272727274,88435.37414965987,80136.98630136986,60927.1523178808,87500.0,68000.0,78873.23943661971,21428.571428571428,55555.555555555555,29333.333333333332,70149.25373134328,66000.0,75714.28571428571,74324.32432432432,65693.4306569343,49645.39007092199,58666.666666666664,81690.14084507042,64539.00709219858,53642.384105960264,72340.4255319149,30000.0,50000.0,32142.857142857145,36363.63636363637,30708.661417322837,48648.648648648654,83870.96774193548,80419.58041958042,91139.24050632911,42567.56756756757,72972.97297297297,85714.28571428571,73988.43930635838,96078.43137254902,80821.91780821918,75000.0,83333.33333333334,75939.84962406015,81208.05369127517,68493.1506849315,65853.65853658537,50000.0,86666.66666666667,36567.164179104475,75373.13432835821,72463.76811594203,80132.45033112583,65986.39455782312,100000.0,69178.08219178082,86896.55172413793,85211.2676056338,86206.89655172413,71428.57142857143,85000.0,90714.28571428571,77551.02040816327,60000.0,81045.75163398693,86585.36585365854,95000.0,53146.853146853144,84000.0,88125.0,81034.48275862068,75000.0,68571.42857142857,93750.0,87500.0,44827.58620689655,35714.28571428572,44755.244755244756,61594.20289855072,56081.08108108109,80000.0,36363.63636363637,15384.615384615385,70833.33333333334,100000.0,84090.90909090909,50000.0,50000.0,33333.33333333333,66666.66666666666,100000.0,83333.33333333334,60000.0,71428.57142857143,50000.0,50000.0,71428.57142857143,100000.0,100000.0,80000.0,100000.0,77165.35433070865,100000.0,91666.66666666666,54545.454545454544,58620.689655172406,86956.52173913043,73758.86524822694,86597.9381443299,80952.38095238095,28859.060402684565,60402.68456375839,51515.15151515151,94573.64341085272,68750.0,54961.83206106871,73684.21052631579,60000.0,25000.0,22222.222222222223,56643.356643356645,72950.81967213115,29032.258064516132,51388.88888888888,50000.0,62500.0,66666.66666666666,60000.0,100000.0,75000.0,75000.0,37500.0,50000.0,66666.66666666666,25000.0,66666.66666666666,54545.454545454544,33333.33333333333,60000.0,100000.0,68421.05263157895,71428.57142857143,50000.0,44444.444444444445,75000.0,33333.33333333333,83333.33333333334,75000.0,84000.0,100000.0,100000.0,58333.333333333336,70000.0,70940.17094017094,69230.76923076923,30769.23076923077,71428.57142857143,33333.33333333333,93548.38709677418,86301.3698630137,96202.53164556962],\"xaxis\":\"x\",\"y\":[0.4456834444199318,0.0,0.0,0.0,0.0,0.0,0.0,0.0,0.0,0.0,0.0,0.6663098207404479,0.14065558160028074,0.0,0.0,0.0,0.0,0.0,0.0,0.0,0.0,0.0,0.0,0.0,0.0,0.0,0.0,0.0,0.0,0.0,0.0,0.0,0.0,0.0,0.0,0.0,0.0,0.0,0.0,0.0,0.0,0.0,0.0,0.0,0.0,0.0,6.744601559597139,1.0903896689213501,0.0,0.0,0.0,0.0,0.0,0.0,0.0,0.0,0.0,4.3390133083736755,2.490144773186121,2.5268364898971134,3.640798791254801,3.6546540545734163,5.178362213490928,2.527241557960179,1.742678427035216,1.945339497112055,4.6019857568540825,2.1813010151774925,5.579360828423496,2.631357359380263,0.0,0.0,0.0,0.0,0.0,0.0,0.0,0.0,0.0,0.0,0.0,0.0,0.0,0.0,0.0,0.0,0.0,0.0,0.0,0.0,0.0,0.0,0.0,0.0,0.0,0.0,0.0,0.0,0.0,0.0,0.0,0.0,0.0,0.0,0.0,0.0,2.728736322209185,8.652298926376323,0.0,0.0,0.0,0.0,0.0,0.0,0.0,0.0,0.0,0.0,0.0,0.0,0.0,0.0,0.0,0.0,0.0,0.0,0.0,0.0,0.0,0.0,0.0,0.0,0.0,0.0,0.0,0.0,0.0,0.0,0.0,0.0,0.0,0.0,0.0,0.0,0.0,0.0,10.002200484106503,13.485669124403731,3.0881830674922406,0.0,0.0,11.636215837053644,6.916080281859912,0.0,0.0,0.0,0.0,0.0,0.0,0.0,0.3342625833149489,0.0,0.0,0.0,0.36776604195475004,0.0,0.0,0.0,0.0,0.0,0.0,0.6663098207404479,0.3516389540007019,0.0,0.0,0.0,0.0,0.0,0.0,0.0,0.0,0.0,0.0,0.0,0.0,0.0,0.0,0.0,0.0,0.0,0.0,0.0,0.0,0.0,0.0,0.0,0.0,0.0,0.0,2.821176882148157,0.0,0.0,0.0,0.0,0.0,0.0,6.37671420180093,2.1807793378427003,0.0,0.0,0.0,0.0,0.0,0.0,0.0,0.0,0.0,6.818449484587205,3.064793566998303,2.080924168150564,7.645677461635083,4.774628684200754,5.825657490177294,9.266552379187322,3.6015354158727795,3.6254054264361026,5.752482196067603,4.653442165711984,6.137296911265846,8.42034355001684,0.0,0.0,0.0,0.0,0.0,0.0,0.0,0.0,0.0,0.0,0.0,0.0,0.0,0.0,0.0,0.0,0.0,0.0,0.34963323473676117,0.0,0.0,0.0,0.0,0.0,0.0,0.0,0.0,0.0,0.0,0.0,0.0,0.0,0.0,0.0,0.0,7.640461702185718,14.877733519744652,0.0,0.0,0.0,0.0,0.0,0.0,0.0,0.0,0.0,0.0,0.0,0.0,0.0,0.0,0.0,0.0,0.0,0.0,0.0,0.0,0.0,0.0,0.0,0.0,0.0,0.0,0.0,0.0,0.0,0.0,0.0,0.0,0.0,0.0,0.0,0.0,0.0,0.0,0.0,13.336267312142006,14.74014997318547,7.720457668730602,3.5184631353024995,15.733474934607745,6.718477988092485,0.0,0.0,0.0,0.0,0.0,0.0,0.0,0.3342625833149489,0.0,0.0,0.0,0.36776604195475004,0.35019768659408235,0.0,0.0,0.0,0.0,0.0,0.33315491037022393,0.14065558160028074,0.0,0.0,0.0,0.0,0.0,0.0,0.0,0.0,0.0,0.0,0.0,0.0,0.0,0.0,0.0,0.0,0.0,0.0,0.0,0.0,0.0,0.0,0.0,0.0,0.0,0.0,0.0,0.0,0.0,0.0,0.0,0.0,0.0,2.329953266042648,2.1807793378427003,0.0,0.0,0.0,0.0,0.0,0.0,0.0,0.0,0.0,0.6198590440533822,0.7661983917495757,1.3377369652396482,1.6383594560646606,0.9431365302124944,1.941885830059098,1.2636207789800895,1.2779641798258252,1.06109427115203,0.0,1.3087806091064955,3.236029280485628,2.631357359380263,0.0,0.0,0.0,0.0,0.0,0.0,0.0,0.0,0.0,0.0,0.0,0.0,0.0,0.0,0.0,0.0,0.0,0.0,0.0,0.0,0.0,0.0,0.0,0.0,0.0,0.0,0.0,0.0,0.0,0.0,0.0,0.0,0.0,0.0,0.0,0.0,0.0,1.637241793325511,4.853728666015986,0.0,0.0,0.0,0.0,0.0,0.0,0.0,0.0,0.0,0.0,0.0,0.0,0.0,0.0,0.0,0.0,0.0,0.0,0.0,0.0,0.0,0.0,0.0,0.0,0.0,0.0,0.0,0.0,0.0,0.0,0.0,0.0,0.0,0.0,0.0,0.0,0.0,0.0,0.0,0.0,0.0,1.3336267312142005,5.017923395126969,2.316137300619181,4.0858435734787895,0.0,3.1139169141411163,1.7784206439068346,0.0,0.0,0.0,0.0,0.0,0.0,0.0],\"yaxis\":\"y\",\"type\":\"scatter\"}],                        {\"template\":{\"data\":{\"bar\":[{\"error_x\":{\"color\":\"#2a3f5f\"},\"error_y\":{\"color\":\"#2a3f5f\"},\"marker\":{\"line\":{\"color\":\"#E5ECF6\",\"width\":0.5},\"pattern\":{\"fillmode\":\"overlay\",\"size\":10,\"solidity\":0.2}},\"type\":\"bar\"}],\"barpolar\":[{\"marker\":{\"line\":{\"color\":\"#E5ECF6\",\"width\":0.5},\"pattern\":{\"fillmode\":\"overlay\",\"size\":10,\"solidity\":0.2}},\"type\":\"barpolar\"}],\"carpet\":[{\"aaxis\":{\"endlinecolor\":\"#2a3f5f\",\"gridcolor\":\"white\",\"linecolor\":\"white\",\"minorgridcolor\":\"white\",\"startlinecolor\":\"#2a3f5f\"},\"baxis\":{\"endlinecolor\":\"#2a3f5f\",\"gridcolor\":\"white\",\"linecolor\":\"white\",\"minorgridcolor\":\"white\",\"startlinecolor\":\"#2a3f5f\"},\"type\":\"carpet\"}],\"choropleth\":[{\"colorbar\":{\"outlinewidth\":0,\"ticks\":\"\"},\"type\":\"choropleth\"}],\"contour\":[{\"colorbar\":{\"outlinewidth\":0,\"ticks\":\"\"},\"colorscale\":[[0.0,\"#0d0887\"],[0.1111111111111111,\"#46039f\"],[0.2222222222222222,\"#7201a8\"],[0.3333333333333333,\"#9c179e\"],[0.4444444444444444,\"#bd3786\"],[0.5555555555555556,\"#d8576b\"],[0.6666666666666666,\"#ed7953\"],[0.7777777777777778,\"#fb9f3a\"],[0.8888888888888888,\"#fdca26\"],[1.0,\"#f0f921\"]],\"type\":\"contour\"}],\"contourcarpet\":[{\"colorbar\":{\"outlinewidth\":0,\"ticks\":\"\"},\"type\":\"contourcarpet\"}],\"heatmap\":[{\"colorbar\":{\"outlinewidth\":0,\"ticks\":\"\"},\"colorscale\":[[0.0,\"#0d0887\"],[0.1111111111111111,\"#46039f\"],[0.2222222222222222,\"#7201a8\"],[0.3333333333333333,\"#9c179e\"],[0.4444444444444444,\"#bd3786\"],[0.5555555555555556,\"#d8576b\"],[0.6666666666666666,\"#ed7953\"],[0.7777777777777778,\"#fb9f3a\"],[0.8888888888888888,\"#fdca26\"],[1.0,\"#f0f921\"]],\"type\":\"heatmap\"}],\"heatmapgl\":[{\"colorbar\":{\"outlinewidth\":0,\"ticks\":\"\"},\"colorscale\":[[0.0,\"#0d0887\"],[0.1111111111111111,\"#46039f\"],[0.2222222222222222,\"#7201a8\"],[0.3333333333333333,\"#9c179e\"],[0.4444444444444444,\"#bd3786\"],[0.5555555555555556,\"#d8576b\"],[0.6666666666666666,\"#ed7953\"],[0.7777777777777778,\"#fb9f3a\"],[0.8888888888888888,\"#fdca26\"],[1.0,\"#f0f921\"]],\"type\":\"heatmapgl\"}],\"histogram\":[{\"marker\":{\"pattern\":{\"fillmode\":\"overlay\",\"size\":10,\"solidity\":0.2}},\"type\":\"histogram\"}],\"histogram2d\":[{\"colorbar\":{\"outlinewidth\":0,\"ticks\":\"\"},\"colorscale\":[[0.0,\"#0d0887\"],[0.1111111111111111,\"#46039f\"],[0.2222222222222222,\"#7201a8\"],[0.3333333333333333,\"#9c179e\"],[0.4444444444444444,\"#bd3786\"],[0.5555555555555556,\"#d8576b\"],[0.6666666666666666,\"#ed7953\"],[0.7777777777777778,\"#fb9f3a\"],[0.8888888888888888,\"#fdca26\"],[1.0,\"#f0f921\"]],\"type\":\"histogram2d\"}],\"histogram2dcontour\":[{\"colorbar\":{\"outlinewidth\":0,\"ticks\":\"\"},\"colorscale\":[[0.0,\"#0d0887\"],[0.1111111111111111,\"#46039f\"],[0.2222222222222222,\"#7201a8\"],[0.3333333333333333,\"#9c179e\"],[0.4444444444444444,\"#bd3786\"],[0.5555555555555556,\"#d8576b\"],[0.6666666666666666,\"#ed7953\"],[0.7777777777777778,\"#fb9f3a\"],[0.8888888888888888,\"#fdca26\"],[1.0,\"#f0f921\"]],\"type\":\"histogram2dcontour\"}],\"mesh3d\":[{\"colorbar\":{\"outlinewidth\":0,\"ticks\":\"\"},\"type\":\"mesh3d\"}],\"parcoords\":[{\"line\":{\"colorbar\":{\"outlinewidth\":0,\"ticks\":\"\"}},\"type\":\"parcoords\"}],\"pie\":[{\"automargin\":true,\"type\":\"pie\"}],\"scatter\":[{\"marker\":{\"colorbar\":{\"outlinewidth\":0,\"ticks\":\"\"}},\"type\":\"scatter\"}],\"scatter3d\":[{\"line\":{\"colorbar\":{\"outlinewidth\":0,\"ticks\":\"\"}},\"marker\":{\"colorbar\":{\"outlinewidth\":0,\"ticks\":\"\"}},\"type\":\"scatter3d\"}],\"scattercarpet\":[{\"marker\":{\"colorbar\":{\"outlinewidth\":0,\"ticks\":\"\"}},\"type\":\"scattercarpet\"}],\"scattergeo\":[{\"marker\":{\"colorbar\":{\"outlinewidth\":0,\"ticks\":\"\"}},\"type\":\"scattergeo\"}],\"scattergl\":[{\"marker\":{\"colorbar\":{\"outlinewidth\":0,\"ticks\":\"\"}},\"type\":\"scattergl\"}],\"scattermapbox\":[{\"marker\":{\"colorbar\":{\"outlinewidth\":0,\"ticks\":\"\"}},\"type\":\"scattermapbox\"}],\"scatterpolar\":[{\"marker\":{\"colorbar\":{\"outlinewidth\":0,\"ticks\":\"\"}},\"type\":\"scatterpolar\"}],\"scatterpolargl\":[{\"marker\":{\"colorbar\":{\"outlinewidth\":0,\"ticks\":\"\"}},\"type\":\"scatterpolargl\"}],\"scatterternary\":[{\"marker\":{\"colorbar\":{\"outlinewidth\":0,\"ticks\":\"\"}},\"type\":\"scatterternary\"}],\"surface\":[{\"colorbar\":{\"outlinewidth\":0,\"ticks\":\"\"},\"colorscale\":[[0.0,\"#0d0887\"],[0.1111111111111111,\"#46039f\"],[0.2222222222222222,\"#7201a8\"],[0.3333333333333333,\"#9c179e\"],[0.4444444444444444,\"#bd3786\"],[0.5555555555555556,\"#d8576b\"],[0.6666666666666666,\"#ed7953\"],[0.7777777777777778,\"#fb9f3a\"],[0.8888888888888888,\"#fdca26\"],[1.0,\"#f0f921\"]],\"type\":\"surface\"}],\"table\":[{\"cells\":{\"fill\":{\"color\":\"#EBF0F8\"},\"line\":{\"color\":\"white\"}},\"header\":{\"fill\":{\"color\":\"#C8D4E3\"},\"line\":{\"color\":\"white\"}},\"type\":\"table\"}]},\"layout\":{\"annotationdefaults\":{\"arrowcolor\":\"#2a3f5f\",\"arrowhead\":0,\"arrowwidth\":1},\"autotypenumbers\":\"strict\",\"coloraxis\":{\"colorbar\":{\"outlinewidth\":0,\"ticks\":\"\"}},\"colorscale\":{\"diverging\":[[0,\"#8e0152\"],[0.1,\"#c51b7d\"],[0.2,\"#de77ae\"],[0.3,\"#f1b6da\"],[0.4,\"#fde0ef\"],[0.5,\"#f7f7f7\"],[0.6,\"#e6f5d0\"],[0.7,\"#b8e186\"],[0.8,\"#7fbc41\"],[0.9,\"#4d9221\"],[1,\"#276419\"]],\"sequential\":[[0.0,\"#0d0887\"],[0.1111111111111111,\"#46039f\"],[0.2222222222222222,\"#7201a8\"],[0.3333333333333333,\"#9c179e\"],[0.4444444444444444,\"#bd3786\"],[0.5555555555555556,\"#d8576b\"],[0.6666666666666666,\"#ed7953\"],[0.7777777777777778,\"#fb9f3a\"],[0.8888888888888888,\"#fdca26\"],[1.0,\"#f0f921\"]],\"sequentialminus\":[[0.0,\"#0d0887\"],[0.1111111111111111,\"#46039f\"],[0.2222222222222222,\"#7201a8\"],[0.3333333333333333,\"#9c179e\"],[0.4444444444444444,\"#bd3786\"],[0.5555555555555556,\"#d8576b\"],[0.6666666666666666,\"#ed7953\"],[0.7777777777777778,\"#fb9f3a\"],[0.8888888888888888,\"#fdca26\"],[1.0,\"#f0f921\"]]},\"colorway\":[\"#636efa\",\"#EF553B\",\"#00cc96\",\"#ab63fa\",\"#FFA15A\",\"#19d3f3\",\"#FF6692\",\"#B6E880\",\"#FF97FF\",\"#FECB52\"],\"font\":{\"color\":\"#2a3f5f\"},\"geo\":{\"bgcolor\":\"white\",\"lakecolor\":\"white\",\"landcolor\":\"#E5ECF6\",\"showlakes\":true,\"showland\":true,\"subunitcolor\":\"white\"},\"hoverlabel\":{\"align\":\"left\"},\"hovermode\":\"closest\",\"mapbox\":{\"style\":\"light\"},\"paper_bgcolor\":\"white\",\"plot_bgcolor\":\"#E5ECF6\",\"polar\":{\"angularaxis\":{\"gridcolor\":\"white\",\"linecolor\":\"white\",\"ticks\":\"\"},\"bgcolor\":\"#E5ECF6\",\"radialaxis\":{\"gridcolor\":\"white\",\"linecolor\":\"white\",\"ticks\":\"\"}},\"scene\":{\"xaxis\":{\"backgroundcolor\":\"#E5ECF6\",\"gridcolor\":\"white\",\"gridwidth\":2,\"linecolor\":\"white\",\"showbackground\":true,\"ticks\":\"\",\"zerolinecolor\":\"white\"},\"yaxis\":{\"backgroundcolor\":\"#E5ECF6\",\"gridcolor\":\"white\",\"gridwidth\":2,\"linecolor\":\"white\",\"showbackground\":true,\"ticks\":\"\",\"zerolinecolor\":\"white\"},\"zaxis\":{\"backgroundcolor\":\"#E5ECF6\",\"gridcolor\":\"white\",\"gridwidth\":2,\"linecolor\":\"white\",\"showbackground\":true,\"ticks\":\"\",\"zerolinecolor\":\"white\"}},\"shapedefaults\":{\"line\":{\"color\":\"#2a3f5f\"}},\"ternary\":{\"aaxis\":{\"gridcolor\":\"white\",\"linecolor\":\"white\",\"ticks\":\"\"},\"baxis\":{\"gridcolor\":\"white\",\"linecolor\":\"white\",\"ticks\":\"\"},\"bgcolor\":\"#E5ECF6\",\"caxis\":{\"gridcolor\":\"white\",\"linecolor\":\"white\",\"ticks\":\"\"}},\"title\":{\"x\":0.05},\"xaxis\":{\"automargin\":true,\"gridcolor\":\"white\",\"linecolor\":\"white\",\"ticks\":\"\",\"title\":{\"standoff\":15},\"zerolinecolor\":\"white\",\"zerolinewidth\":2},\"yaxis\":{\"automargin\":true,\"gridcolor\":\"white\",\"linecolor\":\"white\",\"ticks\":\"\",\"title\":{\"standoff\":15},\"zerolinecolor\":\"white\",\"zerolinewidth\":2}}},\"xaxis\":{\"anchor\":\"y\",\"domain\":[0.0,1.0],\"title\":{\"text\":\"PERCEPCION_INSEGURIDAD\"}},\"yaxis\":{\"anchor\":\"x\",\"domain\":[0.0,1.0],\"title\":{\"text\":\"VIOLENCIA_GENERO\"}},\"legend\":{\"tracegroupgap\":0},\"title\":{\"text\":\"Percepci\\u00f3n de inseguridad vs cantidad de delitos\"},\"width\":500,\"height\":400},                        {\"responsive\": true}                    ).then(function(){\n",
       "                            \n",
       "var gd = document.getElementById('6c86b10e-3b24-4b01-a1b2-f5cb21b93b8d');\n",
       "var x = new MutationObserver(function (mutations, observer) {{\n",
       "        var display = window.getComputedStyle(gd).display;\n",
       "        if (!display || display === 'none') {{\n",
       "            console.log([gd, 'removed!']);\n",
       "            Plotly.purge(gd);\n",
       "            observer.disconnect();\n",
       "        }}\n",
       "}});\n",
       "\n",
       "// Listen for the removal of the full notebook cells\n",
       "var notebookContainer = gd.closest('#notebook-container');\n",
       "if (notebookContainer) {{\n",
       "    x.observe(notebookContainer, {childList: true});\n",
       "}}\n",
       "\n",
       "// Listen for the clearing of the current output cell\n",
       "var outputEl = gd.closest('.output');\n",
       "if (outputEl) {{\n",
       "    x.observe(outputEl, {childList: true});\n",
       "}}\n",
       "\n",
       "                        })                };                });            </script>        </div>"
      ]
     },
     "metadata": {},
     "output_type": "display_data"
    }
   ],
   "source": [
    "import plotly.express as px\n",
    "fig = px.scatter(df, x=\"PERCEPCION_INSEGURIDAD\", y=\"VIOLENCIA_GENERO\",\n",
    "                title='Percepción de inseguridad vs cantidad de delitos')\n",
    "fig.update_layout(width=500,\n",
    "                  height=400\n",
    ")\n",
    "fig.show()"
   ]
  },
  {
   "cell_type": "markdown",
   "id": "cdcefea9",
   "metadata": {},
   "source": [
    "#### Sonora"
   ]
  },
  {
   "cell_type": "code",
   "execution_count": 53,
   "id": "e637b905",
   "metadata": {},
   "outputs": [
    {
     "data": {
      "text/html": [
       "<div>\n",
       "<style scoped>\n",
       "    .dataframe tbody tr th:only-of-type {\n",
       "        vertical-align: middle;\n",
       "    }\n",
       "\n",
       "    .dataframe tbody tr th {\n",
       "        vertical-align: top;\n",
       "    }\n",
       "\n",
       "    .dataframe thead th {\n",
       "        text-align: right;\n",
       "    }\n",
       "</style>\n",
       "<table border=\"1\" class=\"dataframe\">\n",
       "  <thead>\n",
       "    <tr style=\"text-align: right;\">\n",
       "      <th></th>\n",
       "      <th>ESTADO</th>\n",
       "      <th>MUNICIPIO</th>\n",
       "      <th>MUJERES_INSEGURAS</th>\n",
       "      <th>TOTAL_MUJERES</th>\n",
       "      <th>TRIMESTRES</th>\n",
       "      <th>PERCEPCION_INSEGURIDAD</th>\n",
       "      <th>FEMINICIDIO</th>\n",
       "      <th>VIOLENCIA_FAMILIAR</th>\n",
       "      <th>VIOLENCIA_GENERO</th>\n",
       "      <th>TOTAL_DELITOS</th>\n",
       "      <th>POBLACION</th>\n",
       "      <th>FECHA</th>\n",
       "    </tr>\n",
       "  </thead>\n",
       "  <tbody>\n",
       "    <tr>\n",
       "      <th>115</th>\n",
       "      <td>Sonora</td>\n",
       "      <td>Cajeme</td>\n",
       "      <td>127</td>\n",
       "      <td>134</td>\n",
       "      <td>2022-Q1</td>\n",
       "      <td>94776.119403</td>\n",
       "      <td>0.000000</td>\n",
       "      <td>47.375336</td>\n",
       "      <td>0.0</td>\n",
       "      <td>47.375336</td>\n",
       "      <td>428493</td>\n",
       "      <td>2022-01-01</td>\n",
       "    </tr>\n",
       "    <tr>\n",
       "      <th>116</th>\n",
       "      <td>Sonora</td>\n",
       "      <td>Hermosillo</td>\n",
       "      <td>99</td>\n",
       "      <td>153</td>\n",
       "      <td>2022-Q1</td>\n",
       "      <td>64705.882353</td>\n",
       "      <td>0.116223</td>\n",
       "      <td>47.767480</td>\n",
       "      <td>0.0</td>\n",
       "      <td>47.883703</td>\n",
       "      <td>860418</td>\n",
       "      <td>2022-01-01</td>\n",
       "    </tr>\n",
       "    <tr>\n",
       "      <th>117</th>\n",
       "      <td>Sonora</td>\n",
       "      <td>Nogales</td>\n",
       "      <td>74</td>\n",
       "      <td>129</td>\n",
       "      <td>2022-Q1</td>\n",
       "      <td>57364.341085</td>\n",
       "      <td>0.000000</td>\n",
       "      <td>65.005238</td>\n",
       "      <td>0.0</td>\n",
       "      <td>65.005238</td>\n",
       "      <td>241519</td>\n",
       "      <td>2022-01-01</td>\n",
       "    </tr>\n",
       "    <tr>\n",
       "      <th>274</th>\n",
       "      <td>Sonora</td>\n",
       "      <td>Cajeme</td>\n",
       "      <td>120</td>\n",
       "      <td>129</td>\n",
       "      <td>2022-Q2</td>\n",
       "      <td>93023.255814</td>\n",
       "      <td>0.000000</td>\n",
       "      <td>53.909866</td>\n",
       "      <td>0.0</td>\n",
       "      <td>53.909866</td>\n",
       "      <td>428493</td>\n",
       "      <td>2022-04-01</td>\n",
       "    </tr>\n",
       "    <tr>\n",
       "      <th>275</th>\n",
       "      <td>Sonora</td>\n",
       "      <td>Hermosillo</td>\n",
       "      <td>97</td>\n",
       "      <td>150</td>\n",
       "      <td>2022-Q2</td>\n",
       "      <td>64666.666667</td>\n",
       "      <td>0.116223</td>\n",
       "      <td>50.789268</td>\n",
       "      <td>0.0</td>\n",
       "      <td>50.905490</td>\n",
       "      <td>860418</td>\n",
       "      <td>2022-04-01</td>\n",
       "    </tr>\n",
       "  </tbody>\n",
       "</table>\n",
       "</div>"
      ],
      "text/plain": [
       "     ESTADO   MUNICIPIO  MUJERES_INSEGURAS  TOTAL_MUJERES TRIMESTRES  \\\n",
       "115  Sonora      Cajeme                127            134    2022-Q1   \n",
       "116  Sonora  Hermosillo                 99            153    2022-Q1   \n",
       "117  Sonora     Nogales                 74            129    2022-Q1   \n",
       "274  Sonora      Cajeme                120            129    2022-Q2   \n",
       "275  Sonora  Hermosillo                 97            150    2022-Q2   \n",
       "\n",
       "     PERCEPCION_INSEGURIDAD  FEMINICIDIO  VIOLENCIA_FAMILIAR  \\\n",
       "115            94776.119403     0.000000           47.375336   \n",
       "116            64705.882353     0.116223           47.767480   \n",
       "117            57364.341085     0.000000           65.005238   \n",
       "274            93023.255814     0.000000           53.909866   \n",
       "275            64666.666667     0.116223           50.789268   \n",
       "\n",
       "     VIOLENCIA_GENERO  TOTAL_DELITOS  POBLACION      FECHA  \n",
       "115               0.0      47.375336     428493 2022-01-01  \n",
       "116               0.0      47.883703     860418 2022-01-01  \n",
       "117               0.0      65.005238     241519 2022-01-01  \n",
       "274               0.0      53.909866     428493 2022-04-01  \n",
       "275               0.0      50.905490     860418 2022-04-01  "
      ]
     },
     "execution_count": 53,
     "metadata": {},
     "output_type": "execute_result"
    }
   ],
   "source": [
    "df_sonora = df[df['ESTADO'] == 'Sonora']\n",
    "df_sonora.head()"
   ]
  },
  {
   "cell_type": "code",
   "execution_count": 54,
   "id": "d616e361",
   "metadata": {},
   "outputs": [
    {
     "data": {
      "application/vnd.plotly.v1+json": {
       "config": {
        "plotlyServerURL": "https://plot.ly"
       },
       "data": [
        {
         "hovertemplate": "MUNICIPIO=Cajeme<br>FECHA=%{x}<br>PERCEPCION_INSEGURIDAD=%{y}<extra></extra>",
         "legendgroup": "Cajeme",
         "line": {
          "color": "#636efa",
          "dash": "solid"
         },
         "marker": {
          "symbol": "circle"
         },
         "mode": "lines",
         "name": "Cajeme",
         "orientation": "v",
         "showlegend": true,
         "type": "scatter",
         "x": [
          "2022-01-01T00:00:00",
          "2022-04-01T00:00:00",
          "2022-07-01T00:00:00"
         ],
         "xaxis": "x",
         "y": [
          94776.11940298507,
          93023.25581395348,
          94573.64341085272
         ],
         "yaxis": "y"
        },
        {
         "hovertemplate": "MUNICIPIO=Hermosillo<br>FECHA=%{x}<br>PERCEPCION_INSEGURIDAD=%{y}<extra></extra>",
         "legendgroup": "Hermosillo",
         "line": {
          "color": "#EF553B",
          "dash": "solid"
         },
         "marker": {
          "symbol": "circle"
         },
         "mode": "lines",
         "name": "Hermosillo",
         "orientation": "v",
         "showlegend": true,
         "type": "scatter",
         "x": [
          "2022-01-01T00:00:00",
          "2022-04-01T00:00:00",
          "2022-07-01T00:00:00"
         ],
         "xaxis": "x",
         "y": [
          64705.88235294118,
          64666.666666666664,
          68750
         ],
         "yaxis": "y"
        },
        {
         "hovertemplate": "MUNICIPIO=Nogales<br>FECHA=%{x}<br>PERCEPCION_INSEGURIDAD=%{y}<extra></extra>",
         "legendgroup": "Nogales",
         "line": {
          "color": "#00cc96",
          "dash": "solid"
         },
         "marker": {
          "symbol": "circle"
         },
         "mode": "lines",
         "name": "Nogales",
         "orientation": "v",
         "showlegend": true,
         "type": "scatter",
         "x": [
          "2022-01-01T00:00:00",
          "2022-04-01T00:00:00",
          "2022-07-01T00:00:00"
         ],
         "xaxis": "x",
         "y": [
          57364.34108527132,
          66141.73228346457,
          54961.83206106871
         ],
         "yaxis": "y"
        }
       ],
       "layout": {
        "height": 400,
        "legend": {
         "title": {
          "text": "MUNICIPIO"
         },
         "tracegroupgap": 0
        },
        "template": {
         "data": {
          "bar": [
           {
            "error_x": {
             "color": "#2a3f5f"
            },
            "error_y": {
             "color": "#2a3f5f"
            },
            "marker": {
             "line": {
              "color": "#E5ECF6",
              "width": 0.5
             },
             "pattern": {
              "fillmode": "overlay",
              "size": 10,
              "solidity": 0.2
             }
            },
            "type": "bar"
           }
          ],
          "barpolar": [
           {
            "marker": {
             "line": {
              "color": "#E5ECF6",
              "width": 0.5
             },
             "pattern": {
              "fillmode": "overlay",
              "size": 10,
              "solidity": 0.2
             }
            },
            "type": "barpolar"
           }
          ],
          "carpet": [
           {
            "aaxis": {
             "endlinecolor": "#2a3f5f",
             "gridcolor": "white",
             "linecolor": "white",
             "minorgridcolor": "white",
             "startlinecolor": "#2a3f5f"
            },
            "baxis": {
             "endlinecolor": "#2a3f5f",
             "gridcolor": "white",
             "linecolor": "white",
             "minorgridcolor": "white",
             "startlinecolor": "#2a3f5f"
            },
            "type": "carpet"
           }
          ],
          "choropleth": [
           {
            "colorbar": {
             "outlinewidth": 0,
             "ticks": ""
            },
            "type": "choropleth"
           }
          ],
          "contour": [
           {
            "colorbar": {
             "outlinewidth": 0,
             "ticks": ""
            },
            "colorscale": [
             [
              0,
              "#0d0887"
             ],
             [
              0.1111111111111111,
              "#46039f"
             ],
             [
              0.2222222222222222,
              "#7201a8"
             ],
             [
              0.3333333333333333,
              "#9c179e"
             ],
             [
              0.4444444444444444,
              "#bd3786"
             ],
             [
              0.5555555555555556,
              "#d8576b"
             ],
             [
              0.6666666666666666,
              "#ed7953"
             ],
             [
              0.7777777777777778,
              "#fb9f3a"
             ],
             [
              0.8888888888888888,
              "#fdca26"
             ],
             [
              1,
              "#f0f921"
             ]
            ],
            "type": "contour"
           }
          ],
          "contourcarpet": [
           {
            "colorbar": {
             "outlinewidth": 0,
             "ticks": ""
            },
            "type": "contourcarpet"
           }
          ],
          "heatmap": [
           {
            "colorbar": {
             "outlinewidth": 0,
             "ticks": ""
            },
            "colorscale": [
             [
              0,
              "#0d0887"
             ],
             [
              0.1111111111111111,
              "#46039f"
             ],
             [
              0.2222222222222222,
              "#7201a8"
             ],
             [
              0.3333333333333333,
              "#9c179e"
             ],
             [
              0.4444444444444444,
              "#bd3786"
             ],
             [
              0.5555555555555556,
              "#d8576b"
             ],
             [
              0.6666666666666666,
              "#ed7953"
             ],
             [
              0.7777777777777778,
              "#fb9f3a"
             ],
             [
              0.8888888888888888,
              "#fdca26"
             ],
             [
              1,
              "#f0f921"
             ]
            ],
            "type": "heatmap"
           }
          ],
          "heatmapgl": [
           {
            "colorbar": {
             "outlinewidth": 0,
             "ticks": ""
            },
            "colorscale": [
             [
              0,
              "#0d0887"
             ],
             [
              0.1111111111111111,
              "#46039f"
             ],
             [
              0.2222222222222222,
              "#7201a8"
             ],
             [
              0.3333333333333333,
              "#9c179e"
             ],
             [
              0.4444444444444444,
              "#bd3786"
             ],
             [
              0.5555555555555556,
              "#d8576b"
             ],
             [
              0.6666666666666666,
              "#ed7953"
             ],
             [
              0.7777777777777778,
              "#fb9f3a"
             ],
             [
              0.8888888888888888,
              "#fdca26"
             ],
             [
              1,
              "#f0f921"
             ]
            ],
            "type": "heatmapgl"
           }
          ],
          "histogram": [
           {
            "marker": {
             "pattern": {
              "fillmode": "overlay",
              "size": 10,
              "solidity": 0.2
             }
            },
            "type": "histogram"
           }
          ],
          "histogram2d": [
           {
            "colorbar": {
             "outlinewidth": 0,
             "ticks": ""
            },
            "colorscale": [
             [
              0,
              "#0d0887"
             ],
             [
              0.1111111111111111,
              "#46039f"
             ],
             [
              0.2222222222222222,
              "#7201a8"
             ],
             [
              0.3333333333333333,
              "#9c179e"
             ],
             [
              0.4444444444444444,
              "#bd3786"
             ],
             [
              0.5555555555555556,
              "#d8576b"
             ],
             [
              0.6666666666666666,
              "#ed7953"
             ],
             [
              0.7777777777777778,
              "#fb9f3a"
             ],
             [
              0.8888888888888888,
              "#fdca26"
             ],
             [
              1,
              "#f0f921"
             ]
            ],
            "type": "histogram2d"
           }
          ],
          "histogram2dcontour": [
           {
            "colorbar": {
             "outlinewidth": 0,
             "ticks": ""
            },
            "colorscale": [
             [
              0,
              "#0d0887"
             ],
             [
              0.1111111111111111,
              "#46039f"
             ],
             [
              0.2222222222222222,
              "#7201a8"
             ],
             [
              0.3333333333333333,
              "#9c179e"
             ],
             [
              0.4444444444444444,
              "#bd3786"
             ],
             [
              0.5555555555555556,
              "#d8576b"
             ],
             [
              0.6666666666666666,
              "#ed7953"
             ],
             [
              0.7777777777777778,
              "#fb9f3a"
             ],
             [
              0.8888888888888888,
              "#fdca26"
             ],
             [
              1,
              "#f0f921"
             ]
            ],
            "type": "histogram2dcontour"
           }
          ],
          "mesh3d": [
           {
            "colorbar": {
             "outlinewidth": 0,
             "ticks": ""
            },
            "type": "mesh3d"
           }
          ],
          "parcoords": [
           {
            "line": {
             "colorbar": {
              "outlinewidth": 0,
              "ticks": ""
             }
            },
            "type": "parcoords"
           }
          ],
          "pie": [
           {
            "automargin": true,
            "type": "pie"
           }
          ],
          "scatter": [
           {
            "marker": {
             "colorbar": {
              "outlinewidth": 0,
              "ticks": ""
             }
            },
            "type": "scatter"
           }
          ],
          "scatter3d": [
           {
            "line": {
             "colorbar": {
              "outlinewidth": 0,
              "ticks": ""
             }
            },
            "marker": {
             "colorbar": {
              "outlinewidth": 0,
              "ticks": ""
             }
            },
            "type": "scatter3d"
           }
          ],
          "scattercarpet": [
           {
            "marker": {
             "colorbar": {
              "outlinewidth": 0,
              "ticks": ""
             }
            },
            "type": "scattercarpet"
           }
          ],
          "scattergeo": [
           {
            "marker": {
             "colorbar": {
              "outlinewidth": 0,
              "ticks": ""
             }
            },
            "type": "scattergeo"
           }
          ],
          "scattergl": [
           {
            "marker": {
             "colorbar": {
              "outlinewidth": 0,
              "ticks": ""
             }
            },
            "type": "scattergl"
           }
          ],
          "scattermapbox": [
           {
            "marker": {
             "colorbar": {
              "outlinewidth": 0,
              "ticks": ""
             }
            },
            "type": "scattermapbox"
           }
          ],
          "scatterpolar": [
           {
            "marker": {
             "colorbar": {
              "outlinewidth": 0,
              "ticks": ""
             }
            },
            "type": "scatterpolar"
           }
          ],
          "scatterpolargl": [
           {
            "marker": {
             "colorbar": {
              "outlinewidth": 0,
              "ticks": ""
             }
            },
            "type": "scatterpolargl"
           }
          ],
          "scatterternary": [
           {
            "marker": {
             "colorbar": {
              "outlinewidth": 0,
              "ticks": ""
             }
            },
            "type": "scatterternary"
           }
          ],
          "surface": [
           {
            "colorbar": {
             "outlinewidth": 0,
             "ticks": ""
            },
            "colorscale": [
             [
              0,
              "#0d0887"
             ],
             [
              0.1111111111111111,
              "#46039f"
             ],
             [
              0.2222222222222222,
              "#7201a8"
             ],
             [
              0.3333333333333333,
              "#9c179e"
             ],
             [
              0.4444444444444444,
              "#bd3786"
             ],
             [
              0.5555555555555556,
              "#d8576b"
             ],
             [
              0.6666666666666666,
              "#ed7953"
             ],
             [
              0.7777777777777778,
              "#fb9f3a"
             ],
             [
              0.8888888888888888,
              "#fdca26"
             ],
             [
              1,
              "#f0f921"
             ]
            ],
            "type": "surface"
           }
          ],
          "table": [
           {
            "cells": {
             "fill": {
              "color": "#EBF0F8"
             },
             "line": {
              "color": "white"
             }
            },
            "header": {
             "fill": {
              "color": "#C8D4E3"
             },
             "line": {
              "color": "white"
             }
            },
            "type": "table"
           }
          ]
         },
         "layout": {
          "annotationdefaults": {
           "arrowcolor": "#2a3f5f",
           "arrowhead": 0,
           "arrowwidth": 1
          },
          "autotypenumbers": "strict",
          "coloraxis": {
           "colorbar": {
            "outlinewidth": 0,
            "ticks": ""
           }
          },
          "colorscale": {
           "diverging": [
            [
             0,
             "#8e0152"
            ],
            [
             0.1,
             "#c51b7d"
            ],
            [
             0.2,
             "#de77ae"
            ],
            [
             0.3,
             "#f1b6da"
            ],
            [
             0.4,
             "#fde0ef"
            ],
            [
             0.5,
             "#f7f7f7"
            ],
            [
             0.6,
             "#e6f5d0"
            ],
            [
             0.7,
             "#b8e186"
            ],
            [
             0.8,
             "#7fbc41"
            ],
            [
             0.9,
             "#4d9221"
            ],
            [
             1,
             "#276419"
            ]
           ],
           "sequential": [
            [
             0,
             "#0d0887"
            ],
            [
             0.1111111111111111,
             "#46039f"
            ],
            [
             0.2222222222222222,
             "#7201a8"
            ],
            [
             0.3333333333333333,
             "#9c179e"
            ],
            [
             0.4444444444444444,
             "#bd3786"
            ],
            [
             0.5555555555555556,
             "#d8576b"
            ],
            [
             0.6666666666666666,
             "#ed7953"
            ],
            [
             0.7777777777777778,
             "#fb9f3a"
            ],
            [
             0.8888888888888888,
             "#fdca26"
            ],
            [
             1,
             "#f0f921"
            ]
           ],
           "sequentialminus": [
            [
             0,
             "#0d0887"
            ],
            [
             0.1111111111111111,
             "#46039f"
            ],
            [
             0.2222222222222222,
             "#7201a8"
            ],
            [
             0.3333333333333333,
             "#9c179e"
            ],
            [
             0.4444444444444444,
             "#bd3786"
            ],
            [
             0.5555555555555556,
             "#d8576b"
            ],
            [
             0.6666666666666666,
             "#ed7953"
            ],
            [
             0.7777777777777778,
             "#fb9f3a"
            ],
            [
             0.8888888888888888,
             "#fdca26"
            ],
            [
             1,
             "#f0f921"
            ]
           ]
          },
          "colorway": [
           "#636efa",
           "#EF553B",
           "#00cc96",
           "#ab63fa",
           "#FFA15A",
           "#19d3f3",
           "#FF6692",
           "#B6E880",
           "#FF97FF",
           "#FECB52"
          ],
          "font": {
           "color": "#2a3f5f"
          },
          "geo": {
           "bgcolor": "white",
           "lakecolor": "white",
           "landcolor": "#E5ECF6",
           "showlakes": true,
           "showland": true,
           "subunitcolor": "white"
          },
          "hoverlabel": {
           "align": "left"
          },
          "hovermode": "closest",
          "mapbox": {
           "style": "light"
          },
          "paper_bgcolor": "white",
          "plot_bgcolor": "#E5ECF6",
          "polar": {
           "angularaxis": {
            "gridcolor": "white",
            "linecolor": "white",
            "ticks": ""
           },
           "bgcolor": "#E5ECF6",
           "radialaxis": {
            "gridcolor": "white",
            "linecolor": "white",
            "ticks": ""
           }
          },
          "scene": {
           "xaxis": {
            "backgroundcolor": "#E5ECF6",
            "gridcolor": "white",
            "gridwidth": 2,
            "linecolor": "white",
            "showbackground": true,
            "ticks": "",
            "zerolinecolor": "white"
           },
           "yaxis": {
            "backgroundcolor": "#E5ECF6",
            "gridcolor": "white",
            "gridwidth": 2,
            "linecolor": "white",
            "showbackground": true,
            "ticks": "",
            "zerolinecolor": "white"
           },
           "zaxis": {
            "backgroundcolor": "#E5ECF6",
            "gridcolor": "white",
            "gridwidth": 2,
            "linecolor": "white",
            "showbackground": true,
            "ticks": "",
            "zerolinecolor": "white"
           }
          },
          "shapedefaults": {
           "line": {
            "color": "#2a3f5f"
           }
          },
          "ternary": {
           "aaxis": {
            "gridcolor": "white",
            "linecolor": "white",
            "ticks": ""
           },
           "baxis": {
            "gridcolor": "white",
            "linecolor": "white",
            "ticks": ""
           },
           "bgcolor": "#E5ECF6",
           "caxis": {
            "gridcolor": "white",
            "linecolor": "white",
            "ticks": ""
           }
          },
          "title": {
           "x": 0.05
          },
          "xaxis": {
           "automargin": true,
           "gridcolor": "white",
           "linecolor": "white",
           "ticks": "",
           "title": {
            "standoff": 15
           },
           "zerolinecolor": "white",
           "zerolinewidth": 2
          },
          "yaxis": {
           "automargin": true,
           "gridcolor": "white",
           "linecolor": "white",
           "ticks": "",
           "title": {
            "standoff": 15
           },
           "zerolinecolor": "white",
           "zerolinewidth": 2
          }
         }
        },
        "title": {
         "text": "Tendencia de percepción de inseguridad"
        },
        "width": 500,
        "xaxis": {
         "anchor": "y",
         "domain": [
          0,
          1
         ],
         "title": {
          "text": "FECHA"
         }
        },
        "yaxis": {
         "anchor": "x",
         "domain": [
          0,
          1
         ],
         "title": {
          "text": "PERCEPCION_INSEGURIDAD"
         }
        }
       }
      },
      "text/html": [
       "<div>                            <div id=\"c96649df-cdd3-4431-91ae-4966f6cce2ab\" class=\"plotly-graph-div\" style=\"height:400px; width:500px;\"></div>            <script type=\"text/javascript\">                require([\"plotly\"], function(Plotly) {                    window.PLOTLYENV=window.PLOTLYENV || {};                                    if (document.getElementById(\"c96649df-cdd3-4431-91ae-4966f6cce2ab\")) {                    Plotly.newPlot(                        \"c96649df-cdd3-4431-91ae-4966f6cce2ab\",                        [{\"hovertemplate\":\"MUNICIPIO=Cajeme<br>FECHA=%{x}<br>PERCEPCION_INSEGURIDAD=%{y}<extra></extra>\",\"legendgroup\":\"Cajeme\",\"line\":{\"color\":\"#636efa\",\"dash\":\"solid\"},\"marker\":{\"symbol\":\"circle\"},\"mode\":\"lines\",\"name\":\"Cajeme\",\"orientation\":\"v\",\"showlegend\":true,\"x\":[\"2022-01-01T00:00:00\",\"2022-04-01T00:00:00\",\"2022-07-01T00:00:00\"],\"xaxis\":\"x\",\"y\":[94776.11940298507,93023.25581395348,94573.64341085272],\"yaxis\":\"y\",\"type\":\"scatter\"},{\"hovertemplate\":\"MUNICIPIO=Hermosillo<br>FECHA=%{x}<br>PERCEPCION_INSEGURIDAD=%{y}<extra></extra>\",\"legendgroup\":\"Hermosillo\",\"line\":{\"color\":\"#EF553B\",\"dash\":\"solid\"},\"marker\":{\"symbol\":\"circle\"},\"mode\":\"lines\",\"name\":\"Hermosillo\",\"orientation\":\"v\",\"showlegend\":true,\"x\":[\"2022-01-01T00:00:00\",\"2022-04-01T00:00:00\",\"2022-07-01T00:00:00\"],\"xaxis\":\"x\",\"y\":[64705.88235294118,64666.666666666664,68750.0],\"yaxis\":\"y\",\"type\":\"scatter\"},{\"hovertemplate\":\"MUNICIPIO=Nogales<br>FECHA=%{x}<br>PERCEPCION_INSEGURIDAD=%{y}<extra></extra>\",\"legendgroup\":\"Nogales\",\"line\":{\"color\":\"#00cc96\",\"dash\":\"solid\"},\"marker\":{\"symbol\":\"circle\"},\"mode\":\"lines\",\"name\":\"Nogales\",\"orientation\":\"v\",\"showlegend\":true,\"x\":[\"2022-01-01T00:00:00\",\"2022-04-01T00:00:00\",\"2022-07-01T00:00:00\"],\"xaxis\":\"x\",\"y\":[57364.34108527132,66141.73228346457,54961.83206106871],\"yaxis\":\"y\",\"type\":\"scatter\"}],                        {\"template\":{\"data\":{\"bar\":[{\"error_x\":{\"color\":\"#2a3f5f\"},\"error_y\":{\"color\":\"#2a3f5f\"},\"marker\":{\"line\":{\"color\":\"#E5ECF6\",\"width\":0.5},\"pattern\":{\"fillmode\":\"overlay\",\"size\":10,\"solidity\":0.2}},\"type\":\"bar\"}],\"barpolar\":[{\"marker\":{\"line\":{\"color\":\"#E5ECF6\",\"width\":0.5},\"pattern\":{\"fillmode\":\"overlay\",\"size\":10,\"solidity\":0.2}},\"type\":\"barpolar\"}],\"carpet\":[{\"aaxis\":{\"endlinecolor\":\"#2a3f5f\",\"gridcolor\":\"white\",\"linecolor\":\"white\",\"minorgridcolor\":\"white\",\"startlinecolor\":\"#2a3f5f\"},\"baxis\":{\"endlinecolor\":\"#2a3f5f\",\"gridcolor\":\"white\",\"linecolor\":\"white\",\"minorgridcolor\":\"white\",\"startlinecolor\":\"#2a3f5f\"},\"type\":\"carpet\"}],\"choropleth\":[{\"colorbar\":{\"outlinewidth\":0,\"ticks\":\"\"},\"type\":\"choropleth\"}],\"contour\":[{\"colorbar\":{\"outlinewidth\":0,\"ticks\":\"\"},\"colorscale\":[[0.0,\"#0d0887\"],[0.1111111111111111,\"#46039f\"],[0.2222222222222222,\"#7201a8\"],[0.3333333333333333,\"#9c179e\"],[0.4444444444444444,\"#bd3786\"],[0.5555555555555556,\"#d8576b\"],[0.6666666666666666,\"#ed7953\"],[0.7777777777777778,\"#fb9f3a\"],[0.8888888888888888,\"#fdca26\"],[1.0,\"#f0f921\"]],\"type\":\"contour\"}],\"contourcarpet\":[{\"colorbar\":{\"outlinewidth\":0,\"ticks\":\"\"},\"type\":\"contourcarpet\"}],\"heatmap\":[{\"colorbar\":{\"outlinewidth\":0,\"ticks\":\"\"},\"colorscale\":[[0.0,\"#0d0887\"],[0.1111111111111111,\"#46039f\"],[0.2222222222222222,\"#7201a8\"],[0.3333333333333333,\"#9c179e\"],[0.4444444444444444,\"#bd3786\"],[0.5555555555555556,\"#d8576b\"],[0.6666666666666666,\"#ed7953\"],[0.7777777777777778,\"#fb9f3a\"],[0.8888888888888888,\"#fdca26\"],[1.0,\"#f0f921\"]],\"type\":\"heatmap\"}],\"heatmapgl\":[{\"colorbar\":{\"outlinewidth\":0,\"ticks\":\"\"},\"colorscale\":[[0.0,\"#0d0887\"],[0.1111111111111111,\"#46039f\"],[0.2222222222222222,\"#7201a8\"],[0.3333333333333333,\"#9c179e\"],[0.4444444444444444,\"#bd3786\"],[0.5555555555555556,\"#d8576b\"],[0.6666666666666666,\"#ed7953\"],[0.7777777777777778,\"#fb9f3a\"],[0.8888888888888888,\"#fdca26\"],[1.0,\"#f0f921\"]],\"type\":\"heatmapgl\"}],\"histogram\":[{\"marker\":{\"pattern\":{\"fillmode\":\"overlay\",\"size\":10,\"solidity\":0.2}},\"type\":\"histogram\"}],\"histogram2d\":[{\"colorbar\":{\"outlinewidth\":0,\"ticks\":\"\"},\"colorscale\":[[0.0,\"#0d0887\"],[0.1111111111111111,\"#46039f\"],[0.2222222222222222,\"#7201a8\"],[0.3333333333333333,\"#9c179e\"],[0.4444444444444444,\"#bd3786\"],[0.5555555555555556,\"#d8576b\"],[0.6666666666666666,\"#ed7953\"],[0.7777777777777778,\"#fb9f3a\"],[0.8888888888888888,\"#fdca26\"],[1.0,\"#f0f921\"]],\"type\":\"histogram2d\"}],\"histogram2dcontour\":[{\"colorbar\":{\"outlinewidth\":0,\"ticks\":\"\"},\"colorscale\":[[0.0,\"#0d0887\"],[0.1111111111111111,\"#46039f\"],[0.2222222222222222,\"#7201a8\"],[0.3333333333333333,\"#9c179e\"],[0.4444444444444444,\"#bd3786\"],[0.5555555555555556,\"#d8576b\"],[0.6666666666666666,\"#ed7953\"],[0.7777777777777778,\"#fb9f3a\"],[0.8888888888888888,\"#fdca26\"],[1.0,\"#f0f921\"]],\"type\":\"histogram2dcontour\"}],\"mesh3d\":[{\"colorbar\":{\"outlinewidth\":0,\"ticks\":\"\"},\"type\":\"mesh3d\"}],\"parcoords\":[{\"line\":{\"colorbar\":{\"outlinewidth\":0,\"ticks\":\"\"}},\"type\":\"parcoords\"}],\"pie\":[{\"automargin\":true,\"type\":\"pie\"}],\"scatter\":[{\"marker\":{\"colorbar\":{\"outlinewidth\":0,\"ticks\":\"\"}},\"type\":\"scatter\"}],\"scatter3d\":[{\"line\":{\"colorbar\":{\"outlinewidth\":0,\"ticks\":\"\"}},\"marker\":{\"colorbar\":{\"outlinewidth\":0,\"ticks\":\"\"}},\"type\":\"scatter3d\"}],\"scattercarpet\":[{\"marker\":{\"colorbar\":{\"outlinewidth\":0,\"ticks\":\"\"}},\"type\":\"scattercarpet\"}],\"scattergeo\":[{\"marker\":{\"colorbar\":{\"outlinewidth\":0,\"ticks\":\"\"}},\"type\":\"scattergeo\"}],\"scattergl\":[{\"marker\":{\"colorbar\":{\"outlinewidth\":0,\"ticks\":\"\"}},\"type\":\"scattergl\"}],\"scattermapbox\":[{\"marker\":{\"colorbar\":{\"outlinewidth\":0,\"ticks\":\"\"}},\"type\":\"scattermapbox\"}],\"scatterpolar\":[{\"marker\":{\"colorbar\":{\"outlinewidth\":0,\"ticks\":\"\"}},\"type\":\"scatterpolar\"}],\"scatterpolargl\":[{\"marker\":{\"colorbar\":{\"outlinewidth\":0,\"ticks\":\"\"}},\"type\":\"scatterpolargl\"}],\"scatterternary\":[{\"marker\":{\"colorbar\":{\"outlinewidth\":0,\"ticks\":\"\"}},\"type\":\"scatterternary\"}],\"surface\":[{\"colorbar\":{\"outlinewidth\":0,\"ticks\":\"\"},\"colorscale\":[[0.0,\"#0d0887\"],[0.1111111111111111,\"#46039f\"],[0.2222222222222222,\"#7201a8\"],[0.3333333333333333,\"#9c179e\"],[0.4444444444444444,\"#bd3786\"],[0.5555555555555556,\"#d8576b\"],[0.6666666666666666,\"#ed7953\"],[0.7777777777777778,\"#fb9f3a\"],[0.8888888888888888,\"#fdca26\"],[1.0,\"#f0f921\"]],\"type\":\"surface\"}],\"table\":[{\"cells\":{\"fill\":{\"color\":\"#EBF0F8\"},\"line\":{\"color\":\"white\"}},\"header\":{\"fill\":{\"color\":\"#C8D4E3\"},\"line\":{\"color\":\"white\"}},\"type\":\"table\"}]},\"layout\":{\"annotationdefaults\":{\"arrowcolor\":\"#2a3f5f\",\"arrowhead\":0,\"arrowwidth\":1},\"autotypenumbers\":\"strict\",\"coloraxis\":{\"colorbar\":{\"outlinewidth\":0,\"ticks\":\"\"}},\"colorscale\":{\"diverging\":[[0,\"#8e0152\"],[0.1,\"#c51b7d\"],[0.2,\"#de77ae\"],[0.3,\"#f1b6da\"],[0.4,\"#fde0ef\"],[0.5,\"#f7f7f7\"],[0.6,\"#e6f5d0\"],[0.7,\"#b8e186\"],[0.8,\"#7fbc41\"],[0.9,\"#4d9221\"],[1,\"#276419\"]],\"sequential\":[[0.0,\"#0d0887\"],[0.1111111111111111,\"#46039f\"],[0.2222222222222222,\"#7201a8\"],[0.3333333333333333,\"#9c179e\"],[0.4444444444444444,\"#bd3786\"],[0.5555555555555556,\"#d8576b\"],[0.6666666666666666,\"#ed7953\"],[0.7777777777777778,\"#fb9f3a\"],[0.8888888888888888,\"#fdca26\"],[1.0,\"#f0f921\"]],\"sequentialminus\":[[0.0,\"#0d0887\"],[0.1111111111111111,\"#46039f\"],[0.2222222222222222,\"#7201a8\"],[0.3333333333333333,\"#9c179e\"],[0.4444444444444444,\"#bd3786\"],[0.5555555555555556,\"#d8576b\"],[0.6666666666666666,\"#ed7953\"],[0.7777777777777778,\"#fb9f3a\"],[0.8888888888888888,\"#fdca26\"],[1.0,\"#f0f921\"]]},\"colorway\":[\"#636efa\",\"#EF553B\",\"#00cc96\",\"#ab63fa\",\"#FFA15A\",\"#19d3f3\",\"#FF6692\",\"#B6E880\",\"#FF97FF\",\"#FECB52\"],\"font\":{\"color\":\"#2a3f5f\"},\"geo\":{\"bgcolor\":\"white\",\"lakecolor\":\"white\",\"landcolor\":\"#E5ECF6\",\"showlakes\":true,\"showland\":true,\"subunitcolor\":\"white\"},\"hoverlabel\":{\"align\":\"left\"},\"hovermode\":\"closest\",\"mapbox\":{\"style\":\"light\"},\"paper_bgcolor\":\"white\",\"plot_bgcolor\":\"#E5ECF6\",\"polar\":{\"angularaxis\":{\"gridcolor\":\"white\",\"linecolor\":\"white\",\"ticks\":\"\"},\"bgcolor\":\"#E5ECF6\",\"radialaxis\":{\"gridcolor\":\"white\",\"linecolor\":\"white\",\"ticks\":\"\"}},\"scene\":{\"xaxis\":{\"backgroundcolor\":\"#E5ECF6\",\"gridcolor\":\"white\",\"gridwidth\":2,\"linecolor\":\"white\",\"showbackground\":true,\"ticks\":\"\",\"zerolinecolor\":\"white\"},\"yaxis\":{\"backgroundcolor\":\"#E5ECF6\",\"gridcolor\":\"white\",\"gridwidth\":2,\"linecolor\":\"white\",\"showbackground\":true,\"ticks\":\"\",\"zerolinecolor\":\"white\"},\"zaxis\":{\"backgroundcolor\":\"#E5ECF6\",\"gridcolor\":\"white\",\"gridwidth\":2,\"linecolor\":\"white\",\"showbackground\":true,\"ticks\":\"\",\"zerolinecolor\":\"white\"}},\"shapedefaults\":{\"line\":{\"color\":\"#2a3f5f\"}},\"ternary\":{\"aaxis\":{\"gridcolor\":\"white\",\"linecolor\":\"white\",\"ticks\":\"\"},\"baxis\":{\"gridcolor\":\"white\",\"linecolor\":\"white\",\"ticks\":\"\"},\"bgcolor\":\"#E5ECF6\",\"caxis\":{\"gridcolor\":\"white\",\"linecolor\":\"white\",\"ticks\":\"\"}},\"title\":{\"x\":0.05},\"xaxis\":{\"automargin\":true,\"gridcolor\":\"white\",\"linecolor\":\"white\",\"ticks\":\"\",\"title\":{\"standoff\":15},\"zerolinecolor\":\"white\",\"zerolinewidth\":2},\"yaxis\":{\"automargin\":true,\"gridcolor\":\"white\",\"linecolor\":\"white\",\"ticks\":\"\",\"title\":{\"standoff\":15},\"zerolinecolor\":\"white\",\"zerolinewidth\":2}}},\"xaxis\":{\"anchor\":\"y\",\"domain\":[0.0,1.0],\"title\":{\"text\":\"FECHA\"}},\"yaxis\":{\"anchor\":\"x\",\"domain\":[0.0,1.0],\"title\":{\"text\":\"PERCEPCION_INSEGURIDAD\"}},\"legend\":{\"title\":{\"text\":\"MUNICIPIO\"},\"tracegroupgap\":0},\"title\":{\"text\":\"Tendencia de percepci\\u00f3n de inseguridad\"},\"width\":500,\"height\":400},                        {\"responsive\": true}                    ).then(function(){\n",
       "                            \n",
       "var gd = document.getElementById('c96649df-cdd3-4431-91ae-4966f6cce2ab');\n",
       "var x = new MutationObserver(function (mutations, observer) {{\n",
       "        var display = window.getComputedStyle(gd).display;\n",
       "        if (!display || display === 'none') {{\n",
       "            console.log([gd, 'removed!']);\n",
       "            Plotly.purge(gd);\n",
       "            observer.disconnect();\n",
       "        }}\n",
       "}});\n",
       "\n",
       "// Listen for the removal of the full notebook cells\n",
       "var notebookContainer = gd.closest('#notebook-container');\n",
       "if (notebookContainer) {{\n",
       "    x.observe(notebookContainer, {childList: true});\n",
       "}}\n",
       "\n",
       "// Listen for the clearing of the current output cell\n",
       "var outputEl = gd.closest('.output');\n",
       "if (outputEl) {{\n",
       "    x.observe(outputEl, {childList: true});\n",
       "}}\n",
       "\n",
       "                        })                };                });            </script>        </div>"
      ]
     },
     "metadata": {},
     "output_type": "display_data"
    }
   ],
   "source": [
    "fig = px.line(df_sonora, x=\"FECHA\", y=\"PERCEPCION_INSEGURIDAD\", color=\"MUNICIPIO\",\n",
    "              title='Tendencia de percepción de inseguridad')\n",
    "fig.update_layout(width=500, height=400)\n",
    "fig.show()"
   ]
  },
  {
   "cell_type": "code",
   "execution_count": 55,
   "id": "546b3b06",
   "metadata": {},
   "outputs": [
    {
     "data": {
      "application/vnd.plotly.v1+json": {
       "config": {
        "plotlyServerURL": "https://plot.ly"
       },
       "data": [
        {
         "hovertemplate": "MUNICIPIO=Cajeme<br>FECHA=%{x}<br>TOTAL_DELITOS=%{y}<extra></extra>",
         "legendgroup": "Cajeme",
         "line": {
          "color": "#636efa",
          "dash": "solid"
         },
         "marker": {
          "symbol": "circle"
         },
         "mode": "lines",
         "name": "Cajeme",
         "orientation": "v",
         "showlegend": true,
         "type": "scatter",
         "x": [
          "2022-01-01T00:00:00",
          "2022-04-01T00:00:00",
          "2022-07-01T00:00:00"
         ],
         "xaxis": "x",
         "y": [
          47.3753363532193,
          53.90986550538749,
          18.670083291909087
         ],
         "yaxis": "y"
        },
        {
         "hovertemplate": "MUNICIPIO=Hermosillo<br>FECHA=%{x}<br>TOTAL_DELITOS=%{y}<extra></extra>",
         "legendgroup": "Hermosillo",
         "line": {
          "color": "#EF553B",
          "dash": "solid"
         },
         "marker": {
          "symbol": "circle"
         },
         "mode": "lines",
         "name": "Hermosillo",
         "orientation": "v",
         "showlegend": true,
         "type": "scatter",
         "x": [
          "2022-01-01T00:00:00",
          "2022-04-01T00:00:00",
          "2022-07-01T00:00:00"
         ],
         "xaxis": "x",
         "y": [
          47.88370303736091,
          50.90549012224292,
          18.363167669667533
         ],
         "yaxis": "y"
        },
        {
         "hovertemplate": "MUNICIPIO=Nogales<br>FECHA=%{x}<br>TOTAL_DELITOS=%{y}<extra></extra>",
         "legendgroup": "Nogales",
         "line": {
          "color": "#00cc96",
          "dash": "solid"
         },
         "marker": {
          "symbol": "circle"
         },
         "mode": "lines",
         "name": "Nogales",
         "orientation": "v",
         "showlegend": true,
         "type": "scatter",
         "x": [
          "2022-01-01T00:00:00",
          "2022-04-01T00:00:00",
          "2022-07-01T00:00:00"
         ],
         "xaxis": "x",
         "y": [
          65.00523768316364,
          81.56708167887412,
          16.561843995710483
         ],
         "yaxis": "y"
        }
       ],
       "layout": {
        "height": 400,
        "legend": {
         "title": {
          "text": "MUNICIPIO"
         },
         "tracegroupgap": 0
        },
        "template": {
         "data": {
          "bar": [
           {
            "error_x": {
             "color": "#2a3f5f"
            },
            "error_y": {
             "color": "#2a3f5f"
            },
            "marker": {
             "line": {
              "color": "#E5ECF6",
              "width": 0.5
             },
             "pattern": {
              "fillmode": "overlay",
              "size": 10,
              "solidity": 0.2
             }
            },
            "type": "bar"
           }
          ],
          "barpolar": [
           {
            "marker": {
             "line": {
              "color": "#E5ECF6",
              "width": 0.5
             },
             "pattern": {
              "fillmode": "overlay",
              "size": 10,
              "solidity": 0.2
             }
            },
            "type": "barpolar"
           }
          ],
          "carpet": [
           {
            "aaxis": {
             "endlinecolor": "#2a3f5f",
             "gridcolor": "white",
             "linecolor": "white",
             "minorgridcolor": "white",
             "startlinecolor": "#2a3f5f"
            },
            "baxis": {
             "endlinecolor": "#2a3f5f",
             "gridcolor": "white",
             "linecolor": "white",
             "minorgridcolor": "white",
             "startlinecolor": "#2a3f5f"
            },
            "type": "carpet"
           }
          ],
          "choropleth": [
           {
            "colorbar": {
             "outlinewidth": 0,
             "ticks": ""
            },
            "type": "choropleth"
           }
          ],
          "contour": [
           {
            "colorbar": {
             "outlinewidth": 0,
             "ticks": ""
            },
            "colorscale": [
             [
              0,
              "#0d0887"
             ],
             [
              0.1111111111111111,
              "#46039f"
             ],
             [
              0.2222222222222222,
              "#7201a8"
             ],
             [
              0.3333333333333333,
              "#9c179e"
             ],
             [
              0.4444444444444444,
              "#bd3786"
             ],
             [
              0.5555555555555556,
              "#d8576b"
             ],
             [
              0.6666666666666666,
              "#ed7953"
             ],
             [
              0.7777777777777778,
              "#fb9f3a"
             ],
             [
              0.8888888888888888,
              "#fdca26"
             ],
             [
              1,
              "#f0f921"
             ]
            ],
            "type": "contour"
           }
          ],
          "contourcarpet": [
           {
            "colorbar": {
             "outlinewidth": 0,
             "ticks": ""
            },
            "type": "contourcarpet"
           }
          ],
          "heatmap": [
           {
            "colorbar": {
             "outlinewidth": 0,
             "ticks": ""
            },
            "colorscale": [
             [
              0,
              "#0d0887"
             ],
             [
              0.1111111111111111,
              "#46039f"
             ],
             [
              0.2222222222222222,
              "#7201a8"
             ],
             [
              0.3333333333333333,
              "#9c179e"
             ],
             [
              0.4444444444444444,
              "#bd3786"
             ],
             [
              0.5555555555555556,
              "#d8576b"
             ],
             [
              0.6666666666666666,
              "#ed7953"
             ],
             [
              0.7777777777777778,
              "#fb9f3a"
             ],
             [
              0.8888888888888888,
              "#fdca26"
             ],
             [
              1,
              "#f0f921"
             ]
            ],
            "type": "heatmap"
           }
          ],
          "heatmapgl": [
           {
            "colorbar": {
             "outlinewidth": 0,
             "ticks": ""
            },
            "colorscale": [
             [
              0,
              "#0d0887"
             ],
             [
              0.1111111111111111,
              "#46039f"
             ],
             [
              0.2222222222222222,
              "#7201a8"
             ],
             [
              0.3333333333333333,
              "#9c179e"
             ],
             [
              0.4444444444444444,
              "#bd3786"
             ],
             [
              0.5555555555555556,
              "#d8576b"
             ],
             [
              0.6666666666666666,
              "#ed7953"
             ],
             [
              0.7777777777777778,
              "#fb9f3a"
             ],
             [
              0.8888888888888888,
              "#fdca26"
             ],
             [
              1,
              "#f0f921"
             ]
            ],
            "type": "heatmapgl"
           }
          ],
          "histogram": [
           {
            "marker": {
             "pattern": {
              "fillmode": "overlay",
              "size": 10,
              "solidity": 0.2
             }
            },
            "type": "histogram"
           }
          ],
          "histogram2d": [
           {
            "colorbar": {
             "outlinewidth": 0,
             "ticks": ""
            },
            "colorscale": [
             [
              0,
              "#0d0887"
             ],
             [
              0.1111111111111111,
              "#46039f"
             ],
             [
              0.2222222222222222,
              "#7201a8"
             ],
             [
              0.3333333333333333,
              "#9c179e"
             ],
             [
              0.4444444444444444,
              "#bd3786"
             ],
             [
              0.5555555555555556,
              "#d8576b"
             ],
             [
              0.6666666666666666,
              "#ed7953"
             ],
             [
              0.7777777777777778,
              "#fb9f3a"
             ],
             [
              0.8888888888888888,
              "#fdca26"
             ],
             [
              1,
              "#f0f921"
             ]
            ],
            "type": "histogram2d"
           }
          ],
          "histogram2dcontour": [
           {
            "colorbar": {
             "outlinewidth": 0,
             "ticks": ""
            },
            "colorscale": [
             [
              0,
              "#0d0887"
             ],
             [
              0.1111111111111111,
              "#46039f"
             ],
             [
              0.2222222222222222,
              "#7201a8"
             ],
             [
              0.3333333333333333,
              "#9c179e"
             ],
             [
              0.4444444444444444,
              "#bd3786"
             ],
             [
              0.5555555555555556,
              "#d8576b"
             ],
             [
              0.6666666666666666,
              "#ed7953"
             ],
             [
              0.7777777777777778,
              "#fb9f3a"
             ],
             [
              0.8888888888888888,
              "#fdca26"
             ],
             [
              1,
              "#f0f921"
             ]
            ],
            "type": "histogram2dcontour"
           }
          ],
          "mesh3d": [
           {
            "colorbar": {
             "outlinewidth": 0,
             "ticks": ""
            },
            "type": "mesh3d"
           }
          ],
          "parcoords": [
           {
            "line": {
             "colorbar": {
              "outlinewidth": 0,
              "ticks": ""
             }
            },
            "type": "parcoords"
           }
          ],
          "pie": [
           {
            "automargin": true,
            "type": "pie"
           }
          ],
          "scatter": [
           {
            "marker": {
             "colorbar": {
              "outlinewidth": 0,
              "ticks": ""
             }
            },
            "type": "scatter"
           }
          ],
          "scatter3d": [
           {
            "line": {
             "colorbar": {
              "outlinewidth": 0,
              "ticks": ""
             }
            },
            "marker": {
             "colorbar": {
              "outlinewidth": 0,
              "ticks": ""
             }
            },
            "type": "scatter3d"
           }
          ],
          "scattercarpet": [
           {
            "marker": {
             "colorbar": {
              "outlinewidth": 0,
              "ticks": ""
             }
            },
            "type": "scattercarpet"
           }
          ],
          "scattergeo": [
           {
            "marker": {
             "colorbar": {
              "outlinewidth": 0,
              "ticks": ""
             }
            },
            "type": "scattergeo"
           }
          ],
          "scattergl": [
           {
            "marker": {
             "colorbar": {
              "outlinewidth": 0,
              "ticks": ""
             }
            },
            "type": "scattergl"
           }
          ],
          "scattermapbox": [
           {
            "marker": {
             "colorbar": {
              "outlinewidth": 0,
              "ticks": ""
             }
            },
            "type": "scattermapbox"
           }
          ],
          "scatterpolar": [
           {
            "marker": {
             "colorbar": {
              "outlinewidth": 0,
              "ticks": ""
             }
            },
            "type": "scatterpolar"
           }
          ],
          "scatterpolargl": [
           {
            "marker": {
             "colorbar": {
              "outlinewidth": 0,
              "ticks": ""
             }
            },
            "type": "scatterpolargl"
           }
          ],
          "scatterternary": [
           {
            "marker": {
             "colorbar": {
              "outlinewidth": 0,
              "ticks": ""
             }
            },
            "type": "scatterternary"
           }
          ],
          "surface": [
           {
            "colorbar": {
             "outlinewidth": 0,
             "ticks": ""
            },
            "colorscale": [
             [
              0,
              "#0d0887"
             ],
             [
              0.1111111111111111,
              "#46039f"
             ],
             [
              0.2222222222222222,
              "#7201a8"
             ],
             [
              0.3333333333333333,
              "#9c179e"
             ],
             [
              0.4444444444444444,
              "#bd3786"
             ],
             [
              0.5555555555555556,
              "#d8576b"
             ],
             [
              0.6666666666666666,
              "#ed7953"
             ],
             [
              0.7777777777777778,
              "#fb9f3a"
             ],
             [
              0.8888888888888888,
              "#fdca26"
             ],
             [
              1,
              "#f0f921"
             ]
            ],
            "type": "surface"
           }
          ],
          "table": [
           {
            "cells": {
             "fill": {
              "color": "#EBF0F8"
             },
             "line": {
              "color": "white"
             }
            },
            "header": {
             "fill": {
              "color": "#C8D4E3"
             },
             "line": {
              "color": "white"
             }
            },
            "type": "table"
           }
          ]
         },
         "layout": {
          "annotationdefaults": {
           "arrowcolor": "#2a3f5f",
           "arrowhead": 0,
           "arrowwidth": 1
          },
          "autotypenumbers": "strict",
          "coloraxis": {
           "colorbar": {
            "outlinewidth": 0,
            "ticks": ""
           }
          },
          "colorscale": {
           "diverging": [
            [
             0,
             "#8e0152"
            ],
            [
             0.1,
             "#c51b7d"
            ],
            [
             0.2,
             "#de77ae"
            ],
            [
             0.3,
             "#f1b6da"
            ],
            [
             0.4,
             "#fde0ef"
            ],
            [
             0.5,
             "#f7f7f7"
            ],
            [
             0.6,
             "#e6f5d0"
            ],
            [
             0.7,
             "#b8e186"
            ],
            [
             0.8,
             "#7fbc41"
            ],
            [
             0.9,
             "#4d9221"
            ],
            [
             1,
             "#276419"
            ]
           ],
           "sequential": [
            [
             0,
             "#0d0887"
            ],
            [
             0.1111111111111111,
             "#46039f"
            ],
            [
             0.2222222222222222,
             "#7201a8"
            ],
            [
             0.3333333333333333,
             "#9c179e"
            ],
            [
             0.4444444444444444,
             "#bd3786"
            ],
            [
             0.5555555555555556,
             "#d8576b"
            ],
            [
             0.6666666666666666,
             "#ed7953"
            ],
            [
             0.7777777777777778,
             "#fb9f3a"
            ],
            [
             0.8888888888888888,
             "#fdca26"
            ],
            [
             1,
             "#f0f921"
            ]
           ],
           "sequentialminus": [
            [
             0,
             "#0d0887"
            ],
            [
             0.1111111111111111,
             "#46039f"
            ],
            [
             0.2222222222222222,
             "#7201a8"
            ],
            [
             0.3333333333333333,
             "#9c179e"
            ],
            [
             0.4444444444444444,
             "#bd3786"
            ],
            [
             0.5555555555555556,
             "#d8576b"
            ],
            [
             0.6666666666666666,
             "#ed7953"
            ],
            [
             0.7777777777777778,
             "#fb9f3a"
            ],
            [
             0.8888888888888888,
             "#fdca26"
            ],
            [
             1,
             "#f0f921"
            ]
           ]
          },
          "colorway": [
           "#636efa",
           "#EF553B",
           "#00cc96",
           "#ab63fa",
           "#FFA15A",
           "#19d3f3",
           "#FF6692",
           "#B6E880",
           "#FF97FF",
           "#FECB52"
          ],
          "font": {
           "color": "#2a3f5f"
          },
          "geo": {
           "bgcolor": "white",
           "lakecolor": "white",
           "landcolor": "#E5ECF6",
           "showlakes": true,
           "showland": true,
           "subunitcolor": "white"
          },
          "hoverlabel": {
           "align": "left"
          },
          "hovermode": "closest",
          "mapbox": {
           "style": "light"
          },
          "paper_bgcolor": "white",
          "plot_bgcolor": "#E5ECF6",
          "polar": {
           "angularaxis": {
            "gridcolor": "white",
            "linecolor": "white",
            "ticks": ""
           },
           "bgcolor": "#E5ECF6",
           "radialaxis": {
            "gridcolor": "white",
            "linecolor": "white",
            "ticks": ""
           }
          },
          "scene": {
           "xaxis": {
            "backgroundcolor": "#E5ECF6",
            "gridcolor": "white",
            "gridwidth": 2,
            "linecolor": "white",
            "showbackground": true,
            "ticks": "",
            "zerolinecolor": "white"
           },
           "yaxis": {
            "backgroundcolor": "#E5ECF6",
            "gridcolor": "white",
            "gridwidth": 2,
            "linecolor": "white",
            "showbackground": true,
            "ticks": "",
            "zerolinecolor": "white"
           },
           "zaxis": {
            "backgroundcolor": "#E5ECF6",
            "gridcolor": "white",
            "gridwidth": 2,
            "linecolor": "white",
            "showbackground": true,
            "ticks": "",
            "zerolinecolor": "white"
           }
          },
          "shapedefaults": {
           "line": {
            "color": "#2a3f5f"
           }
          },
          "ternary": {
           "aaxis": {
            "gridcolor": "white",
            "linecolor": "white",
            "ticks": ""
           },
           "baxis": {
            "gridcolor": "white",
            "linecolor": "white",
            "ticks": ""
           },
           "bgcolor": "#E5ECF6",
           "caxis": {
            "gridcolor": "white",
            "linecolor": "white",
            "ticks": ""
           }
          },
          "title": {
           "x": 0.05
          },
          "xaxis": {
           "automargin": true,
           "gridcolor": "white",
           "linecolor": "white",
           "ticks": "",
           "title": {
            "standoff": 15
           },
           "zerolinecolor": "white",
           "zerolinewidth": 2
          },
          "yaxis": {
           "automargin": true,
           "gridcolor": "white",
           "linecolor": "white",
           "ticks": "",
           "title": {
            "standoff": 15
           },
           "zerolinecolor": "white",
           "zerolinewidth": 2
          }
         }
        },
        "title": {
         "text": "Tendencia de delitos"
        },
        "width": 500,
        "xaxis": {
         "anchor": "y",
         "domain": [
          0,
          1
         ],
         "title": {
          "text": "FECHA"
         }
        },
        "yaxis": {
         "anchor": "x",
         "domain": [
          0,
          1
         ],
         "title": {
          "text": "TOTAL_DELITOS"
         }
        }
       }
      },
      "text/html": [
       "<div>                            <div id=\"a0bd426c-da6e-4317-a95e-3dca27f475b4\" class=\"plotly-graph-div\" style=\"height:400px; width:500px;\"></div>            <script type=\"text/javascript\">                require([\"plotly\"], function(Plotly) {                    window.PLOTLYENV=window.PLOTLYENV || {};                                    if (document.getElementById(\"a0bd426c-da6e-4317-a95e-3dca27f475b4\")) {                    Plotly.newPlot(                        \"a0bd426c-da6e-4317-a95e-3dca27f475b4\",                        [{\"hovertemplate\":\"MUNICIPIO=Cajeme<br>FECHA=%{x}<br>TOTAL_DELITOS=%{y}<extra></extra>\",\"legendgroup\":\"Cajeme\",\"line\":{\"color\":\"#636efa\",\"dash\":\"solid\"},\"marker\":{\"symbol\":\"circle\"},\"mode\":\"lines\",\"name\":\"Cajeme\",\"orientation\":\"v\",\"showlegend\":true,\"x\":[\"2022-01-01T00:00:00\",\"2022-04-01T00:00:00\",\"2022-07-01T00:00:00\"],\"xaxis\":\"x\",\"y\":[47.3753363532193,53.90986550538749,18.670083291909087],\"yaxis\":\"y\",\"type\":\"scatter\"},{\"hovertemplate\":\"MUNICIPIO=Hermosillo<br>FECHA=%{x}<br>TOTAL_DELITOS=%{y}<extra></extra>\",\"legendgroup\":\"Hermosillo\",\"line\":{\"color\":\"#EF553B\",\"dash\":\"solid\"},\"marker\":{\"symbol\":\"circle\"},\"mode\":\"lines\",\"name\":\"Hermosillo\",\"orientation\":\"v\",\"showlegend\":true,\"x\":[\"2022-01-01T00:00:00\",\"2022-04-01T00:00:00\",\"2022-07-01T00:00:00\"],\"xaxis\":\"x\",\"y\":[47.88370303736091,50.90549012224292,18.363167669667533],\"yaxis\":\"y\",\"type\":\"scatter\"},{\"hovertemplate\":\"MUNICIPIO=Nogales<br>FECHA=%{x}<br>TOTAL_DELITOS=%{y}<extra></extra>\",\"legendgroup\":\"Nogales\",\"line\":{\"color\":\"#00cc96\",\"dash\":\"solid\"},\"marker\":{\"symbol\":\"circle\"},\"mode\":\"lines\",\"name\":\"Nogales\",\"orientation\":\"v\",\"showlegend\":true,\"x\":[\"2022-01-01T00:00:00\",\"2022-04-01T00:00:00\",\"2022-07-01T00:00:00\"],\"xaxis\":\"x\",\"y\":[65.00523768316364,81.56708167887412,16.561843995710483],\"yaxis\":\"y\",\"type\":\"scatter\"}],                        {\"template\":{\"data\":{\"bar\":[{\"error_x\":{\"color\":\"#2a3f5f\"},\"error_y\":{\"color\":\"#2a3f5f\"},\"marker\":{\"line\":{\"color\":\"#E5ECF6\",\"width\":0.5},\"pattern\":{\"fillmode\":\"overlay\",\"size\":10,\"solidity\":0.2}},\"type\":\"bar\"}],\"barpolar\":[{\"marker\":{\"line\":{\"color\":\"#E5ECF6\",\"width\":0.5},\"pattern\":{\"fillmode\":\"overlay\",\"size\":10,\"solidity\":0.2}},\"type\":\"barpolar\"}],\"carpet\":[{\"aaxis\":{\"endlinecolor\":\"#2a3f5f\",\"gridcolor\":\"white\",\"linecolor\":\"white\",\"minorgridcolor\":\"white\",\"startlinecolor\":\"#2a3f5f\"},\"baxis\":{\"endlinecolor\":\"#2a3f5f\",\"gridcolor\":\"white\",\"linecolor\":\"white\",\"minorgridcolor\":\"white\",\"startlinecolor\":\"#2a3f5f\"},\"type\":\"carpet\"}],\"choropleth\":[{\"colorbar\":{\"outlinewidth\":0,\"ticks\":\"\"},\"type\":\"choropleth\"}],\"contour\":[{\"colorbar\":{\"outlinewidth\":0,\"ticks\":\"\"},\"colorscale\":[[0.0,\"#0d0887\"],[0.1111111111111111,\"#46039f\"],[0.2222222222222222,\"#7201a8\"],[0.3333333333333333,\"#9c179e\"],[0.4444444444444444,\"#bd3786\"],[0.5555555555555556,\"#d8576b\"],[0.6666666666666666,\"#ed7953\"],[0.7777777777777778,\"#fb9f3a\"],[0.8888888888888888,\"#fdca26\"],[1.0,\"#f0f921\"]],\"type\":\"contour\"}],\"contourcarpet\":[{\"colorbar\":{\"outlinewidth\":0,\"ticks\":\"\"},\"type\":\"contourcarpet\"}],\"heatmap\":[{\"colorbar\":{\"outlinewidth\":0,\"ticks\":\"\"},\"colorscale\":[[0.0,\"#0d0887\"],[0.1111111111111111,\"#46039f\"],[0.2222222222222222,\"#7201a8\"],[0.3333333333333333,\"#9c179e\"],[0.4444444444444444,\"#bd3786\"],[0.5555555555555556,\"#d8576b\"],[0.6666666666666666,\"#ed7953\"],[0.7777777777777778,\"#fb9f3a\"],[0.8888888888888888,\"#fdca26\"],[1.0,\"#f0f921\"]],\"type\":\"heatmap\"}],\"heatmapgl\":[{\"colorbar\":{\"outlinewidth\":0,\"ticks\":\"\"},\"colorscale\":[[0.0,\"#0d0887\"],[0.1111111111111111,\"#46039f\"],[0.2222222222222222,\"#7201a8\"],[0.3333333333333333,\"#9c179e\"],[0.4444444444444444,\"#bd3786\"],[0.5555555555555556,\"#d8576b\"],[0.6666666666666666,\"#ed7953\"],[0.7777777777777778,\"#fb9f3a\"],[0.8888888888888888,\"#fdca26\"],[1.0,\"#f0f921\"]],\"type\":\"heatmapgl\"}],\"histogram\":[{\"marker\":{\"pattern\":{\"fillmode\":\"overlay\",\"size\":10,\"solidity\":0.2}},\"type\":\"histogram\"}],\"histogram2d\":[{\"colorbar\":{\"outlinewidth\":0,\"ticks\":\"\"},\"colorscale\":[[0.0,\"#0d0887\"],[0.1111111111111111,\"#46039f\"],[0.2222222222222222,\"#7201a8\"],[0.3333333333333333,\"#9c179e\"],[0.4444444444444444,\"#bd3786\"],[0.5555555555555556,\"#d8576b\"],[0.6666666666666666,\"#ed7953\"],[0.7777777777777778,\"#fb9f3a\"],[0.8888888888888888,\"#fdca26\"],[1.0,\"#f0f921\"]],\"type\":\"histogram2d\"}],\"histogram2dcontour\":[{\"colorbar\":{\"outlinewidth\":0,\"ticks\":\"\"},\"colorscale\":[[0.0,\"#0d0887\"],[0.1111111111111111,\"#46039f\"],[0.2222222222222222,\"#7201a8\"],[0.3333333333333333,\"#9c179e\"],[0.4444444444444444,\"#bd3786\"],[0.5555555555555556,\"#d8576b\"],[0.6666666666666666,\"#ed7953\"],[0.7777777777777778,\"#fb9f3a\"],[0.8888888888888888,\"#fdca26\"],[1.0,\"#f0f921\"]],\"type\":\"histogram2dcontour\"}],\"mesh3d\":[{\"colorbar\":{\"outlinewidth\":0,\"ticks\":\"\"},\"type\":\"mesh3d\"}],\"parcoords\":[{\"line\":{\"colorbar\":{\"outlinewidth\":0,\"ticks\":\"\"}},\"type\":\"parcoords\"}],\"pie\":[{\"automargin\":true,\"type\":\"pie\"}],\"scatter\":[{\"marker\":{\"colorbar\":{\"outlinewidth\":0,\"ticks\":\"\"}},\"type\":\"scatter\"}],\"scatter3d\":[{\"line\":{\"colorbar\":{\"outlinewidth\":0,\"ticks\":\"\"}},\"marker\":{\"colorbar\":{\"outlinewidth\":0,\"ticks\":\"\"}},\"type\":\"scatter3d\"}],\"scattercarpet\":[{\"marker\":{\"colorbar\":{\"outlinewidth\":0,\"ticks\":\"\"}},\"type\":\"scattercarpet\"}],\"scattergeo\":[{\"marker\":{\"colorbar\":{\"outlinewidth\":0,\"ticks\":\"\"}},\"type\":\"scattergeo\"}],\"scattergl\":[{\"marker\":{\"colorbar\":{\"outlinewidth\":0,\"ticks\":\"\"}},\"type\":\"scattergl\"}],\"scattermapbox\":[{\"marker\":{\"colorbar\":{\"outlinewidth\":0,\"ticks\":\"\"}},\"type\":\"scattermapbox\"}],\"scatterpolar\":[{\"marker\":{\"colorbar\":{\"outlinewidth\":0,\"ticks\":\"\"}},\"type\":\"scatterpolar\"}],\"scatterpolargl\":[{\"marker\":{\"colorbar\":{\"outlinewidth\":0,\"ticks\":\"\"}},\"type\":\"scatterpolargl\"}],\"scatterternary\":[{\"marker\":{\"colorbar\":{\"outlinewidth\":0,\"ticks\":\"\"}},\"type\":\"scatterternary\"}],\"surface\":[{\"colorbar\":{\"outlinewidth\":0,\"ticks\":\"\"},\"colorscale\":[[0.0,\"#0d0887\"],[0.1111111111111111,\"#46039f\"],[0.2222222222222222,\"#7201a8\"],[0.3333333333333333,\"#9c179e\"],[0.4444444444444444,\"#bd3786\"],[0.5555555555555556,\"#d8576b\"],[0.6666666666666666,\"#ed7953\"],[0.7777777777777778,\"#fb9f3a\"],[0.8888888888888888,\"#fdca26\"],[1.0,\"#f0f921\"]],\"type\":\"surface\"}],\"table\":[{\"cells\":{\"fill\":{\"color\":\"#EBF0F8\"},\"line\":{\"color\":\"white\"}},\"header\":{\"fill\":{\"color\":\"#C8D4E3\"},\"line\":{\"color\":\"white\"}},\"type\":\"table\"}]},\"layout\":{\"annotationdefaults\":{\"arrowcolor\":\"#2a3f5f\",\"arrowhead\":0,\"arrowwidth\":1},\"autotypenumbers\":\"strict\",\"coloraxis\":{\"colorbar\":{\"outlinewidth\":0,\"ticks\":\"\"}},\"colorscale\":{\"diverging\":[[0,\"#8e0152\"],[0.1,\"#c51b7d\"],[0.2,\"#de77ae\"],[0.3,\"#f1b6da\"],[0.4,\"#fde0ef\"],[0.5,\"#f7f7f7\"],[0.6,\"#e6f5d0\"],[0.7,\"#b8e186\"],[0.8,\"#7fbc41\"],[0.9,\"#4d9221\"],[1,\"#276419\"]],\"sequential\":[[0.0,\"#0d0887\"],[0.1111111111111111,\"#46039f\"],[0.2222222222222222,\"#7201a8\"],[0.3333333333333333,\"#9c179e\"],[0.4444444444444444,\"#bd3786\"],[0.5555555555555556,\"#d8576b\"],[0.6666666666666666,\"#ed7953\"],[0.7777777777777778,\"#fb9f3a\"],[0.8888888888888888,\"#fdca26\"],[1.0,\"#f0f921\"]],\"sequentialminus\":[[0.0,\"#0d0887\"],[0.1111111111111111,\"#46039f\"],[0.2222222222222222,\"#7201a8\"],[0.3333333333333333,\"#9c179e\"],[0.4444444444444444,\"#bd3786\"],[0.5555555555555556,\"#d8576b\"],[0.6666666666666666,\"#ed7953\"],[0.7777777777777778,\"#fb9f3a\"],[0.8888888888888888,\"#fdca26\"],[1.0,\"#f0f921\"]]},\"colorway\":[\"#636efa\",\"#EF553B\",\"#00cc96\",\"#ab63fa\",\"#FFA15A\",\"#19d3f3\",\"#FF6692\",\"#B6E880\",\"#FF97FF\",\"#FECB52\"],\"font\":{\"color\":\"#2a3f5f\"},\"geo\":{\"bgcolor\":\"white\",\"lakecolor\":\"white\",\"landcolor\":\"#E5ECF6\",\"showlakes\":true,\"showland\":true,\"subunitcolor\":\"white\"},\"hoverlabel\":{\"align\":\"left\"},\"hovermode\":\"closest\",\"mapbox\":{\"style\":\"light\"},\"paper_bgcolor\":\"white\",\"plot_bgcolor\":\"#E5ECF6\",\"polar\":{\"angularaxis\":{\"gridcolor\":\"white\",\"linecolor\":\"white\",\"ticks\":\"\"},\"bgcolor\":\"#E5ECF6\",\"radialaxis\":{\"gridcolor\":\"white\",\"linecolor\":\"white\",\"ticks\":\"\"}},\"scene\":{\"xaxis\":{\"backgroundcolor\":\"#E5ECF6\",\"gridcolor\":\"white\",\"gridwidth\":2,\"linecolor\":\"white\",\"showbackground\":true,\"ticks\":\"\",\"zerolinecolor\":\"white\"},\"yaxis\":{\"backgroundcolor\":\"#E5ECF6\",\"gridcolor\":\"white\",\"gridwidth\":2,\"linecolor\":\"white\",\"showbackground\":true,\"ticks\":\"\",\"zerolinecolor\":\"white\"},\"zaxis\":{\"backgroundcolor\":\"#E5ECF6\",\"gridcolor\":\"white\",\"gridwidth\":2,\"linecolor\":\"white\",\"showbackground\":true,\"ticks\":\"\",\"zerolinecolor\":\"white\"}},\"shapedefaults\":{\"line\":{\"color\":\"#2a3f5f\"}},\"ternary\":{\"aaxis\":{\"gridcolor\":\"white\",\"linecolor\":\"white\",\"ticks\":\"\"},\"baxis\":{\"gridcolor\":\"white\",\"linecolor\":\"white\",\"ticks\":\"\"},\"bgcolor\":\"#E5ECF6\",\"caxis\":{\"gridcolor\":\"white\",\"linecolor\":\"white\",\"ticks\":\"\"}},\"title\":{\"x\":0.05},\"xaxis\":{\"automargin\":true,\"gridcolor\":\"white\",\"linecolor\":\"white\",\"ticks\":\"\",\"title\":{\"standoff\":15},\"zerolinecolor\":\"white\",\"zerolinewidth\":2},\"yaxis\":{\"automargin\":true,\"gridcolor\":\"white\",\"linecolor\":\"white\",\"ticks\":\"\",\"title\":{\"standoff\":15},\"zerolinecolor\":\"white\",\"zerolinewidth\":2}}},\"xaxis\":{\"anchor\":\"y\",\"domain\":[0.0,1.0],\"title\":{\"text\":\"FECHA\"}},\"yaxis\":{\"anchor\":\"x\",\"domain\":[0.0,1.0],\"title\":{\"text\":\"TOTAL_DELITOS\"}},\"legend\":{\"title\":{\"text\":\"MUNICIPIO\"},\"tracegroupgap\":0},\"title\":{\"text\":\"Tendencia de delitos\"},\"width\":500,\"height\":400},                        {\"responsive\": true}                    ).then(function(){\n",
       "                            \n",
       "var gd = document.getElementById('a0bd426c-da6e-4317-a95e-3dca27f475b4');\n",
       "var x = new MutationObserver(function (mutations, observer) {{\n",
       "        var display = window.getComputedStyle(gd).display;\n",
       "        if (!display || display === 'none') {{\n",
       "            console.log([gd, 'removed!']);\n",
       "            Plotly.purge(gd);\n",
       "            observer.disconnect();\n",
       "        }}\n",
       "}});\n",
       "\n",
       "// Listen for the removal of the full notebook cells\n",
       "var notebookContainer = gd.closest('#notebook-container');\n",
       "if (notebookContainer) {{\n",
       "    x.observe(notebookContainer, {childList: true});\n",
       "}}\n",
       "\n",
       "// Listen for the clearing of the current output cell\n",
       "var outputEl = gd.closest('.output');\n",
       "if (outputEl) {{\n",
       "    x.observe(outputEl, {childList: true});\n",
       "}}\n",
       "\n",
       "                        })                };                });            </script>        </div>"
      ]
     },
     "metadata": {},
     "output_type": "display_data"
    }
   ],
   "source": [
    "fig = px.line(df_sonora, x=\"FECHA\", y=\"TOTAL_DELITOS\", color=\"MUNICIPIO\",\n",
    "              title='Tendencia de delitos')\n",
    "fig.update_layout(width=500, height=400)\n",
    "fig.show()"
   ]
  },
  {
   "cell_type": "code",
   "execution_count": 56,
   "id": "ecf0f8d3",
   "metadata": {},
   "outputs": [
    {
     "data": {
      "application/vnd.plotly.v1+json": {
       "config": {
        "plotlyServerURL": "https://plot.ly"
       },
       "data": [
        {
         "hovertemplate": "MUNICIPIO=Cajeme<br>PERCEPCION_INSEGURIDAD=%{x}<br>TOTAL_DELITOS=%{y}<extra></extra>",
         "legendgroup": "Cajeme",
         "marker": {
          "color": "#636efa",
          "symbol": "circle"
         },
         "mode": "markers",
         "name": "Cajeme",
         "orientation": "v",
         "showlegend": true,
         "type": "scatter",
         "x": [
          94776.11940298507,
          93023.25581395348,
          94573.64341085272
         ],
         "xaxis": "x",
         "y": [
          47.3753363532193,
          53.90986550538749,
          18.670083291909087
         ],
         "yaxis": "y"
        },
        {
         "hovertemplate": "MUNICIPIO=Hermosillo<br>PERCEPCION_INSEGURIDAD=%{x}<br>TOTAL_DELITOS=%{y}<extra></extra>",
         "legendgroup": "Hermosillo",
         "marker": {
          "color": "#EF553B",
          "symbol": "circle"
         },
         "mode": "markers",
         "name": "Hermosillo",
         "orientation": "v",
         "showlegend": true,
         "type": "scatter",
         "x": [
          64705.88235294118,
          64666.666666666664,
          68750
         ],
         "xaxis": "x",
         "y": [
          47.88370303736091,
          50.90549012224292,
          18.363167669667533
         ],
         "yaxis": "y"
        },
        {
         "hovertemplate": "MUNICIPIO=Nogales<br>PERCEPCION_INSEGURIDAD=%{x}<br>TOTAL_DELITOS=%{y}<extra></extra>",
         "legendgroup": "Nogales",
         "marker": {
          "color": "#00cc96",
          "symbol": "circle"
         },
         "mode": "markers",
         "name": "Nogales",
         "orientation": "v",
         "showlegend": true,
         "type": "scatter",
         "x": [
          57364.34108527132,
          66141.73228346457,
          54961.83206106871
         ],
         "xaxis": "x",
         "y": [
          65.00523768316364,
          81.56708167887412,
          16.561843995710483
         ],
         "yaxis": "y"
        }
       ],
       "layout": {
        "height": 400,
        "legend": {
         "title": {
          "text": "MUNICIPIO"
         },
         "tracegroupgap": 0
        },
        "template": {
         "data": {
          "bar": [
           {
            "error_x": {
             "color": "#2a3f5f"
            },
            "error_y": {
             "color": "#2a3f5f"
            },
            "marker": {
             "line": {
              "color": "#E5ECF6",
              "width": 0.5
             },
             "pattern": {
              "fillmode": "overlay",
              "size": 10,
              "solidity": 0.2
             }
            },
            "type": "bar"
           }
          ],
          "barpolar": [
           {
            "marker": {
             "line": {
              "color": "#E5ECF6",
              "width": 0.5
             },
             "pattern": {
              "fillmode": "overlay",
              "size": 10,
              "solidity": 0.2
             }
            },
            "type": "barpolar"
           }
          ],
          "carpet": [
           {
            "aaxis": {
             "endlinecolor": "#2a3f5f",
             "gridcolor": "white",
             "linecolor": "white",
             "minorgridcolor": "white",
             "startlinecolor": "#2a3f5f"
            },
            "baxis": {
             "endlinecolor": "#2a3f5f",
             "gridcolor": "white",
             "linecolor": "white",
             "minorgridcolor": "white",
             "startlinecolor": "#2a3f5f"
            },
            "type": "carpet"
           }
          ],
          "choropleth": [
           {
            "colorbar": {
             "outlinewidth": 0,
             "ticks": ""
            },
            "type": "choropleth"
           }
          ],
          "contour": [
           {
            "colorbar": {
             "outlinewidth": 0,
             "ticks": ""
            },
            "colorscale": [
             [
              0,
              "#0d0887"
             ],
             [
              0.1111111111111111,
              "#46039f"
             ],
             [
              0.2222222222222222,
              "#7201a8"
             ],
             [
              0.3333333333333333,
              "#9c179e"
             ],
             [
              0.4444444444444444,
              "#bd3786"
             ],
             [
              0.5555555555555556,
              "#d8576b"
             ],
             [
              0.6666666666666666,
              "#ed7953"
             ],
             [
              0.7777777777777778,
              "#fb9f3a"
             ],
             [
              0.8888888888888888,
              "#fdca26"
             ],
             [
              1,
              "#f0f921"
             ]
            ],
            "type": "contour"
           }
          ],
          "contourcarpet": [
           {
            "colorbar": {
             "outlinewidth": 0,
             "ticks": ""
            },
            "type": "contourcarpet"
           }
          ],
          "heatmap": [
           {
            "colorbar": {
             "outlinewidth": 0,
             "ticks": ""
            },
            "colorscale": [
             [
              0,
              "#0d0887"
             ],
             [
              0.1111111111111111,
              "#46039f"
             ],
             [
              0.2222222222222222,
              "#7201a8"
             ],
             [
              0.3333333333333333,
              "#9c179e"
             ],
             [
              0.4444444444444444,
              "#bd3786"
             ],
             [
              0.5555555555555556,
              "#d8576b"
             ],
             [
              0.6666666666666666,
              "#ed7953"
             ],
             [
              0.7777777777777778,
              "#fb9f3a"
             ],
             [
              0.8888888888888888,
              "#fdca26"
             ],
             [
              1,
              "#f0f921"
             ]
            ],
            "type": "heatmap"
           }
          ],
          "heatmapgl": [
           {
            "colorbar": {
             "outlinewidth": 0,
             "ticks": ""
            },
            "colorscale": [
             [
              0,
              "#0d0887"
             ],
             [
              0.1111111111111111,
              "#46039f"
             ],
             [
              0.2222222222222222,
              "#7201a8"
             ],
             [
              0.3333333333333333,
              "#9c179e"
             ],
             [
              0.4444444444444444,
              "#bd3786"
             ],
             [
              0.5555555555555556,
              "#d8576b"
             ],
             [
              0.6666666666666666,
              "#ed7953"
             ],
             [
              0.7777777777777778,
              "#fb9f3a"
             ],
             [
              0.8888888888888888,
              "#fdca26"
             ],
             [
              1,
              "#f0f921"
             ]
            ],
            "type": "heatmapgl"
           }
          ],
          "histogram": [
           {
            "marker": {
             "pattern": {
              "fillmode": "overlay",
              "size": 10,
              "solidity": 0.2
             }
            },
            "type": "histogram"
           }
          ],
          "histogram2d": [
           {
            "colorbar": {
             "outlinewidth": 0,
             "ticks": ""
            },
            "colorscale": [
             [
              0,
              "#0d0887"
             ],
             [
              0.1111111111111111,
              "#46039f"
             ],
             [
              0.2222222222222222,
              "#7201a8"
             ],
             [
              0.3333333333333333,
              "#9c179e"
             ],
             [
              0.4444444444444444,
              "#bd3786"
             ],
             [
              0.5555555555555556,
              "#d8576b"
             ],
             [
              0.6666666666666666,
              "#ed7953"
             ],
             [
              0.7777777777777778,
              "#fb9f3a"
             ],
             [
              0.8888888888888888,
              "#fdca26"
             ],
             [
              1,
              "#f0f921"
             ]
            ],
            "type": "histogram2d"
           }
          ],
          "histogram2dcontour": [
           {
            "colorbar": {
             "outlinewidth": 0,
             "ticks": ""
            },
            "colorscale": [
             [
              0,
              "#0d0887"
             ],
             [
              0.1111111111111111,
              "#46039f"
             ],
             [
              0.2222222222222222,
              "#7201a8"
             ],
             [
              0.3333333333333333,
              "#9c179e"
             ],
             [
              0.4444444444444444,
              "#bd3786"
             ],
             [
              0.5555555555555556,
              "#d8576b"
             ],
             [
              0.6666666666666666,
              "#ed7953"
             ],
             [
              0.7777777777777778,
              "#fb9f3a"
             ],
             [
              0.8888888888888888,
              "#fdca26"
             ],
             [
              1,
              "#f0f921"
             ]
            ],
            "type": "histogram2dcontour"
           }
          ],
          "mesh3d": [
           {
            "colorbar": {
             "outlinewidth": 0,
             "ticks": ""
            },
            "type": "mesh3d"
           }
          ],
          "parcoords": [
           {
            "line": {
             "colorbar": {
              "outlinewidth": 0,
              "ticks": ""
             }
            },
            "type": "parcoords"
           }
          ],
          "pie": [
           {
            "automargin": true,
            "type": "pie"
           }
          ],
          "scatter": [
           {
            "marker": {
             "colorbar": {
              "outlinewidth": 0,
              "ticks": ""
             }
            },
            "type": "scatter"
           }
          ],
          "scatter3d": [
           {
            "line": {
             "colorbar": {
              "outlinewidth": 0,
              "ticks": ""
             }
            },
            "marker": {
             "colorbar": {
              "outlinewidth": 0,
              "ticks": ""
             }
            },
            "type": "scatter3d"
           }
          ],
          "scattercarpet": [
           {
            "marker": {
             "colorbar": {
              "outlinewidth": 0,
              "ticks": ""
             }
            },
            "type": "scattercarpet"
           }
          ],
          "scattergeo": [
           {
            "marker": {
             "colorbar": {
              "outlinewidth": 0,
              "ticks": ""
             }
            },
            "type": "scattergeo"
           }
          ],
          "scattergl": [
           {
            "marker": {
             "colorbar": {
              "outlinewidth": 0,
              "ticks": ""
             }
            },
            "type": "scattergl"
           }
          ],
          "scattermapbox": [
           {
            "marker": {
             "colorbar": {
              "outlinewidth": 0,
              "ticks": ""
             }
            },
            "type": "scattermapbox"
           }
          ],
          "scatterpolar": [
           {
            "marker": {
             "colorbar": {
              "outlinewidth": 0,
              "ticks": ""
             }
            },
            "type": "scatterpolar"
           }
          ],
          "scatterpolargl": [
           {
            "marker": {
             "colorbar": {
              "outlinewidth": 0,
              "ticks": ""
             }
            },
            "type": "scatterpolargl"
           }
          ],
          "scatterternary": [
           {
            "marker": {
             "colorbar": {
              "outlinewidth": 0,
              "ticks": ""
             }
            },
            "type": "scatterternary"
           }
          ],
          "surface": [
           {
            "colorbar": {
             "outlinewidth": 0,
             "ticks": ""
            },
            "colorscale": [
             [
              0,
              "#0d0887"
             ],
             [
              0.1111111111111111,
              "#46039f"
             ],
             [
              0.2222222222222222,
              "#7201a8"
             ],
             [
              0.3333333333333333,
              "#9c179e"
             ],
             [
              0.4444444444444444,
              "#bd3786"
             ],
             [
              0.5555555555555556,
              "#d8576b"
             ],
             [
              0.6666666666666666,
              "#ed7953"
             ],
             [
              0.7777777777777778,
              "#fb9f3a"
             ],
             [
              0.8888888888888888,
              "#fdca26"
             ],
             [
              1,
              "#f0f921"
             ]
            ],
            "type": "surface"
           }
          ],
          "table": [
           {
            "cells": {
             "fill": {
              "color": "#EBF0F8"
             },
             "line": {
              "color": "white"
             }
            },
            "header": {
             "fill": {
              "color": "#C8D4E3"
             },
             "line": {
              "color": "white"
             }
            },
            "type": "table"
           }
          ]
         },
         "layout": {
          "annotationdefaults": {
           "arrowcolor": "#2a3f5f",
           "arrowhead": 0,
           "arrowwidth": 1
          },
          "autotypenumbers": "strict",
          "coloraxis": {
           "colorbar": {
            "outlinewidth": 0,
            "ticks": ""
           }
          },
          "colorscale": {
           "diverging": [
            [
             0,
             "#8e0152"
            ],
            [
             0.1,
             "#c51b7d"
            ],
            [
             0.2,
             "#de77ae"
            ],
            [
             0.3,
             "#f1b6da"
            ],
            [
             0.4,
             "#fde0ef"
            ],
            [
             0.5,
             "#f7f7f7"
            ],
            [
             0.6,
             "#e6f5d0"
            ],
            [
             0.7,
             "#b8e186"
            ],
            [
             0.8,
             "#7fbc41"
            ],
            [
             0.9,
             "#4d9221"
            ],
            [
             1,
             "#276419"
            ]
           ],
           "sequential": [
            [
             0,
             "#0d0887"
            ],
            [
             0.1111111111111111,
             "#46039f"
            ],
            [
             0.2222222222222222,
             "#7201a8"
            ],
            [
             0.3333333333333333,
             "#9c179e"
            ],
            [
             0.4444444444444444,
             "#bd3786"
            ],
            [
             0.5555555555555556,
             "#d8576b"
            ],
            [
             0.6666666666666666,
             "#ed7953"
            ],
            [
             0.7777777777777778,
             "#fb9f3a"
            ],
            [
             0.8888888888888888,
             "#fdca26"
            ],
            [
             1,
             "#f0f921"
            ]
           ],
           "sequentialminus": [
            [
             0,
             "#0d0887"
            ],
            [
             0.1111111111111111,
             "#46039f"
            ],
            [
             0.2222222222222222,
             "#7201a8"
            ],
            [
             0.3333333333333333,
             "#9c179e"
            ],
            [
             0.4444444444444444,
             "#bd3786"
            ],
            [
             0.5555555555555556,
             "#d8576b"
            ],
            [
             0.6666666666666666,
             "#ed7953"
            ],
            [
             0.7777777777777778,
             "#fb9f3a"
            ],
            [
             0.8888888888888888,
             "#fdca26"
            ],
            [
             1,
             "#f0f921"
            ]
           ]
          },
          "colorway": [
           "#636efa",
           "#EF553B",
           "#00cc96",
           "#ab63fa",
           "#FFA15A",
           "#19d3f3",
           "#FF6692",
           "#B6E880",
           "#FF97FF",
           "#FECB52"
          ],
          "font": {
           "color": "#2a3f5f"
          },
          "geo": {
           "bgcolor": "white",
           "lakecolor": "white",
           "landcolor": "#E5ECF6",
           "showlakes": true,
           "showland": true,
           "subunitcolor": "white"
          },
          "hoverlabel": {
           "align": "left"
          },
          "hovermode": "closest",
          "mapbox": {
           "style": "light"
          },
          "paper_bgcolor": "white",
          "plot_bgcolor": "#E5ECF6",
          "polar": {
           "angularaxis": {
            "gridcolor": "white",
            "linecolor": "white",
            "ticks": ""
           },
           "bgcolor": "#E5ECF6",
           "radialaxis": {
            "gridcolor": "white",
            "linecolor": "white",
            "ticks": ""
           }
          },
          "scene": {
           "xaxis": {
            "backgroundcolor": "#E5ECF6",
            "gridcolor": "white",
            "gridwidth": 2,
            "linecolor": "white",
            "showbackground": true,
            "ticks": "",
            "zerolinecolor": "white"
           },
           "yaxis": {
            "backgroundcolor": "#E5ECF6",
            "gridcolor": "white",
            "gridwidth": 2,
            "linecolor": "white",
            "showbackground": true,
            "ticks": "",
            "zerolinecolor": "white"
           },
           "zaxis": {
            "backgroundcolor": "#E5ECF6",
            "gridcolor": "white",
            "gridwidth": 2,
            "linecolor": "white",
            "showbackground": true,
            "ticks": "",
            "zerolinecolor": "white"
           }
          },
          "shapedefaults": {
           "line": {
            "color": "#2a3f5f"
           }
          },
          "ternary": {
           "aaxis": {
            "gridcolor": "white",
            "linecolor": "white",
            "ticks": ""
           },
           "baxis": {
            "gridcolor": "white",
            "linecolor": "white",
            "ticks": ""
           },
           "bgcolor": "#E5ECF6",
           "caxis": {
            "gridcolor": "white",
            "linecolor": "white",
            "ticks": ""
           }
          },
          "title": {
           "x": 0.05
          },
          "xaxis": {
           "automargin": true,
           "gridcolor": "white",
           "linecolor": "white",
           "ticks": "",
           "title": {
            "standoff": 15
           },
           "zerolinecolor": "white",
           "zerolinewidth": 2
          },
          "yaxis": {
           "automargin": true,
           "gridcolor": "white",
           "linecolor": "white",
           "ticks": "",
           "title": {
            "standoff": 15
           },
           "zerolinecolor": "white",
           "zerolinewidth": 2
          }
         }
        },
        "title": {
         "text": "Percepción de inseguridad vs cantidad de delitos"
        },
        "width": 500,
        "xaxis": {
         "anchor": "y",
         "domain": [
          0,
          1
         ],
         "title": {
          "text": "PERCEPCION_INSEGURIDAD"
         }
        },
        "yaxis": {
         "anchor": "x",
         "domain": [
          0,
          1
         ],
         "title": {
          "text": "TOTAL_DELITOS"
         }
        }
       }
      },
      "text/html": [
       "<div>                            <div id=\"9c0d793d-2e46-4895-b2bf-ae1d425e30db\" class=\"plotly-graph-div\" style=\"height:400px; width:500px;\"></div>            <script type=\"text/javascript\">                require([\"plotly\"], function(Plotly) {                    window.PLOTLYENV=window.PLOTLYENV || {};                                    if (document.getElementById(\"9c0d793d-2e46-4895-b2bf-ae1d425e30db\")) {                    Plotly.newPlot(                        \"9c0d793d-2e46-4895-b2bf-ae1d425e30db\",                        [{\"hovertemplate\":\"MUNICIPIO=Cajeme<br>PERCEPCION_INSEGURIDAD=%{x}<br>TOTAL_DELITOS=%{y}<extra></extra>\",\"legendgroup\":\"Cajeme\",\"marker\":{\"color\":\"#636efa\",\"symbol\":\"circle\"},\"mode\":\"markers\",\"name\":\"Cajeme\",\"orientation\":\"v\",\"showlegend\":true,\"x\":[94776.11940298507,93023.25581395348,94573.64341085272],\"xaxis\":\"x\",\"y\":[47.3753363532193,53.90986550538749,18.670083291909087],\"yaxis\":\"y\",\"type\":\"scatter\"},{\"hovertemplate\":\"MUNICIPIO=Hermosillo<br>PERCEPCION_INSEGURIDAD=%{x}<br>TOTAL_DELITOS=%{y}<extra></extra>\",\"legendgroup\":\"Hermosillo\",\"marker\":{\"color\":\"#EF553B\",\"symbol\":\"circle\"},\"mode\":\"markers\",\"name\":\"Hermosillo\",\"orientation\":\"v\",\"showlegend\":true,\"x\":[64705.88235294118,64666.666666666664,68750.0],\"xaxis\":\"x\",\"y\":[47.88370303736091,50.90549012224292,18.363167669667533],\"yaxis\":\"y\",\"type\":\"scatter\"},{\"hovertemplate\":\"MUNICIPIO=Nogales<br>PERCEPCION_INSEGURIDAD=%{x}<br>TOTAL_DELITOS=%{y}<extra></extra>\",\"legendgroup\":\"Nogales\",\"marker\":{\"color\":\"#00cc96\",\"symbol\":\"circle\"},\"mode\":\"markers\",\"name\":\"Nogales\",\"orientation\":\"v\",\"showlegend\":true,\"x\":[57364.34108527132,66141.73228346457,54961.83206106871],\"xaxis\":\"x\",\"y\":[65.00523768316364,81.56708167887412,16.561843995710483],\"yaxis\":\"y\",\"type\":\"scatter\"}],                        {\"template\":{\"data\":{\"bar\":[{\"error_x\":{\"color\":\"#2a3f5f\"},\"error_y\":{\"color\":\"#2a3f5f\"},\"marker\":{\"line\":{\"color\":\"#E5ECF6\",\"width\":0.5},\"pattern\":{\"fillmode\":\"overlay\",\"size\":10,\"solidity\":0.2}},\"type\":\"bar\"}],\"barpolar\":[{\"marker\":{\"line\":{\"color\":\"#E5ECF6\",\"width\":0.5},\"pattern\":{\"fillmode\":\"overlay\",\"size\":10,\"solidity\":0.2}},\"type\":\"barpolar\"}],\"carpet\":[{\"aaxis\":{\"endlinecolor\":\"#2a3f5f\",\"gridcolor\":\"white\",\"linecolor\":\"white\",\"minorgridcolor\":\"white\",\"startlinecolor\":\"#2a3f5f\"},\"baxis\":{\"endlinecolor\":\"#2a3f5f\",\"gridcolor\":\"white\",\"linecolor\":\"white\",\"minorgridcolor\":\"white\",\"startlinecolor\":\"#2a3f5f\"},\"type\":\"carpet\"}],\"choropleth\":[{\"colorbar\":{\"outlinewidth\":0,\"ticks\":\"\"},\"type\":\"choropleth\"}],\"contour\":[{\"colorbar\":{\"outlinewidth\":0,\"ticks\":\"\"},\"colorscale\":[[0.0,\"#0d0887\"],[0.1111111111111111,\"#46039f\"],[0.2222222222222222,\"#7201a8\"],[0.3333333333333333,\"#9c179e\"],[0.4444444444444444,\"#bd3786\"],[0.5555555555555556,\"#d8576b\"],[0.6666666666666666,\"#ed7953\"],[0.7777777777777778,\"#fb9f3a\"],[0.8888888888888888,\"#fdca26\"],[1.0,\"#f0f921\"]],\"type\":\"contour\"}],\"contourcarpet\":[{\"colorbar\":{\"outlinewidth\":0,\"ticks\":\"\"},\"type\":\"contourcarpet\"}],\"heatmap\":[{\"colorbar\":{\"outlinewidth\":0,\"ticks\":\"\"},\"colorscale\":[[0.0,\"#0d0887\"],[0.1111111111111111,\"#46039f\"],[0.2222222222222222,\"#7201a8\"],[0.3333333333333333,\"#9c179e\"],[0.4444444444444444,\"#bd3786\"],[0.5555555555555556,\"#d8576b\"],[0.6666666666666666,\"#ed7953\"],[0.7777777777777778,\"#fb9f3a\"],[0.8888888888888888,\"#fdca26\"],[1.0,\"#f0f921\"]],\"type\":\"heatmap\"}],\"heatmapgl\":[{\"colorbar\":{\"outlinewidth\":0,\"ticks\":\"\"},\"colorscale\":[[0.0,\"#0d0887\"],[0.1111111111111111,\"#46039f\"],[0.2222222222222222,\"#7201a8\"],[0.3333333333333333,\"#9c179e\"],[0.4444444444444444,\"#bd3786\"],[0.5555555555555556,\"#d8576b\"],[0.6666666666666666,\"#ed7953\"],[0.7777777777777778,\"#fb9f3a\"],[0.8888888888888888,\"#fdca26\"],[1.0,\"#f0f921\"]],\"type\":\"heatmapgl\"}],\"histogram\":[{\"marker\":{\"pattern\":{\"fillmode\":\"overlay\",\"size\":10,\"solidity\":0.2}},\"type\":\"histogram\"}],\"histogram2d\":[{\"colorbar\":{\"outlinewidth\":0,\"ticks\":\"\"},\"colorscale\":[[0.0,\"#0d0887\"],[0.1111111111111111,\"#46039f\"],[0.2222222222222222,\"#7201a8\"],[0.3333333333333333,\"#9c179e\"],[0.4444444444444444,\"#bd3786\"],[0.5555555555555556,\"#d8576b\"],[0.6666666666666666,\"#ed7953\"],[0.7777777777777778,\"#fb9f3a\"],[0.8888888888888888,\"#fdca26\"],[1.0,\"#f0f921\"]],\"type\":\"histogram2d\"}],\"histogram2dcontour\":[{\"colorbar\":{\"outlinewidth\":0,\"ticks\":\"\"},\"colorscale\":[[0.0,\"#0d0887\"],[0.1111111111111111,\"#46039f\"],[0.2222222222222222,\"#7201a8\"],[0.3333333333333333,\"#9c179e\"],[0.4444444444444444,\"#bd3786\"],[0.5555555555555556,\"#d8576b\"],[0.6666666666666666,\"#ed7953\"],[0.7777777777777778,\"#fb9f3a\"],[0.8888888888888888,\"#fdca26\"],[1.0,\"#f0f921\"]],\"type\":\"histogram2dcontour\"}],\"mesh3d\":[{\"colorbar\":{\"outlinewidth\":0,\"ticks\":\"\"},\"type\":\"mesh3d\"}],\"parcoords\":[{\"line\":{\"colorbar\":{\"outlinewidth\":0,\"ticks\":\"\"}},\"type\":\"parcoords\"}],\"pie\":[{\"automargin\":true,\"type\":\"pie\"}],\"scatter\":[{\"marker\":{\"colorbar\":{\"outlinewidth\":0,\"ticks\":\"\"}},\"type\":\"scatter\"}],\"scatter3d\":[{\"line\":{\"colorbar\":{\"outlinewidth\":0,\"ticks\":\"\"}},\"marker\":{\"colorbar\":{\"outlinewidth\":0,\"ticks\":\"\"}},\"type\":\"scatter3d\"}],\"scattercarpet\":[{\"marker\":{\"colorbar\":{\"outlinewidth\":0,\"ticks\":\"\"}},\"type\":\"scattercarpet\"}],\"scattergeo\":[{\"marker\":{\"colorbar\":{\"outlinewidth\":0,\"ticks\":\"\"}},\"type\":\"scattergeo\"}],\"scattergl\":[{\"marker\":{\"colorbar\":{\"outlinewidth\":0,\"ticks\":\"\"}},\"type\":\"scattergl\"}],\"scattermapbox\":[{\"marker\":{\"colorbar\":{\"outlinewidth\":0,\"ticks\":\"\"}},\"type\":\"scattermapbox\"}],\"scatterpolar\":[{\"marker\":{\"colorbar\":{\"outlinewidth\":0,\"ticks\":\"\"}},\"type\":\"scatterpolar\"}],\"scatterpolargl\":[{\"marker\":{\"colorbar\":{\"outlinewidth\":0,\"ticks\":\"\"}},\"type\":\"scatterpolargl\"}],\"scatterternary\":[{\"marker\":{\"colorbar\":{\"outlinewidth\":0,\"ticks\":\"\"}},\"type\":\"scatterternary\"}],\"surface\":[{\"colorbar\":{\"outlinewidth\":0,\"ticks\":\"\"},\"colorscale\":[[0.0,\"#0d0887\"],[0.1111111111111111,\"#46039f\"],[0.2222222222222222,\"#7201a8\"],[0.3333333333333333,\"#9c179e\"],[0.4444444444444444,\"#bd3786\"],[0.5555555555555556,\"#d8576b\"],[0.6666666666666666,\"#ed7953\"],[0.7777777777777778,\"#fb9f3a\"],[0.8888888888888888,\"#fdca26\"],[1.0,\"#f0f921\"]],\"type\":\"surface\"}],\"table\":[{\"cells\":{\"fill\":{\"color\":\"#EBF0F8\"},\"line\":{\"color\":\"white\"}},\"header\":{\"fill\":{\"color\":\"#C8D4E3\"},\"line\":{\"color\":\"white\"}},\"type\":\"table\"}]},\"layout\":{\"annotationdefaults\":{\"arrowcolor\":\"#2a3f5f\",\"arrowhead\":0,\"arrowwidth\":1},\"autotypenumbers\":\"strict\",\"coloraxis\":{\"colorbar\":{\"outlinewidth\":0,\"ticks\":\"\"}},\"colorscale\":{\"diverging\":[[0,\"#8e0152\"],[0.1,\"#c51b7d\"],[0.2,\"#de77ae\"],[0.3,\"#f1b6da\"],[0.4,\"#fde0ef\"],[0.5,\"#f7f7f7\"],[0.6,\"#e6f5d0\"],[0.7,\"#b8e186\"],[0.8,\"#7fbc41\"],[0.9,\"#4d9221\"],[1,\"#276419\"]],\"sequential\":[[0.0,\"#0d0887\"],[0.1111111111111111,\"#46039f\"],[0.2222222222222222,\"#7201a8\"],[0.3333333333333333,\"#9c179e\"],[0.4444444444444444,\"#bd3786\"],[0.5555555555555556,\"#d8576b\"],[0.6666666666666666,\"#ed7953\"],[0.7777777777777778,\"#fb9f3a\"],[0.8888888888888888,\"#fdca26\"],[1.0,\"#f0f921\"]],\"sequentialminus\":[[0.0,\"#0d0887\"],[0.1111111111111111,\"#46039f\"],[0.2222222222222222,\"#7201a8\"],[0.3333333333333333,\"#9c179e\"],[0.4444444444444444,\"#bd3786\"],[0.5555555555555556,\"#d8576b\"],[0.6666666666666666,\"#ed7953\"],[0.7777777777777778,\"#fb9f3a\"],[0.8888888888888888,\"#fdca26\"],[1.0,\"#f0f921\"]]},\"colorway\":[\"#636efa\",\"#EF553B\",\"#00cc96\",\"#ab63fa\",\"#FFA15A\",\"#19d3f3\",\"#FF6692\",\"#B6E880\",\"#FF97FF\",\"#FECB52\"],\"font\":{\"color\":\"#2a3f5f\"},\"geo\":{\"bgcolor\":\"white\",\"lakecolor\":\"white\",\"landcolor\":\"#E5ECF6\",\"showlakes\":true,\"showland\":true,\"subunitcolor\":\"white\"},\"hoverlabel\":{\"align\":\"left\"},\"hovermode\":\"closest\",\"mapbox\":{\"style\":\"light\"},\"paper_bgcolor\":\"white\",\"plot_bgcolor\":\"#E5ECF6\",\"polar\":{\"angularaxis\":{\"gridcolor\":\"white\",\"linecolor\":\"white\",\"ticks\":\"\"},\"bgcolor\":\"#E5ECF6\",\"radialaxis\":{\"gridcolor\":\"white\",\"linecolor\":\"white\",\"ticks\":\"\"}},\"scene\":{\"xaxis\":{\"backgroundcolor\":\"#E5ECF6\",\"gridcolor\":\"white\",\"gridwidth\":2,\"linecolor\":\"white\",\"showbackground\":true,\"ticks\":\"\",\"zerolinecolor\":\"white\"},\"yaxis\":{\"backgroundcolor\":\"#E5ECF6\",\"gridcolor\":\"white\",\"gridwidth\":2,\"linecolor\":\"white\",\"showbackground\":true,\"ticks\":\"\",\"zerolinecolor\":\"white\"},\"zaxis\":{\"backgroundcolor\":\"#E5ECF6\",\"gridcolor\":\"white\",\"gridwidth\":2,\"linecolor\":\"white\",\"showbackground\":true,\"ticks\":\"\",\"zerolinecolor\":\"white\"}},\"shapedefaults\":{\"line\":{\"color\":\"#2a3f5f\"}},\"ternary\":{\"aaxis\":{\"gridcolor\":\"white\",\"linecolor\":\"white\",\"ticks\":\"\"},\"baxis\":{\"gridcolor\":\"white\",\"linecolor\":\"white\",\"ticks\":\"\"},\"bgcolor\":\"#E5ECF6\",\"caxis\":{\"gridcolor\":\"white\",\"linecolor\":\"white\",\"ticks\":\"\"}},\"title\":{\"x\":0.05},\"xaxis\":{\"automargin\":true,\"gridcolor\":\"white\",\"linecolor\":\"white\",\"ticks\":\"\",\"title\":{\"standoff\":15},\"zerolinecolor\":\"white\",\"zerolinewidth\":2},\"yaxis\":{\"automargin\":true,\"gridcolor\":\"white\",\"linecolor\":\"white\",\"ticks\":\"\",\"title\":{\"standoff\":15},\"zerolinecolor\":\"white\",\"zerolinewidth\":2}}},\"xaxis\":{\"anchor\":\"y\",\"domain\":[0.0,1.0],\"title\":{\"text\":\"PERCEPCION_INSEGURIDAD\"}},\"yaxis\":{\"anchor\":\"x\",\"domain\":[0.0,1.0],\"title\":{\"text\":\"TOTAL_DELITOS\"}},\"legend\":{\"title\":{\"text\":\"MUNICIPIO\"},\"tracegroupgap\":0},\"title\":{\"text\":\"Percepci\\u00f3n de inseguridad vs cantidad de delitos\"},\"width\":500,\"height\":400},                        {\"responsive\": true}                    ).then(function(){\n",
       "                            \n",
       "var gd = document.getElementById('9c0d793d-2e46-4895-b2bf-ae1d425e30db');\n",
       "var x = new MutationObserver(function (mutations, observer) {{\n",
       "        var display = window.getComputedStyle(gd).display;\n",
       "        if (!display || display === 'none') {{\n",
       "            console.log([gd, 'removed!']);\n",
       "            Plotly.purge(gd);\n",
       "            observer.disconnect();\n",
       "        }}\n",
       "}});\n",
       "\n",
       "// Listen for the removal of the full notebook cells\n",
       "var notebookContainer = gd.closest('#notebook-container');\n",
       "if (notebookContainer) {{\n",
       "    x.observe(notebookContainer, {childList: true});\n",
       "}}\n",
       "\n",
       "// Listen for the clearing of the current output cell\n",
       "var outputEl = gd.closest('.output');\n",
       "if (outputEl) {{\n",
       "    x.observe(outputEl, {childList: true});\n",
       "}}\n",
       "\n",
       "                        })                };                });            </script>        </div>"
      ]
     },
     "metadata": {},
     "output_type": "display_data"
    }
   ],
   "source": [
    "fig = px.scatter(df_sonora, x=\"PERCEPCION_INSEGURIDAD\", y=\"TOTAL_DELITOS\", color=\"MUNICIPIO\",\n",
    "                title='Percepción de inseguridad vs cantidad de delitos')\n",
    "fig.update_layout(width=500,\n",
    "                  height=400\n",
    ")\n",
    "fig.show()"
   ]
  },
  {
   "cell_type": "markdown",
   "id": "11b19039",
   "metadata": {},
   "source": [
    "## La historia que quiero contar"
   ]
  },
  {
   "cell_type": "markdown",
   "id": "4febc645",
   "metadata": {},
   "source": [
    "Según los resultados del análisis exploratorio de datos, se puede plasmar en el tablero la no relación entre las variables de percepción de inseguridad de las mujeres y los delitos de violencia de género, a través de los trimestres del año y por estados.\n",
    "\n",
    "Nuestro objetivo es que disminuya la percepción de violencia, pues a pesar de que disminuyen los delitos esta aumenta, por tanto se puede definir como KPI:\n",
    "\n",
    "**1.** \"Percepción de inseguridad en el trimestre anterior vs Percepcion de inseguridad\"\n",
    "\n",
    "Aunque también es nuestro objetivo que disminuyan los delitos a traves de los trimestres, y que la seguridad se beneficie.\n",
    "\n",
    "**2.** \"Cantidad de delitos en el trimestre anterior vs Cantidad de delitos\""
   ]
  },
  {
   "cell_type": "markdown",
   "id": "b3679ab9",
   "metadata": {},
   "source": [
    "### Tablero"
   ]
  },
  {
   "cell_type": "code",
   "execution_count": 58,
   "id": "15b0528f",
   "metadata": {},
   "outputs": [
    {
     "data": {
      "image/png": "[encoded data removed]",
      "text/plain": [
       "<PIL.JpegImagePlugin.JpegImageFile image mode=RGB size=658x457 at 0x298BBE2D130>"
      ]
     },
     "metadata": {},
     "output_type": "display_data"
    }
   ],
   "source": [
    "import IPython.display as display\n",
    "from PIL import Image\n",
    "display.display(Image.open('tablero.jpg'))\n"
   ]
  },
  {
   "cell_type": "code",
   "execution_count": null,
   "id": "1ba4abea",
   "metadata": {},
   "outputs": [],
   "source": []
  }
 ],
 "metadata": {
  "kernelspec": {
   "display_name": "Python 3 (ipykernel)",
   "language": "python",
   "name": "python3"
  },
  "language_info": {
   "codemirror_mode": {
    "name": "ipython",
    "version": 3
   },
   "file_extension": ".py",
   "mimetype": "text/x-python",
   "name": "python",
   "nbconvert_exporter": "python",
   "pygments_lexer": "ipython3",
   "version": "3.9.7"
  }
 },
 "nbformat": 4,
 "nbformat_minor": 5
}
